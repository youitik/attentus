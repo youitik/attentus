{
 "cells": [
  {
   "cell_type": "code",
   "execution_count": 148,
   "id": "43171bd7",
   "metadata": {},
   "outputs": [],
   "source": [
    "import numpy as np\n",
    "import pandas as pd\n",
    "import matplotlib.pyplot as plt\n",
    "import os\n",
    "from mmq import metodo_minimos_quadrados\n"
   ]
  },
  {
   "cell_type": "code",
   "execution_count": 149,
   "id": "05867996",
   "metadata": {},
   "outputs": [
    {
     "data": {
      "application/vnd.microsoft.datawrangler.viewer.v0+json": {
       "columns": [
        {
         "name": "index",
         "rawType": "int64",
         "type": "integer"
        },
        {
         "name": "rotulo",
         "rawType": "int64",
         "type": "integer"
        },
        {
         "name": "hora_inicio",
         "rawType": "object",
         "type": "unknown"
        },
        {
         "name": "hora_fim",
         "rawType": "object",
         "type": "unknown"
        },
        {
         "name": "numero_medio_ligantes",
         "rawType": "int64",
         "type": "integer"
        }
       ],
       "ref": "55ce203f-2d34-4b1e-b0d1-9ef3e6dac959",
       "rows": [
        [
         "0",
         "1",
         "00:00:00",
         "00:15:00",
         "601"
        ],
        [
         "1",
         "2",
         "00:15:00",
         "00:30:00",
         "190"
        ],
        [
         "2",
         "3",
         "00:30:00",
         "00:45:00",
         "180"
        ],
        [
         "3",
         "4",
         "00:45:00",
         "01:00:00",
         "177"
        ],
        [
         "4",
         "5",
         "01:00:00",
         "01:15:00",
         "162"
        ],
        [
         "5",
         "6",
         "01:15:00",
         "01:30:00",
         "110"
        ],
        [
         "6",
         "7",
         "01:30:00",
         "01:45:00",
         "99"
        ],
        [
         "7",
         "8",
         "01:45:00",
         "02:00:00",
         "108"
        ],
        [
         "8",
         "9",
         "02:00:00",
         "02:15:00",
         "97"
        ],
        [
         "9",
         "10",
         "02:15:00",
         "02:30:00",
         "77"
        ],
        [
         "10",
         "11",
         "02:30:00",
         "02:45:00",
         "75"
        ],
        [
         "11",
         "12",
         "02:45:00",
         "03:00:00",
         "76"
        ],
        [
         "12",
         "13",
         "03:00:00",
         "03:15:00",
         "79"
        ],
        [
         "13",
         "14",
         "03:15:00",
         "03:30:00",
         "46"
        ],
        [
         "14",
         "15",
         "03:30:00",
         "03:45:00",
         "45"
        ],
        [
         "15",
         "16",
         "03:45:00",
         "04:00:00",
         "42"
        ],
        [
         "16",
         "17",
         "04:00:00",
         "04:15:00",
         "49"
        ],
        [
         "17",
         "18",
         "04:15:00",
         "04:30:00",
         "45"
        ],
        [
         "18",
         "19",
         "04:30:00",
         "04:45:00",
         "44"
        ],
        [
         "19",
         "20",
         "04:45:00",
         "05:00:00",
         "49"
        ],
        [
         "20",
         "21",
         "05:00:00",
         "05:15:00",
         "57"
        ],
        [
         "21",
         "22",
         "05:15:00",
         "05:30:00",
         "52"
        ],
        [
         "22",
         "23",
         "05:30:00",
         "05:45:00",
         "51"
        ],
        [
         "23",
         "24",
         "05:45:00",
         "06:00:00",
         "49"
        ],
        [
         "24",
         "25",
         "06:00:00",
         "06:15:00",
         "97"
        ],
        [
         "25",
         "26",
         "06:15:00",
         "06:30:00",
         "132"
        ],
        [
         "26",
         "27",
         "06:30:00",
         "06:45:00",
         "141"
        ],
        [
         "27",
         "28",
         "06:45:00",
         "07:00:00",
         "155"
        ],
        [
         "28",
         "29",
         "07:00:00",
         "07:15:00",
         "630"
        ],
        [
         "29",
         "30",
         "07:15:00",
         "07:30:00",
         "634"
        ],
        [
         "30",
         "31",
         "07:30:00",
         "07:45:00",
         "790"
        ],
        [
         "31",
         "32",
         "07:45:00",
         "08:00:00",
         "698"
        ],
        [
         "32",
         "33",
         "08:00:00",
         "08:15:00",
         "1570"
        ],
        [
         "33",
         "34",
         "08:15:00",
         "08:30:00",
         "1590"
        ],
        [
         "34",
         "35",
         "08:30:00",
         "08:45:00",
         "1601"
        ],
        [
         "35",
         "36",
         "08:45:00",
         "09:00:00",
         "1700"
        ],
        [
         "36",
         "37",
         "09:00:00",
         "09:15:00",
         "2600"
        ],
        [
         "37",
         "38",
         "09:15:00",
         "09:30:00",
         "2509"
        ],
        [
         "38",
         "39",
         "09:30:00",
         "09:45:00",
         "2603"
        ],
        [
         "39",
         "40",
         "09:45:00",
         "10:00:00",
         "2699"
        ],
        [
         "40",
         "41",
         "10:00:00",
         "10:15:00",
         "3124"
        ],
        [
         "41",
         "42",
         "10:15:00",
         "10:30:00",
         "3135"
        ],
        [
         "42",
         "43",
         "10:30:00",
         "10:45:00",
         "3080"
        ],
        [
         "43",
         "44",
         "10:45:00",
         "11:00:00",
         "3197"
        ],
        [
         "44",
         "45",
         "11:00:00",
         "11:15:00",
         "2890"
        ],
        [
         "45",
         "46",
         "11:15:00",
         "11:30:00",
         "2910"
        ],
        [
         "46",
         "47",
         "11:30:00",
         "11:45:00",
         "2912"
        ],
        [
         "47",
         "48",
         "11:45:00",
         "12:00:00",
         "2870"
        ],
        [
         "48",
         "49",
         "12:00:00",
         "12:15:00",
         "2403"
        ],
        [
         "49",
         "50",
         "12:15:00",
         "12:30:00",
         "2397"
        ]
       ],
       "shape": {
        "columns": 4,
        "rows": 96
       }
      },
      "text/html": [
       "<div>\n",
       "<style scoped>\n",
       "    .dataframe tbody tr th:only-of-type {\n",
       "        vertical-align: middle;\n",
       "    }\n",
       "\n",
       "    .dataframe tbody tr th {\n",
       "        vertical-align: top;\n",
       "    }\n",
       "\n",
       "    .dataframe thead th {\n",
       "        text-align: right;\n",
       "    }\n",
       "</style>\n",
       "<table border=\"1\" class=\"dataframe\">\n",
       "  <thead>\n",
       "    <tr style=\"text-align: right;\">\n",
       "      <th></th>\n",
       "      <th>rotulo</th>\n",
       "      <th>hora_inicio</th>\n",
       "      <th>hora_fim</th>\n",
       "      <th>numero_medio_ligantes</th>\n",
       "    </tr>\n",
       "  </thead>\n",
       "  <tbody>\n",
       "    <tr>\n",
       "      <th>0</th>\n",
       "      <td>1</td>\n",
       "      <td>00:00:00</td>\n",
       "      <td>00:15:00</td>\n",
       "      <td>601</td>\n",
       "    </tr>\n",
       "    <tr>\n",
       "      <th>1</th>\n",
       "      <td>2</td>\n",
       "      <td>00:15:00</td>\n",
       "      <td>00:30:00</td>\n",
       "      <td>190</td>\n",
       "    </tr>\n",
       "    <tr>\n",
       "      <th>2</th>\n",
       "      <td>3</td>\n",
       "      <td>00:30:00</td>\n",
       "      <td>00:45:00</td>\n",
       "      <td>180</td>\n",
       "    </tr>\n",
       "    <tr>\n",
       "      <th>3</th>\n",
       "      <td>4</td>\n",
       "      <td>00:45:00</td>\n",
       "      <td>01:00:00</td>\n",
       "      <td>177</td>\n",
       "    </tr>\n",
       "    <tr>\n",
       "      <th>4</th>\n",
       "      <td>5</td>\n",
       "      <td>01:00:00</td>\n",
       "      <td>01:15:00</td>\n",
       "      <td>162</td>\n",
       "    </tr>\n",
       "    <tr>\n",
       "      <th>...</th>\n",
       "      <td>...</td>\n",
       "      <td>...</td>\n",
       "      <td>...</td>\n",
       "      <td>...</td>\n",
       "    </tr>\n",
       "    <tr>\n",
       "      <th>91</th>\n",
       "      <td>92</td>\n",
       "      <td>22:45:00</td>\n",
       "      <td>23:00:00</td>\n",
       "      <td>920</td>\n",
       "    </tr>\n",
       "    <tr>\n",
       "      <th>92</th>\n",
       "      <td>93</td>\n",
       "      <td>23:00:00</td>\n",
       "      <td>23:15:00</td>\n",
       "      <td>897</td>\n",
       "    </tr>\n",
       "    <tr>\n",
       "      <th>93</th>\n",
       "      <td>94</td>\n",
       "      <td>23:15:00</td>\n",
       "      <td>23:30:00</td>\n",
       "      <td>571</td>\n",
       "    </tr>\n",
       "    <tr>\n",
       "      <th>94</th>\n",
       "      <td>95</td>\n",
       "      <td>23:30:00</td>\n",
       "      <td>23:45:00</td>\n",
       "      <td>560</td>\n",
       "    </tr>\n",
       "    <tr>\n",
       "      <th>95</th>\n",
       "      <td>96</td>\n",
       "      <td>23:45:00</td>\n",
       "      <td>00:00:00</td>\n",
       "      <td>590</td>\n",
       "    </tr>\n",
       "  </tbody>\n",
       "</table>\n",
       "<p>96 rows × 4 columns</p>\n",
       "</div>"
      ],
      "text/plain": [
       "    rotulo hora_inicio  hora_fim  numero_medio_ligantes\n",
       "0        1    00:00:00  00:15:00                    601\n",
       "1        2    00:15:00  00:30:00                    190\n",
       "2        3    00:30:00  00:45:00                    180\n",
       "3        4    00:45:00  01:00:00                    177\n",
       "4        5    01:00:00  01:15:00                    162\n",
       "..     ...         ...       ...                    ...\n",
       "91      92    22:45:00  23:00:00                    920\n",
       "92      93    23:00:00  23:15:00                    897\n",
       "93      94    23:15:00  23:30:00                    571\n",
       "94      95    23:30:00  23:45:00                    560\n",
       "95      96    23:45:00  00:00:00                    590\n",
       "\n",
       "[96 rows x 4 columns]"
      ]
     },
     "execution_count": 149,
     "metadata": {},
     "output_type": "execute_result"
    }
   ],
   "source": [
    "df_tabela_ligantes = pd.read_excel(\n",
    "    os.path.join(\"data\",\"df_tabela_ligantes.xlsx\")\n",
    ")\n",
    "\n",
    "df_tabela_ligantes"
   ]
  },
  {
   "cell_type": "code",
   "execution_count": 150,
   "id": "3fb57a13",
   "metadata": {},
   "outputs": [
    {
     "data": {
      "text/plain": [
       "'data/df_tabela_ligantes.xlsx'"
      ]
     },
     "execution_count": 150,
     "metadata": {},
     "output_type": "execute_result"
    }
   ],
   "source": [
    "os.path.join(\"data\",\"df_tabela_ligantes.xlsx\")"
   ]
  },
  {
   "cell_type": "code",
   "execution_count": 151,
   "id": "e29b2a37",
   "metadata": {},
   "outputs": [
    {
     "data": {
      "application/vnd.microsoft.datawrangler.viewer.v0+json": {
       "columns": [
        {
         "name": "index",
         "rawType": "int64",
         "type": "integer"
        },
        {
         "name": "duracao_conexao",
         "rawType": "int64",
         "type": "integer"
        },
        {
         "name": "numero_ligantes",
         "rawType": "int64",
         "type": "integer"
        },
        {
         "name": "percentagem_relativa",
         "rawType": "float64",
         "type": "float"
        },
        {
         "name": "percentagem_acumulada",
         "rawType": "float64",
         "type": "float"
        }
       ],
       "ref": "3f612fd4-cd61-4e96-8161-bcb0f6c89637",
       "rows": [
        [
         "0",
         "0",
         "0",
         "0.0",
         "0.0"
        ],
        [
         "1",
         "5",
         "870",
         "0.087",
         "0.087"
        ],
        [
         "2",
         "10",
         "2210",
         "0.221",
         "0.308"
        ],
        [
         "3",
         "15",
         "2940",
         "0.294",
         "0.602"
        ],
        [
         "4",
         "20",
         "1710",
         "0.171",
         "0.773"
        ],
        [
         "5",
         "25",
         "1360",
         "0.136",
         "0.909"
        ],
        [
         "6",
         "30",
         "590",
         "0.059",
         "0.968"
        ],
        [
         "7",
         "35",
         "250",
         "0.025",
         "0.993"
        ],
        [
         "8",
         "40",
         "70",
         "0.007",
         "1.0"
        ]
       ],
       "shape": {
        "columns": 4,
        "rows": 9
       }
      },
      "text/html": [
       "<div>\n",
       "<style scoped>\n",
       "    .dataframe tbody tr th:only-of-type {\n",
       "        vertical-align: middle;\n",
       "    }\n",
       "\n",
       "    .dataframe tbody tr th {\n",
       "        vertical-align: top;\n",
       "    }\n",
       "\n",
       "    .dataframe thead th {\n",
       "        text-align: right;\n",
       "    }\n",
       "</style>\n",
       "<table border=\"1\" class=\"dataframe\">\n",
       "  <thead>\n",
       "    <tr style=\"text-align: right;\">\n",
       "      <th></th>\n",
       "      <th>duracao_conexao</th>\n",
       "      <th>numero_ligantes</th>\n",
       "      <th>percentagem_relativa</th>\n",
       "      <th>percentagem_acumulada</th>\n",
       "    </tr>\n",
       "  </thead>\n",
       "  <tbody>\n",
       "    <tr>\n",
       "      <th>0</th>\n",
       "      <td>0</td>\n",
       "      <td>0</td>\n",
       "      <td>0.000</td>\n",
       "      <td>0.000</td>\n",
       "    </tr>\n",
       "    <tr>\n",
       "      <th>1</th>\n",
       "      <td>5</td>\n",
       "      <td>870</td>\n",
       "      <td>0.087</td>\n",
       "      <td>0.087</td>\n",
       "    </tr>\n",
       "    <tr>\n",
       "      <th>2</th>\n",
       "      <td>10</td>\n",
       "      <td>2210</td>\n",
       "      <td>0.221</td>\n",
       "      <td>0.308</td>\n",
       "    </tr>\n",
       "    <tr>\n",
       "      <th>3</th>\n",
       "      <td>15</td>\n",
       "      <td>2940</td>\n",
       "      <td>0.294</td>\n",
       "      <td>0.602</td>\n",
       "    </tr>\n",
       "    <tr>\n",
       "      <th>4</th>\n",
       "      <td>20</td>\n",
       "      <td>1710</td>\n",
       "      <td>0.171</td>\n",
       "      <td>0.773</td>\n",
       "    </tr>\n",
       "    <tr>\n",
       "      <th>5</th>\n",
       "      <td>25</td>\n",
       "      <td>1360</td>\n",
       "      <td>0.136</td>\n",
       "      <td>0.909</td>\n",
       "    </tr>\n",
       "    <tr>\n",
       "      <th>6</th>\n",
       "      <td>30</td>\n",
       "      <td>590</td>\n",
       "      <td>0.059</td>\n",
       "      <td>0.968</td>\n",
       "    </tr>\n",
       "    <tr>\n",
       "      <th>7</th>\n",
       "      <td>35</td>\n",
       "      <td>250</td>\n",
       "      <td>0.025</td>\n",
       "      <td>0.993</td>\n",
       "    </tr>\n",
       "    <tr>\n",
       "      <th>8</th>\n",
       "      <td>40</td>\n",
       "      <td>70</td>\n",
       "      <td>0.007</td>\n",
       "      <td>1.000</td>\n",
       "    </tr>\n",
       "  </tbody>\n",
       "</table>\n",
       "</div>"
      ],
      "text/plain": [
       "   duracao_conexao  numero_ligantes  percentagem_relativa  \\\n",
       "0                0                0                 0.000   \n",
       "1                5              870                 0.087   \n",
       "2               10             2210                 0.221   \n",
       "3               15             2940                 0.294   \n",
       "4               20             1710                 0.171   \n",
       "5               25             1360                 0.136   \n",
       "6               30              590                 0.059   \n",
       "7               35              250                 0.025   \n",
       "8               40               70                 0.007   \n",
       "\n",
       "   percentagem_acumulada  \n",
       "0                  0.000  \n",
       "1                  0.087  \n",
       "2                  0.308  \n",
       "3                  0.602  \n",
       "4                  0.773  \n",
       "5                  0.909  \n",
       "6                  0.968  \n",
       "7                  0.993  \n",
       "8                  1.000  "
      ]
     },
     "execution_count": 151,
     "metadata": {},
     "output_type": "execute_result"
    }
   ],
   "source": [
    "df_duracoes = pd.read_excel(\n",
    "    os.path.join(\"data\",\"df_duracoes.xlsx\")\n",
    ")\n",
    "\n",
    "df_duracoes"
   ]
  },
  {
   "cell_type": "code",
   "execution_count": 152,
   "id": "06dc4e24",
   "metadata": {},
   "outputs": [
    {
     "data": {
      "text/plain": [
       "<Axes: xlabel='duracao_conexao'>"
      ]
     },
     "execution_count": 152,
     "metadata": {},
     "output_type": "execute_result"
    },
    {
     "data": {
      "image/png": "[encoded data removed]",
      "text/plain": [
       "<Figure size 500x300 with 1 Axes>"
      ]
     },
     "metadata": {},
     "output_type": "display_data"
    }
   ],
   "source": [
    "df_duracoes.plot(x=\"duracao_conexao\",\n",
    "                 y=\"numero_ligantes\",\n",
    "                 kind=\"bar\",\n",
    "                 figsize=(5,3),\n",
    "                 color=\"red\",\n",
    "                 edgecolor=\"black\"\n",
    "                 )"
   ]
  },
  {
   "cell_type": "code",
   "execution_count": 153,
   "id": "b9dce3de",
   "metadata": {},
   "outputs": [
    {
     "data": {
      "text/plain": [
       "<Axes: xlabel='percentagem_acumulada', ylabel='duracao_conexao'>"
      ]
     },
     "execution_count": 153,
     "metadata": {},
     "output_type": "execute_result"
    },
    {
     "data": {
      "image/png": "[encoded data removed]",
      "text/plain": [
       "<Figure size 640x480 with 1 Axes>"
      ]
     },
     "metadata": {},
     "output_type": "display_data"
    }
   ],
   "source": [
    "df_duracoes.plot(x=\"percentagem_acumulada\",\n",
    "                 y=\"duracao_conexao\",\n",
    "                 kind=\"scatter\",\n",
    "                 )"
   ]
  },
  {
   "cell_type": "code",
   "execution_count": 154,
   "id": "5e22f517",
   "metadata": {},
   "outputs": [
    {
     "data": {
      "text/plain": [
       "array([  7.25285079e+02,  -1.67791097e+03,   1.41326154e+03,\n",
       "        -5.23808658e+02,   1.01010563e+02,  -2.06253859e-01])"
      ]
     },
     "execution_count": 154,
     "metadata": {},
     "output_type": "execute_result"
    }
   ],
   "source": [
    "coefs = metodo_minimos_quadrados.mmq(\n",
    "    df_duracoes[\"percentagem_acumulada\"],\n",
    "    df_duracoes[\"duracao_conexao\"],\n",
    "    5\n",
    ")\n",
    "\n",
    "coefs"
   ]
  },
  {
   "cell_type": "code",
   "execution_count": 155,
   "id": "334f42b1",
   "metadata": {},
   "outputs": [
    {
     "name": "stdout",
     "output_type": "stream",
     "text": [
      "[ 0.   0.1  0.2  0.3  0.4  0.5  0.6  0.7  0.8  0.9]\n",
      "[ -0.2   5.9   7.9   9.3  11.3  13.8  16.   17.6  19.4  24.2]\n"
     ]
    }
   ],
   "source": [
    "x = np.linspace(0,1,1000)\n",
    "y = np.polyval(coefs, x)\n",
    "print(x[::100].round(1))\n",
    "print(y[::100].round(1))\n"
   ]
  },
  {
   "cell_type": "code",
   "execution_count": 156,
   "id": "27c47b96",
   "metadata": {},
   "outputs": [
    {
     "data": {
      "image/png": "[encoded data removed]",
      "text/plain": [
       "<Figure size 640x480 with 1 Axes>"
      ]
     },
     "metadata": {},
     "output_type": "display_data"
    }
   ],
   "source": [
    "percentagens_acumuladas = df_duracoes[\"percentagem_acumulada\"]\n",
    "duracoes = df_duracoes[\"duracao_conexao\"]\n",
    "\n",
    "plt.scatter(percentagens_acumuladas, duracoes,\n",
    "            color=\"red\", label=\"Dados Originais\"\n",
    "            )\n",
    "plt.plot(x, y, label=\"Polinomio\")\n",
    "plt.show()"
   ]
  },
  {
   "cell_type": "code",
   "execution_count": 157,
   "id": "38d04168",
   "metadata": {},
   "outputs": [
    {
     "data": {
      "image/png": "[encoded data removed]",
      "text/plain": [
       "<Figure size 640x480 with 1 Axes>"
      ]
     },
     "metadata": {},
     "output_type": "display_data"
    }
   ],
   "source": [
    "coefs = metodo_minimos_quadrados.mmq(\n",
    "    df_duracoes[\"percentagem_acumulada\"],\n",
    "    df_duracoes[\"duracao_conexao\"],\n",
    "    8\n",
    ")\n",
    "\n",
    "x = np.linspace(0,1,1000)\n",
    "y = np.polyval(coefs, x)\n",
    "\n",
    "percentagens_acumuladas = df_duracoes[\"percentagem_acumulada\"]\n",
    "duracoes = df_duracoes[\"duracao_conexao\"]\n",
    "\n",
    "plt.scatter(percentagens_acumuladas, duracoes,\n",
    "            color=\"red\", label=\"Dados Originais\"\n",
    "            )\n",
    "plt.plot(x, y, label=\"Polinomio\")\n",
    "plt.show()"
   ]
  },
  {
   "cell_type": "code",
   "execution_count": 158,
   "id": "9b1bcaa9",
   "metadata": {},
   "outputs": [
    {
     "data": {
      "image/png": "[encoded data removed]",
      "text/plain": [
       "<Figure size 640x480 with 1 Axes>"
      ]
     },
     "metadata": {},
     "output_type": "display_data"
    }
   ],
   "source": [
    "coefs = metodo_minimos_quadrados.mmq(\n",
    "    df_duracoes[\"percentagem_acumulada\"],\n",
    "    df_duracoes[\"duracao_conexao\"],\n",
    "    5\n",
    ")\n",
    "\n",
    "x = np.linspace(0,1,1000)\n",
    "y = np.polyval(coefs, x)\n",
    "\n",
    "percentagens_acumuladas = df_duracoes[\"percentagem_acumulada\"]\n",
    "duracoes = df_duracoes[\"duracao_conexao\"]\n",
    "\n",
    "plt.scatter(percentagens_acumuladas, duracoes,\n",
    "            color=\"red\", label=\"Dados Originais\"\n",
    "            )\n",
    "plt.plot(x, y, label=\"Polinomio\")\n",
    "plt.show()"
   ]
  },
  {
   "cell_type": "code",
   "execution_count": 159,
   "id": "a6c6cbd7",
   "metadata": {},
   "outputs": [
    {
     "data": {
      "text/plain": [
       "-0.20625385892981285"
      ]
     },
     "execution_count": 159,
     "metadata": {},
     "output_type": "execute_result"
    }
   ],
   "source": [
    "np.polyval(coefs,0)"
   ]
  },
  {
   "cell_type": "code",
   "execution_count": 160,
   "id": "d74558e3",
   "metadata": {},
   "outputs": [
    {
     "data": {
      "text/plain": [
       "array([-0.20625386,  5.90943916,  7.89703842,  9.28356129])"
      ]
     },
     "execution_count": 160,
     "metadata": {},
     "output_type": "execute_result"
    }
   ],
   "source": [
    "np.polyval(coefs, [0, 0.1, 0.2, 0.3])"
   ]
  },
  {
   "cell_type": "code",
   "execution_count": 161,
   "id": "9825f853",
   "metadata": {},
   "outputs": [
    {
     "data": {
      "text/plain": [
       "14.477657376789212"
      ]
     },
     "execution_count": 161,
     "metadata": {},
     "output_type": "execute_result"
    }
   ],
   "source": [
    "tempos_aleatorios = []\n",
    "\n",
    "for _ in range(10_000):\n",
    "    alpha = np.random.random()\n",
    "    tempo = np.polyval(coefs, alpha)\n",
    "    tempos_aleatorios.append(tempo)\n",
    "\n",
    "np.mean(tempos_aleatorios)\n"
   ]
  },
  {
   "cell_type": "code",
   "execution_count": 162,
   "id": "3a42577a",
   "metadata": {},
   "outputs": [
    {
     "data": {
      "application/vnd.microsoft.datawrangler.viewer.v0+json": {
       "columns": [
        {
         "name": "index",
         "rawType": "object",
         "type": "string"
        },
        {
         "name": "0",
         "rawType": "object",
         "type": "unknown"
        }
       ],
       "ref": "0849b0fd-d857-4a8a-9506-22e33b904e89",
       "rows": [
        [
         "rotulo",
         "1"
        ],
        [
         "hora_inicio",
         "00:00:00"
        ],
        [
         "hora_fim",
         "00:15:00"
        ],
        [
         "numero_medio_ligantes",
         "601"
        ]
       ],
       "shape": {
        "columns": 1,
        "rows": 4
       }
      },
      "text/plain": [
       "rotulo                          1\n",
       "hora_inicio              00:00:00\n",
       "hora_fim                 00:15:00\n",
       "numero_medio_ligantes         601\n",
       "Name: 0, dtype: object"
      ]
     },
     "execution_count": 162,
     "metadata": {},
     "output_type": "execute_result"
    }
   ],
   "source": [
    "df_tabela_ligantes.loc[0]"
   ]
  },
  {
   "cell_type": "code",
   "execution_count": 163,
   "id": "b374d40a",
   "metadata": {},
   "outputs": [
    {
     "data": {
      "text/plain": [
       "601"
      ]
     },
     "execution_count": 163,
     "metadata": {},
     "output_type": "execute_result"
    }
   ],
   "source": [
    "qtd_ligacoes = (\n",
    "    df_tabela_ligantes.loc[0, \"numero_medio_ligantes\"]\n",
    ")\n",
    "qtd_ligacoes"
   ]
  },
  {
   "cell_type": "code",
   "execution_count": 164,
   "id": "3397fd8b",
   "metadata": {},
   "outputs": [
    {
     "data": {
      "text/plain": [
       "array([684, 559, 629, 192, 835, 763, 707, 359,   9, 723])"
      ]
     },
     "execution_count": 164,
     "metadata": {},
     "output_type": "execute_result"
    }
   ],
   "source": [
    "np.random.seed(0)\n",
    "momentos_ligacoes = np.random.randint(0,900,size=qtd_ligacoes)\n",
    "momentos_ligacoes[:10]"
   ]
  },
  {
   "cell_type": "code",
   "execution_count": 165,
   "id": "0c730285",
   "metadata": {},
   "outputs": [
    {
     "data": {
      "text/plain": [
       "0"
      ]
     },
     "execution_count": 165,
     "metadata": {},
     "output_type": "execute_result"
    }
   ],
   "source": [
    "df_duracoes.loc[0,\"duracao_conexao\"]"
   ]
  },
  {
   "cell_type": "code",
   "execution_count": 166,
   "id": "6c3ef2fa",
   "metadata": {},
   "outputs": [
    {
     "data": {
      "text/plain": [
       "0"
      ]
     },
     "execution_count": 166,
     "metadata": {},
     "output_type": "execute_result"
    }
   ],
   "source": [
    "df_duracoes.iloc[0,0]"
   ]
  },
  {
   "cell_type": "code",
   "execution_count": 167,
   "id": "bc865101",
   "metadata": {},
   "outputs": [
    {
     "data": {
      "text/plain": [
       "array([684, 559, 629, 192, 835, 763, 707, 359,   9, 723])"
      ]
     },
     "execution_count": 167,
     "metadata": {},
     "output_type": "execute_result"
    }
   ],
   "source": [
    "momentos_ligacoes[:10]"
   ]
  },
  {
   "cell_type": "code",
   "execution_count": 168,
   "id": "9e5b7562",
   "metadata": {},
   "outputs": [
    {
     "data": {
      "text/plain": [
       "array([ 0,  3,  4,  4,  7,  9, 11, 11, 13, 13])"
      ]
     },
     "execution_count": 168,
     "metadata": {},
     "output_type": "execute_result"
    }
   ],
   "source": [
    "momentos_ligacoes.sort()\n",
    "momentos_ligacoes[:10]"
   ]
  },
  {
   "cell_type": "code",
   "execution_count": 169,
   "id": "9e82b0e1",
   "metadata": {},
   "outputs": [],
   "source": [
    "atendentes: list[dict] = []"
   ]
  },
  {
   "cell_type": "code",
   "execution_count": 170,
   "id": "1b0a03ca",
   "metadata": {},
   "outputs": [],
   "source": [
    "np.set_printoptions(legacy=\"1.13\")"
   ]
  },
  {
   "cell_type": "code",
   "execution_count": 171,
   "id": "48c0bd28",
   "metadata": {},
   "outputs": [
    {
     "data": {
      "text/plain": [
       "0"
      ]
     },
     "execution_count": 171,
     "metadata": {},
     "output_type": "execute_result"
    }
   ],
   "source": [
    "momento_ligacao = momentos_ligacoes[0]\n",
    "momento_ligacao"
   ]
  },
  {
   "cell_type": "code",
   "execution_count": 172,
   "id": "0a50fe97",
   "metadata": {},
   "outputs": [
    {
     "name": "stdout",
     "output_type": "stream",
     "text": [
      "14.9651548679\n"
     ]
    }
   ],
   "source": [
    "np.random.seed(0)\n",
    "aleatorio = np.random.rand()\n",
    "tempo_duracao = abs(np.polyval(coefs, aleatorio))\n",
    "print(tempo_duracao)"
   ]
  },
  {
   "cell_type": "code",
   "execution_count": 173,
   "id": "74900ef8",
   "metadata": {},
   "outputs": [
    {
     "data": {
      "text/plain": [
       "[{'inicio': 0, 'fim': 14.965154867903406}]"
      ]
     },
     "execution_count": 173,
     "metadata": {},
     "output_type": "execute_result"
    }
   ],
   "source": [
    "if atendentes == []:\n",
    "    atendente = {\n",
    "        \"inicio\": momento_ligacao,\n",
    "        \"fim\": momento_ligacao + tempo_duracao\n",
    "    }\n",
    "    atendentes.append(atendente)\n",
    "\n",
    "atendentes"
   ]
  },
  {
   "cell_type": "code",
   "execution_count": 174,
   "id": "07a4e572",
   "metadata": {},
   "outputs": [
    {
     "data": {
      "text/plain": [
       "3"
      ]
     },
     "execution_count": 174,
     "metadata": {},
     "output_type": "execute_result"
    }
   ],
   "source": [
    "momento_ligacao = momentos_ligacoes[1]\n",
    "momento_ligacao"
   ]
  },
  {
   "cell_type": "code",
   "execution_count": 175,
   "id": "ba1d649c",
   "metadata": {},
   "outputs": [],
   "source": [
    "espera_maxima = 10\n",
    "tempo_descanso = 0"
   ]
  },
  {
   "cell_type": "code",
   "execution_count": 176,
   "id": "0e2f6309",
   "metadata": {},
   "outputs": [
    {
     "data": {
      "text/plain": [
       "11.718611909630425"
      ]
     },
     "execution_count": 176,
     "metadata": {},
     "output_type": "execute_result"
    }
   ],
   "source": [
    "np.random.seed(1)\n",
    "aleatorio = np.random.random()\n",
    "tempo_duracao = np.polyval(coefs, aleatorio)\n",
    "tempo_duracao"
   ]
  },
  {
   "cell_type": "code",
   "execution_count": 177,
   "id": "aff515e0",
   "metadata": {},
   "outputs": [
    {
     "data": {
      "text/plain": [
       "[{'inicio': 0, 'fim': 14.965154867903406},\n",
       " {'inicio': 3, 'fim': 14.718611909630425}]"
      ]
     },
     "execution_count": 177,
     "metadata": {},
     "output_type": "execute_result"
    }
   ],
   "source": [
    "\n",
    "\n",
    "for atendente in atendentes:\n",
    "    fim = atendente[\"fim\"] + tempo_descanso\n",
    "\n",
    "    if momento_ligacao + espera_maxima < fim:\n",
    "        ocupado = True\n",
    "    else:\n",
    "        ocupado = False\n",
    "    \n",
    "    if not ocupado:\n",
    "        if momento_ligacao + espera_maxima > fim:\n",
    "            atendente[\"inicio\"] = momento_ligacao + espera_maxima\n",
    "        else:\n",
    "            atendente[\"inicio\"] = fim\n",
    "        \n",
    "        atendente[\"fim\"] = atendente[\"inicio\"] + tempo_duracao\n",
    "        break\n",
    "\n",
    "else:\n",
    "    atendente = {\n",
    "        \"inicio\": momento_ligacao,\n",
    "        \"fim\": momento_ligacao + tempo_duracao\n",
    "    }\n",
    "\n",
    "    atendentes.append(atendente)\n",
    "atendentes\n",
    "\n"
   ]
  },
  {
   "cell_type": "code",
   "execution_count": 178,
   "id": "e84b2daf",
   "metadata": {},
   "outputs": [
    {
     "data": {
      "text/plain": [
       "4"
      ]
     },
     "execution_count": 178,
     "metadata": {},
     "output_type": "execute_result"
    }
   ],
   "source": [
    "momento_ligacao = momentos_ligacoes[2]\n",
    "momento_ligacao"
   ]
  },
  {
   "cell_type": "code",
   "execution_count": 179,
   "id": "66937677",
   "metadata": {},
   "outputs": [
    {
     "name": "stdout",
     "output_type": "stream",
     "text": [
      "0\n",
      "3\n",
      "4\n",
      "4\n",
      "7\n",
      "9\n",
      "11\n",
      "11\n",
      "13\n",
      "13\n",
      "16\n",
      "19\n",
      "23\n",
      "24\n",
      "24\n",
      "25\n",
      "26\n",
      "28\n",
      "29\n",
      "29\n",
      "32\n",
      "32\n",
      "33\n",
      "36\n",
      "36\n",
      "41\n",
      "41\n",
      "42\n",
      "43\n",
      "43\n",
      "44\n",
      "47\n",
      "53\n",
      "53\n",
      "56\n",
      "57\n",
      "58\n",
      "59\n",
      "61\n",
      "63\n",
      "67\n",
      "69\n",
      "70\n",
      "72\n",
      "72\n",
      "73\n",
      "74\n",
      "80\n",
      "80\n",
      "82\n",
      "83\n",
      "84\n",
      "86\n",
      "87\n",
      "87\n",
      "87\n",
      "88\n",
      "89\n",
      "91\n",
      "91\n",
      "93\n",
      "93\n",
      "94\n",
      "94\n",
      "95\n",
      "98\n",
      "99\n",
      "102\n",
      "106\n",
      "106\n",
      "107\n",
      "110\n",
      "111\n",
      "112\n",
      "114\n",
      "115\n",
      "117\n",
      "119\n",
      "120\n",
      "121\n",
      "123\n",
      "126\n",
      "128\n",
      "128\n",
      "128\n",
      "128\n",
      "129\n",
      "129\n",
      "130\n",
      "131\n",
      "134\n",
      "135\n",
      "136\n",
      "136\n",
      "136\n",
      "137\n",
      "138\n",
      "139\n",
      "139\n",
      "143\n",
      "146\n",
      "147\n",
      "147\n",
      "148\n",
      "148\n",
      "148\n",
      "149\n",
      "149\n",
      "151\n",
      "152\n",
      "152\n",
      "153\n",
      "160\n",
      "163\n",
      "164\n",
      "166\n",
      "168\n",
      "169\n",
      "174\n",
      "174\n",
      "174\n",
      "174\n",
      "176\n",
      "177\n",
      "180\n",
      "180\n",
      "182\n",
      "183\n",
      "184\n",
      "189\n",
      "191\n",
      "192\n",
      "195\n",
      "197\n",
      "197\n",
      "197\n",
      "199\n",
      "201\n",
      "201\n",
      "201\n",
      "201\n",
      "203\n",
      "207\n",
      "207\n",
      "209\n",
      "209\n",
      "209\n",
      "209\n",
      "212\n",
      "213\n",
      "216\n",
      "217\n",
      "219\n",
      "221\n",
      "223\n",
      "225\n",
      "226\n",
      "226\n",
      "226\n",
      "227\n",
      "227\n",
      "228\n",
      "228\n",
      "232\n",
      "234\n",
      "237\n",
      "244\n",
      "246\n",
      "248\n",
      "248\n",
      "254\n",
      "256\n",
      "256\n",
      "256\n",
      "257\n",
      "259\n",
      "260\n",
      "265\n",
      "265\n",
      "269\n",
      "273\n",
      "273\n",
      "274\n",
      "274\n",
      "274\n",
      "275\n",
      "276\n",
      "277\n",
      "280\n",
      "280\n",
      "281\n",
      "282\n",
      "284\n",
      "284\n",
      "286\n",
      "287\n",
      "288\n",
      "289\n",
      "290\n",
      "290\n",
      "291\n",
      "291\n",
      "291\n",
      "292\n",
      "292\n",
      "296\n",
      "297\n",
      "300\n",
      "305\n",
      "305\n",
      "307\n",
      "307\n",
      "307\n",
      "314\n",
      "314\n",
      "321\n",
      "322\n",
      "323\n",
      "323\n",
      "323\n",
      "324\n",
      "324\n",
      "324\n",
      "326\n",
      "326\n",
      "327\n",
      "328\n",
      "329\n",
      "335\n",
      "336\n",
      "339\n",
      "340\n",
      "341\n",
      "341\n",
      "343\n",
      "347\n",
      "347\n",
      "348\n",
      "349\n",
      "353\n",
      "355\n",
      "357\n",
      "357\n",
      "359\n",
      "360\n",
      "360\n",
      "365\n",
      "368\n",
      "368\n",
      "369\n",
      "369\n",
      "370\n",
      "371\n",
      "371\n",
      "373\n",
      "373\n",
      "376\n",
      "376\n",
      "377\n",
      "381\n",
      "383\n",
      "383\n",
      "387\n",
      "388\n",
      "392\n",
      "393\n",
      "394\n",
      "396\n",
      "398\n",
      "400\n",
      "405\n",
      "407\n",
      "410\n",
      "411\n",
      "411\n",
      "414\n",
      "417\n",
      "419\n",
      "421\n",
      "423\n",
      "423\n",
      "423\n",
      "423\n",
      "426\n",
      "429\n",
      "430\n",
      "431\n",
      "433\n",
      "433\n",
      "437\n",
      "437\n",
      "438\n",
      "442\n",
      "444\n",
      "444\n",
      "444\n",
      "445\n",
      "446\n",
      "448\n",
      "448\n",
      "449\n",
      "450\n",
      "454\n",
      "455\n",
      "455\n",
      "459\n",
      "459\n",
      "461\n",
      "463\n",
      "464\n",
      "468\n",
      "469\n",
      "470\n",
      "472\n",
      "473\n",
      "475\n",
      "476\n",
      "480\n",
      "486\n",
      "488\n",
      "488\n",
      "488\n",
      "490\n",
      "498\n",
      "502\n",
      "504\n",
      "507\n",
      "508\n",
      "508\n",
      "509\n",
      "510\n",
      "512\n",
      "514\n",
      "515\n",
      "517\n",
      "519\n",
      "525\n",
      "528\n",
      "532\n",
      "534\n",
      "534\n",
      "536\n",
      "537\n",
      "537\n",
      "539\n",
      "539\n",
      "540\n",
      "541\n",
      "542\n",
      "543\n",
      "543\n",
      "544\n",
      "547\n",
      "550\n",
      "550\n",
      "550\n",
      "551\n",
      "551\n",
      "552\n",
      "554\n",
      "554\n",
      "555\n",
      "555\n",
      "555\n",
      "556\n",
      "558\n",
      "559\n",
      "560\n",
      "562\n",
      "563\n",
      "565\n",
      "566\n",
      "570\n",
      "572\n",
      "573\n",
      "574\n",
      "575\n",
      "577\n",
      "579\n",
      "581\n",
      "584\n",
      "586\n",
      "589\n",
      "591\n",
      "593\n",
      "594\n",
      "595\n",
      "595\n",
      "595\n",
      "598\n",
      "599\n",
      "600\n",
      "600\n",
      "603\n",
      "606\n",
      "606\n",
      "606\n",
      "607\n",
      "610\n",
      "611\n",
      "612\n",
      "616\n",
      "617\n",
      "617\n",
      "617\n",
      "620\n",
      "621\n",
      "623\n",
      "623\n",
      "623\n",
      "628\n",
      "629\n",
      "631\n",
      "633\n",
      "636\n",
      "637\n",
      "637\n",
      "637\n",
      "639\n",
      "639\n",
      "643\n",
      "645\n",
      "645\n",
      "647\n",
      "647\n",
      "648\n",
      "650\n",
      "653\n",
      "657\n",
      "659\n",
      "660\n",
      "662\n",
      "663\n",
      "663\n",
      "666\n",
      "668\n",
      "670\n",
      "673\n",
      "675\n",
      "675\n",
      "677\n",
      "679\n",
      "680\n",
      "683\n",
      "684\n",
      "690\n",
      "691\n",
      "694\n",
      "694\n",
      "696\n",
      "696\n",
      "697\n",
      "697\n",
      "698\n",
      "699\n",
      "701\n",
      "705\n",
      "705\n",
      "707\n",
      "707\n",
      "709\n",
      "709\n",
      "710\n",
      "714\n",
      "715\n",
      "716\n",
      "719\n",
      "720\n",
      "721\n",
      "723\n",
      "726\n",
      "727\n",
      "730\n",
      "732\n",
      "734\n",
      "735\n",
      "736\n",
      "739\n",
      "739\n",
      "739\n",
      "749\n",
      "749\n",
      "750\n",
      "753\n",
      "754\n",
      "755\n",
      "755\n",
      "756\n",
      "763\n",
      "763\n",
      "765\n",
      "767\n",
      "768\n",
      "770\n",
      "770\n",
      "770\n",
      "771\n",
      "771\n",
      "774\n",
      "774\n",
      "776\n",
      "777\n",
      "777\n",
      "778\n",
      "779\n",
      "779\n",
      "781\n",
      "782\n",
      "782\n",
      "782\n",
      "786\n",
      "786\n",
      "788\n",
      "791\n",
      "797\n",
      "798\n",
      "799\n",
      "800\n",
      "802\n",
      "802\n",
      "803\n",
      "804\n",
      "804\n",
      "804\n",
      "806\n",
      "807\n",
      "807\n",
      "809\n",
      "810\n",
      "812\n",
      "814\n",
      "816\n",
      "816\n",
      "819\n",
      "820\n",
      "821\n",
      "821\n",
      "823\n",
      "826\n",
      "826\n",
      "829\n",
      "832\n",
      "835\n",
      "836\n",
      "837\n",
      "838\n",
      "839\n",
      "840\n",
      "842\n",
      "843\n",
      "844\n",
      "845\n",
      "846\n",
      "847\n",
      "847\n",
      "849\n",
      "850\n",
      "851\n",
      "852\n",
      "852\n",
      "853\n",
      "854\n",
      "855\n",
      "857\n",
      "859\n",
      "859\n",
      "860\n",
      "861\n",
      "864\n",
      "865\n",
      "868\n",
      "870\n",
      "871\n",
      "872\n",
      "872\n",
      "873\n",
      "875\n",
      "876\n",
      "880\n",
      "881\n",
      "882\n",
      "882\n",
      "884\n",
      "884\n",
      "885\n",
      "885\n",
      "886\n",
      "886\n",
      "888\n",
      "889\n",
      "889\n",
      "889\n",
      "889\n",
      "890\n",
      "891\n",
      "894\n",
      "896\n",
      "896\n",
      "896\n",
      "897\n",
      "899\n"
     ]
    }
   ],
   "source": [
    "for momento_ligacao in momentos_ligacoes:\n",
    "    print(momento_ligacao)\n",
    "    \n"
   ]
  },
  {
   "cell_type": "code",
   "execution_count": 180,
   "id": "3d277d53",
   "metadata": {},
   "outputs": [
    {
     "data": {
      "text/plain": [
       "[{'inicio': 904, 'fim': 914.40375649847249},\n",
       " {'inicio': 906, 'fim': 917.86945228384025},\n",
       " {'inicio': 909, 'fim': 917.37356632857836},\n",
       " {'inicio': 900, 'fim': 912.04701461191576},\n",
       " {'inicio': 906, 'fim': 913.54143974617239},\n",
       " {'inicio': 906, 'fim': 909.21101754464075},\n",
       " {'inicio': 907, 'fim': 923.65667308194645},\n",
       " {'inicio': 898, 'fim': 910.80468815162635},\n",
       " {'inicio': 892, 'fim': 918.91345867417851},\n",
       " {'inicio': 892, 'fim': 899.69624954296353},\n",
       " {'inicio': 895, 'fim': 921.10612199365335},\n",
       " {'inicio': 894, 'fim': 924.69074239257839},\n",
       " {'inicio': 894, 'fim': 912.97138604502402},\n",
       " {'inicio': 895, 'fim': 911.50408245719996},\n",
       " {'inicio': 896, 'fim': 906.24103253252702},\n",
       " {'inicio': 896, 'fim': 913.60372669710557},\n",
       " {'inicio': 899, 'fim': 917.10414350536405},\n",
       " {'inicio': 899, 'fim': 928.75678690019186},\n",
       " {'inicio': 899, 'fim': 903.08006092131518},\n",
       " {'inicio': 899, 'fim': 906.40232584576802}]"
      ]
     },
     "execution_count": 180,
     "metadata": {},
     "output_type": "execute_result"
    }
   ],
   "source": [
    "np.random.seed(5)\n",
    "tempo_descanso = 0\n",
    "espera_maxima = 10\n",
    "atendentes = []\n",
    "for momento_ligacao in momentos_ligacoes:\n",
    "    aleatorio = np.random.random()\n",
    "    tempo_duracao = abs(np.polyval(coefs, aleatorio))\n",
    "\n",
    "    for atendente in atendentes:\n",
    "        fim = atendente[\"fim\"] + tempo_descanso\n",
    "\n",
    "        if momento_ligacao + espera_maxima < fim:\n",
    "            ocupado = True\n",
    "        else:\n",
    "            ocupado = False\n",
    "\n",
    "        if not ocupado:\n",
    "\n",
    "            if momento_ligacao + espera_maxima > fim:\n",
    "                atendente[\"inicio\"] = momento_ligacao + espera_maxima\n",
    "            else:\n",
    "                atendente[\"inicio\"] = fim\n",
    "            \n",
    "            atendente[\"fim\"] = atendente[\"inicio\"] + tempo_duracao\n",
    "            break\n",
    "    else:\n",
    "\n",
    "        atendente = {\n",
    "            \"inicio\": momento_ligacao,\n",
    "            \"fim\": momento_ligacao + tempo_duracao\n",
    "        }\n",
    "        atendentes.append(atendente)\n",
    "\n",
    "atendentes"
   ]
  },
  {
   "cell_type": "code",
   "execution_count": 181,
   "id": "16df87f1",
   "metadata": {},
   "outputs": [
    {
     "data": {
      "text/plain": [
       "20"
      ]
     },
     "execution_count": 181,
     "metadata": {},
     "output_type": "execute_result"
    }
   ],
   "source": [
    "len(atendentes)"
   ]
  },
  {
   "cell_type": "code",
   "execution_count": 182,
   "id": "ef15d741",
   "metadata": {},
   "outputs": [
    {
     "data": {
      "text/plain": [
       "array([2, 1, 5, 4, 8, 6, 3, 7])"
      ]
     },
     "execution_count": 182,
     "metadata": {},
     "output_type": "execute_result"
    }
   ],
   "source": [
    "np.random.permutation([1,2,3,4,5,6,7,8])"
   ]
  },
  {
   "cell_type": "code",
   "execution_count": 183,
   "id": "77853d11",
   "metadata": {},
   "outputs": [
    {
     "data": {
      "text/plain": [
       "[{'inicio': 899, 'fim': 909.29559843831044},\n",
       " {'inicio': 900, 'fim': 910.89334430872168},\n",
       " {'inicio': 899, 'fim': 932.21236755480425},\n",
       " {'inicio': 909, 'fim': 917.53861755800608},\n",
       " {'inicio': 904, 'fim': 920.23396461812547},\n",
       " {'inicio': 899, 'fim': 908.85265704318226},\n",
       " {'inicio': 867, 'fim': 894.99620687617789},\n",
       " {'inicio': 901, 'fim': 917.66657940139623},\n",
       " {'inicio': 907, 'fim': 915.17518229707707},\n",
       " {'inicio': 906, 'fim': 913.65133331278503},\n",
       " {'inicio': 896, 'fim': 906.82228408251751},\n",
       " {'inicio': 892, 'fim': 907.66966275734342},\n",
       " {'inicio': 882, 'fim': 901.1383790525291},\n",
       " {'inicio': 883, 'fim': 902.83508525988896},\n",
       " {'inicio': 814, 'fim': 843.61932082318299},\n",
       " {'inicio': 899, 'fim': 907.73089614698642},\n",
       " {'inicio': 896, 'fim': 912.80887286588984},\n",
       " {'inicio': 906, 'fim': 930.77650856574269},\n",
       " {'inicio': 906, 'fim': 914.0496784224564}]"
      ]
     },
     "execution_count": 183,
     "metadata": {},
     "output_type": "execute_result"
    }
   ],
   "source": [
    "np.random.seed(5)\n",
    "tempo_descanso = 0\n",
    "espera_maxima = 10\n",
    "atendentes = []\n",
    "for momento_ligacao in momentos_ligacoes:\n",
    "    aleatorio = np.random.random()\n",
    "    tempo_duracao = abs(np.polyval(coefs, aleatorio))\n",
    "\n",
    "    atendentes = list(np.random.permutation(atendentes))\n",
    "\n",
    "    for atendente in atendentes:\n",
    "        fim = atendente[\"fim\"] + tempo_descanso\n",
    "\n",
    "        if momento_ligacao + espera_maxima < fim:\n",
    "            ocupado = True\n",
    "        else:\n",
    "            ocupado = False\n",
    "\n",
    "        if not ocupado:\n",
    "\n",
    "            if momento_ligacao + espera_maxima > fim:\n",
    "                atendente[\"inicio\"] = momento_ligacao + espera_maxima\n",
    "            else:\n",
    "                atendente[\"inicio\"] = fim\n",
    "            \n",
    "            atendente[\"fim\"] = atendente[\"inicio\"] + tempo_duracao\n",
    "            break\n",
    "    else:\n",
    "\n",
    "        atendente = {\n",
    "            \"inicio\": momento_ligacao,\n",
    "            \"fim\": momento_ligacao + tempo_duracao\n",
    "        }\n",
    "        atendentes.append(atendente)\n",
    "\n",
    "atendentes"
   ]
  },
  {
   "cell_type": "code",
   "execution_count": 184,
   "id": "f12b0dee",
   "metadata": {},
   "outputs": [
    {
     "data": {
      "text/plain": [
       "19"
      ]
     },
     "execution_count": 184,
     "metadata": {},
     "output_type": "execute_result"
    }
   ],
   "source": [
    "len(atendentes)"
   ]
  },
  {
   "cell_type": "code",
   "execution_count": 185,
   "id": "7ec2917a",
   "metadata": {},
   "outputs": [
    {
     "data": {
      "application/vnd.microsoft.datawrangler.viewer.v0+json": {
       "columns": [
        {
         "name": "index",
         "rawType": "int64",
         "type": "integer"
        },
        {
         "name": "rotulo",
         "rawType": "int64",
         "type": "integer"
        },
        {
         "name": "hora_inicio",
         "rawType": "object",
         "type": "unknown"
        },
        {
         "name": "hora_fim",
         "rawType": "object",
         "type": "unknown"
        },
        {
         "name": "numero_medio_ligantes",
         "rawType": "int64",
         "type": "integer"
        }
       ],
       "ref": "4856e1a4-87aa-4cd5-b251-4b8839c44774",
       "rows": [
        [
         "0",
         "1",
         "00:00:00",
         "00:15:00",
         "601"
        ],
        [
         "1",
         "2",
         "00:15:00",
         "00:30:00",
         "190"
        ],
        [
         "2",
         "3",
         "00:30:00",
         "00:45:00",
         "180"
        ],
        [
         "3",
         "4",
         "00:45:00",
         "01:00:00",
         "177"
        ],
        [
         "4",
         "5",
         "01:00:00",
         "01:15:00",
         "162"
        ],
        [
         "5",
         "6",
         "01:15:00",
         "01:30:00",
         "110"
        ],
        [
         "6",
         "7",
         "01:30:00",
         "01:45:00",
         "99"
        ],
        [
         "7",
         "8",
         "01:45:00",
         "02:00:00",
         "108"
        ],
        [
         "8",
         "9",
         "02:00:00",
         "02:15:00",
         "97"
        ],
        [
         "9",
         "10",
         "02:15:00",
         "02:30:00",
         "77"
        ],
        [
         "10",
         "11",
         "02:30:00",
         "02:45:00",
         "75"
        ],
        [
         "11",
         "12",
         "02:45:00",
         "03:00:00",
         "76"
        ],
        [
         "12",
         "13",
         "03:00:00",
         "03:15:00",
         "79"
        ],
        [
         "13",
         "14",
         "03:15:00",
         "03:30:00",
         "46"
        ],
        [
         "14",
         "15",
         "03:30:00",
         "03:45:00",
         "45"
        ],
        [
         "15",
         "16",
         "03:45:00",
         "04:00:00",
         "42"
        ],
        [
         "16",
         "17",
         "04:00:00",
         "04:15:00",
         "49"
        ],
        [
         "17",
         "18",
         "04:15:00",
         "04:30:00",
         "45"
        ],
        [
         "18",
         "19",
         "04:30:00",
         "04:45:00",
         "44"
        ],
        [
         "19",
         "20",
         "04:45:00",
         "05:00:00",
         "49"
        ],
        [
         "20",
         "21",
         "05:00:00",
         "05:15:00",
         "57"
        ],
        [
         "21",
         "22",
         "05:15:00",
         "05:30:00",
         "52"
        ],
        [
         "22",
         "23",
         "05:30:00",
         "05:45:00",
         "51"
        ],
        [
         "23",
         "24",
         "05:45:00",
         "06:00:00",
         "49"
        ],
        [
         "24",
         "25",
         "06:00:00",
         "06:15:00",
         "97"
        ],
        [
         "25",
         "26",
         "06:15:00",
         "06:30:00",
         "132"
        ],
        [
         "26",
         "27",
         "06:30:00",
         "06:45:00",
         "141"
        ],
        [
         "27",
         "28",
         "06:45:00",
         "07:00:00",
         "155"
        ],
        [
         "28",
         "29",
         "07:00:00",
         "07:15:00",
         "630"
        ],
        [
         "29",
         "30",
         "07:15:00",
         "07:30:00",
         "634"
        ],
        [
         "30",
         "31",
         "07:30:00",
         "07:45:00",
         "790"
        ],
        [
         "31",
         "32",
         "07:45:00",
         "08:00:00",
         "698"
        ],
        [
         "32",
         "33",
         "08:00:00",
         "08:15:00",
         "1570"
        ],
        [
         "33",
         "34",
         "08:15:00",
         "08:30:00",
         "1590"
        ],
        [
         "34",
         "35",
         "08:30:00",
         "08:45:00",
         "1601"
        ],
        [
         "35",
         "36",
         "08:45:00",
         "09:00:00",
         "1700"
        ],
        [
         "36",
         "37",
         "09:00:00",
         "09:15:00",
         "2600"
        ],
        [
         "37",
         "38",
         "09:15:00",
         "09:30:00",
         "2509"
        ],
        [
         "38",
         "39",
         "09:30:00",
         "09:45:00",
         "2603"
        ],
        [
         "39",
         "40",
         "09:45:00",
         "10:00:00",
         "2699"
        ],
        [
         "40",
         "41",
         "10:00:00",
         "10:15:00",
         "3124"
        ],
        [
         "41",
         "42",
         "10:15:00",
         "10:30:00",
         "3135"
        ],
        [
         "42",
         "43",
         "10:30:00",
         "10:45:00",
         "3080"
        ],
        [
         "43",
         "44",
         "10:45:00",
         "11:00:00",
         "3197"
        ],
        [
         "44",
         "45",
         "11:00:00",
         "11:15:00",
         "2890"
        ],
        [
         "45",
         "46",
         "11:15:00",
         "11:30:00",
         "2910"
        ],
        [
         "46",
         "47",
         "11:30:00",
         "11:45:00",
         "2912"
        ],
        [
         "47",
         "48",
         "11:45:00",
         "12:00:00",
         "2870"
        ],
        [
         "48",
         "49",
         "12:00:00",
         "12:15:00",
         "2403"
        ],
        [
         "49",
         "50",
         "12:15:00",
         "12:30:00",
         "2397"
        ]
       ],
       "shape": {
        "columns": 4,
        "rows": 96
       }
      },
      "text/html": [
       "<div>\n",
       "<style scoped>\n",
       "    .dataframe tbody tr th:only-of-type {\n",
       "        vertical-align: middle;\n",
       "    }\n",
       "\n",
       "    .dataframe tbody tr th {\n",
       "        vertical-align: top;\n",
       "    }\n",
       "\n",
       "    .dataframe thead th {\n",
       "        text-align: right;\n",
       "    }\n",
       "</style>\n",
       "<table border=\"1\" class=\"dataframe\">\n",
       "  <thead>\n",
       "    <tr style=\"text-align: right;\">\n",
       "      <th></th>\n",
       "      <th>rotulo</th>\n",
       "      <th>hora_inicio</th>\n",
       "      <th>hora_fim</th>\n",
       "      <th>numero_medio_ligantes</th>\n",
       "    </tr>\n",
       "  </thead>\n",
       "  <tbody>\n",
       "    <tr>\n",
       "      <th>0</th>\n",
       "      <td>1</td>\n",
       "      <td>00:00:00</td>\n",
       "      <td>00:15:00</td>\n",
       "      <td>601</td>\n",
       "    </tr>\n",
       "    <tr>\n",
       "      <th>1</th>\n",
       "      <td>2</td>\n",
       "      <td>00:15:00</td>\n",
       "      <td>00:30:00</td>\n",
       "      <td>190</td>\n",
       "    </tr>\n",
       "    <tr>\n",
       "      <th>2</th>\n",
       "      <td>3</td>\n",
       "      <td>00:30:00</td>\n",
       "      <td>00:45:00</td>\n",
       "      <td>180</td>\n",
       "    </tr>\n",
       "    <tr>\n",
       "      <th>3</th>\n",
       "      <td>4</td>\n",
       "      <td>00:45:00</td>\n",
       "      <td>01:00:00</td>\n",
       "      <td>177</td>\n",
       "    </tr>\n",
       "    <tr>\n",
       "      <th>4</th>\n",
       "      <td>5</td>\n",
       "      <td>01:00:00</td>\n",
       "      <td>01:15:00</td>\n",
       "      <td>162</td>\n",
       "    </tr>\n",
       "    <tr>\n",
       "      <th>...</th>\n",
       "      <td>...</td>\n",
       "      <td>...</td>\n",
       "      <td>...</td>\n",
       "      <td>...</td>\n",
       "    </tr>\n",
       "    <tr>\n",
       "      <th>91</th>\n",
       "      <td>92</td>\n",
       "      <td>22:45:00</td>\n",
       "      <td>23:00:00</td>\n",
       "      <td>920</td>\n",
       "    </tr>\n",
       "    <tr>\n",
       "      <th>92</th>\n",
       "      <td>93</td>\n",
       "      <td>23:00:00</td>\n",
       "      <td>23:15:00</td>\n",
       "      <td>897</td>\n",
       "    </tr>\n",
       "    <tr>\n",
       "      <th>93</th>\n",
       "      <td>94</td>\n",
       "      <td>23:15:00</td>\n",
       "      <td>23:30:00</td>\n",
       "      <td>571</td>\n",
       "    </tr>\n",
       "    <tr>\n",
       "      <th>94</th>\n",
       "      <td>95</td>\n",
       "      <td>23:30:00</td>\n",
       "      <td>23:45:00</td>\n",
       "      <td>560</td>\n",
       "    </tr>\n",
       "    <tr>\n",
       "      <th>95</th>\n",
       "      <td>96</td>\n",
       "      <td>23:45:00</td>\n",
       "      <td>00:00:00</td>\n",
       "      <td>590</td>\n",
       "    </tr>\n",
       "  </tbody>\n",
       "</table>\n",
       "<p>96 rows × 4 columns</p>\n",
       "</div>"
      ],
      "text/plain": [
       "    rotulo hora_inicio  hora_fim  numero_medio_ligantes\n",
       "0        1    00:00:00  00:15:00                    601\n",
       "1        2    00:15:00  00:30:00                    190\n",
       "2        3    00:30:00  00:45:00                    180\n",
       "3        4    00:45:00  01:00:00                    177\n",
       "4        5    01:00:00  01:15:00                    162\n",
       "..     ...         ...       ...                    ...\n",
       "91      92    22:45:00  23:00:00                    920\n",
       "92      93    23:00:00  23:15:00                    897\n",
       "93      94    23:15:00  23:30:00                    571\n",
       "94      95    23:30:00  23:45:00                    560\n",
       "95      96    23:45:00  00:00:00                    590\n",
       "\n",
       "[96 rows x 4 columns]"
      ]
     },
     "execution_count": 185,
     "metadata": {},
     "output_type": "execute_result"
    }
   ],
   "source": [
    "df_tabela_ligantes"
   ]
  },
  {
   "cell_type": "code",
   "execution_count": 186,
   "id": "b4b47d51",
   "metadata": {},
   "outputs": [],
   "source": [
    "#tempo_descanso.seed(5)\n"
   ]
  },
  {
   "cell_type": "code",
   "execution_count": 187,
   "id": "b0bf3a0a",
   "metadata": {},
   "outputs": [
    {
     "data": {
      "text/plain": [
       "[20,\n",
       " 9,\n",
       " 8,\n",
       " 9,\n",
       " 8,\n",
       " 5,\n",
       " 6,\n",
       " 7,\n",
       " 5,\n",
       " 5,\n",
       " 4,\n",
       " 5,\n",
       " 4,\n",
       " 4,\n",
       " 4,\n",
       " 4,\n",
       " 4,\n",
       " 5,\n",
       " 4,\n",
       " 4,\n",
       " 4,\n",
       " 4,\n",
       " 3,\n",
       " 4,\n",
       " 6,\n",
       " 6,\n",
       " 8,\n",
       " 7,\n",
       " 20,\n",
       " 21,\n",
       " 23,\n",
       " 23,\n",
       " 41,\n",
       " 41,\n",
       " 41,\n",
       " 45,\n",
       " 66,\n",
       " 59,\n",
       " 60,\n",
       " 67,\n",
       " 70,\n",
       " 75,\n",
       " 71,\n",
       " 75,\n",
       " 66,\n",
       " 64,\n",
       " 62,\n",
       " 68,\n",
       " 57,\n",
       " 57,\n",
       " 56,\n",
       " 60,\n",
       " 64,\n",
       " 67,\n",
       " 63,\n",
       " 70,\n",
       " 69,\n",
       " 67,\n",
       " 64,\n",
       " 66,\n",
       " 71,\n",
       " 66,\n",
       " 70,\n",
       " 67,\n",
       " 68,\n",
       " 66,\n",
       " 68,\n",
       " 71,\n",
       " 68,\n",
       " 69,\n",
       " 73,\n",
       " 62,\n",
       " 55,\n",
       " 51,\n",
       " 52,\n",
       " 48,\n",
       " 45,\n",
       " 44,\n",
       " 39,\n",
       " 38,\n",
       " 41,\n",
       " 36,\n",
       " 36,\n",
       " 40,\n",
       " 36,\n",
       " 34,\n",
       " 30,\n",
       " 31,\n",
       " 31,\n",
       " 26,\n",
       " 26,\n",
       " 26,\n",
       " 23,\n",
       " 18,\n",
       " 18,\n",
       " 18]"
      ]
     },
     "execution_count": 187,
     "metadata": {},
     "output_type": "execute_result"
    }
   ],
   "source": [
    "np.random.seed(5)\n",
    "tempo_descanso = 0\n",
    "espera_maxima = 10\n",
    "coluna_nan = []\n",
    "for i, linha in df_tabela_ligantes.iterrows():\n",
    "    qtd_ligacoes = linha[\"numero_medio_ligantes\"]\n",
    "\n",
    "    momentos_ligacoes = np.random.randint(0, 900, size=qtd_ligacoes)\n",
    "    momentos_ligacoes.sort()\n",
    "\n",
    "    atendentes = []\n",
    "    for momento_ligacao in momentos_ligacoes:\n",
    "        aleatorio = np.random.random()\n",
    "        tempo_duracao = abs(np.polyval(coefs, aleatorio))\n",
    "\n",
    "        atendentes = list(np.random.permutation(atendentes))\n",
    "\n",
    "        for atendente in atendentes:\n",
    "            fim = atendente[\"fim\"] + tempo_descanso\n",
    "\n",
    "            if momento_ligacao + espera_maxima < fim:\n",
    "                ocupado = True\n",
    "            else:\n",
    "                ocupado = False\n",
    "\n",
    "            if not ocupado:\n",
    "\n",
    "                if momento_ligacao + espera_maxima > fim:\n",
    "                    atendente[\"inicio\"] = momento_ligacao + espera_maxima\n",
    "                else:\n",
    "                    atendente[\"inicio\"] = fim\n",
    "                \n",
    "                atendente[\"fim\"] = atendente[\"inicio\"] + tempo_duracao\n",
    "                break\n",
    "        else:\n",
    "\n",
    "            atendente = {\n",
    "                \"inicio\": momento_ligacao,\n",
    "                \"fim\": momento_ligacao + tempo_duracao\n",
    "            }\n",
    "            atendentes.append(atendente)\n",
    "    \n",
    "    nan = len(atendentes)\n",
    "    coluna_nan.append(nan)\n",
    "\n",
    "coluna_nan"
   ]
  },
  {
   "cell_type": "code",
   "execution_count": 188,
   "id": "634dc2ad",
   "metadata": {},
   "outputs": [
    {
     "data": {
      "application/vnd.microsoft.datawrangler.viewer.v0+json": {
       "columns": [
        {
         "name": "index",
         "rawType": "int64",
         "type": "integer"
        },
        {
         "name": "rotulo",
         "rawType": "int64",
         "type": "integer"
        },
        {
         "name": "hora_inicio",
         "rawType": "object",
         "type": "unknown"
        },
        {
         "name": "hora_fim",
         "rawType": "object",
         "type": "unknown"
        },
        {
         "name": "numero_medio_ligantes",
         "rawType": "int64",
         "type": "integer"
        },
        {
         "name": "nan",
         "rawType": "int64",
         "type": "integer"
        }
       ],
       "ref": "9c776e70-e8ce-4e84-91f4-4e670c254ccd",
       "rows": [
        [
         "0",
         "1",
         "00:00:00",
         "00:15:00",
         "601",
         "20"
        ],
        [
         "1",
         "2",
         "00:15:00",
         "00:30:00",
         "190",
         "9"
        ],
        [
         "2",
         "3",
         "00:30:00",
         "00:45:00",
         "180",
         "8"
        ],
        [
         "3",
         "4",
         "00:45:00",
         "01:00:00",
         "177",
         "9"
        ],
        [
         "4",
         "5",
         "01:00:00",
         "01:15:00",
         "162",
         "8"
        ],
        [
         "5",
         "6",
         "01:15:00",
         "01:30:00",
         "110",
         "5"
        ],
        [
         "6",
         "7",
         "01:30:00",
         "01:45:00",
         "99",
         "6"
        ],
        [
         "7",
         "8",
         "01:45:00",
         "02:00:00",
         "108",
         "7"
        ],
        [
         "8",
         "9",
         "02:00:00",
         "02:15:00",
         "97",
         "5"
        ],
        [
         "9",
         "10",
         "02:15:00",
         "02:30:00",
         "77",
         "5"
        ],
        [
         "10",
         "11",
         "02:30:00",
         "02:45:00",
         "75",
         "4"
        ],
        [
         "11",
         "12",
         "02:45:00",
         "03:00:00",
         "76",
         "5"
        ],
        [
         "12",
         "13",
         "03:00:00",
         "03:15:00",
         "79",
         "4"
        ],
        [
         "13",
         "14",
         "03:15:00",
         "03:30:00",
         "46",
         "4"
        ],
        [
         "14",
         "15",
         "03:30:00",
         "03:45:00",
         "45",
         "4"
        ],
        [
         "15",
         "16",
         "03:45:00",
         "04:00:00",
         "42",
         "4"
        ],
        [
         "16",
         "17",
         "04:00:00",
         "04:15:00",
         "49",
         "4"
        ],
        [
         "17",
         "18",
         "04:15:00",
         "04:30:00",
         "45",
         "5"
        ],
        [
         "18",
         "19",
         "04:30:00",
         "04:45:00",
         "44",
         "4"
        ],
        [
         "19",
         "20",
         "04:45:00",
         "05:00:00",
         "49",
         "4"
        ],
        [
         "20",
         "21",
         "05:00:00",
         "05:15:00",
         "57",
         "4"
        ],
        [
         "21",
         "22",
         "05:15:00",
         "05:30:00",
         "52",
         "4"
        ],
        [
         "22",
         "23",
         "05:30:00",
         "05:45:00",
         "51",
         "3"
        ],
        [
         "23",
         "24",
         "05:45:00",
         "06:00:00",
         "49",
         "4"
        ],
        [
         "24",
         "25",
         "06:00:00",
         "06:15:00",
         "97",
         "6"
        ],
        [
         "25",
         "26",
         "06:15:00",
         "06:30:00",
         "132",
         "6"
        ],
        [
         "26",
         "27",
         "06:30:00",
         "06:45:00",
         "141",
         "8"
        ],
        [
         "27",
         "28",
         "06:45:00",
         "07:00:00",
         "155",
         "7"
        ],
        [
         "28",
         "29",
         "07:00:00",
         "07:15:00",
         "630",
         "20"
        ],
        [
         "29",
         "30",
         "07:15:00",
         "07:30:00",
         "634",
         "21"
        ],
        [
         "30",
         "31",
         "07:30:00",
         "07:45:00",
         "790",
         "23"
        ],
        [
         "31",
         "32",
         "07:45:00",
         "08:00:00",
         "698",
         "23"
        ],
        [
         "32",
         "33",
         "08:00:00",
         "08:15:00",
         "1570",
         "41"
        ],
        [
         "33",
         "34",
         "08:15:00",
         "08:30:00",
         "1590",
         "41"
        ],
        [
         "34",
         "35",
         "08:30:00",
         "08:45:00",
         "1601",
         "41"
        ],
        [
         "35",
         "36",
         "08:45:00",
         "09:00:00",
         "1700",
         "45"
        ],
        [
         "36",
         "37",
         "09:00:00",
         "09:15:00",
         "2600",
         "66"
        ],
        [
         "37",
         "38",
         "09:15:00",
         "09:30:00",
         "2509",
         "59"
        ],
        [
         "38",
         "39",
         "09:30:00",
         "09:45:00",
         "2603",
         "60"
        ],
        [
         "39",
         "40",
         "09:45:00",
         "10:00:00",
         "2699",
         "67"
        ],
        [
         "40",
         "41",
         "10:00:00",
         "10:15:00",
         "3124",
         "70"
        ],
        [
         "41",
         "42",
         "10:15:00",
         "10:30:00",
         "3135",
         "75"
        ],
        [
         "42",
         "43",
         "10:30:00",
         "10:45:00",
         "3080",
         "71"
        ],
        [
         "43",
         "44",
         "10:45:00",
         "11:00:00",
         "3197",
         "75"
        ],
        [
         "44",
         "45",
         "11:00:00",
         "11:15:00",
         "2890",
         "66"
        ],
        [
         "45",
         "46",
         "11:15:00",
         "11:30:00",
         "2910",
         "64"
        ],
        [
         "46",
         "47",
         "11:30:00",
         "11:45:00",
         "2912",
         "62"
        ],
        [
         "47",
         "48",
         "11:45:00",
         "12:00:00",
         "2870",
         "68"
        ],
        [
         "48",
         "49",
         "12:00:00",
         "12:15:00",
         "2403",
         "57"
        ],
        [
         "49",
         "50",
         "12:15:00",
         "12:30:00",
         "2397",
         "57"
        ]
       ],
       "shape": {
        "columns": 5,
        "rows": 96
       }
      },
      "text/html": [
       "<div>\n",
       "<style scoped>\n",
       "    .dataframe tbody tr th:only-of-type {\n",
       "        vertical-align: middle;\n",
       "    }\n",
       "\n",
       "    .dataframe tbody tr th {\n",
       "        vertical-align: top;\n",
       "    }\n",
       "\n",
       "    .dataframe thead th {\n",
       "        text-align: right;\n",
       "    }\n",
       "</style>\n",
       "<table border=\"1\" class=\"dataframe\">\n",
       "  <thead>\n",
       "    <tr style=\"text-align: right;\">\n",
       "      <th></th>\n",
       "      <th>rotulo</th>\n",
       "      <th>hora_inicio</th>\n",
       "      <th>hora_fim</th>\n",
       "      <th>numero_medio_ligantes</th>\n",
       "      <th>nan</th>\n",
       "    </tr>\n",
       "  </thead>\n",
       "  <tbody>\n",
       "    <tr>\n",
       "      <th>0</th>\n",
       "      <td>1</td>\n",
       "      <td>00:00:00</td>\n",
       "      <td>00:15:00</td>\n",
       "      <td>601</td>\n",
       "      <td>20</td>\n",
       "    </tr>\n",
       "    <tr>\n",
       "      <th>1</th>\n",
       "      <td>2</td>\n",
       "      <td>00:15:00</td>\n",
       "      <td>00:30:00</td>\n",
       "      <td>190</td>\n",
       "      <td>9</td>\n",
       "    </tr>\n",
       "    <tr>\n",
       "      <th>2</th>\n",
       "      <td>3</td>\n",
       "      <td>00:30:00</td>\n",
       "      <td>00:45:00</td>\n",
       "      <td>180</td>\n",
       "      <td>8</td>\n",
       "    </tr>\n",
       "    <tr>\n",
       "      <th>3</th>\n",
       "      <td>4</td>\n",
       "      <td>00:45:00</td>\n",
       "      <td>01:00:00</td>\n",
       "      <td>177</td>\n",
       "      <td>9</td>\n",
       "    </tr>\n",
       "    <tr>\n",
       "      <th>4</th>\n",
       "      <td>5</td>\n",
       "      <td>01:00:00</td>\n",
       "      <td>01:15:00</td>\n",
       "      <td>162</td>\n",
       "      <td>8</td>\n",
       "    </tr>\n",
       "    <tr>\n",
       "      <th>...</th>\n",
       "      <td>...</td>\n",
       "      <td>...</td>\n",
       "      <td>...</td>\n",
       "      <td>...</td>\n",
       "      <td>...</td>\n",
       "    </tr>\n",
       "    <tr>\n",
       "      <th>91</th>\n",
       "      <td>92</td>\n",
       "      <td>22:45:00</td>\n",
       "      <td>23:00:00</td>\n",
       "      <td>920</td>\n",
       "      <td>26</td>\n",
       "    </tr>\n",
       "    <tr>\n",
       "      <th>92</th>\n",
       "      <td>93</td>\n",
       "      <td>23:00:00</td>\n",
       "      <td>23:15:00</td>\n",
       "      <td>897</td>\n",
       "      <td>23</td>\n",
       "    </tr>\n",
       "    <tr>\n",
       "      <th>93</th>\n",
       "      <td>94</td>\n",
       "      <td>23:15:00</td>\n",
       "      <td>23:30:00</td>\n",
       "      <td>571</td>\n",
       "      <td>18</td>\n",
       "    </tr>\n",
       "    <tr>\n",
       "      <th>94</th>\n",
       "      <td>95</td>\n",
       "      <td>23:30:00</td>\n",
       "      <td>23:45:00</td>\n",
       "      <td>560</td>\n",
       "      <td>18</td>\n",
       "    </tr>\n",
       "    <tr>\n",
       "      <th>95</th>\n",
       "      <td>96</td>\n",
       "      <td>23:45:00</td>\n",
       "      <td>00:00:00</td>\n",
       "      <td>590</td>\n",
       "      <td>18</td>\n",
       "    </tr>\n",
       "  </tbody>\n",
       "</table>\n",
       "<p>96 rows × 5 columns</p>\n",
       "</div>"
      ],
      "text/plain": [
       "    rotulo hora_inicio  hora_fim  numero_medio_ligantes  nan\n",
       "0        1    00:00:00  00:15:00                    601   20\n",
       "1        2    00:15:00  00:30:00                    190    9\n",
       "2        3    00:30:00  00:45:00                    180    8\n",
       "3        4    00:45:00  01:00:00                    177    9\n",
       "4        5    01:00:00  01:15:00                    162    8\n",
       "..     ...         ...       ...                    ...  ...\n",
       "91      92    22:45:00  23:00:00                    920   26\n",
       "92      93    23:00:00  23:15:00                    897   23\n",
       "93      94    23:15:00  23:30:00                    571   18\n",
       "94      95    23:30:00  23:45:00                    560   18\n",
       "95      96    23:45:00  00:00:00                    590   18\n",
       "\n",
       "[96 rows x 5 columns]"
      ]
     },
     "execution_count": 188,
     "metadata": {},
     "output_type": "execute_result"
    }
   ],
   "source": [
    "df_tabela_ligantes[\"nan\"] = coluna_nan\n",
    "df_tabela_ligantes"
   ]
  },
  {
   "cell_type": "markdown",
   "id": "5fb10320",
   "metadata": {},
   "source": [
    "--- \n",
    "# Attentus\n",
    "\n"
   ]
  },
  {
   "cell_type": "code",
   "execution_count": 189,
   "id": "dc8fc907",
   "metadata": {},
   "outputs": [],
   "source": [
    "import pulp as plp"
   ]
  },
  {
   "cell_type": "code",
   "execution_count": 190,
   "id": "455b9b17",
   "metadata": {},
   "outputs": [
    {
     "data": {
      "application/vnd.microsoft.datawrangler.viewer.v0+json": {
       "columns": [
        {
         "name": "index",
         "rawType": "int64",
         "type": "integer"
        },
        {
         "name": "rotulo",
         "rawType": "int64",
         "type": "integer"
        },
        {
         "name": "hora_inicio",
         "rawType": "object",
         "type": "unknown"
        },
        {
         "name": "hora_fim",
         "rawType": "object",
         "type": "unknown"
        },
        {
         "name": "numero_medio_ligantes",
         "rawType": "int64",
         "type": "integer"
        },
        {
         "name": "nan",
         "rawType": "int64",
         "type": "integer"
        }
       ],
       "ref": "eec6b162-5fdf-484d-8d28-a950406aef3f",
       "rows": [
        [
         "0",
         "1",
         "00:00:00",
         "00:15:00",
         "601",
         "20"
        ],
        [
         "1",
         "2",
         "00:15:00",
         "00:30:00",
         "190",
         "9"
        ],
        [
         "2",
         "3",
         "00:30:00",
         "00:45:00",
         "180",
         "8"
        ],
        [
         "3",
         "4",
         "00:45:00",
         "01:00:00",
         "177",
         "9"
        ],
        [
         "4",
         "5",
         "01:00:00",
         "01:15:00",
         "162",
         "8"
        ],
        [
         "5",
         "6",
         "01:15:00",
         "01:30:00",
         "110",
         "5"
        ],
        [
         "6",
         "7",
         "01:30:00",
         "01:45:00",
         "99",
         "6"
        ],
        [
         "7",
         "8",
         "01:45:00",
         "02:00:00",
         "108",
         "7"
        ],
        [
         "8",
         "9",
         "02:00:00",
         "02:15:00",
         "97",
         "5"
        ],
        [
         "9",
         "10",
         "02:15:00",
         "02:30:00",
         "77",
         "5"
        ],
        [
         "10",
         "11",
         "02:30:00",
         "02:45:00",
         "75",
         "4"
        ],
        [
         "11",
         "12",
         "02:45:00",
         "03:00:00",
         "76",
         "5"
        ],
        [
         "12",
         "13",
         "03:00:00",
         "03:15:00",
         "79",
         "4"
        ],
        [
         "13",
         "14",
         "03:15:00",
         "03:30:00",
         "46",
         "4"
        ],
        [
         "14",
         "15",
         "03:30:00",
         "03:45:00",
         "45",
         "4"
        ],
        [
         "15",
         "16",
         "03:45:00",
         "04:00:00",
         "42",
         "4"
        ],
        [
         "16",
         "17",
         "04:00:00",
         "04:15:00",
         "49",
         "4"
        ],
        [
         "17",
         "18",
         "04:15:00",
         "04:30:00",
         "45",
         "5"
        ],
        [
         "18",
         "19",
         "04:30:00",
         "04:45:00",
         "44",
         "4"
        ],
        [
         "19",
         "20",
         "04:45:00",
         "05:00:00",
         "49",
         "4"
        ],
        [
         "20",
         "21",
         "05:00:00",
         "05:15:00",
         "57",
         "4"
        ],
        [
         "21",
         "22",
         "05:15:00",
         "05:30:00",
         "52",
         "4"
        ],
        [
         "22",
         "23",
         "05:30:00",
         "05:45:00",
         "51",
         "3"
        ],
        [
         "23",
         "24",
         "05:45:00",
         "06:00:00",
         "49",
         "4"
        ],
        [
         "24",
         "25",
         "06:00:00",
         "06:15:00",
         "97",
         "6"
        ],
        [
         "25",
         "26",
         "06:15:00",
         "06:30:00",
         "132",
         "6"
        ],
        [
         "26",
         "27",
         "06:30:00",
         "06:45:00",
         "141",
         "8"
        ],
        [
         "27",
         "28",
         "06:45:00",
         "07:00:00",
         "155",
         "7"
        ],
        [
         "28",
         "29",
         "07:00:00",
         "07:15:00",
         "630",
         "20"
        ],
        [
         "29",
         "30",
         "07:15:00",
         "07:30:00",
         "634",
         "21"
        ],
        [
         "30",
         "31",
         "07:30:00",
         "07:45:00",
         "790",
         "23"
        ],
        [
         "31",
         "32",
         "07:45:00",
         "08:00:00",
         "698",
         "23"
        ],
        [
         "32",
         "33",
         "08:00:00",
         "08:15:00",
         "1570",
         "41"
        ],
        [
         "33",
         "34",
         "08:15:00",
         "08:30:00",
         "1590",
         "41"
        ],
        [
         "34",
         "35",
         "08:30:00",
         "08:45:00",
         "1601",
         "41"
        ],
        [
         "35",
         "36",
         "08:45:00",
         "09:00:00",
         "1700",
         "45"
        ],
        [
         "36",
         "37",
         "09:00:00",
         "09:15:00",
         "2600",
         "66"
        ],
        [
         "37",
         "38",
         "09:15:00",
         "09:30:00",
         "2509",
         "59"
        ],
        [
         "38",
         "39",
         "09:30:00",
         "09:45:00",
         "2603",
         "60"
        ],
        [
         "39",
         "40",
         "09:45:00",
         "10:00:00",
         "2699",
         "67"
        ],
        [
         "40",
         "41",
         "10:00:00",
         "10:15:00",
         "3124",
         "70"
        ],
        [
         "41",
         "42",
         "10:15:00",
         "10:30:00",
         "3135",
         "75"
        ],
        [
         "42",
         "43",
         "10:30:00",
         "10:45:00",
         "3080",
         "71"
        ],
        [
         "43",
         "44",
         "10:45:00",
         "11:00:00",
         "3197",
         "75"
        ],
        [
         "44",
         "45",
         "11:00:00",
         "11:15:00",
         "2890",
         "66"
        ],
        [
         "45",
         "46",
         "11:15:00",
         "11:30:00",
         "2910",
         "64"
        ],
        [
         "46",
         "47",
         "11:30:00",
         "11:45:00",
         "2912",
         "62"
        ],
        [
         "47",
         "48",
         "11:45:00",
         "12:00:00",
         "2870",
         "68"
        ],
        [
         "48",
         "49",
         "12:00:00",
         "12:15:00",
         "2403",
         "57"
        ],
        [
         "49",
         "50",
         "12:15:00",
         "12:30:00",
         "2397",
         "57"
        ]
       ],
       "shape": {
        "columns": 5,
        "rows": 96
       }
      },
      "text/html": [
       "<div>\n",
       "<style scoped>\n",
       "    .dataframe tbody tr th:only-of-type {\n",
       "        vertical-align: middle;\n",
       "    }\n",
       "\n",
       "    .dataframe tbody tr th {\n",
       "        vertical-align: top;\n",
       "    }\n",
       "\n",
       "    .dataframe thead th {\n",
       "        text-align: right;\n",
       "    }\n",
       "</style>\n",
       "<table border=\"1\" class=\"dataframe\">\n",
       "  <thead>\n",
       "    <tr style=\"text-align: right;\">\n",
       "      <th></th>\n",
       "      <th>rotulo</th>\n",
       "      <th>hora_inicio</th>\n",
       "      <th>hora_fim</th>\n",
       "      <th>numero_medio_ligantes</th>\n",
       "      <th>nan</th>\n",
       "    </tr>\n",
       "  </thead>\n",
       "  <tbody>\n",
       "    <tr>\n",
       "      <th>0</th>\n",
       "      <td>1</td>\n",
       "      <td>00:00:00</td>\n",
       "      <td>00:15:00</td>\n",
       "      <td>601</td>\n",
       "      <td>20</td>\n",
       "    </tr>\n",
       "    <tr>\n",
       "      <th>1</th>\n",
       "      <td>2</td>\n",
       "      <td>00:15:00</td>\n",
       "      <td>00:30:00</td>\n",
       "      <td>190</td>\n",
       "      <td>9</td>\n",
       "    </tr>\n",
       "    <tr>\n",
       "      <th>2</th>\n",
       "      <td>3</td>\n",
       "      <td>00:30:00</td>\n",
       "      <td>00:45:00</td>\n",
       "      <td>180</td>\n",
       "      <td>8</td>\n",
       "    </tr>\n",
       "    <tr>\n",
       "      <th>3</th>\n",
       "      <td>4</td>\n",
       "      <td>00:45:00</td>\n",
       "      <td>01:00:00</td>\n",
       "      <td>177</td>\n",
       "      <td>9</td>\n",
       "    </tr>\n",
       "    <tr>\n",
       "      <th>4</th>\n",
       "      <td>5</td>\n",
       "      <td>01:00:00</td>\n",
       "      <td>01:15:00</td>\n",
       "      <td>162</td>\n",
       "      <td>8</td>\n",
       "    </tr>\n",
       "    <tr>\n",
       "      <th>...</th>\n",
       "      <td>...</td>\n",
       "      <td>...</td>\n",
       "      <td>...</td>\n",
       "      <td>...</td>\n",
       "      <td>...</td>\n",
       "    </tr>\n",
       "    <tr>\n",
       "      <th>91</th>\n",
       "      <td>92</td>\n",
       "      <td>22:45:00</td>\n",
       "      <td>23:00:00</td>\n",
       "      <td>920</td>\n",
       "      <td>26</td>\n",
       "    </tr>\n",
       "    <tr>\n",
       "      <th>92</th>\n",
       "      <td>93</td>\n",
       "      <td>23:00:00</td>\n",
       "      <td>23:15:00</td>\n",
       "      <td>897</td>\n",
       "      <td>23</td>\n",
       "    </tr>\n",
       "    <tr>\n",
       "      <th>93</th>\n",
       "      <td>94</td>\n",
       "      <td>23:15:00</td>\n",
       "      <td>23:30:00</td>\n",
       "      <td>571</td>\n",
       "      <td>18</td>\n",
       "    </tr>\n",
       "    <tr>\n",
       "      <th>94</th>\n",
       "      <td>95</td>\n",
       "      <td>23:30:00</td>\n",
       "      <td>23:45:00</td>\n",
       "      <td>560</td>\n",
       "      <td>18</td>\n",
       "    </tr>\n",
       "    <tr>\n",
       "      <th>95</th>\n",
       "      <td>96</td>\n",
       "      <td>23:45:00</td>\n",
       "      <td>00:00:00</td>\n",
       "      <td>590</td>\n",
       "      <td>18</td>\n",
       "    </tr>\n",
       "  </tbody>\n",
       "</table>\n",
       "<p>96 rows × 5 columns</p>\n",
       "</div>"
      ],
      "text/plain": [
       "    rotulo hora_inicio  hora_fim  numero_medio_ligantes  nan\n",
       "0        1    00:00:00  00:15:00                    601   20\n",
       "1        2    00:15:00  00:30:00                    190    9\n",
       "2        3    00:30:00  00:45:00                    180    8\n",
       "3        4    00:45:00  01:00:00                    177    9\n",
       "4        5    01:00:00  01:15:00                    162    8\n",
       "..     ...         ...       ...                    ...  ...\n",
       "91      92    22:45:00  23:00:00                    920   26\n",
       "92      93    23:00:00  23:15:00                    897   23\n",
       "93      94    23:15:00  23:30:00                    571   18\n",
       "94      95    23:30:00  23:45:00                    560   18\n",
       "95      96    23:45:00  00:00:00                    590   18\n",
       "\n",
       "[96 rows x 5 columns]"
      ]
     },
     "execution_count": 190,
     "metadata": {},
     "output_type": "execute_result"
    }
   ],
   "source": [
    "df_nan = df_tabela_ligantes.copy()\n",
    "df_nan"
   ]
  },
  {
   "cell_type": "code",
   "execution_count": 191,
   "id": "bb14de14",
   "metadata": {},
   "outputs": [
    {
     "data": {
      "application/vnd.microsoft.datawrangler.viewer.v0+json": {
       "columns": [
        {
         "name": "index",
         "rawType": "int64",
         "type": "integer"
        },
        {
         "name": "regime",
         "rawType": "int64",
         "type": "integer"
        },
        {
         "name": "enc",
         "rawType": "int64",
         "type": "integer"
        }
       ],
       "ref": "fe9a4776-2d84-4c34-a7d2-5888eb71defa",
       "rows": [
        [
         "0",
         "3",
         "540"
        ],
        [
         "1",
         "4",
         "680"
        ],
        [
         "2",
         "6",
         "960"
        ]
       ],
       "shape": {
        "columns": 2,
        "rows": 3
       }
      },
      "text/html": [
       "<div>\n",
       "<style scoped>\n",
       "    .dataframe tbody tr th:only-of-type {\n",
       "        vertical-align: middle;\n",
       "    }\n",
       "\n",
       "    .dataframe tbody tr th {\n",
       "        vertical-align: top;\n",
       "    }\n",
       "\n",
       "    .dataframe thead th {\n",
       "        text-align: right;\n",
       "    }\n",
       "</style>\n",
       "<table border=\"1\" class=\"dataframe\">\n",
       "  <thead>\n",
       "    <tr style=\"text-align: right;\">\n",
       "      <th></th>\n",
       "      <th>regime</th>\n",
       "      <th>enc</th>\n",
       "    </tr>\n",
       "  </thead>\n",
       "  <tbody>\n",
       "    <tr>\n",
       "      <th>0</th>\n",
       "      <td>3</td>\n",
       "      <td>540</td>\n",
       "    </tr>\n",
       "    <tr>\n",
       "      <th>1</th>\n",
       "      <td>4</td>\n",
       "      <td>680</td>\n",
       "    </tr>\n",
       "    <tr>\n",
       "      <th>2</th>\n",
       "      <td>6</td>\n",
       "      <td>960</td>\n",
       "    </tr>\n",
       "  </tbody>\n",
       "</table>\n",
       "</div>"
      ],
      "text/plain": [
       "   regime  enc\n",
       "0       3  540\n",
       "1       4  680\n",
       "2       6  960"
      ]
     },
     "execution_count": 191,
     "metadata": {},
     "output_type": "execute_result"
    }
   ],
   "source": [
    "df_nad = pd.read_excel(\n",
    "    os.path.join(\"data\", \"nad.xlsx\")\n",
    ")\n",
    "df_nad"
   ]
  },
  {
   "cell_type": "code",
   "execution_count": 192,
   "id": "61241712",
   "metadata": {},
   "outputs": [],
   "source": [
    "from itertools import product"
   ]
  },
  {
   "cell_type": "code",
   "execution_count": 193,
   "id": "b51e875c",
   "metadata": {},
   "outputs": [
    {
     "data": {
      "text/plain": [
       "{0: 3, 1: 4, 2: 6}"
      ]
     },
     "execution_count": 193,
     "metadata": {},
     "output_type": "execute_result"
    }
   ],
   "source": [
    "regimes = (\n",
    "    df_nad[\"regime\"].to_dict()\n",
    ")\n",
    "regimes"
   ]
  },
  {
   "cell_type": "code",
   "execution_count": 194,
   "id": "9bbb1a8c",
   "metadata": {},
   "outputs": [
    {
     "data": {
      "text/plain": [
       "{0: datetime.time(0, 0),\n",
       " 1: datetime.time(0, 15),\n",
       " 2: datetime.time(0, 30),\n",
       " 3: datetime.time(0, 45),\n",
       " 4: datetime.time(1, 0),\n",
       " 5: datetime.time(1, 15),\n",
       " 6: datetime.time(1, 30),\n",
       " 7: datetime.time(1, 45),\n",
       " 8: datetime.time(2, 0),\n",
       " 9: datetime.time(2, 15),\n",
       " 10: datetime.time(2, 30),\n",
       " 11: datetime.time(2, 45),\n",
       " 12: datetime.time(3, 0),\n",
       " 13: datetime.time(3, 15),\n",
       " 14: datetime.time(3, 30),\n",
       " 15: datetime.time(3, 45),\n",
       " 16: datetime.time(4, 0),\n",
       " 17: datetime.time(4, 15),\n",
       " 18: datetime.time(4, 30),\n",
       " 19: datetime.time(4, 45),\n",
       " 20: datetime.time(5, 0),\n",
       " 21: datetime.time(5, 15),\n",
       " 22: datetime.time(5, 30),\n",
       " 23: datetime.time(5, 45),\n",
       " 24: datetime.time(6, 0),\n",
       " 25: datetime.time(6, 15),\n",
       " 26: datetime.time(6, 30),\n",
       " 27: datetime.time(6, 45),\n",
       " 28: datetime.time(7, 0),\n",
       " 29: datetime.time(7, 15),\n",
       " 30: datetime.time(7, 30),\n",
       " 31: datetime.time(7, 45),\n",
       " 32: datetime.time(8, 0),\n",
       " 33: datetime.time(8, 15),\n",
       " 34: datetime.time(8, 30),\n",
       " 35: datetime.time(8, 45),\n",
       " 36: datetime.time(9, 0),\n",
       " 37: datetime.time(9, 15),\n",
       " 38: datetime.time(9, 30),\n",
       " 39: datetime.time(9, 45),\n",
       " 40: datetime.time(10, 0),\n",
       " 41: datetime.time(10, 15),\n",
       " 42: datetime.time(10, 30),\n",
       " 43: datetime.time(10, 45),\n",
       " 44: datetime.time(11, 0),\n",
       " 45: datetime.time(11, 15),\n",
       " 46: datetime.time(11, 30),\n",
       " 47: datetime.time(11, 45),\n",
       " 48: datetime.time(12, 0),\n",
       " 49: datetime.time(12, 15),\n",
       " 50: datetime.time(12, 30),\n",
       " 51: datetime.time(12, 45),\n",
       " 52: datetime.time(13, 0),\n",
       " 53: datetime.time(13, 15),\n",
       " 54: datetime.time(13, 30),\n",
       " 55: datetime.time(13, 45),\n",
       " 56: datetime.time(14, 0),\n",
       " 57: datetime.time(14, 15),\n",
       " 58: datetime.time(14, 30),\n",
       " 59: datetime.time(14, 45),\n",
       " 60: datetime.time(15, 0),\n",
       " 61: datetime.time(15, 15),\n",
       " 62: datetime.time(15, 30),\n",
       " 63: datetime.time(15, 45),\n",
       " 64: datetime.time(16, 0),\n",
       " 65: datetime.time(16, 15),\n",
       " 66: datetime.time(16, 30),\n",
       " 67: datetime.time(16, 45),\n",
       " 68: datetime.time(17, 0),\n",
       " 69: datetime.time(17, 15),\n",
       " 70: datetime.time(17, 30),\n",
       " 71: datetime.time(17, 45),\n",
       " 72: datetime.time(18, 0),\n",
       " 73: datetime.time(18, 15),\n",
       " 74: datetime.time(18, 30),\n",
       " 75: datetime.time(18, 45),\n",
       " 76: datetime.time(19, 0),\n",
       " 77: datetime.time(19, 15),\n",
       " 78: datetime.time(19, 30),\n",
       " 79: datetime.time(19, 45),\n",
       " 80: datetime.time(20, 0),\n",
       " 81: datetime.time(20, 15),\n",
       " 82: datetime.time(20, 30),\n",
       " 83: datetime.time(20, 45),\n",
       " 84: datetime.time(21, 0),\n",
       " 85: datetime.time(21, 15),\n",
       " 86: datetime.time(21, 30),\n",
       " 87: datetime.time(21, 45),\n",
       " 88: datetime.time(22, 0),\n",
       " 89: datetime.time(22, 15),\n",
       " 90: datetime.time(22, 30),\n",
       " 91: datetime.time(22, 45),\n",
       " 92: datetime.time(23, 0),\n",
       " 93: datetime.time(23, 15),\n",
       " 94: datetime.time(23, 30),\n",
       " 95: datetime.time(23, 45)}"
      ]
     },
     "execution_count": 194,
     "metadata": {},
     "output_type": "execute_result"
    }
   ],
   "source": [
    "inicios = (\n",
    "    df_nan[\"hora_inicio\"].to_dict()\n",
    ")\n",
    "inicios"
   ]
  },
  {
   "cell_type": "code",
   "execution_count": 195,
   "id": "45807121",
   "metadata": {},
   "outputs": [
    {
     "data": {
      "text/plain": [
       "[(0, 0),\n",
       " (0, 1),\n",
       " (0, 2),\n",
       " (0, 3),\n",
       " (0, 4),\n",
       " (0, 5),\n",
       " (0, 6),\n",
       " (0, 7),\n",
       " (0, 8),\n",
       " (0, 9),\n",
       " (0, 10),\n",
       " (0, 11),\n",
       " (0, 12),\n",
       " (0, 13),\n",
       " (0, 14),\n",
       " (0, 15),\n",
       " (0, 16),\n",
       " (0, 17),\n",
       " (0, 18),\n",
       " (0, 19),\n",
       " (0, 20),\n",
       " (0, 21),\n",
       " (0, 22),\n",
       " (0, 23),\n",
       " (0, 24),\n",
       " (0, 25),\n",
       " (0, 26),\n",
       " (0, 27),\n",
       " (0, 28),\n",
       " (0, 29),\n",
       " (0, 30),\n",
       " (0, 31),\n",
       " (0, 32),\n",
       " (0, 33),\n",
       " (0, 34),\n",
       " (0, 35),\n",
       " (0, 36),\n",
       " (0, 37),\n",
       " (0, 38),\n",
       " (0, 39),\n",
       " (0, 40),\n",
       " (0, 41),\n",
       " (0, 42),\n",
       " (0, 43),\n",
       " (0, 44),\n",
       " (0, 45),\n",
       " (0, 46),\n",
       " (0, 47),\n",
       " (0, 48),\n",
       " (0, 49),\n",
       " (0, 50),\n",
       " (0, 51),\n",
       " (0, 52),\n",
       " (0, 53),\n",
       " (0, 54),\n",
       " (0, 55),\n",
       " (0, 56),\n",
       " (0, 57),\n",
       " (0, 58),\n",
       " (0, 59),\n",
       " (0, 60),\n",
       " (0, 61),\n",
       " (0, 62),\n",
       " (0, 63),\n",
       " (0, 64),\n",
       " (0, 65),\n",
       " (0, 66),\n",
       " (0, 67),\n",
       " (0, 68),\n",
       " (0, 69),\n",
       " (0, 70),\n",
       " (0, 71),\n",
       " (0, 72),\n",
       " (0, 73),\n",
       " (0, 74),\n",
       " (0, 75),\n",
       " (0, 76),\n",
       " (0, 77),\n",
       " (0, 78),\n",
       " (0, 79),\n",
       " (0, 80),\n",
       " (0, 81),\n",
       " (0, 82),\n",
       " (0, 83),\n",
       " (0, 84),\n",
       " (0, 85),\n",
       " (0, 86),\n",
       " (0, 87),\n",
       " (0, 88),\n",
       " (0, 89),\n",
       " (0, 90),\n",
       " (0, 91),\n",
       " (0, 92),\n",
       " (0, 93),\n",
       " (0, 94),\n",
       " (0, 95),\n",
       " (1, 0),\n",
       " (1, 1),\n",
       " (1, 2),\n",
       " (1, 3),\n",
       " (1, 4),\n",
       " (1, 5),\n",
       " (1, 6),\n",
       " (1, 7),\n",
       " (1, 8),\n",
       " (1, 9),\n",
       " (1, 10),\n",
       " (1, 11),\n",
       " (1, 12),\n",
       " (1, 13),\n",
       " (1, 14),\n",
       " (1, 15),\n",
       " (1, 16),\n",
       " (1, 17),\n",
       " (1, 18),\n",
       " (1, 19),\n",
       " (1, 20),\n",
       " (1, 21),\n",
       " (1, 22),\n",
       " (1, 23),\n",
       " (1, 24),\n",
       " (1, 25),\n",
       " (1, 26),\n",
       " (1, 27),\n",
       " (1, 28),\n",
       " (1, 29),\n",
       " (1, 30),\n",
       " (1, 31),\n",
       " (1, 32),\n",
       " (1, 33),\n",
       " (1, 34),\n",
       " (1, 35),\n",
       " (1, 36),\n",
       " (1, 37),\n",
       " (1, 38),\n",
       " (1, 39),\n",
       " (1, 40),\n",
       " (1, 41),\n",
       " (1, 42),\n",
       " (1, 43),\n",
       " (1, 44),\n",
       " (1, 45),\n",
       " (1, 46),\n",
       " (1, 47),\n",
       " (1, 48),\n",
       " (1, 49),\n",
       " (1, 50),\n",
       " (1, 51),\n",
       " (1, 52),\n",
       " (1, 53),\n",
       " (1, 54),\n",
       " (1, 55),\n",
       " (1, 56),\n",
       " (1, 57),\n",
       " (1, 58),\n",
       " (1, 59),\n",
       " (1, 60),\n",
       " (1, 61),\n",
       " (1, 62),\n",
       " (1, 63),\n",
       " (1, 64),\n",
       " (1, 65),\n",
       " (1, 66),\n",
       " (1, 67),\n",
       " (1, 68),\n",
       " (1, 69),\n",
       " (1, 70),\n",
       " (1, 71),\n",
       " (1, 72),\n",
       " (1, 73),\n",
       " (1, 74),\n",
       " (1, 75),\n",
       " (1, 76),\n",
       " (1, 77),\n",
       " (1, 78),\n",
       " (1, 79),\n",
       " (1, 80),\n",
       " (1, 81),\n",
       " (1, 82),\n",
       " (1, 83),\n",
       " (1, 84),\n",
       " (1, 85),\n",
       " (1, 86),\n",
       " (1, 87),\n",
       " (1, 88),\n",
       " (1, 89),\n",
       " (1, 90),\n",
       " (1, 91),\n",
       " (1, 92),\n",
       " (1, 93),\n",
       " (1, 94),\n",
       " (1, 95),\n",
       " (2, 0),\n",
       " (2, 1),\n",
       " (2, 2),\n",
       " (2, 3),\n",
       " (2, 4),\n",
       " (2, 5),\n",
       " (2, 6),\n",
       " (2, 7),\n",
       " (2, 8),\n",
       " (2, 9),\n",
       " (2, 10),\n",
       " (2, 11),\n",
       " (2, 12),\n",
       " (2, 13),\n",
       " (2, 14),\n",
       " (2, 15),\n",
       " (2, 16),\n",
       " (2, 17),\n",
       " (2, 18),\n",
       " (2, 19),\n",
       " (2, 20),\n",
       " (2, 21),\n",
       " (2, 22),\n",
       " (2, 23),\n",
       " (2, 24),\n",
       " (2, 25),\n",
       " (2, 26),\n",
       " (2, 27),\n",
       " (2, 28),\n",
       " (2, 29),\n",
       " (2, 30),\n",
       " (2, 31),\n",
       " (2, 32),\n",
       " (2, 33),\n",
       " (2, 34),\n",
       " (2, 35),\n",
       " (2, 36),\n",
       " (2, 37),\n",
       " (2, 38),\n",
       " (2, 39),\n",
       " (2, 40),\n",
       " (2, 41),\n",
       " (2, 42),\n",
       " (2, 43),\n",
       " (2, 44),\n",
       " (2, 45),\n",
       " (2, 46),\n",
       " (2, 47),\n",
       " (2, 48),\n",
       " (2, 49),\n",
       " (2, 50),\n",
       " (2, 51),\n",
       " (2, 52),\n",
       " (2, 53),\n",
       " (2, 54),\n",
       " (2, 55),\n",
       " (2, 56),\n",
       " (2, 57),\n",
       " (2, 58),\n",
       " (2, 59),\n",
       " (2, 60),\n",
       " (2, 61),\n",
       " (2, 62),\n",
       " (2, 63),\n",
       " (2, 64),\n",
       " (2, 65),\n",
       " (2, 66),\n",
       " (2, 67),\n",
       " (2, 68),\n",
       " (2, 69),\n",
       " (2, 70),\n",
       " (2, 71),\n",
       " (2, 72),\n",
       " (2, 73),\n",
       " (2, 74),\n",
       " (2, 75),\n",
       " (2, 76),\n",
       " (2, 77),\n",
       " (2, 78),\n",
       " (2, 79),\n",
       " (2, 80),\n",
       " (2, 81),\n",
       " (2, 82),\n",
       " (2, 83),\n",
       " (2, 84),\n",
       " (2, 85),\n",
       " (2, 86),\n",
       " (2, 87),\n",
       " (2, 88),\n",
       " (2, 89),\n",
       " (2, 90),\n",
       " (2, 91),\n",
       " (2, 92),\n",
       " (2, 93),\n",
       " (2, 94),\n",
       " (2, 95)]"
      ]
     },
     "execution_count": 195,
     "metadata": {},
     "output_type": "execute_result"
    }
   ],
   "source": [
    "lista_variaveis = list(product(regimes, inicios))\n",
    "lista_variaveis"
   ]
  },
  {
   "cell_type": "code",
   "execution_count": 196,
   "id": "59bb29cd",
   "metadata": {},
   "outputs": [
    {
     "data": {
      "text/plain": [
       "Attentus:\n",
       "MINIMIZE\n",
       "None\n",
       "VARIABLES"
      ]
     },
     "execution_count": 196,
     "metadata": {},
     "output_type": "execute_result"
    }
   ],
   "source": [
    "prob = plp.LpProblem(\n",
    "    name = \"Attentus\", sense = plp.LpMinimize\n",
    ")\n",
    "prob"
   ]
  },
  {
   "cell_type": "code",
   "execution_count": 197,
   "id": "7413e5a6",
   "metadata": {},
   "outputs": [
    {
     "data": {
      "text/plain": [
       "{(0, 0): A_(0,_0),\n",
       " (0, 1): A_(0,_1),\n",
       " (0, 2): A_(0,_2),\n",
       " (0, 3): A_(0,_3),\n",
       " (0, 4): A_(0,_4),\n",
       " (0, 5): A_(0,_5),\n",
       " (0, 6): A_(0,_6),\n",
       " (0, 7): A_(0,_7),\n",
       " (0, 8): A_(0,_8),\n",
       " (0, 9): A_(0,_9),\n",
       " (0, 10): A_(0,_10),\n",
       " (0, 11): A_(0,_11),\n",
       " (0, 12): A_(0,_12),\n",
       " (0, 13): A_(0,_13),\n",
       " (0, 14): A_(0,_14),\n",
       " (0, 15): A_(0,_15),\n",
       " (0, 16): A_(0,_16),\n",
       " (0, 17): A_(0,_17),\n",
       " (0, 18): A_(0,_18),\n",
       " (0, 19): A_(0,_19),\n",
       " (0, 20): A_(0,_20),\n",
       " (0, 21): A_(0,_21),\n",
       " (0, 22): A_(0,_22),\n",
       " (0, 23): A_(0,_23),\n",
       " (0, 24): A_(0,_24),\n",
       " (0, 25): A_(0,_25),\n",
       " (0, 26): A_(0,_26),\n",
       " (0, 27): A_(0,_27),\n",
       " (0, 28): A_(0,_28),\n",
       " (0, 29): A_(0,_29),\n",
       " (0, 30): A_(0,_30),\n",
       " (0, 31): A_(0,_31),\n",
       " (0, 32): A_(0,_32),\n",
       " (0, 33): A_(0,_33),\n",
       " (0, 34): A_(0,_34),\n",
       " (0, 35): A_(0,_35),\n",
       " (0, 36): A_(0,_36),\n",
       " (0, 37): A_(0,_37),\n",
       " (0, 38): A_(0,_38),\n",
       " (0, 39): A_(0,_39),\n",
       " (0, 40): A_(0,_40),\n",
       " (0, 41): A_(0,_41),\n",
       " (0, 42): A_(0,_42),\n",
       " (0, 43): A_(0,_43),\n",
       " (0, 44): A_(0,_44),\n",
       " (0, 45): A_(0,_45),\n",
       " (0, 46): A_(0,_46),\n",
       " (0, 47): A_(0,_47),\n",
       " (0, 48): A_(0,_48),\n",
       " (0, 49): A_(0,_49),\n",
       " (0, 50): A_(0,_50),\n",
       " (0, 51): A_(0,_51),\n",
       " (0, 52): A_(0,_52),\n",
       " (0, 53): A_(0,_53),\n",
       " (0, 54): A_(0,_54),\n",
       " (0, 55): A_(0,_55),\n",
       " (0, 56): A_(0,_56),\n",
       " (0, 57): A_(0,_57),\n",
       " (0, 58): A_(0,_58),\n",
       " (0, 59): A_(0,_59),\n",
       " (0, 60): A_(0,_60),\n",
       " (0, 61): A_(0,_61),\n",
       " (0, 62): A_(0,_62),\n",
       " (0, 63): A_(0,_63),\n",
       " (0, 64): A_(0,_64),\n",
       " (0, 65): A_(0,_65),\n",
       " (0, 66): A_(0,_66),\n",
       " (0, 67): A_(0,_67),\n",
       " (0, 68): A_(0,_68),\n",
       " (0, 69): A_(0,_69),\n",
       " (0, 70): A_(0,_70),\n",
       " (0, 71): A_(0,_71),\n",
       " (0, 72): A_(0,_72),\n",
       " (0, 73): A_(0,_73),\n",
       " (0, 74): A_(0,_74),\n",
       " (0, 75): A_(0,_75),\n",
       " (0, 76): A_(0,_76),\n",
       " (0, 77): A_(0,_77),\n",
       " (0, 78): A_(0,_78),\n",
       " (0, 79): A_(0,_79),\n",
       " (0, 80): A_(0,_80),\n",
       " (0, 81): A_(0,_81),\n",
       " (0, 82): A_(0,_82),\n",
       " (0, 83): A_(0,_83),\n",
       " (0, 84): A_(0,_84),\n",
       " (0, 85): A_(0,_85),\n",
       " (0, 86): A_(0,_86),\n",
       " (0, 87): A_(0,_87),\n",
       " (0, 88): A_(0,_88),\n",
       " (0, 89): A_(0,_89),\n",
       " (0, 90): A_(0,_90),\n",
       " (0, 91): A_(0,_91),\n",
       " (0, 92): A_(0,_92),\n",
       " (0, 93): A_(0,_93),\n",
       " (0, 94): A_(0,_94),\n",
       " (0, 95): A_(0,_95),\n",
       " (1, 0): A_(1,_0),\n",
       " (1, 1): A_(1,_1),\n",
       " (1, 2): A_(1,_2),\n",
       " (1, 3): A_(1,_3),\n",
       " (1, 4): A_(1,_4),\n",
       " (1, 5): A_(1,_5),\n",
       " (1, 6): A_(1,_6),\n",
       " (1, 7): A_(1,_7),\n",
       " (1, 8): A_(1,_8),\n",
       " (1, 9): A_(1,_9),\n",
       " (1, 10): A_(1,_10),\n",
       " (1, 11): A_(1,_11),\n",
       " (1, 12): A_(1,_12),\n",
       " (1, 13): A_(1,_13),\n",
       " (1, 14): A_(1,_14),\n",
       " (1, 15): A_(1,_15),\n",
       " (1, 16): A_(1,_16),\n",
       " (1, 17): A_(1,_17),\n",
       " (1, 18): A_(1,_18),\n",
       " (1, 19): A_(1,_19),\n",
       " (1, 20): A_(1,_20),\n",
       " (1, 21): A_(1,_21),\n",
       " (1, 22): A_(1,_22),\n",
       " (1, 23): A_(1,_23),\n",
       " (1, 24): A_(1,_24),\n",
       " (1, 25): A_(1,_25),\n",
       " (1, 26): A_(1,_26),\n",
       " (1, 27): A_(1,_27),\n",
       " (1, 28): A_(1,_28),\n",
       " (1, 29): A_(1,_29),\n",
       " (1, 30): A_(1,_30),\n",
       " (1, 31): A_(1,_31),\n",
       " (1, 32): A_(1,_32),\n",
       " (1, 33): A_(1,_33),\n",
       " (1, 34): A_(1,_34),\n",
       " (1, 35): A_(1,_35),\n",
       " (1, 36): A_(1,_36),\n",
       " (1, 37): A_(1,_37),\n",
       " (1, 38): A_(1,_38),\n",
       " (1, 39): A_(1,_39),\n",
       " (1, 40): A_(1,_40),\n",
       " (1, 41): A_(1,_41),\n",
       " (1, 42): A_(1,_42),\n",
       " (1, 43): A_(1,_43),\n",
       " (1, 44): A_(1,_44),\n",
       " (1, 45): A_(1,_45),\n",
       " (1, 46): A_(1,_46),\n",
       " (1, 47): A_(1,_47),\n",
       " (1, 48): A_(1,_48),\n",
       " (1, 49): A_(1,_49),\n",
       " (1, 50): A_(1,_50),\n",
       " (1, 51): A_(1,_51),\n",
       " (1, 52): A_(1,_52),\n",
       " (1, 53): A_(1,_53),\n",
       " (1, 54): A_(1,_54),\n",
       " (1, 55): A_(1,_55),\n",
       " (1, 56): A_(1,_56),\n",
       " (1, 57): A_(1,_57),\n",
       " (1, 58): A_(1,_58),\n",
       " (1, 59): A_(1,_59),\n",
       " (1, 60): A_(1,_60),\n",
       " (1, 61): A_(1,_61),\n",
       " (1, 62): A_(1,_62),\n",
       " (1, 63): A_(1,_63),\n",
       " (1, 64): A_(1,_64),\n",
       " (1, 65): A_(1,_65),\n",
       " (1, 66): A_(1,_66),\n",
       " (1, 67): A_(1,_67),\n",
       " (1, 68): A_(1,_68),\n",
       " (1, 69): A_(1,_69),\n",
       " (1, 70): A_(1,_70),\n",
       " (1, 71): A_(1,_71),\n",
       " (1, 72): A_(1,_72),\n",
       " (1, 73): A_(1,_73),\n",
       " (1, 74): A_(1,_74),\n",
       " (1, 75): A_(1,_75),\n",
       " (1, 76): A_(1,_76),\n",
       " (1, 77): A_(1,_77),\n",
       " (1, 78): A_(1,_78),\n",
       " (1, 79): A_(1,_79),\n",
       " (1, 80): A_(1,_80),\n",
       " (1, 81): A_(1,_81),\n",
       " (1, 82): A_(1,_82),\n",
       " (1, 83): A_(1,_83),\n",
       " (1, 84): A_(1,_84),\n",
       " (1, 85): A_(1,_85),\n",
       " (1, 86): A_(1,_86),\n",
       " (1, 87): A_(1,_87),\n",
       " (1, 88): A_(1,_88),\n",
       " (1, 89): A_(1,_89),\n",
       " (1, 90): A_(1,_90),\n",
       " (1, 91): A_(1,_91),\n",
       " (1, 92): A_(1,_92),\n",
       " (1, 93): A_(1,_93),\n",
       " (1, 94): A_(1,_94),\n",
       " (1, 95): A_(1,_95),\n",
       " (2, 0): A_(2,_0),\n",
       " (2, 1): A_(2,_1),\n",
       " (2, 2): A_(2,_2),\n",
       " (2, 3): A_(2,_3),\n",
       " (2, 4): A_(2,_4),\n",
       " (2, 5): A_(2,_5),\n",
       " (2, 6): A_(2,_6),\n",
       " (2, 7): A_(2,_7),\n",
       " (2, 8): A_(2,_8),\n",
       " (2, 9): A_(2,_9),\n",
       " (2, 10): A_(2,_10),\n",
       " (2, 11): A_(2,_11),\n",
       " (2, 12): A_(2,_12),\n",
       " (2, 13): A_(2,_13),\n",
       " (2, 14): A_(2,_14),\n",
       " (2, 15): A_(2,_15),\n",
       " (2, 16): A_(2,_16),\n",
       " (2, 17): A_(2,_17),\n",
       " (2, 18): A_(2,_18),\n",
       " (2, 19): A_(2,_19),\n",
       " (2, 20): A_(2,_20),\n",
       " (2, 21): A_(2,_21),\n",
       " (2, 22): A_(2,_22),\n",
       " (2, 23): A_(2,_23),\n",
       " (2, 24): A_(2,_24),\n",
       " (2, 25): A_(2,_25),\n",
       " (2, 26): A_(2,_26),\n",
       " (2, 27): A_(2,_27),\n",
       " (2, 28): A_(2,_28),\n",
       " (2, 29): A_(2,_29),\n",
       " (2, 30): A_(2,_30),\n",
       " (2, 31): A_(2,_31),\n",
       " (2, 32): A_(2,_32),\n",
       " (2, 33): A_(2,_33),\n",
       " (2, 34): A_(2,_34),\n",
       " (2, 35): A_(2,_35),\n",
       " (2, 36): A_(2,_36),\n",
       " (2, 37): A_(2,_37),\n",
       " (2, 38): A_(2,_38),\n",
       " (2, 39): A_(2,_39),\n",
       " (2, 40): A_(2,_40),\n",
       " (2, 41): A_(2,_41),\n",
       " (2, 42): A_(2,_42),\n",
       " (2, 43): A_(2,_43),\n",
       " (2, 44): A_(2,_44),\n",
       " (2, 45): A_(2,_45),\n",
       " (2, 46): A_(2,_46),\n",
       " (2, 47): A_(2,_47),\n",
       " (2, 48): A_(2,_48),\n",
       " (2, 49): A_(2,_49),\n",
       " (2, 50): A_(2,_50),\n",
       " (2, 51): A_(2,_51),\n",
       " (2, 52): A_(2,_52),\n",
       " (2, 53): A_(2,_53),\n",
       " (2, 54): A_(2,_54),\n",
       " (2, 55): A_(2,_55),\n",
       " (2, 56): A_(2,_56),\n",
       " (2, 57): A_(2,_57),\n",
       " (2, 58): A_(2,_58),\n",
       " (2, 59): A_(2,_59),\n",
       " (2, 60): A_(2,_60),\n",
       " (2, 61): A_(2,_61),\n",
       " (2, 62): A_(2,_62),\n",
       " (2, 63): A_(2,_63),\n",
       " (2, 64): A_(2,_64),\n",
       " (2, 65): A_(2,_65),\n",
       " (2, 66): A_(2,_66),\n",
       " (2, 67): A_(2,_67),\n",
       " (2, 68): A_(2,_68),\n",
       " (2, 69): A_(2,_69),\n",
       " (2, 70): A_(2,_70),\n",
       " (2, 71): A_(2,_71),\n",
       " (2, 72): A_(2,_72),\n",
       " (2, 73): A_(2,_73),\n",
       " (2, 74): A_(2,_74),\n",
       " (2, 75): A_(2,_75),\n",
       " (2, 76): A_(2,_76),\n",
       " (2, 77): A_(2,_77),\n",
       " (2, 78): A_(2,_78),\n",
       " (2, 79): A_(2,_79),\n",
       " (2, 80): A_(2,_80),\n",
       " (2, 81): A_(2,_81),\n",
       " (2, 82): A_(2,_82),\n",
       " (2, 83): A_(2,_83),\n",
       " (2, 84): A_(2,_84),\n",
       " (2, 85): A_(2,_85),\n",
       " (2, 86): A_(2,_86),\n",
       " (2, 87): A_(2,_87),\n",
       " (2, 88): A_(2,_88),\n",
       " (2, 89): A_(2,_89),\n",
       " (2, 90): A_(2,_90),\n",
       " (2, 91): A_(2,_91),\n",
       " (2, 92): A_(2,_92),\n",
       " (2, 93): A_(2,_93),\n",
       " (2, 94): A_(2,_94),\n",
       " (2, 95): A_(2,_95)}"
      ]
     },
     "execution_count": 197,
     "metadata": {},
     "output_type": "execute_result"
    }
   ],
   "source": [
    "pulp_variaveis = plp.LpVariable.dicts(\n",
    "    \"A\", \n",
    "    lista_variaveis, \n",
    "    lowBound=0,\n",
    "    cat=plp.LpInteger \n",
    ")\n",
    "\n",
    "pulp_variaveis"
   ]
  },
  {
   "cell_type": "code",
   "execution_count": 198,
   "id": "06004b3c",
   "metadata": {},
   "outputs": [
    {
     "name": "stdout",
     "output_type": "stream",
     "text": [
      "[540, 540, 540, 540, 540, 540, 540, 540, 540, 540, 680, 680, 680, 680, 680, 680, 680, 680, 680, 680, 960, 960, 960, 960, 960, 960, 960, 960, 960]\n"
     ]
    }
   ],
   "source": [
    "coeficientes = []\n",
    "for indice_regime, indice_periodo in lista_variaveis:\n",
    "    encargo = df_nad.loc[indice_regime, \"enc\"]\n",
    "    coeficientes.append(encargo)\n",
    "print(coeficientes[::10])"
   ]
  },
  {
   "cell_type": "code",
   "execution_count": 199,
   "id": "2fdc4a72",
   "metadata": {},
   "outputs": [
    {
     "data": {
      "text/plain": [
       "[540,\n",
       " 540,\n",
       " 540,\n",
       " 540,\n",
       " 540,\n",
       " 540,\n",
       " 540,\n",
       " 540,\n",
       " 540,\n",
       " 540,\n",
       " 540,\n",
       " 540,\n",
       " 540,\n",
       " 540,\n",
       " 540,\n",
       " 540,\n",
       " 540,\n",
       " 540,\n",
       " 540,\n",
       " 540,\n",
       " 540,\n",
       " 540,\n",
       " 540,\n",
       " 540,\n",
       " 540,\n",
       " 540,\n",
       " 540,\n",
       " 540,\n",
       " 540,\n",
       " 540,\n",
       " 540,\n",
       " 540,\n",
       " 540,\n",
       " 540,\n",
       " 540,\n",
       " 540,\n",
       " 540,\n",
       " 540,\n",
       " 540,\n",
       " 540,\n",
       " 540,\n",
       " 540,\n",
       " 540,\n",
       " 540,\n",
       " 540,\n",
       " 540,\n",
       " 540,\n",
       " 540,\n",
       " 540,\n",
       " 540,\n",
       " 540,\n",
       " 540,\n",
       " 540,\n",
       " 540,\n",
       " 540,\n",
       " 540,\n",
       " 540,\n",
       " 540,\n",
       " 540,\n",
       " 540,\n",
       " 540,\n",
       " 540,\n",
       " 540,\n",
       " 540,\n",
       " 540,\n",
       " 540,\n",
       " 540,\n",
       " 540,\n",
       " 540,\n",
       " 540,\n",
       " 540,\n",
       " 540,\n",
       " 540,\n",
       " 540,\n",
       " 540,\n",
       " 540,\n",
       " 540,\n",
       " 540,\n",
       " 540,\n",
       " 540,\n",
       " 540,\n",
       " 540,\n",
       " 540,\n",
       " 540,\n",
       " 540,\n",
       " 540,\n",
       " 540,\n",
       " 540,\n",
       " 540,\n",
       " 540,\n",
       " 540,\n",
       " 540,\n",
       " 540,\n",
       " 540,\n",
       " 540,\n",
       " 540,\n",
       " 680,\n",
       " 680,\n",
       " 680,\n",
       " 680,\n",
       " 680,\n",
       " 680,\n",
       " 680,\n",
       " 680,\n",
       " 680,\n",
       " 680,\n",
       " 680,\n",
       " 680,\n",
       " 680,\n",
       " 680,\n",
       " 680,\n",
       " 680,\n",
       " 680,\n",
       " 680,\n",
       " 680,\n",
       " 680,\n",
       " 680,\n",
       " 680,\n",
       " 680,\n",
       " 680,\n",
       " 680,\n",
       " 680,\n",
       " 680,\n",
       " 680,\n",
       " 680,\n",
       " 680,\n",
       " 680,\n",
       " 680,\n",
       " 680,\n",
       " 680,\n",
       " 680,\n",
       " 680,\n",
       " 680,\n",
       " 680,\n",
       " 680,\n",
       " 680,\n",
       " 680,\n",
       " 680,\n",
       " 680,\n",
       " 680,\n",
       " 680,\n",
       " 680,\n",
       " 680,\n",
       " 680,\n",
       " 680,\n",
       " 680,\n",
       " 680,\n",
       " 680,\n",
       " 680,\n",
       " 680,\n",
       " 680,\n",
       " 680,\n",
       " 680,\n",
       " 680,\n",
       " 680,\n",
       " 680,\n",
       " 680,\n",
       " 680,\n",
       " 680,\n",
       " 680,\n",
       " 680,\n",
       " 680,\n",
       " 680,\n",
       " 680,\n",
       " 680,\n",
       " 680,\n",
       " 680,\n",
       " 680,\n",
       " 680,\n",
       " 680,\n",
       " 680,\n",
       " 680,\n",
       " 680,\n",
       " 680,\n",
       " 680,\n",
       " 680,\n",
       " 680,\n",
       " 680,\n",
       " 680,\n",
       " 680,\n",
       " 680,\n",
       " 680,\n",
       " 680,\n",
       " 680,\n",
       " 680,\n",
       " 680,\n",
       " 680,\n",
       " 680,\n",
       " 680,\n",
       " 680,\n",
       " 680,\n",
       " 680,\n",
       " 960,\n",
       " 960,\n",
       " 960,\n",
       " 960,\n",
       " 960,\n",
       " 960,\n",
       " 960,\n",
       " 960,\n",
       " 960,\n",
       " 960,\n",
       " 960,\n",
       " 960,\n",
       " 960,\n",
       " 960,\n",
       " 960,\n",
       " 960,\n",
       " 960,\n",
       " 960,\n",
       " 960,\n",
       " 960,\n",
       " 960,\n",
       " 960,\n",
       " 960,\n",
       " 960,\n",
       " 960,\n",
       " 960,\n",
       " 960,\n",
       " 960,\n",
       " 960,\n",
       " 960,\n",
       " 960,\n",
       " 960,\n",
       " 960,\n",
       " 960,\n",
       " 960,\n",
       " 960,\n",
       " 960,\n",
       " 960,\n",
       " 960,\n",
       " 960,\n",
       " 960,\n",
       " 960,\n",
       " 960,\n",
       " 960,\n",
       " 960,\n",
       " 960,\n",
       " 960,\n",
       " 960,\n",
       " 960,\n",
       " 960,\n",
       " 960,\n",
       " 960,\n",
       " 960,\n",
       " 960,\n",
       " 960,\n",
       " 960,\n",
       " 960,\n",
       " 960,\n",
       " 960,\n",
       " 960,\n",
       " 960,\n",
       " 960,\n",
       " 960,\n",
       " 960,\n",
       " 960,\n",
       " 960,\n",
       " 960,\n",
       " 960,\n",
       " 960,\n",
       " 960,\n",
       " 960,\n",
       " 960,\n",
       " 960,\n",
       " 960,\n",
       " 960,\n",
       " 960,\n",
       " 960,\n",
       " 960,\n",
       " 960,\n",
       " 960,\n",
       " 960,\n",
       " 960,\n",
       " 960,\n",
       " 960,\n",
       " 960,\n",
       " 960,\n",
       " 960,\n",
       " 960,\n",
       " 960,\n",
       " 960,\n",
       " 960,\n",
       " 960,\n",
       " 960,\n",
       " 960,\n",
       " 960,\n",
       " 960]"
      ]
     },
     "execution_count": 199,
     "metadata": {},
     "output_type": "execute_result"
    }
   ],
   "source": [
    "coeficientes"
   ]
  },
  {
   "cell_type": "code",
   "execution_count": 200,
   "id": "d7e01653",
   "metadata": {},
   "outputs": [
    {
     "data": {
      "text/plain": [
       "Attentus:\n",
       "MINIMIZE\n",
       "540*A_(0,_0) + 540*A_(0,_1) + 540*A_(0,_10) + 540*A_(0,_11) + 540*A_(0,_12) + 540*A_(0,_13) + 540*A_(0,_14) + 540*A_(0,_15) + 540*A_(0,_16) + 540*A_(0,_17) + 540*A_(0,_18) + 540*A_(0,_19) + 540*A_(0,_2) + 540*A_(0,_20) + 540*A_(0,_21) + 540*A_(0,_22) + 540*A_(0,_23) + 540*A_(0,_24) + 540*A_(0,_25) + 540*A_(0,_26) + 540*A_(0,_27) + 540*A_(0,_28) + 540*A_(0,_29) + 540*A_(0,_3) + 540*A_(0,_30) + 540*A_(0,_31) + 540*A_(0,_32) + 540*A_(0,_33) + 540*A_(0,_34) + 540*A_(0,_35) + 540*A_(0,_36) + 540*A_(0,_37) + 540*A_(0,_38) + 540*A_(0,_39) + 540*A_(0,_4) + 540*A_(0,_40) + 540*A_(0,_41) + 540*A_(0,_42) + 540*A_(0,_43) + 540*A_(0,_44) + 540*A_(0,_45) + 540*A_(0,_46) + 540*A_(0,_47) + 540*A_(0,_48) + 540*A_(0,_49) + 540*A_(0,_5) + 540*A_(0,_50) + 540*A_(0,_51) + 540*A_(0,_52) + 540*A_(0,_53) + 540*A_(0,_54) + 540*A_(0,_55) + 540*A_(0,_56) + 540*A_(0,_57) + 540*A_(0,_58) + 540*A_(0,_59) + 540*A_(0,_6) + 540*A_(0,_60) + 540*A_(0,_61) + 540*A_(0,_62) + 540*A_(0,_63) + 540*A_(0,_64) + 540*A_(0,_65) + 540*A_(0,_66) + 540*A_(0,_67) + 540*A_(0,_68) + 540*A_(0,_69) + 540*A_(0,_7) + 540*A_(0,_70) + 540*A_(0,_71) + 540*A_(0,_72) + 540*A_(0,_73) + 540*A_(0,_74) + 540*A_(0,_75) + 540*A_(0,_76) + 540*A_(0,_77) + 540*A_(0,_78) + 540*A_(0,_79) + 540*A_(0,_8) + 540*A_(0,_80) + 540*A_(0,_81) + 540*A_(0,_82) + 540*A_(0,_83) + 540*A_(0,_84) + 540*A_(0,_85) + 540*A_(0,_86) + 540*A_(0,_87) + 540*A_(0,_88) + 540*A_(0,_89) + 540*A_(0,_9) + 540*A_(0,_90) + 540*A_(0,_91) + 540*A_(0,_92) + 540*A_(0,_93) + 540*A_(0,_94) + 540*A_(0,_95) + 680*A_(1,_0) + 680*A_(1,_1) + 680*A_(1,_10) + 680*A_(1,_11) + 680*A_(1,_12) + 680*A_(1,_13) + 680*A_(1,_14) + 680*A_(1,_15) + 680*A_(1,_16) + 680*A_(1,_17) + 680*A_(1,_18) + 680*A_(1,_19) + 680*A_(1,_2) + 680*A_(1,_20) + 680*A_(1,_21) + 680*A_(1,_22) + 680*A_(1,_23) + 680*A_(1,_24) + 680*A_(1,_25) + 680*A_(1,_26) + 680*A_(1,_27) + 680*A_(1,_28) + 680*A_(1,_29) + 680*A_(1,_3) + 680*A_(1,_30) + 680*A_(1,_31) + 680*A_(1,_32) + 680*A_(1,_33) + 680*A_(1,_34) + 680*A_(1,_35) + 680*A_(1,_36) + 680*A_(1,_37) + 680*A_(1,_38) + 680*A_(1,_39) + 680*A_(1,_4) + 680*A_(1,_40) + 680*A_(1,_41) + 680*A_(1,_42) + 680*A_(1,_43) + 680*A_(1,_44) + 680*A_(1,_45) + 680*A_(1,_46) + 680*A_(1,_47) + 680*A_(1,_48) + 680*A_(1,_49) + 680*A_(1,_5) + 680*A_(1,_50) + 680*A_(1,_51) + 680*A_(1,_52) + 680*A_(1,_53) + 680*A_(1,_54) + 680*A_(1,_55) + 680*A_(1,_56) + 680*A_(1,_57) + 680*A_(1,_58) + 680*A_(1,_59) + 680*A_(1,_6) + 680*A_(1,_60) + 680*A_(1,_61) + 680*A_(1,_62) + 680*A_(1,_63) + 680*A_(1,_64) + 680*A_(1,_65) + 680*A_(1,_66) + 680*A_(1,_67) + 680*A_(1,_68) + 680*A_(1,_69) + 680*A_(1,_7) + 680*A_(1,_70) + 680*A_(1,_71) + 680*A_(1,_72) + 680*A_(1,_73) + 680*A_(1,_74) + 680*A_(1,_75) + 680*A_(1,_76) + 680*A_(1,_77) + 680*A_(1,_78) + 680*A_(1,_79) + 680*A_(1,_8) + 680*A_(1,_80) + 680*A_(1,_81) + 680*A_(1,_82) + 680*A_(1,_83) + 680*A_(1,_84) + 680*A_(1,_85) + 680*A_(1,_86) + 680*A_(1,_87) + 680*A_(1,_88) + 680*A_(1,_89) + 680*A_(1,_9) + 680*A_(1,_90) + 680*A_(1,_91) + 680*A_(1,_92) + 680*A_(1,_93) + 680*A_(1,_94) + 680*A_(1,_95) + 960*A_(2,_0) + 960*A_(2,_1) + 960*A_(2,_10) + 960*A_(2,_11) + 960*A_(2,_12) + 960*A_(2,_13) + 960*A_(2,_14) + 960*A_(2,_15) + 960*A_(2,_16) + 960*A_(2,_17) + 960*A_(2,_18) + 960*A_(2,_19) + 960*A_(2,_2) + 960*A_(2,_20) + 960*A_(2,_21) + 960*A_(2,_22) + 960*A_(2,_23) + 960*A_(2,_24) + 960*A_(2,_25) + 960*A_(2,_26) + 960*A_(2,_27) + 960*A_(2,_28) + 960*A_(2,_29) + 960*A_(2,_3) + 960*A_(2,_30) + 960*A_(2,_31) + 960*A_(2,_32) + 960*A_(2,_33) + 960*A_(2,_34) + 960*A_(2,_35) + 960*A_(2,_36) + 960*A_(2,_37) + 960*A_(2,_38) + 960*A_(2,_39) + 960*A_(2,_4) + 960*A_(2,_40) + 960*A_(2,_41) + 960*A_(2,_42) + 960*A_(2,_43) + 960*A_(2,_44) + 960*A_(2,_45) + 960*A_(2,_46) + 960*A_(2,_47) + 960*A_(2,_48) + 960*A_(2,_49) + 960*A_(2,_5) + 960*A_(2,_50) + 960*A_(2,_51) + 960*A_(2,_52) + 960*A_(2,_53) + 960*A_(2,_54) + 960*A_(2,_55) + 960*A_(2,_56) + 960*A_(2,_57) + 960*A_(2,_58) + 960*A_(2,_59) + 960*A_(2,_6) + 960*A_(2,_60) + 960*A_(2,_61) + 960*A_(2,_62) + 960*A_(2,_63) + 960*A_(2,_64) + 960*A_(2,_65) + 960*A_(2,_66) + 960*A_(2,_67) + 960*A_(2,_68) + 960*A_(2,_69) + 960*A_(2,_7) + 960*A_(2,_70) + 960*A_(2,_71) + 960*A_(2,_72) + 960*A_(2,_73) + 960*A_(2,_74) + 960*A_(2,_75) + 960*A_(2,_76) + 960*A_(2,_77) + 960*A_(2,_78) + 960*A_(2,_79) + 960*A_(2,_8) + 960*A_(2,_80) + 960*A_(2,_81) + 960*A_(2,_82) + 960*A_(2,_83) + 960*A_(2,_84) + 960*A_(2,_85) + 960*A_(2,_86) + 960*A_(2,_87) + 960*A_(2,_88) + 960*A_(2,_89) + 960*A_(2,_9) + 960*A_(2,_90) + 960*A_(2,_91) + 960*A_(2,_92) + 960*A_(2,_93) + 960*A_(2,_94) + 960*A_(2,_95) + 0.0\n",
       "VARIABLES\n",
       "0 <= A_(0,_0) Integer\n",
       "0 <= A_(0,_1) Integer\n",
       "0 <= A_(0,_10) Integer\n",
       "0 <= A_(0,_11) Integer\n",
       "0 <= A_(0,_12) Integer\n",
       "0 <= A_(0,_13) Integer\n",
       "0 <= A_(0,_14) Integer\n",
       "0 <= A_(0,_15) Integer\n",
       "0 <= A_(0,_16) Integer\n",
       "0 <= A_(0,_17) Integer\n",
       "0 <= A_(0,_18) Integer\n",
       "0 <= A_(0,_19) Integer\n",
       "0 <= A_(0,_2) Integer\n",
       "0 <= A_(0,_20) Integer\n",
       "0 <= A_(0,_21) Integer\n",
       "0 <= A_(0,_22) Integer\n",
       "0 <= A_(0,_23) Integer\n",
       "0 <= A_(0,_24) Integer\n",
       "0 <= A_(0,_25) Integer\n",
       "0 <= A_(0,_26) Integer\n",
       "0 <= A_(0,_27) Integer\n",
       "0 <= A_(0,_28) Integer\n",
       "0 <= A_(0,_29) Integer\n",
       "0 <= A_(0,_3) Integer\n",
       "0 <= A_(0,_30) Integer\n",
       "0 <= A_(0,_31) Integer\n",
       "0 <= A_(0,_32) Integer\n",
       "0 <= A_(0,_33) Integer\n",
       "0 <= A_(0,_34) Integer\n",
       "0 <= A_(0,_35) Integer\n",
       "0 <= A_(0,_36) Integer\n",
       "0 <= A_(0,_37) Integer\n",
       "0 <= A_(0,_38) Integer\n",
       "0 <= A_(0,_39) Integer\n",
       "0 <= A_(0,_4) Integer\n",
       "0 <= A_(0,_40) Integer\n",
       "0 <= A_(0,_41) Integer\n",
       "0 <= A_(0,_42) Integer\n",
       "0 <= A_(0,_43) Integer\n",
       "0 <= A_(0,_44) Integer\n",
       "0 <= A_(0,_45) Integer\n",
       "0 <= A_(0,_46) Integer\n",
       "0 <= A_(0,_47) Integer\n",
       "0 <= A_(0,_48) Integer\n",
       "0 <= A_(0,_49) Integer\n",
       "0 <= A_(0,_5) Integer\n",
       "0 <= A_(0,_50) Integer\n",
       "0 <= A_(0,_51) Integer\n",
       "0 <= A_(0,_52) Integer\n",
       "0 <= A_(0,_53) Integer\n",
       "0 <= A_(0,_54) Integer\n",
       "0 <= A_(0,_55) Integer\n",
       "0 <= A_(0,_56) Integer\n",
       "0 <= A_(0,_57) Integer\n",
       "0 <= A_(0,_58) Integer\n",
       "0 <= A_(0,_59) Integer\n",
       "0 <= A_(0,_6) Integer\n",
       "0 <= A_(0,_60) Integer\n",
       "0 <= A_(0,_61) Integer\n",
       "0 <= A_(0,_62) Integer\n",
       "0 <= A_(0,_63) Integer\n",
       "0 <= A_(0,_64) Integer\n",
       "0 <= A_(0,_65) Integer\n",
       "0 <= A_(0,_66) Integer\n",
       "0 <= A_(0,_67) Integer\n",
       "0 <= A_(0,_68) Integer\n",
       "0 <= A_(0,_69) Integer\n",
       "0 <= A_(0,_7) Integer\n",
       "0 <= A_(0,_70) Integer\n",
       "0 <= A_(0,_71) Integer\n",
       "0 <= A_(0,_72) Integer\n",
       "0 <= A_(0,_73) Integer\n",
       "0 <= A_(0,_74) Integer\n",
       "0 <= A_(0,_75) Integer\n",
       "0 <= A_(0,_76) Integer\n",
       "0 <= A_(0,_77) Integer\n",
       "0 <= A_(0,_78) Integer\n",
       "0 <= A_(0,_79) Integer\n",
       "0 <= A_(0,_8) Integer\n",
       "0 <= A_(0,_80) Integer\n",
       "0 <= A_(0,_81) Integer\n",
       "0 <= A_(0,_82) Integer\n",
       "0 <= A_(0,_83) Integer\n",
       "0 <= A_(0,_84) Integer\n",
       "0 <= A_(0,_85) Integer\n",
       "0 <= A_(0,_86) Integer\n",
       "0 <= A_(0,_87) Integer\n",
       "0 <= A_(0,_88) Integer\n",
       "0 <= A_(0,_89) Integer\n",
       "0 <= A_(0,_9) Integer\n",
       "0 <= A_(0,_90) Integer\n",
       "0 <= A_(0,_91) Integer\n",
       "0 <= A_(0,_92) Integer\n",
       "0 <= A_(0,_93) Integer\n",
       "0 <= A_(0,_94) Integer\n",
       "0 <= A_(0,_95) Integer\n",
       "0 <= A_(1,_0) Integer\n",
       "0 <= A_(1,_1) Integer\n",
       "0 <= A_(1,_10) Integer\n",
       "0 <= A_(1,_11) Integer\n",
       "0 <= A_(1,_12) Integer\n",
       "0 <= A_(1,_13) Integer\n",
       "0 <= A_(1,_14) Integer\n",
       "0 <= A_(1,_15) Integer\n",
       "0 <= A_(1,_16) Integer\n",
       "0 <= A_(1,_17) Integer\n",
       "0 <= A_(1,_18) Integer\n",
       "0 <= A_(1,_19) Integer\n",
       "0 <= A_(1,_2) Integer\n",
       "0 <= A_(1,_20) Integer\n",
       "0 <= A_(1,_21) Integer\n",
       "0 <= A_(1,_22) Integer\n",
       "0 <= A_(1,_23) Integer\n",
       "0 <= A_(1,_24) Integer\n",
       "0 <= A_(1,_25) Integer\n",
       "0 <= A_(1,_26) Integer\n",
       "0 <= A_(1,_27) Integer\n",
       "0 <= A_(1,_28) Integer\n",
       "0 <= A_(1,_29) Integer\n",
       "0 <= A_(1,_3) Integer\n",
       "0 <= A_(1,_30) Integer\n",
       "0 <= A_(1,_31) Integer\n",
       "0 <= A_(1,_32) Integer\n",
       "0 <= A_(1,_33) Integer\n",
       "0 <= A_(1,_34) Integer\n",
       "0 <= A_(1,_35) Integer\n",
       "0 <= A_(1,_36) Integer\n",
       "0 <= A_(1,_37) Integer\n",
       "0 <= A_(1,_38) Integer\n",
       "0 <= A_(1,_39) Integer\n",
       "0 <= A_(1,_4) Integer\n",
       "0 <= A_(1,_40) Integer\n",
       "0 <= A_(1,_41) Integer\n",
       "0 <= A_(1,_42) Integer\n",
       "0 <= A_(1,_43) Integer\n",
       "0 <= A_(1,_44) Integer\n",
       "0 <= A_(1,_45) Integer\n",
       "0 <= A_(1,_46) Integer\n",
       "0 <= A_(1,_47) Integer\n",
       "0 <= A_(1,_48) Integer\n",
       "0 <= A_(1,_49) Integer\n",
       "0 <= A_(1,_5) Integer\n",
       "0 <= A_(1,_50) Integer\n",
       "0 <= A_(1,_51) Integer\n",
       "0 <= A_(1,_52) Integer\n",
       "0 <= A_(1,_53) Integer\n",
       "0 <= A_(1,_54) Integer\n",
       "0 <= A_(1,_55) Integer\n",
       "0 <= A_(1,_56) Integer\n",
       "0 <= A_(1,_57) Integer\n",
       "0 <= A_(1,_58) Integer\n",
       "0 <= A_(1,_59) Integer\n",
       "0 <= A_(1,_6) Integer\n",
       "0 <= A_(1,_60) Integer\n",
       "0 <= A_(1,_61) Integer\n",
       "0 <= A_(1,_62) Integer\n",
       "0 <= A_(1,_63) Integer\n",
       "0 <= A_(1,_64) Integer\n",
       "0 <= A_(1,_65) Integer\n",
       "0 <= A_(1,_66) Integer\n",
       "0 <= A_(1,_67) Integer\n",
       "0 <= A_(1,_68) Integer\n",
       "0 <= A_(1,_69) Integer\n",
       "0 <= A_(1,_7) Integer\n",
       "0 <= A_(1,_70) Integer\n",
       "0 <= A_(1,_71) Integer\n",
       "0 <= A_(1,_72) Integer\n",
       "0 <= A_(1,_73) Integer\n",
       "0 <= A_(1,_74) Integer\n",
       "0 <= A_(1,_75) Integer\n",
       "0 <= A_(1,_76) Integer\n",
       "0 <= A_(1,_77) Integer\n",
       "0 <= A_(1,_78) Integer\n",
       "0 <= A_(1,_79) Integer\n",
       "0 <= A_(1,_8) Integer\n",
       "0 <= A_(1,_80) Integer\n",
       "0 <= A_(1,_81) Integer\n",
       "0 <= A_(1,_82) Integer\n",
       "0 <= A_(1,_83) Integer\n",
       "0 <= A_(1,_84) Integer\n",
       "0 <= A_(1,_85) Integer\n",
       "0 <= A_(1,_86) Integer\n",
       "0 <= A_(1,_87) Integer\n",
       "0 <= A_(1,_88) Integer\n",
       "0 <= A_(1,_89) Integer\n",
       "0 <= A_(1,_9) Integer\n",
       "0 <= A_(1,_90) Integer\n",
       "0 <= A_(1,_91) Integer\n",
       "0 <= A_(1,_92) Integer\n",
       "0 <= A_(1,_93) Integer\n",
       "0 <= A_(1,_94) Integer\n",
       "0 <= A_(1,_95) Integer\n",
       "0 <= A_(2,_0) Integer\n",
       "0 <= A_(2,_1) Integer\n",
       "0 <= A_(2,_10) Integer\n",
       "0 <= A_(2,_11) Integer\n",
       "0 <= A_(2,_12) Integer\n",
       "0 <= A_(2,_13) Integer\n",
       "0 <= A_(2,_14) Integer\n",
       "0 <= A_(2,_15) Integer\n",
       "0 <= A_(2,_16) Integer\n",
       "0 <= A_(2,_17) Integer\n",
       "0 <= A_(2,_18) Integer\n",
       "0 <= A_(2,_19) Integer\n",
       "0 <= A_(2,_2) Integer\n",
       "0 <= A_(2,_20) Integer\n",
       "0 <= A_(2,_21) Integer\n",
       "0 <= A_(2,_22) Integer\n",
       "0 <= A_(2,_23) Integer\n",
       "0 <= A_(2,_24) Integer\n",
       "0 <= A_(2,_25) Integer\n",
       "0 <= A_(2,_26) Integer\n",
       "0 <= A_(2,_27) Integer\n",
       "0 <= A_(2,_28) Integer\n",
       "0 <= A_(2,_29) Integer\n",
       "0 <= A_(2,_3) Integer\n",
       "0 <= A_(2,_30) Integer\n",
       "0 <= A_(2,_31) Integer\n",
       "0 <= A_(2,_32) Integer\n",
       "0 <= A_(2,_33) Integer\n",
       "0 <= A_(2,_34) Integer\n",
       "0 <= A_(2,_35) Integer\n",
       "0 <= A_(2,_36) Integer\n",
       "0 <= A_(2,_37) Integer\n",
       "0 <= A_(2,_38) Integer\n",
       "0 <= A_(2,_39) Integer\n",
       "0 <= A_(2,_4) Integer\n",
       "0 <= A_(2,_40) Integer\n",
       "0 <= A_(2,_41) Integer\n",
       "0 <= A_(2,_42) Integer\n",
       "0 <= A_(2,_43) Integer\n",
       "0 <= A_(2,_44) Integer\n",
       "0 <= A_(2,_45) Integer\n",
       "0 <= A_(2,_46) Integer\n",
       "0 <= A_(2,_47) Integer\n",
       "0 <= A_(2,_48) Integer\n",
       "0 <= A_(2,_49) Integer\n",
       "0 <= A_(2,_5) Integer\n",
       "0 <= A_(2,_50) Integer\n",
       "0 <= A_(2,_51) Integer\n",
       "0 <= A_(2,_52) Integer\n",
       "0 <= A_(2,_53) Integer\n",
       "0 <= A_(2,_54) Integer\n",
       "0 <= A_(2,_55) Integer\n",
       "0 <= A_(2,_56) Integer\n",
       "0 <= A_(2,_57) Integer\n",
       "0 <= A_(2,_58) Integer\n",
       "0 <= A_(2,_59) Integer\n",
       "0 <= A_(2,_6) Integer\n",
       "0 <= A_(2,_60) Integer\n",
       "0 <= A_(2,_61) Integer\n",
       "0 <= A_(2,_62) Integer\n",
       "0 <= A_(2,_63) Integer\n",
       "0 <= A_(2,_64) Integer\n",
       "0 <= A_(2,_65) Integer\n",
       "0 <= A_(2,_66) Integer\n",
       "0 <= A_(2,_67) Integer\n",
       "0 <= A_(2,_68) Integer\n",
       "0 <= A_(2,_69) Integer\n",
       "0 <= A_(2,_7) Integer\n",
       "0 <= A_(2,_70) Integer\n",
       "0 <= A_(2,_71) Integer\n",
       "0 <= A_(2,_72) Integer\n",
       "0 <= A_(2,_73) Integer\n",
       "0 <= A_(2,_74) Integer\n",
       "0 <= A_(2,_75) Integer\n",
       "0 <= A_(2,_76) Integer\n",
       "0 <= A_(2,_77) Integer\n",
       "0 <= A_(2,_78) Integer\n",
       "0 <= A_(2,_79) Integer\n",
       "0 <= A_(2,_8) Integer\n",
       "0 <= A_(2,_80) Integer\n",
       "0 <= A_(2,_81) Integer\n",
       "0 <= A_(2,_82) Integer\n",
       "0 <= A_(2,_83) Integer\n",
       "0 <= A_(2,_84) Integer\n",
       "0 <= A_(2,_85) Integer\n",
       "0 <= A_(2,_86) Integer\n",
       "0 <= A_(2,_87) Integer\n",
       "0 <= A_(2,_88) Integer\n",
       "0 <= A_(2,_89) Integer\n",
       "0 <= A_(2,_9) Integer\n",
       "0 <= A_(2,_90) Integer\n",
       "0 <= A_(2,_91) Integer\n",
       "0 <= A_(2,_92) Integer\n",
       "0 <= A_(2,_93) Integer\n",
       "0 <= A_(2,_94) Integer\n",
       "0 <= A_(2,_95) Integer"
      ]
     },
     "execution_count": 200,
     "metadata": {},
     "output_type": "execute_result"
    }
   ],
   "source": [
    "fo = plp.lpSum(\n",
    "    [coef * pulp_variaveis[var] \n",
    "     for coef, var in zip(coeficientes, lista_variaveis)]\n",
    ")\n",
    "prob += fo, \"custo\"\n",
    "prob"
   ]
  },
  {
   "cell_type": "code",
   "execution_count": 201,
   "id": "2f4dc6da",
   "metadata": {},
   "outputs": [
    {
     "data": {
      "text/plain": [
       "288"
      ]
     },
     "execution_count": 201,
     "metadata": {},
     "output_type": "execute_result"
    }
   ],
   "source": [
    "prob.numVariables()"
   ]
  },
  {
   "cell_type": "code",
   "execution_count": 202,
   "id": "6a305efd",
   "metadata": {},
   "outputs": [
    {
     "data": {
      "text/plain": [
       "0"
      ]
     },
     "execution_count": 202,
     "metadata": {},
     "output_type": "execute_result"
    }
   ],
   "source": [
    "prob.numConstraints()"
   ]
  },
  {
   "cell_type": "code",
   "execution_count": 203,
   "id": "acc8b787",
   "metadata": {},
   "outputs": [],
   "source": [
    "janela = 3"
   ]
  },
  {
   "cell_type": "code",
   "execution_count": 204,
   "id": "67c223c8",
   "metadata": {},
   "outputs": [],
   "source": [
    "lista = [0,1,2,3,4,5,6,7]"
   ]
  },
  {
   "cell_type": "code",
   "execution_count": 205,
   "id": "d19a3cc3",
   "metadata": {},
   "outputs": [
    {
     "data": {
      "text/plain": [
       "[0, 1, 2]"
      ]
     },
     "execution_count": 205,
     "metadata": {},
     "output_type": "execute_result"
    }
   ],
   "source": [
    "# j = 2\n",
    "lista[0:3]"
   ]
  },
  {
   "cell_type": "code",
   "execution_count": 206,
   "id": "d19df0cb",
   "metadata": {},
   "outputs": [
    {
     "data": {
      "text/plain": [
       "[1, 2, 3]"
      ]
     },
     "execution_count": 206,
     "metadata": {},
     "output_type": "execute_result"
    }
   ],
   "source": [
    "# j = 3\n",
    "lista[1:4]"
   ]
  },
  {
   "cell_type": "code",
   "execution_count": 207,
   "id": "42caa603",
   "metadata": {},
   "outputs": [
    {
     "data": {
      "text/plain": [
       "[2, 3, 4]"
      ]
     },
     "execution_count": 207,
     "metadata": {},
     "output_type": "execute_result"
    }
   ],
   "source": [
    "# j = 4\n",
    "lista[2:5]"
   ]
  },
  {
   "cell_type": "code",
   "execution_count": 208,
   "id": "6d866cd2",
   "metadata": {},
   "outputs": [
    {
     "data": {
      "text/plain": [
       "[3, 4, 5]"
      ]
     },
     "execution_count": 208,
     "metadata": {},
     "output_type": "execute_result"
    }
   ],
   "source": [
    "# j = 5\n",
    "lista[3:6]"
   ]
  },
  {
   "cell_type": "code",
   "execution_count": 209,
   "id": "85624ec8",
   "metadata": {},
   "outputs": [
    {
     "data": {
      "text/plain": [
       "[4, 5, 6]"
      ]
     },
     "execution_count": 209,
     "metadata": {},
     "output_type": "execute_result"
    }
   ],
   "source": [
    "# j = 6\n",
    "lista[4:7]"
   ]
  },
  {
   "cell_type": "code",
   "execution_count": 210,
   "id": "8ff907ed",
   "metadata": {},
   "outputs": [
    {
     "data": {
      "text/plain": [
       "[5, 6, 7]"
      ]
     },
     "execution_count": 210,
     "metadata": {},
     "output_type": "execute_result"
    }
   ],
   "source": [
    "# j = 7\n",
    "lista[5:8]"
   ]
  },
  {
   "cell_type": "code",
   "execution_count": 211,
   "id": "c3cad73c",
   "metadata": {},
   "outputs": [
    {
     "data": {
      "text/plain": [
       "[6, 7]"
      ]
     },
     "execution_count": 211,
     "metadata": {},
     "output_type": "execute_result"
    }
   ],
   "source": [
    "# j = 7\n",
    "lista[6:9]"
   ]
  },
  {
   "cell_type": "code",
   "execution_count": 212,
   "id": "711b4382",
   "metadata": {},
   "outputs": [
    {
     "name": "stdout",
     "output_type": "stream",
     "text": [
      "[0, 1, 2]\n",
      "[1, 2, 3]\n",
      "[2, 3, 4]\n",
      "[3, 4, 5]\n",
      "[4, 5, 6]\n",
      "[5, 6, 7]\n"
     ]
    }
   ],
   "source": [
    "print(lista[0:3])\n",
    "print(lista[1:4])\n",
    "print(lista[2:5])\n",
    "print(lista[3:6])\n",
    "print(lista[4:7])\n",
    "print(lista[5:8])"
   ]
  },
  {
   "cell_type": "code",
   "execution_count": 213,
   "id": "a68abadc",
   "metadata": {},
   "outputs": [
    {
     "name": "stdout",
     "output_type": "stream",
     "text": [
      "[6, 7, 0]\n"
     ]
    }
   ],
   "source": [
    "print(lista[-2:] + lista[:1])"
   ]
  },
  {
   "cell_type": "code",
   "execution_count": 214,
   "id": "fb92695f",
   "metadata": {},
   "outputs": [
    {
     "data": {
      "text/plain": [
       "[7, 0, 1]"
      ]
     },
     "execution_count": 214,
     "metadata": {},
     "output_type": "execute_result"
    }
   ],
   "source": [
    "lista[-1:] + lista[:2]"
   ]
  },
  {
   "cell_type": "code",
   "execution_count": 215,
   "id": "1046d155",
   "metadata": {},
   "outputs": [
    {
     "data": {
      "text/plain": [
       "[7, 0, 1]"
      ]
     },
     "execution_count": 215,
     "metadata": {},
     "output_type": "execute_result"
    }
   ],
   "source": [
    "lista[-1:] + lista[:2]"
   ]
  },
  {
   "cell_type": "code",
   "execution_count": 216,
   "id": "4aee0cce",
   "metadata": {},
   "outputs": [
    {
     "name": "stdout",
     "output_type": "stream",
     "text": [
      "[6, 7, 0]\n",
      "[7, 0, 1]\n",
      "[0, 1, 2]\n",
      "[1, 2, 3]\n",
      "[2, 3, 4]\n",
      "[3, 4, 5]\n",
      "[4, 5, 6]\n",
      "[5, 6, 7]\n"
     ]
    }
   ],
   "source": [
    "print(lista[-2:] + lista[:1])\n",
    "print(lista[-1:] + lista[:2])\n",
    "print(lista[0:3])\n",
    "print(lista[1:4])\n",
    "print(lista[2:5])\n",
    "print(lista[3:6])\n",
    "print(lista[4:7])\n",
    "print(lista[5:8])\n"
   ]
  },
  {
   "cell_type": "code",
   "execution_count": 217,
   "id": "129fa5bf",
   "metadata": {},
   "outputs": [
    {
     "name": "stdout",
     "output_type": "stream",
     "text": [
      "[0, 1, 2]\n",
      "[1, 2, 3]\n",
      "[2, 3, 4]\n",
      "[3, 4, 5]\n",
      "[4, 5, 6]\n",
      "[5, 6, 7]\n"
     ]
    }
   ],
   "source": [
    "print(lista[2-3+1:2+1])   #j = 2, jan = 3\n",
    "print(lista[3-3+1:3+1])   #j = 3, jan = 3\n",
    "print(lista[4-3+1:4+1])   #j = 4, jan = 3\n",
    "print(lista[5-3+1:5+1])   #j = 5, jan = 3\n",
    "print(lista[6-3+1:6+1])   #j = 6, jan = 3\n",
    "print(lista[7-3+1:7+1])   #j = 7, jan = 3"
   ]
  },
  {
   "cell_type": "code",
   "execution_count": 218,
   "id": "1eb887cb",
   "metadata": {},
   "outputs": [
    {
     "name": "stdout",
     "output_type": "stream",
     "text": [
      "[6, 7, 0]\n",
      "[7, 0, 1]\n"
     ]
    }
   ],
   "source": [
    "print(lista[0-3+1:] + lista[:0+1])   #j = 0, jan = 3\n",
    "print(lista[1-3+1:] + lista[:1+1])   #j = 1, jan = 3"
   ]
  },
  {
   "cell_type": "code",
   "execution_count": 219,
   "id": "651c5153",
   "metadata": {},
   "outputs": [
    {
     "name": "stdout",
     "output_type": "stream",
     "text": [
      "[6, 7, 0]\n",
      "[7, 0, 1]\n",
      "[0, 1, 2]\n",
      "[1, 2, 3]\n",
      "[2, 3, 4]\n",
      "[3, 4, 5]\n",
      "[4, 5, 6]\n",
      "[5, 6, 7]\n"
     ]
    }
   ],
   "source": [
    "print(lista[0-3+1:] + lista[:0+1])   #j = 0, jan = 3\n",
    "print(lista[1-3+1:] + lista[:1+1])   #j = 1, jan = 3\n",
    "print(lista[2-3+1:2+1])   #j = 2, jan = 3\n",
    "print(lista[3-3+1:3+1])   #j = 3, jan = 3\n",
    "print(lista[4-3+1:4+1])   #j = 4, jan = 3\n",
    "print(lista[5-3+1:5+1])   #j = 5, jan = 3\n",
    "print(lista[6-3+1:6+1])   #j = 6, jan = 3\n",
    "print(lista[7-3+1:7+1])   #j = 7, jan = 3"
   ]
  },
  {
   "cell_type": "code",
   "execution_count": 220,
   "id": "30f17fee",
   "metadata": {},
   "outputs": [],
   "source": [
    "def retorna_lista(j, tamanho, lista):\n",
    "\n",
    "    if j >= tamanho - 1:\n",
    "        return lista[j-tamanho+1 : j+1]\n",
    "\n",
    "    else:\n",
    "        return lista[j-tamanho+1:] + lista[:j+1]"
   ]
  },
  {
   "cell_type": "code",
   "execution_count": 221,
   "id": "719ccd92",
   "metadata": {},
   "outputs": [
    {
     "data": {
      "text/plain": [
       "[2, 3, 4]"
      ]
     },
     "execution_count": 221,
     "metadata": {},
     "output_type": "execute_result"
    }
   ],
   "source": [
    "retorna_lista(j=4, tamanho=3, lista=lista)"
   ]
  },
  {
   "cell_type": "code",
   "execution_count": 222,
   "id": "712d713a",
   "metadata": {},
   "outputs": [
    {
     "data": {
      "text/plain": [
       "[3, 4, 5]"
      ]
     },
     "execution_count": 222,
     "metadata": {},
     "output_type": "execute_result"
    }
   ],
   "source": [
    "retorna_lista(j=5, tamanho=3, lista=lista)"
   ]
  },
  {
   "cell_type": "code",
   "execution_count": 223,
   "id": "f66177aa",
   "metadata": {},
   "outputs": [
    {
     "data": {
      "text/plain": [
       "[4, 5, 6]"
      ]
     },
     "execution_count": 223,
     "metadata": {},
     "output_type": "execute_result"
    }
   ],
   "source": [
    "retorna_lista(j=6, tamanho=3, lista=lista)"
   ]
  },
  {
   "cell_type": "code",
   "execution_count": 224,
   "id": "3409318f",
   "metadata": {},
   "outputs": [
    {
     "data": {
      "text/plain": [
       "[5, 6, 7]"
      ]
     },
     "execution_count": 224,
     "metadata": {},
     "output_type": "execute_result"
    }
   ],
   "source": [
    "retorna_lista(j=7, tamanho=3, lista=lista)"
   ]
  },
  {
   "cell_type": "code",
   "execution_count": 225,
   "id": "3797073a",
   "metadata": {},
   "outputs": [
    {
     "data": {
      "text/plain": [
       "[6, 7, 0]"
      ]
     },
     "execution_count": 225,
     "metadata": {},
     "output_type": "execute_result"
    }
   ],
   "source": [
    "retorna_lista(j=0, tamanho=3, lista=lista)"
   ]
  },
  {
   "cell_type": "code",
   "execution_count": 226,
   "id": "78372497",
   "metadata": {},
   "outputs": [
    {
     "data": {
      "text/plain": [
       "[7, 0, 1]"
      ]
     },
     "execution_count": 226,
     "metadata": {},
     "output_type": "execute_result"
    }
   ],
   "source": [
    "retorna_lista(j=1, tamanho=3, lista=lista)"
   ]
  },
  {
   "cell_type": "code",
   "execution_count": 227,
   "id": "7460e07a",
   "metadata": {},
   "outputs": [
    {
     "data": {
      "text/plain": [
       "[91, 92, 93, 94, 95, 0, 1, 2, 3, 4, 5, 6]"
      ]
     },
     "execution_count": 227,
     "metadata": {},
     "output_type": "execute_result"
    }
   ],
   "source": [
    "retorna_lista(j=6, tamanho=12, lista=list(inicios))"
   ]
  },
  {
   "cell_type": "code",
   "execution_count": 228,
   "id": "1328349e",
   "metadata": {},
   "outputs": [
    {
     "data": {
      "text/plain": [
       "[85, 86, 87, 88, 89, 90, 91, 92, 93, 94, 95, 0]"
      ]
     },
     "execution_count": 228,
     "metadata": {},
     "output_type": "execute_result"
    }
   ],
   "source": [
    "retorna_lista(j=0, tamanho=12, lista=list(inicios))"
   ]
  },
  {
   "cell_type": "code",
   "execution_count": 229,
   "id": "70737f0b",
   "metadata": {},
   "outputs": [
    {
     "data": {
      "application/vnd.microsoft.datawrangler.viewer.v0+json": {
       "columns": [
        {
         "name": "index",
         "rawType": "int64",
         "type": "integer"
        },
        {
         "name": "rotulo",
         "rawType": "int64",
         "type": "integer"
        },
        {
         "name": "hora_inicio",
         "rawType": "object",
         "type": "unknown"
        },
        {
         "name": "hora_fim",
         "rawType": "object",
         "type": "unknown"
        },
        {
         "name": "numero_medio_ligantes",
         "rawType": "int64",
         "type": "integer"
        },
        {
         "name": "nan",
         "rawType": "int64",
         "type": "integer"
        }
       ],
       "ref": "c4f0a954-57fe-4aed-9541-c1b0e67659f5",
       "rows": [
        [
         "0",
         "1",
         "00:00:00",
         "00:15:00",
         "601",
         "20"
        ],
        [
         "1",
         "2",
         "00:15:00",
         "00:30:00",
         "190",
         "9"
        ],
        [
         "2",
         "3",
         "00:30:00",
         "00:45:00",
         "180",
         "8"
        ],
        [
         "3",
         "4",
         "00:45:00",
         "01:00:00",
         "177",
         "9"
        ],
        [
         "4",
         "5",
         "01:00:00",
         "01:15:00",
         "162",
         "8"
        ],
        [
         "5",
         "6",
         "01:15:00",
         "01:30:00",
         "110",
         "5"
        ],
        [
         "6",
         "7",
         "01:30:00",
         "01:45:00",
         "99",
         "6"
        ],
        [
         "7",
         "8",
         "01:45:00",
         "02:00:00",
         "108",
         "7"
        ],
        [
         "8",
         "9",
         "02:00:00",
         "02:15:00",
         "97",
         "5"
        ],
        [
         "9",
         "10",
         "02:15:00",
         "02:30:00",
         "77",
         "5"
        ],
        [
         "10",
         "11",
         "02:30:00",
         "02:45:00",
         "75",
         "4"
        ],
        [
         "11",
         "12",
         "02:45:00",
         "03:00:00",
         "76",
         "5"
        ],
        [
         "12",
         "13",
         "03:00:00",
         "03:15:00",
         "79",
         "4"
        ],
        [
         "13",
         "14",
         "03:15:00",
         "03:30:00",
         "46",
         "4"
        ],
        [
         "14",
         "15",
         "03:30:00",
         "03:45:00",
         "45",
         "4"
        ],
        [
         "15",
         "16",
         "03:45:00",
         "04:00:00",
         "42",
         "4"
        ],
        [
         "16",
         "17",
         "04:00:00",
         "04:15:00",
         "49",
         "4"
        ],
        [
         "17",
         "18",
         "04:15:00",
         "04:30:00",
         "45",
         "5"
        ],
        [
         "18",
         "19",
         "04:30:00",
         "04:45:00",
         "44",
         "4"
        ],
        [
         "19",
         "20",
         "04:45:00",
         "05:00:00",
         "49",
         "4"
        ],
        [
         "20",
         "21",
         "05:00:00",
         "05:15:00",
         "57",
         "4"
        ],
        [
         "21",
         "22",
         "05:15:00",
         "05:30:00",
         "52",
         "4"
        ],
        [
         "22",
         "23",
         "05:30:00",
         "05:45:00",
         "51",
         "3"
        ],
        [
         "23",
         "24",
         "05:45:00",
         "06:00:00",
         "49",
         "4"
        ],
        [
         "24",
         "25",
         "06:00:00",
         "06:15:00",
         "97",
         "6"
        ],
        [
         "25",
         "26",
         "06:15:00",
         "06:30:00",
         "132",
         "6"
        ],
        [
         "26",
         "27",
         "06:30:00",
         "06:45:00",
         "141",
         "8"
        ],
        [
         "27",
         "28",
         "06:45:00",
         "07:00:00",
         "155",
         "7"
        ],
        [
         "28",
         "29",
         "07:00:00",
         "07:15:00",
         "630",
         "20"
        ],
        [
         "29",
         "30",
         "07:15:00",
         "07:30:00",
         "634",
         "21"
        ],
        [
         "30",
         "31",
         "07:30:00",
         "07:45:00",
         "790",
         "23"
        ],
        [
         "31",
         "32",
         "07:45:00",
         "08:00:00",
         "698",
         "23"
        ],
        [
         "32",
         "33",
         "08:00:00",
         "08:15:00",
         "1570",
         "41"
        ],
        [
         "33",
         "34",
         "08:15:00",
         "08:30:00",
         "1590",
         "41"
        ],
        [
         "34",
         "35",
         "08:30:00",
         "08:45:00",
         "1601",
         "41"
        ],
        [
         "35",
         "36",
         "08:45:00",
         "09:00:00",
         "1700",
         "45"
        ],
        [
         "36",
         "37",
         "09:00:00",
         "09:15:00",
         "2600",
         "66"
        ],
        [
         "37",
         "38",
         "09:15:00",
         "09:30:00",
         "2509",
         "59"
        ],
        [
         "38",
         "39",
         "09:30:00",
         "09:45:00",
         "2603",
         "60"
        ],
        [
         "39",
         "40",
         "09:45:00",
         "10:00:00",
         "2699",
         "67"
        ],
        [
         "40",
         "41",
         "10:00:00",
         "10:15:00",
         "3124",
         "70"
        ],
        [
         "41",
         "42",
         "10:15:00",
         "10:30:00",
         "3135",
         "75"
        ],
        [
         "42",
         "43",
         "10:30:00",
         "10:45:00",
         "3080",
         "71"
        ],
        [
         "43",
         "44",
         "10:45:00",
         "11:00:00",
         "3197",
         "75"
        ],
        [
         "44",
         "45",
         "11:00:00",
         "11:15:00",
         "2890",
         "66"
        ],
        [
         "45",
         "46",
         "11:15:00",
         "11:30:00",
         "2910",
         "64"
        ],
        [
         "46",
         "47",
         "11:30:00",
         "11:45:00",
         "2912",
         "62"
        ],
        [
         "47",
         "48",
         "11:45:00",
         "12:00:00",
         "2870",
         "68"
        ],
        [
         "48",
         "49",
         "12:00:00",
         "12:15:00",
         "2403",
         "57"
        ],
        [
         "49",
         "50",
         "12:15:00",
         "12:30:00",
         "2397",
         "57"
        ]
       ],
       "shape": {
        "columns": 5,
        "rows": 96
       }
      },
      "text/html": [
       "<div>\n",
       "<style scoped>\n",
       "    .dataframe tbody tr th:only-of-type {\n",
       "        vertical-align: middle;\n",
       "    }\n",
       "\n",
       "    .dataframe tbody tr th {\n",
       "        vertical-align: top;\n",
       "    }\n",
       "\n",
       "    .dataframe thead th {\n",
       "        text-align: right;\n",
       "    }\n",
       "</style>\n",
       "<table border=\"1\" class=\"dataframe\">\n",
       "  <thead>\n",
       "    <tr style=\"text-align: right;\">\n",
       "      <th></th>\n",
       "      <th>rotulo</th>\n",
       "      <th>hora_inicio</th>\n",
       "      <th>hora_fim</th>\n",
       "      <th>numero_medio_ligantes</th>\n",
       "      <th>nan</th>\n",
       "    </tr>\n",
       "  </thead>\n",
       "  <tbody>\n",
       "    <tr>\n",
       "      <th>0</th>\n",
       "      <td>1</td>\n",
       "      <td>00:00:00</td>\n",
       "      <td>00:15:00</td>\n",
       "      <td>601</td>\n",
       "      <td>20</td>\n",
       "    </tr>\n",
       "    <tr>\n",
       "      <th>1</th>\n",
       "      <td>2</td>\n",
       "      <td>00:15:00</td>\n",
       "      <td>00:30:00</td>\n",
       "      <td>190</td>\n",
       "      <td>9</td>\n",
       "    </tr>\n",
       "    <tr>\n",
       "      <th>2</th>\n",
       "      <td>3</td>\n",
       "      <td>00:30:00</td>\n",
       "      <td>00:45:00</td>\n",
       "      <td>180</td>\n",
       "      <td>8</td>\n",
       "    </tr>\n",
       "    <tr>\n",
       "      <th>3</th>\n",
       "      <td>4</td>\n",
       "      <td>00:45:00</td>\n",
       "      <td>01:00:00</td>\n",
       "      <td>177</td>\n",
       "      <td>9</td>\n",
       "    </tr>\n",
       "    <tr>\n",
       "      <th>4</th>\n",
       "      <td>5</td>\n",
       "      <td>01:00:00</td>\n",
       "      <td>01:15:00</td>\n",
       "      <td>162</td>\n",
       "      <td>8</td>\n",
       "    </tr>\n",
       "    <tr>\n",
       "      <th>...</th>\n",
       "      <td>...</td>\n",
       "      <td>...</td>\n",
       "      <td>...</td>\n",
       "      <td>...</td>\n",
       "      <td>...</td>\n",
       "    </tr>\n",
       "    <tr>\n",
       "      <th>91</th>\n",
       "      <td>92</td>\n",
       "      <td>22:45:00</td>\n",
       "      <td>23:00:00</td>\n",
       "      <td>920</td>\n",
       "      <td>26</td>\n",
       "    </tr>\n",
       "    <tr>\n",
       "      <th>92</th>\n",
       "      <td>93</td>\n",
       "      <td>23:00:00</td>\n",
       "      <td>23:15:00</td>\n",
       "      <td>897</td>\n",
       "      <td>23</td>\n",
       "    </tr>\n",
       "    <tr>\n",
       "      <th>93</th>\n",
       "      <td>94</td>\n",
       "      <td>23:15:00</td>\n",
       "      <td>23:30:00</td>\n",
       "      <td>571</td>\n",
       "      <td>18</td>\n",
       "    </tr>\n",
       "    <tr>\n",
       "      <th>94</th>\n",
       "      <td>95</td>\n",
       "      <td>23:30:00</td>\n",
       "      <td>23:45:00</td>\n",
       "      <td>560</td>\n",
       "      <td>18</td>\n",
       "    </tr>\n",
       "    <tr>\n",
       "      <th>95</th>\n",
       "      <td>96</td>\n",
       "      <td>23:45:00</td>\n",
       "      <td>00:00:00</td>\n",
       "      <td>590</td>\n",
       "      <td>18</td>\n",
       "    </tr>\n",
       "  </tbody>\n",
       "</table>\n",
       "<p>96 rows × 5 columns</p>\n",
       "</div>"
      ],
      "text/plain": [
       "    rotulo hora_inicio  hora_fim  numero_medio_ligantes  nan\n",
       "0        1    00:00:00  00:15:00                    601   20\n",
       "1        2    00:15:00  00:30:00                    190    9\n",
       "2        3    00:30:00  00:45:00                    180    8\n",
       "3        4    00:45:00  01:00:00                    177    9\n",
       "4        5    01:00:00  01:15:00                    162    8\n",
       "..     ...         ...       ...                    ...  ...\n",
       "91      92    22:45:00  23:00:00                    920   26\n",
       "92      93    23:00:00  23:15:00                    897   23\n",
       "93      94    23:15:00  23:30:00                    571   18\n",
       "94      95    23:30:00  23:45:00                    560   18\n",
       "95      96    23:45:00  00:00:00                    590   18\n",
       "\n",
       "[96 rows x 5 columns]"
      ]
     },
     "execution_count": 229,
     "metadata": {},
     "output_type": "execute_result"
    }
   ],
   "source": [
    "df_nan"
   ]
  },
  {
   "cell_type": "code",
   "execution_count": 230,
   "id": "943b3e38",
   "metadata": {},
   "outputs": [
    {
     "data": {
      "text/plain": [
       "Attentus:\n",
       "MINIMIZE\n",
       "540*A_(0,_0) + 540*A_(0,_1) + 540*A_(0,_10) + 540*A_(0,_11) + 540*A_(0,_12) + 540*A_(0,_13) + 540*A_(0,_14) + 540*A_(0,_15) + 540*A_(0,_16) + 540*A_(0,_17) + 540*A_(0,_18) + 540*A_(0,_19) + 540*A_(0,_2) + 540*A_(0,_20) + 540*A_(0,_21) + 540*A_(0,_22) + 540*A_(0,_23) + 540*A_(0,_24) + 540*A_(0,_25) + 540*A_(0,_26) + 540*A_(0,_27) + 540*A_(0,_28) + 540*A_(0,_29) + 540*A_(0,_3) + 540*A_(0,_30) + 540*A_(0,_31) + 540*A_(0,_32) + 540*A_(0,_33) + 540*A_(0,_34) + 540*A_(0,_35) + 540*A_(0,_36) + 540*A_(0,_37) + 540*A_(0,_38) + 540*A_(0,_39) + 540*A_(0,_4) + 540*A_(0,_40) + 540*A_(0,_41) + 540*A_(0,_42) + 540*A_(0,_43) + 540*A_(0,_44) + 540*A_(0,_45) + 540*A_(0,_46) + 540*A_(0,_47) + 540*A_(0,_48) + 540*A_(0,_49) + 540*A_(0,_5) + 540*A_(0,_50) + 540*A_(0,_51) + 540*A_(0,_52) + 540*A_(0,_53) + 540*A_(0,_54) + 540*A_(0,_55) + 540*A_(0,_56) + 540*A_(0,_57) + 540*A_(0,_58) + 540*A_(0,_59) + 540*A_(0,_6) + 540*A_(0,_60) + 540*A_(0,_61) + 540*A_(0,_62) + 540*A_(0,_63) + 540*A_(0,_64) + 540*A_(0,_65) + 540*A_(0,_66) + 540*A_(0,_67) + 540*A_(0,_68) + 540*A_(0,_69) + 540*A_(0,_7) + 540*A_(0,_70) + 540*A_(0,_71) + 540*A_(0,_72) + 540*A_(0,_73) + 540*A_(0,_74) + 540*A_(0,_75) + 540*A_(0,_76) + 540*A_(0,_77) + 540*A_(0,_78) + 540*A_(0,_79) + 540*A_(0,_8) + 540*A_(0,_80) + 540*A_(0,_81) + 540*A_(0,_82) + 540*A_(0,_83) + 540*A_(0,_84) + 540*A_(0,_85) + 540*A_(0,_86) + 540*A_(0,_87) + 540*A_(0,_88) + 540*A_(0,_89) + 540*A_(0,_9) + 540*A_(0,_90) + 540*A_(0,_91) + 540*A_(0,_92) + 540*A_(0,_93) + 540*A_(0,_94) + 540*A_(0,_95) + 680*A_(1,_0) + 680*A_(1,_1) + 680*A_(1,_10) + 680*A_(1,_11) + 680*A_(1,_12) + 680*A_(1,_13) + 680*A_(1,_14) + 680*A_(1,_15) + 680*A_(1,_16) + 680*A_(1,_17) + 680*A_(1,_18) + 680*A_(1,_19) + 680*A_(1,_2) + 680*A_(1,_20) + 680*A_(1,_21) + 680*A_(1,_22) + 680*A_(1,_23) + 680*A_(1,_24) + 680*A_(1,_25) + 680*A_(1,_26) + 680*A_(1,_27) + 680*A_(1,_28) + 680*A_(1,_29) + 680*A_(1,_3) + 680*A_(1,_30) + 680*A_(1,_31) + 680*A_(1,_32) + 680*A_(1,_33) + 680*A_(1,_34) + 680*A_(1,_35) + 680*A_(1,_36) + 680*A_(1,_37) + 680*A_(1,_38) + 680*A_(1,_39) + 680*A_(1,_4) + 680*A_(1,_40) + 680*A_(1,_41) + 680*A_(1,_42) + 680*A_(1,_43) + 680*A_(1,_44) + 680*A_(1,_45) + 680*A_(1,_46) + 680*A_(1,_47) + 680*A_(1,_48) + 680*A_(1,_49) + 680*A_(1,_5) + 680*A_(1,_50) + 680*A_(1,_51) + 680*A_(1,_52) + 680*A_(1,_53) + 680*A_(1,_54) + 680*A_(1,_55) + 680*A_(1,_56) + 680*A_(1,_57) + 680*A_(1,_58) + 680*A_(1,_59) + 680*A_(1,_6) + 680*A_(1,_60) + 680*A_(1,_61) + 680*A_(1,_62) + 680*A_(1,_63) + 680*A_(1,_64) + 680*A_(1,_65) + 680*A_(1,_66) + 680*A_(1,_67) + 680*A_(1,_68) + 680*A_(1,_69) + 680*A_(1,_7) + 680*A_(1,_70) + 680*A_(1,_71) + 680*A_(1,_72) + 680*A_(1,_73) + 680*A_(1,_74) + 680*A_(1,_75) + 680*A_(1,_76) + 680*A_(1,_77) + 680*A_(1,_78) + 680*A_(1,_79) + 680*A_(1,_8) + 680*A_(1,_80) + 680*A_(1,_81) + 680*A_(1,_82) + 680*A_(1,_83) + 680*A_(1,_84) + 680*A_(1,_85) + 680*A_(1,_86) + 680*A_(1,_87) + 680*A_(1,_88) + 680*A_(1,_89) + 680*A_(1,_9) + 680*A_(1,_90) + 680*A_(1,_91) + 680*A_(1,_92) + 680*A_(1,_93) + 680*A_(1,_94) + 680*A_(1,_95) + 960*A_(2,_0) + 960*A_(2,_1) + 960*A_(2,_10) + 960*A_(2,_11) + 960*A_(2,_12) + 960*A_(2,_13) + 960*A_(2,_14) + 960*A_(2,_15) + 960*A_(2,_16) + 960*A_(2,_17) + 960*A_(2,_18) + 960*A_(2,_19) + 960*A_(2,_2) + 960*A_(2,_20) + 960*A_(2,_21) + 960*A_(2,_22) + 960*A_(2,_23) + 960*A_(2,_24) + 960*A_(2,_25) + 960*A_(2,_26) + 960*A_(2,_27) + 960*A_(2,_28) + 960*A_(2,_29) + 960*A_(2,_3) + 960*A_(2,_30) + 960*A_(2,_31) + 960*A_(2,_32) + 960*A_(2,_33) + 960*A_(2,_34) + 960*A_(2,_35) + 960*A_(2,_36) + 960*A_(2,_37) + 960*A_(2,_38) + 960*A_(2,_39) + 960*A_(2,_4) + 960*A_(2,_40) + 960*A_(2,_41) + 960*A_(2,_42) + 960*A_(2,_43) + 960*A_(2,_44) + 960*A_(2,_45) + 960*A_(2,_46) + 960*A_(2,_47) + 960*A_(2,_48) + 960*A_(2,_49) + 960*A_(2,_5) + 960*A_(2,_50) + 960*A_(2,_51) + 960*A_(2,_52) + 960*A_(2,_53) + 960*A_(2,_54) + 960*A_(2,_55) + 960*A_(2,_56) + 960*A_(2,_57) + 960*A_(2,_58) + 960*A_(2,_59) + 960*A_(2,_6) + 960*A_(2,_60) + 960*A_(2,_61) + 960*A_(2,_62) + 960*A_(2,_63) + 960*A_(2,_64) + 960*A_(2,_65) + 960*A_(2,_66) + 960*A_(2,_67) + 960*A_(2,_68) + 960*A_(2,_69) + 960*A_(2,_7) + 960*A_(2,_70) + 960*A_(2,_71) + 960*A_(2,_72) + 960*A_(2,_73) + 960*A_(2,_74) + 960*A_(2,_75) + 960*A_(2,_76) + 960*A_(2,_77) + 960*A_(2,_78) + 960*A_(2,_79) + 960*A_(2,_8) + 960*A_(2,_80) + 960*A_(2,_81) + 960*A_(2,_82) + 960*A_(2,_83) + 960*A_(2,_84) + 960*A_(2,_85) + 960*A_(2,_86) + 960*A_(2,_87) + 960*A_(2,_88) + 960*A_(2,_89) + 960*A_(2,_9) + 960*A_(2,_90) + 960*A_(2,_91) + 960*A_(2,_92) + 960*A_(2,_93) + 960*A_(2,_94) + 960*A_(2,_95) + 0.0\n",
       "SUBJECT TO\n",
       "_C1: A_(0,_0) + A_(0,_85) + A_(0,_86) + A_(0,_87) + A_(0,_88) + A_(0,_89)\n",
       " + A_(0,_90) + A_(0,_91) + A_(0,_92) + A_(0,_93) + A_(0,_94) + A_(0,_95)\n",
       " + A_(1,_0) + A_(1,_81) + A_(1,_82) + A_(1,_83) + A_(1,_84) + A_(1,_85)\n",
       " + A_(1,_86) + A_(1,_87) + A_(1,_88) + A_(1,_89) + A_(1,_90) + A_(1,_91)\n",
       " + A_(1,_92) + A_(1,_93) + A_(1,_94) + A_(1,_95) + A_(2,_0) + A_(2,_73)\n",
       " + A_(2,_74) + A_(2,_75) + A_(2,_76) + A_(2,_77) + A_(2,_78) + A_(2,_79)\n",
       " + A_(2,_80) + A_(2,_81) + A_(2,_82) + A_(2,_83) + A_(2,_84) + A_(2,_85)\n",
       " + A_(2,_86) + A_(2,_87) + A_(2,_88) + A_(2,_89) + A_(2,_90) + A_(2,_91)\n",
       " + A_(2,_92) + A_(2,_93) + A_(2,_94) + A_(2,_95) >= 20\n",
       "\n",
       "_C2: A_(0,_0) + A_(0,_1) + A_(0,_86) + A_(0,_87) + A_(0,_88) + A_(0,_89)\n",
       " + A_(0,_90) + A_(0,_91) + A_(0,_92) + A_(0,_93) + A_(0,_94) + A_(0,_95)\n",
       " + A_(1,_0) + A_(1,_1) + A_(1,_82) + A_(1,_83) + A_(1,_84) + A_(1,_85)\n",
       " + A_(1,_86) + A_(1,_87) + A_(1,_88) + A_(1,_89) + A_(1,_90) + A_(1,_91)\n",
       " + A_(1,_92) + A_(1,_93) + A_(1,_94) + A_(1,_95) + A_(2,_0) + A_(2,_1)\n",
       " + A_(2,_74) + A_(2,_75) + A_(2,_76) + A_(2,_77) + A_(2,_78) + A_(2,_79)\n",
       " + A_(2,_80) + A_(2,_81) + A_(2,_82) + A_(2,_83) + A_(2,_84) + A_(2,_85)\n",
       " + A_(2,_86) + A_(2,_87) + A_(2,_88) + A_(2,_89) + A_(2,_90) + A_(2,_91)\n",
       " + A_(2,_92) + A_(2,_93) + A_(2,_94) + A_(2,_95) >= 9\n",
       "\n",
       "_C3: A_(0,_0) + A_(0,_1) + A_(0,_2) + A_(0,_87) + A_(0,_88) + A_(0,_89)\n",
       " + A_(0,_90) + A_(0,_91) + A_(0,_92) + A_(0,_93) + A_(0,_94) + A_(0,_95)\n",
       " + A_(1,_0) + A_(1,_1) + A_(1,_2) + A_(1,_83) + A_(1,_84) + A_(1,_85)\n",
       " + A_(1,_86) + A_(1,_87) + A_(1,_88) + A_(1,_89) + A_(1,_90) + A_(1,_91)\n",
       " + A_(1,_92) + A_(1,_93) + A_(1,_94) + A_(1,_95) + A_(2,_0) + A_(2,_1)\n",
       " + A_(2,_2) + A_(2,_75) + A_(2,_76) + A_(2,_77) + A_(2,_78) + A_(2,_79)\n",
       " + A_(2,_80) + A_(2,_81) + A_(2,_82) + A_(2,_83) + A_(2,_84) + A_(2,_85)\n",
       " + A_(2,_86) + A_(2,_87) + A_(2,_88) + A_(2,_89) + A_(2,_90) + A_(2,_91)\n",
       " + A_(2,_92) + A_(2,_93) + A_(2,_94) + A_(2,_95) >= 8\n",
       "\n",
       "_C4: A_(0,_0) + A_(0,_1) + A_(0,_2) + A_(0,_3) + A_(0,_88) + A_(0,_89)\n",
       " + A_(0,_90) + A_(0,_91) + A_(0,_92) + A_(0,_93) + A_(0,_94) + A_(0,_95)\n",
       " + A_(1,_0) + A_(1,_1) + A_(1,_2) + A_(1,_3) + A_(1,_84) + A_(1,_85)\n",
       " + A_(1,_86) + A_(1,_87) + A_(1,_88) + A_(1,_89) + A_(1,_90) + A_(1,_91)\n",
       " + A_(1,_92) + A_(1,_93) + A_(1,_94) + A_(1,_95) + A_(2,_0) + A_(2,_1)\n",
       " + A_(2,_2) + A_(2,_3) + A_(2,_76) + A_(2,_77) + A_(2,_78) + A_(2,_79)\n",
       " + A_(2,_80) + A_(2,_81) + A_(2,_82) + A_(2,_83) + A_(2,_84) + A_(2,_85)\n",
       " + A_(2,_86) + A_(2,_87) + A_(2,_88) + A_(2,_89) + A_(2,_90) + A_(2,_91)\n",
       " + A_(2,_92) + A_(2,_93) + A_(2,_94) + A_(2,_95) >= 9\n",
       "\n",
       "_C5: A_(0,_0) + A_(0,_1) + A_(0,_2) + A_(0,_3) + A_(0,_4) + A_(0,_89)\n",
       " + A_(0,_90) + A_(0,_91) + A_(0,_92) + A_(0,_93) + A_(0,_94) + A_(0,_95)\n",
       " + A_(1,_0) + A_(1,_1) + A_(1,_2) + A_(1,_3) + A_(1,_4) + A_(1,_85)\n",
       " + A_(1,_86) + A_(1,_87) + A_(1,_88) + A_(1,_89) + A_(1,_90) + A_(1,_91)\n",
       " + A_(1,_92) + A_(1,_93) + A_(1,_94) + A_(1,_95) + A_(2,_0) + A_(2,_1)\n",
       " + A_(2,_2) + A_(2,_3) + A_(2,_4) + A_(2,_77) + A_(2,_78) + A_(2,_79)\n",
       " + A_(2,_80) + A_(2,_81) + A_(2,_82) + A_(2,_83) + A_(2,_84) + A_(2,_85)\n",
       " + A_(2,_86) + A_(2,_87) + A_(2,_88) + A_(2,_89) + A_(2,_90) + A_(2,_91)\n",
       " + A_(2,_92) + A_(2,_93) + A_(2,_94) + A_(2,_95) >= 8\n",
       "\n",
       "_C6: A_(0,_0) + A_(0,_1) + A_(0,_2) + A_(0,_3) + A_(0,_4) + A_(0,_5)\n",
       " + A_(0,_90) + A_(0,_91) + A_(0,_92) + A_(0,_93) + A_(0,_94) + A_(0,_95)\n",
       " + A_(1,_0) + A_(1,_1) + A_(1,_2) + A_(1,_3) + A_(1,_4) + A_(1,_5) + A_(1,_86)\n",
       " + A_(1,_87) + A_(1,_88) + A_(1,_89) + A_(1,_90) + A_(1,_91) + A_(1,_92)\n",
       " + A_(1,_93) + A_(1,_94) + A_(1,_95) + A_(2,_0) + A_(2,_1) + A_(2,_2)\n",
       " + A_(2,_3) + A_(2,_4) + A_(2,_5) + A_(2,_78) + A_(2,_79) + A_(2,_80)\n",
       " + A_(2,_81) + A_(2,_82) + A_(2,_83) + A_(2,_84) + A_(2,_85) + A_(2,_86)\n",
       " + A_(2,_87) + A_(2,_88) + A_(2,_89) + A_(2,_90) + A_(2,_91) + A_(2,_92)\n",
       " + A_(2,_93) + A_(2,_94) + A_(2,_95) >= 5\n",
       "\n",
       "_C7: A_(0,_0) + A_(0,_1) + A_(0,_2) + A_(0,_3) + A_(0,_4) + A_(0,_5)\n",
       " + A_(0,_6) + A_(0,_91) + A_(0,_92) + A_(0,_93) + A_(0,_94) + A_(0,_95)\n",
       " + A_(1,_0) + A_(1,_1) + A_(1,_2) + A_(1,_3) + A_(1,_4) + A_(1,_5) + A_(1,_6)\n",
       " + A_(1,_87) + A_(1,_88) + A_(1,_89) + A_(1,_90) + A_(1,_91) + A_(1,_92)\n",
       " + A_(1,_93) + A_(1,_94) + A_(1,_95) + A_(2,_0) + A_(2,_1) + A_(2,_2)\n",
       " + A_(2,_3) + A_(2,_4) + A_(2,_5) + A_(2,_6) + A_(2,_79) + A_(2,_80)\n",
       " + A_(2,_81) + A_(2,_82) + A_(2,_83) + A_(2,_84) + A_(2,_85) + A_(2,_86)\n",
       " + A_(2,_87) + A_(2,_88) + A_(2,_89) + A_(2,_90) + A_(2,_91) + A_(2,_92)\n",
       " + A_(2,_93) + A_(2,_94) + A_(2,_95) >= 6\n",
       "\n",
       "_C8: A_(0,_0) + A_(0,_1) + A_(0,_2) + A_(0,_3) + A_(0,_4) + A_(0,_5)\n",
       " + A_(0,_6) + A_(0,_7) + A_(0,_92) + A_(0,_93) + A_(0,_94) + A_(0,_95)\n",
       " + A_(1,_0) + A_(1,_1) + A_(1,_2) + A_(1,_3) + A_(1,_4) + A_(1,_5) + A_(1,_6)\n",
       " + A_(1,_7) + A_(1,_88) + A_(1,_89) + A_(1,_90) + A_(1,_91) + A_(1,_92)\n",
       " + A_(1,_93) + A_(1,_94) + A_(1,_95) + A_(2,_0) + A_(2,_1) + A_(2,_2)\n",
       " + A_(2,_3) + A_(2,_4) + A_(2,_5) + A_(2,_6) + A_(2,_7) + A_(2,_80)\n",
       " + A_(2,_81) + A_(2,_82) + A_(2,_83) + A_(2,_84) + A_(2,_85) + A_(2,_86)\n",
       " + A_(2,_87) + A_(2,_88) + A_(2,_89) + A_(2,_90) + A_(2,_91) + A_(2,_92)\n",
       " + A_(2,_93) + A_(2,_94) + A_(2,_95) >= 7\n",
       "\n",
       "_C9: A_(0,_0) + A_(0,_1) + A_(0,_2) + A_(0,_3) + A_(0,_4) + A_(0,_5)\n",
       " + A_(0,_6) + A_(0,_7) + A_(0,_8) + A_(0,_93) + A_(0,_94) + A_(0,_95)\n",
       " + A_(1,_0) + A_(1,_1) + A_(1,_2) + A_(1,_3) + A_(1,_4) + A_(1,_5) + A_(1,_6)\n",
       " + A_(1,_7) + A_(1,_8) + A_(1,_89) + A_(1,_90) + A_(1,_91) + A_(1,_92)\n",
       " + A_(1,_93) + A_(1,_94) + A_(1,_95) + A_(2,_0) + A_(2,_1) + A_(2,_2)\n",
       " + A_(2,_3) + A_(2,_4) + A_(2,_5) + A_(2,_6) + A_(2,_7) + A_(2,_8) + A_(2,_81)\n",
       " + A_(2,_82) + A_(2,_83) + A_(2,_84) + A_(2,_85) + A_(2,_86) + A_(2,_87)\n",
       " + A_(2,_88) + A_(2,_89) + A_(2,_90) + A_(2,_91) + A_(2,_92) + A_(2,_93)\n",
       " + A_(2,_94) + A_(2,_95) >= 5\n",
       "\n",
       "_C10: A_(0,_0) + A_(0,_1) + A_(0,_2) + A_(0,_3) + A_(0,_4) + A_(0,_5)\n",
       " + A_(0,_6) + A_(0,_7) + A_(0,_8) + A_(0,_9) + A_(0,_94) + A_(0,_95)\n",
       " + A_(1,_0) + A_(1,_1) + A_(1,_2) + A_(1,_3) + A_(1,_4) + A_(1,_5) + A_(1,_6)\n",
       " + A_(1,_7) + A_(1,_8) + A_(1,_9) + A_(1,_90) + A_(1,_91) + A_(1,_92)\n",
       " + A_(1,_93) + A_(1,_94) + A_(1,_95) + A_(2,_0) + A_(2,_1) + A_(2,_2)\n",
       " + A_(2,_3) + A_(2,_4) + A_(2,_5) + A_(2,_6) + A_(2,_7) + A_(2,_8) + A_(2,_82)\n",
       " + A_(2,_83) + A_(2,_84) + A_(2,_85) + A_(2,_86) + A_(2,_87) + A_(2,_88)\n",
       " + A_(2,_89) + A_(2,_9) + A_(2,_90) + A_(2,_91) + A_(2,_92) + A_(2,_93)\n",
       " + A_(2,_94) + A_(2,_95) >= 5\n",
       "\n",
       "_C11: A_(0,_0) + A_(0,_1) + A_(0,_10) + A_(0,_2) + A_(0,_3) + A_(0,_4)\n",
       " + A_(0,_5) + A_(0,_6) + A_(0,_7) + A_(0,_8) + A_(0,_9) + A_(0,_95) + A_(1,_0)\n",
       " + A_(1,_1) + A_(1,_10) + A_(1,_2) + A_(1,_3) + A_(1,_4) + A_(1,_5) + A_(1,_6)\n",
       " + A_(1,_7) + A_(1,_8) + A_(1,_9) + A_(1,_91) + A_(1,_92) + A_(1,_93)\n",
       " + A_(1,_94) + A_(1,_95) + A_(2,_0) + A_(2,_1) + A_(2,_10) + A_(2,_2)\n",
       " + A_(2,_3) + A_(2,_4) + A_(2,_5) + A_(2,_6) + A_(2,_7) + A_(2,_8) + A_(2,_83)\n",
       " + A_(2,_84) + A_(2,_85) + A_(2,_86) + A_(2,_87) + A_(2,_88) + A_(2,_89)\n",
       " + A_(2,_9) + A_(2,_90) + A_(2,_91) + A_(2,_92) + A_(2,_93) + A_(2,_94)\n",
       " + A_(2,_95) >= 4\n",
       "\n",
       "_C12: A_(0,_0) + A_(0,_1) + A_(0,_10) + A_(0,_11) + A_(0,_2) + A_(0,_3)\n",
       " + A_(0,_4) + A_(0,_5) + A_(0,_6) + A_(0,_7) + A_(0,_8) + A_(0,_9) + A_(1,_0)\n",
       " + A_(1,_1) + A_(1,_10) + A_(1,_11) + A_(1,_2) + A_(1,_3) + A_(1,_4)\n",
       " + A_(1,_5) + A_(1,_6) + A_(1,_7) + A_(1,_8) + A_(1,_9) + A_(1,_92)\n",
       " + A_(1,_93) + A_(1,_94) + A_(1,_95) + A_(2,_0) + A_(2,_1) + A_(2,_10)\n",
       " + A_(2,_11) + A_(2,_2) + A_(2,_3) + A_(2,_4) + A_(2,_5) + A_(2,_6) + A_(2,_7)\n",
       " + A_(2,_8) + A_(2,_84) + A_(2,_85) + A_(2,_86) + A_(2,_87) + A_(2,_88)\n",
       " + A_(2,_89) + A_(2,_9) + A_(2,_90) + A_(2,_91) + A_(2,_92) + A_(2,_93)\n",
       " + A_(2,_94) + A_(2,_95) >= 5\n",
       "\n",
       "_C13: A_(0,_1) + A_(0,_10) + A_(0,_11) + A_(0,_12) + A_(0,_2) + A_(0,_3)\n",
       " + A_(0,_4) + A_(0,_5) + A_(0,_6) + A_(0,_7) + A_(0,_8) + A_(0,_9) + A_(1,_0)\n",
       " + A_(1,_1) + A_(1,_10) + A_(1,_11) + A_(1,_12) + A_(1,_2) + A_(1,_3)\n",
       " + A_(1,_4) + A_(1,_5) + A_(1,_6) + A_(1,_7) + A_(1,_8) + A_(1,_9) + A_(1,_93)\n",
       " + A_(1,_94) + A_(1,_95) + A_(2,_0) + A_(2,_1) + A_(2,_10) + A_(2,_11)\n",
       " + A_(2,_12) + A_(2,_2) + A_(2,_3) + A_(2,_4) + A_(2,_5) + A_(2,_6) + A_(2,_7)\n",
       " + A_(2,_8) + A_(2,_85) + A_(2,_86) + A_(2,_87) + A_(2,_88) + A_(2,_89)\n",
       " + A_(2,_9) + A_(2,_90) + A_(2,_91) + A_(2,_92) + A_(2,_93) + A_(2,_94)\n",
       " + A_(2,_95) >= 4\n",
       "\n",
       "_C14: A_(0,_10) + A_(0,_11) + A_(0,_12) + A_(0,_13) + A_(0,_2) + A_(0,_3)\n",
       " + A_(0,_4) + A_(0,_5) + A_(0,_6) + A_(0,_7) + A_(0,_8) + A_(0,_9) + A_(1,_0)\n",
       " + A_(1,_1) + A_(1,_10) + A_(1,_11) + A_(1,_12) + A_(1,_13) + A_(1,_2)\n",
       " + A_(1,_3) + A_(1,_4) + A_(1,_5) + A_(1,_6) + A_(1,_7) + A_(1,_8) + A_(1,_9)\n",
       " + A_(1,_94) + A_(1,_95) + A_(2,_0) + A_(2,_1) + A_(2,_10) + A_(2,_11)\n",
       " + A_(2,_12) + A_(2,_13) + A_(2,_2) + A_(2,_3) + A_(2,_4) + A_(2,_5)\n",
       " + A_(2,_6) + A_(2,_7) + A_(2,_8) + A_(2,_86) + A_(2,_87) + A_(2,_88)\n",
       " + A_(2,_89) + A_(2,_9) + A_(2,_90) + A_(2,_91) + A_(2,_92) + A_(2,_93)\n",
       " + A_(2,_94) + A_(2,_95) >= 4\n",
       "\n",
       "_C15: A_(0,_10) + A_(0,_11) + A_(0,_12) + A_(0,_13) + A_(0,_14) + A_(0,_3)\n",
       " + A_(0,_4) + A_(0,_5) + A_(0,_6) + A_(0,_7) + A_(0,_8) + A_(0,_9) + A_(1,_0)\n",
       " + A_(1,_1) + A_(1,_10) + A_(1,_11) + A_(1,_12) + A_(1,_13) + A_(1,_14)\n",
       " + A_(1,_2) + A_(1,_3) + A_(1,_4) + A_(1,_5) + A_(1,_6) + A_(1,_7) + A_(1,_8)\n",
       " + A_(1,_9) + A_(1,_95) + A_(2,_0) + A_(2,_1) + A_(2,_10) + A_(2,_11)\n",
       " + A_(2,_12) + A_(2,_13) + A_(2,_14) + A_(2,_2) + A_(2,_3) + A_(2,_4)\n",
       " + A_(2,_5) + A_(2,_6) + A_(2,_7) + A_(2,_8) + A_(2,_87) + A_(2,_88)\n",
       " + A_(2,_89) + A_(2,_9) + A_(2,_90) + A_(2,_91) + A_(2,_92) + A_(2,_93)\n",
       " + A_(2,_94) + A_(2,_95) >= 4\n",
       "\n",
       "_C16: A_(0,_10) + A_(0,_11) + A_(0,_12) + A_(0,_13) + A_(0,_14) + A_(0,_15)\n",
       " + A_(0,_4) + A_(0,_5) + A_(0,_6) + A_(0,_7) + A_(0,_8) + A_(0,_9) + A_(1,_0)\n",
       " + A_(1,_1) + A_(1,_10) + A_(1,_11) + A_(1,_12) + A_(1,_13) + A_(1,_14)\n",
       " + A_(1,_15) + A_(1,_2) + A_(1,_3) + A_(1,_4) + A_(1,_5) + A_(1,_6) + A_(1,_7)\n",
       " + A_(1,_8) + A_(1,_9) + A_(2,_0) + A_(2,_1) + A_(2,_10) + A_(2,_11)\n",
       " + A_(2,_12) + A_(2,_13) + A_(2,_14) + A_(2,_15) + A_(2,_2) + A_(2,_3)\n",
       " + A_(2,_4) + A_(2,_5) + A_(2,_6) + A_(2,_7) + A_(2,_8) + A_(2,_88)\n",
       " + A_(2,_89) + A_(2,_9) + A_(2,_90) + A_(2,_91) + A_(2,_92) + A_(2,_93)\n",
       " + A_(2,_94) + A_(2,_95) >= 4\n",
       "\n",
       "_C17: A_(0,_10) + A_(0,_11) + A_(0,_12) + A_(0,_13) + A_(0,_14) + A_(0,_15)\n",
       " + A_(0,_16) + A_(0,_5) + A_(0,_6) + A_(0,_7) + A_(0,_8) + A_(0,_9) + A_(1,_1)\n",
       " + A_(1,_10) + A_(1,_11) + A_(1,_12) + A_(1,_13) + A_(1,_14) + A_(1,_15)\n",
       " + A_(1,_16) + A_(1,_2) + A_(1,_3) + A_(1,_4) + A_(1,_5) + A_(1,_6) + A_(1,_7)\n",
       " + A_(1,_8) + A_(1,_9) + A_(2,_0) + A_(2,_1) + A_(2,_10) + A_(2,_11)\n",
       " + A_(2,_12) + A_(2,_13) + A_(2,_14) + A_(2,_15) + A_(2,_16) + A_(2,_2)\n",
       " + A_(2,_3) + A_(2,_4) + A_(2,_5) + A_(2,_6) + A_(2,_7) + A_(2,_8) + A_(2,_89)\n",
       " + A_(2,_9) + A_(2,_90) + A_(2,_91) + A_(2,_92) + A_(2,_93) + A_(2,_94)\n",
       " + A_(2,_95) >= 4\n",
       "\n",
       "_C18: A_(0,_10) + A_(0,_11) + A_(0,_12) + A_(0,_13) + A_(0,_14) + A_(0,_15)\n",
       " + A_(0,_16) + A_(0,_17) + A_(0,_6) + A_(0,_7) + A_(0,_8) + A_(0,_9)\n",
       " + A_(1,_10) + A_(1,_11) + A_(1,_12) + A_(1,_13) + A_(1,_14) + A_(1,_15)\n",
       " + A_(1,_16) + A_(1,_17) + A_(1,_2) + A_(1,_3) + A_(1,_4) + A_(1,_5)\n",
       " + A_(1,_6) + A_(1,_7) + A_(1,_8) + A_(1,_9) + A_(2,_0) + A_(2,_1) + A_(2,_10)\n",
       " + A_(2,_11) + A_(2,_12) + A_(2,_13) + A_(2,_14) + A_(2,_15) + A_(2,_16)\n",
       " + A_(2,_17) + A_(2,_2) + A_(2,_3) + A_(2,_4) + A_(2,_5) + A_(2,_6) + A_(2,_7)\n",
       " + A_(2,_8) + A_(2,_9) + A_(2,_90) + A_(2,_91) + A_(2,_92) + A_(2,_93)\n",
       " + A_(2,_94) + A_(2,_95) >= 5\n",
       "\n",
       "_C19: A_(0,_10) + A_(0,_11) + A_(0,_12) + A_(0,_13) + A_(0,_14) + A_(0,_15)\n",
       " + A_(0,_16) + A_(0,_17) + A_(0,_18) + A_(0,_7) + A_(0,_8) + A_(0,_9)\n",
       " + A_(1,_10) + A_(1,_11) + A_(1,_12) + A_(1,_13) + A_(1,_14) + A_(1,_15)\n",
       " + A_(1,_16) + A_(1,_17) + A_(1,_18) + A_(1,_3) + A_(1,_4) + A_(1,_5)\n",
       " + A_(1,_6) + A_(1,_7) + A_(1,_8) + A_(1,_9) + A_(2,_0) + A_(2,_1) + A_(2,_10)\n",
       " + A_(2,_11) + A_(2,_12) + A_(2,_13) + A_(2,_14) + A_(2,_15) + A_(2,_16)\n",
       " + A_(2,_17) + A_(2,_18) + A_(2,_2) + A_(2,_3) + A_(2,_4) + A_(2,_5)\n",
       " + A_(2,_6) + A_(2,_7) + A_(2,_8) + A_(2,_9) + A_(2,_91) + A_(2,_92)\n",
       " + A_(2,_93) + A_(2,_94) + A_(2,_95) >= 4\n",
       "\n",
       "_C20: A_(0,_10) + A_(0,_11) + A_(0,_12) + A_(0,_13) + A_(0,_14) + A_(0,_15)\n",
       " + A_(0,_16) + A_(0,_17) + A_(0,_18) + A_(0,_19) + A_(0,_8) + A_(0,_9)\n",
       " + A_(1,_10) + A_(1,_11) + A_(1,_12) + A_(1,_13) + A_(1,_14) + A_(1,_15)\n",
       " + A_(1,_16) + A_(1,_17) + A_(1,_18) + A_(1,_19) + A_(1,_4) + A_(1,_5)\n",
       " + A_(1,_6) + A_(1,_7) + A_(1,_8) + A_(1,_9) + A_(2,_0) + A_(2,_1) + A_(2,_10)\n",
       " + A_(2,_11) + A_(2,_12) + A_(2,_13) + A_(2,_14) + A_(2,_15) + A_(2,_16)\n",
       " + A_(2,_17) + A_(2,_18) + A_(2,_19) + A_(2,_2) + A_(2,_3) + A_(2,_4)\n",
       " + A_(2,_5) + A_(2,_6) + A_(2,_7) + A_(2,_8) + A_(2,_9) + A_(2,_92)\n",
       " + A_(2,_93) + A_(2,_94) + A_(2,_95) >= 4\n",
       "\n",
       "_C21: A_(0,_10) + A_(0,_11) + A_(0,_12) + A_(0,_13) + A_(0,_14) + A_(0,_15)\n",
       " + A_(0,_16) + A_(0,_17) + A_(0,_18) + A_(0,_19) + A_(0,_20) + A_(0,_9)\n",
       " + A_(1,_10) + A_(1,_11) + A_(1,_12) + A_(1,_13) + A_(1,_14) + A_(1,_15)\n",
       " + A_(1,_16) + A_(1,_17) + A_(1,_18) + A_(1,_19) + A_(1,_20) + A_(1,_5)\n",
       " + A_(1,_6) + A_(1,_7) + A_(1,_8) + A_(1,_9) + A_(2,_0) + A_(2,_1) + A_(2,_10)\n",
       " + A_(2,_11) + A_(2,_12) + A_(2,_13) + A_(2,_14) + A_(2,_15) + A_(2,_16)\n",
       " + A_(2,_17) + A_(2,_18) + A_(2,_19) + A_(2,_2) + A_(2,_20) + A_(2,_3)\n",
       " + A_(2,_4) + A_(2,_5) + A_(2,_6) + A_(2,_7) + A_(2,_8) + A_(2,_9) + A_(2,_93)\n",
       " + A_(2,_94) + A_(2,_95) >= 4\n",
       "\n",
       "_C22: A_(0,_10) + A_(0,_11) + A_(0,_12) + A_(0,_13) + A_(0,_14) + A_(0,_15)\n",
       " + A_(0,_16) + A_(0,_17) + A_(0,_18) + A_(0,_19) + A_(0,_20) + A_(0,_21)\n",
       " + A_(1,_10) + A_(1,_11) + A_(1,_12) + A_(1,_13) + A_(1,_14) + A_(1,_15)\n",
       " + A_(1,_16) + A_(1,_17) + A_(1,_18) + A_(1,_19) + A_(1,_20) + A_(1,_21)\n",
       " + A_(1,_6) + A_(1,_7) + A_(1,_8) + A_(1,_9) + A_(2,_0) + A_(2,_1) + A_(2,_10)\n",
       " + A_(2,_11) + A_(2,_12) + A_(2,_13) + A_(2,_14) + A_(2,_15) + A_(2,_16)\n",
       " + A_(2,_17) + A_(2,_18) + A_(2,_19) + A_(2,_2) + A_(2,_20) + A_(2,_21)\n",
       " + A_(2,_3) + A_(2,_4) + A_(2,_5) + A_(2,_6) + A_(2,_7) + A_(2,_8) + A_(2,_9)\n",
       " + A_(2,_94) + A_(2,_95) >= 4\n",
       "\n",
       "_C23: A_(0,_11) + A_(0,_12) + A_(0,_13) + A_(0,_14) + A_(0,_15) + A_(0,_16)\n",
       " + A_(0,_17) + A_(0,_18) + A_(0,_19) + A_(0,_20) + A_(0,_21) + A_(0,_22)\n",
       " + A_(1,_10) + A_(1,_11) + A_(1,_12) + A_(1,_13) + A_(1,_14) + A_(1,_15)\n",
       " + A_(1,_16) + A_(1,_17) + A_(1,_18) + A_(1,_19) + A_(1,_20) + A_(1,_21)\n",
       " + A_(1,_22) + A_(1,_7) + A_(1,_8) + A_(1,_9) + A_(2,_0) + A_(2,_1)\n",
       " + A_(2,_10) + A_(2,_11) + A_(2,_12) + A_(2,_13) + A_(2,_14) + A_(2,_15)\n",
       " + A_(2,_16) + A_(2,_17) + A_(2,_18) + A_(2,_19) + A_(2,_2) + A_(2,_20)\n",
       " + A_(2,_21) + A_(2,_22) + A_(2,_3) + A_(2,_4) + A_(2,_5) + A_(2,_6)\n",
       " + A_(2,_7) + A_(2,_8) + A_(2,_9) + A_(2,_95) >= 3\n",
       "\n",
       "_C24: A_(0,_12) + A_(0,_13) + A_(0,_14) + A_(0,_15) + A_(0,_16) + A_(0,_17)\n",
       " + A_(0,_18) + A_(0,_19) + A_(0,_20) + A_(0,_21) + A_(0,_22) + A_(0,_23)\n",
       " + A_(1,_10) + A_(1,_11) + A_(1,_12) + A_(1,_13) + A_(1,_14) + A_(1,_15)\n",
       " + A_(1,_16) + A_(1,_17) + A_(1,_18) + A_(1,_19) + A_(1,_20) + A_(1,_21)\n",
       " + A_(1,_22) + A_(1,_23) + A_(1,_8) + A_(1,_9) + A_(2,_0) + A_(2,_1)\n",
       " + A_(2,_10) + A_(2,_11) + A_(2,_12) + A_(2,_13) + A_(2,_14) + A_(2,_15)\n",
       " + A_(2,_16) + A_(2,_17) + A_(2,_18) + A_(2,_19) + A_(2,_2) + A_(2,_20)\n",
       " + A_(2,_21) + A_(2,_22) + A_(2,_23) + A_(2,_3) + A_(2,_4) + A_(2,_5)\n",
       " + A_(2,_6) + A_(2,_7) + A_(2,_8) + A_(2,_9) >= 4\n",
       "\n",
       "_C25: A_(0,_13) + A_(0,_14) + A_(0,_15) + A_(0,_16) + A_(0,_17) + A_(0,_18)\n",
       " + A_(0,_19) + A_(0,_20) + A_(0,_21) + A_(0,_22) + A_(0,_23) + A_(0,_24)\n",
       " + A_(1,_10) + A_(1,_11) + A_(1,_12) + A_(1,_13) + A_(1,_14) + A_(1,_15)\n",
       " + A_(1,_16) + A_(1,_17) + A_(1,_18) + A_(1,_19) + A_(1,_20) + A_(1,_21)\n",
       " + A_(1,_22) + A_(1,_23) + A_(1,_24) + A_(1,_9) + A_(2,_1) + A_(2,_10)\n",
       " + A_(2,_11) + A_(2,_12) + A_(2,_13) + A_(2,_14) + A_(2,_15) + A_(2,_16)\n",
       " + A_(2,_17) + A_(2,_18) + A_(2,_19) + A_(2,_2) + A_(2,_20) + A_(2,_21)\n",
       " + A_(2,_22) + A_(2,_23) + A_(2,_24) + A_(2,_3) + A_(2,_4) + A_(2,_5)\n",
       " + A_(2,_6) + A_(2,_7) + A_(2,_8) + A_(2,_9) >= 6\n",
       "\n",
       "_C26: A_(0,_14) + A_(0,_15) + A_(0,_16) + A_(0,_17) + A_(0,_18) + A_(0,_19)\n",
       " + A_(0,_20) + A_(0,_21) + A_(0,_22) + A_(0,_23) + A_(0,_24) + A_(0,_25)\n",
       " + A_(1,_10) + A_(1,_11) + A_(1,_12) + A_(1,_13) + A_(1,_14) + A_(1,_15)\n",
       " + A_(1,_16) + A_(1,_17) + A_(1,_18) + A_(1,_19) + A_(1,_20) + A_(1,_21)\n",
       " + A_(1,_22) + A_(1,_23) + A_(1,_24) + A_(1,_25) + A_(2,_10) + A_(2,_11)\n",
       " + A_(2,_12) + A_(2,_13) + A_(2,_14) + A_(2,_15) + A_(2,_16) + A_(2,_17)\n",
       " + A_(2,_18) + A_(2,_19) + A_(2,_2) + A_(2,_20) + A_(2,_21) + A_(2,_22)\n",
       " + A_(2,_23) + A_(2,_24) + A_(2,_25) + A_(2,_3) + A_(2,_4) + A_(2,_5)\n",
       " + A_(2,_6) + A_(2,_7) + A_(2,_8) + A_(2,_9) >= 6\n",
       "\n",
       "_C27: A_(0,_15) + A_(0,_16) + A_(0,_17) + A_(0,_18) + A_(0,_19) + A_(0,_20)\n",
       " + A_(0,_21) + A_(0,_22) + A_(0,_23) + A_(0,_24) + A_(0,_25) + A_(0,_26)\n",
       " + A_(1,_11) + A_(1,_12) + A_(1,_13) + A_(1,_14) + A_(1,_15) + A_(1,_16)\n",
       " + A_(1,_17) + A_(1,_18) + A_(1,_19) + A_(1,_20) + A_(1,_21) + A_(1,_22)\n",
       " + A_(1,_23) + A_(1,_24) + A_(1,_25) + A_(1,_26) + A_(2,_10) + A_(2,_11)\n",
       " + A_(2,_12) + A_(2,_13) + A_(2,_14) + A_(2,_15) + A_(2,_16) + A_(2,_17)\n",
       " + A_(2,_18) + A_(2,_19) + A_(2,_20) + A_(2,_21) + A_(2,_22) + A_(2,_23)\n",
       " + A_(2,_24) + A_(2,_25) + A_(2,_26) + A_(2,_3) + A_(2,_4) + A_(2,_5)\n",
       " + A_(2,_6) + A_(2,_7) + A_(2,_8) + A_(2,_9) >= 8\n",
       "\n",
       "_C28: A_(0,_16) + A_(0,_17) + A_(0,_18) + A_(0,_19) + A_(0,_20) + A_(0,_21)\n",
       " + A_(0,_22) + A_(0,_23) + A_(0,_24) + A_(0,_25) + A_(0,_26) + A_(0,_27)\n",
       " + A_(1,_12) + A_(1,_13) + A_(1,_14) + A_(1,_15) + A_(1,_16) + A_(1,_17)\n",
       " + A_(1,_18) + A_(1,_19) + A_(1,_20) + A_(1,_21) + A_(1,_22) + A_(1,_23)\n",
       " + A_(1,_24) + A_(1,_25) + A_(1,_26) + A_(1,_27) + A_(2,_10) + A_(2,_11)\n",
       " + A_(2,_12) + A_(2,_13) + A_(2,_14) + A_(2,_15) + A_(2,_16) + A_(2,_17)\n",
       " + A_(2,_18) + A_(2,_19) + A_(2,_20) + A_(2,_21) + A_(2,_22) + A_(2,_23)\n",
       " + A_(2,_24) + A_(2,_25) + A_(2,_26) + A_(2,_27) + A_(2,_4) + A_(2,_5)\n",
       " + A_(2,_6) + A_(2,_7) + A_(2,_8) + A_(2,_9) >= 7\n",
       "\n",
       "_C29: A_(0,_17) + A_(0,_18) + A_(0,_19) + A_(0,_20) + A_(0,_21) + A_(0,_22)\n",
       " + A_(0,_23) + A_(0,_24) + A_(0,_25) + A_(0,_26) + A_(0,_27) + A_(0,_28)\n",
       " + A_(1,_13) + A_(1,_14) + A_(1,_15) + A_(1,_16) + A_(1,_17) + A_(1,_18)\n",
       " + A_(1,_19) + A_(1,_20) + A_(1,_21) + A_(1,_22) + A_(1,_23) + A_(1,_24)\n",
       " + A_(1,_25) + A_(1,_26) + A_(1,_27) + A_(1,_28) + A_(2,_10) + A_(2,_11)\n",
       " + A_(2,_12) + A_(2,_13) + A_(2,_14) + A_(2,_15) + A_(2,_16) + A_(2,_17)\n",
       " + A_(2,_18) + A_(2,_19) + A_(2,_20) + A_(2,_21) + A_(2,_22) + A_(2,_23)\n",
       " + A_(2,_24) + A_(2,_25) + A_(2,_26) + A_(2,_27) + A_(2,_28) + A_(2,_5)\n",
       " + A_(2,_6) + A_(2,_7) + A_(2,_8) + A_(2,_9) >= 20\n",
       "\n",
       "_C30: A_(0,_18) + A_(0,_19) + A_(0,_20) + A_(0,_21) + A_(0,_22) + A_(0,_23)\n",
       " + A_(0,_24) + A_(0,_25) + A_(0,_26) + A_(0,_27) + A_(0,_28) + A_(0,_29)\n",
       " + A_(1,_14) + A_(1,_15) + A_(1,_16) + A_(1,_17) + A_(1,_18) + A_(1,_19)\n",
       " + A_(1,_20) + A_(1,_21) + A_(1,_22) + A_(1,_23) + A_(1,_24) + A_(1,_25)\n",
       " + A_(1,_26) + A_(1,_27) + A_(1,_28) + A_(1,_29) + A_(2,_10) + A_(2,_11)\n",
       " + A_(2,_12) + A_(2,_13) + A_(2,_14) + A_(2,_15) + A_(2,_16) + A_(2,_17)\n",
       " + A_(2,_18) + A_(2,_19) + A_(2,_20) + A_(2,_21) + A_(2,_22) + A_(2,_23)\n",
       " + A_(2,_24) + A_(2,_25) + A_(2,_26) + A_(2,_27) + A_(2,_28) + A_(2,_29)\n",
       " + A_(2,_6) + A_(2,_7) + A_(2,_8) + A_(2,_9) >= 21\n",
       "\n",
       "_C31: A_(0,_19) + A_(0,_20) + A_(0,_21) + A_(0,_22) + A_(0,_23) + A_(0,_24)\n",
       " + A_(0,_25) + A_(0,_26) + A_(0,_27) + A_(0,_28) + A_(0,_29) + A_(0,_30)\n",
       " + A_(1,_15) + A_(1,_16) + A_(1,_17) + A_(1,_18) + A_(1,_19) + A_(1,_20)\n",
       " + A_(1,_21) + A_(1,_22) + A_(1,_23) + A_(1,_24) + A_(1,_25) + A_(1,_26)\n",
       " + A_(1,_27) + A_(1,_28) + A_(1,_29) + A_(1,_30) + A_(2,_10) + A_(2,_11)\n",
       " + A_(2,_12) + A_(2,_13) + A_(2,_14) + A_(2,_15) + A_(2,_16) + A_(2,_17)\n",
       " + A_(2,_18) + A_(2,_19) + A_(2,_20) + A_(2,_21) + A_(2,_22) + A_(2,_23)\n",
       " + A_(2,_24) + A_(2,_25) + A_(2,_26) + A_(2,_27) + A_(2,_28) + A_(2,_29)\n",
       " + A_(2,_30) + A_(2,_7) + A_(2,_8) + A_(2,_9) >= 23\n",
       "\n",
       "_C32: A_(0,_20) + A_(0,_21) + A_(0,_22) + A_(0,_23) + A_(0,_24) + A_(0,_25)\n",
       " + A_(0,_26) + A_(0,_27) + A_(0,_28) + A_(0,_29) + A_(0,_30) + A_(0,_31)\n",
       " + A_(1,_16) + A_(1,_17) + A_(1,_18) + A_(1,_19) + A_(1,_20) + A_(1,_21)\n",
       " + A_(1,_22) + A_(1,_23) + A_(1,_24) + A_(1,_25) + A_(1,_26) + A_(1,_27)\n",
       " + A_(1,_28) + A_(1,_29) + A_(1,_30) + A_(1,_31) + A_(2,_10) + A_(2,_11)\n",
       " + A_(2,_12) + A_(2,_13) + A_(2,_14) + A_(2,_15) + A_(2,_16) + A_(2,_17)\n",
       " + A_(2,_18) + A_(2,_19) + A_(2,_20) + A_(2,_21) + A_(2,_22) + A_(2,_23)\n",
       " + A_(2,_24) + A_(2,_25) + A_(2,_26) + A_(2,_27) + A_(2,_28) + A_(2,_29)\n",
       " + A_(2,_30) + A_(2,_31) + A_(2,_8) + A_(2,_9) >= 23\n",
       "\n",
       "_C33: A_(0,_21) + A_(0,_22) + A_(0,_23) + A_(0,_24) + A_(0,_25) + A_(0,_26)\n",
       " + A_(0,_27) + A_(0,_28) + A_(0,_29) + A_(0,_30) + A_(0,_31) + A_(0,_32)\n",
       " + A_(1,_17) + A_(1,_18) + A_(1,_19) + A_(1,_20) + A_(1,_21) + A_(1,_22)\n",
       " + A_(1,_23) + A_(1,_24) + A_(1,_25) + A_(1,_26) + A_(1,_27) + A_(1,_28)\n",
       " + A_(1,_29) + A_(1,_30) + A_(1,_31) + A_(1,_32) + A_(2,_10) + A_(2,_11)\n",
       " + A_(2,_12) + A_(2,_13) + A_(2,_14) + A_(2,_15) + A_(2,_16) + A_(2,_17)\n",
       " + A_(2,_18) + A_(2,_19) + A_(2,_20) + A_(2,_21) + A_(2,_22) + A_(2,_23)\n",
       " + A_(2,_24) + A_(2,_25) + A_(2,_26) + A_(2,_27) + A_(2,_28) + A_(2,_29)\n",
       " + A_(2,_30) + A_(2,_31) + A_(2,_32) + A_(2,_9) >= 41\n",
       "\n",
       "_C34: A_(0,_22) + A_(0,_23) + A_(0,_24) + A_(0,_25) + A_(0,_26) + A_(0,_27)\n",
       " + A_(0,_28) + A_(0,_29) + A_(0,_30) + A_(0,_31) + A_(0,_32) + A_(0,_33)\n",
       " + A_(1,_18) + A_(1,_19) + A_(1,_20) + A_(1,_21) + A_(1,_22) + A_(1,_23)\n",
       " + A_(1,_24) + A_(1,_25) + A_(1,_26) + A_(1,_27) + A_(1,_28) + A_(1,_29)\n",
       " + A_(1,_30) + A_(1,_31) + A_(1,_32) + A_(1,_33) + A_(2,_10) + A_(2,_11)\n",
       " + A_(2,_12) + A_(2,_13) + A_(2,_14) + A_(2,_15) + A_(2,_16) + A_(2,_17)\n",
       " + A_(2,_18) + A_(2,_19) + A_(2,_20) + A_(2,_21) + A_(2,_22) + A_(2,_23)\n",
       " + A_(2,_24) + A_(2,_25) + A_(2,_26) + A_(2,_27) + A_(2,_28) + A_(2,_29)\n",
       " + A_(2,_30) + A_(2,_31) + A_(2,_32) + A_(2,_33) >= 41\n",
       "\n",
       "_C35: A_(0,_23) + A_(0,_24) + A_(0,_25) + A_(0,_26) + A_(0,_27) + A_(0,_28)\n",
       " + A_(0,_29) + A_(0,_30) + A_(0,_31) + A_(0,_32) + A_(0,_33) + A_(0,_34)\n",
       " + A_(1,_19) + A_(1,_20) + A_(1,_21) + A_(1,_22) + A_(1,_23) + A_(1,_24)\n",
       " + A_(1,_25) + A_(1,_26) + A_(1,_27) + A_(1,_28) + A_(1,_29) + A_(1,_30)\n",
       " + A_(1,_31) + A_(1,_32) + A_(1,_33) + A_(1,_34) + A_(2,_11) + A_(2,_12)\n",
       " + A_(2,_13) + A_(2,_14) + A_(2,_15) + A_(2,_16) + A_(2,_17) + A_(2,_18)\n",
       " + A_(2,_19) + A_(2,_20) + A_(2,_21) + A_(2,_22) + A_(2,_23) + A_(2,_24)\n",
       " + A_(2,_25) + A_(2,_26) + A_(2,_27) + A_(2,_28) + A_(2,_29) + A_(2,_30)\n",
       " + A_(2,_31) + A_(2,_32) + A_(2,_33) + A_(2,_34) >= 41\n",
       "\n",
       "_C36: A_(0,_24) + A_(0,_25) + A_(0,_26) + A_(0,_27) + A_(0,_28) + A_(0,_29)\n",
       " + A_(0,_30) + A_(0,_31) + A_(0,_32) + A_(0,_33) + A_(0,_34) + A_(0,_35)\n",
       " + A_(1,_20) + A_(1,_21) + A_(1,_22) + A_(1,_23) + A_(1,_24) + A_(1,_25)\n",
       " + A_(1,_26) + A_(1,_27) + A_(1,_28) + A_(1,_29) + A_(1,_30) + A_(1,_31)\n",
       " + A_(1,_32) + A_(1,_33) + A_(1,_34) + A_(1,_35) + A_(2,_12) + A_(2,_13)\n",
       " + A_(2,_14) + A_(2,_15) + A_(2,_16) + A_(2,_17) + A_(2,_18) + A_(2,_19)\n",
       " + A_(2,_20) + A_(2,_21) + A_(2,_22) + A_(2,_23) + A_(2,_24) + A_(2,_25)\n",
       " + A_(2,_26) + A_(2,_27) + A_(2,_28) + A_(2,_29) + A_(2,_30) + A_(2,_31)\n",
       " + A_(2,_32) + A_(2,_33) + A_(2,_34) + A_(2,_35) >= 45\n",
       "\n",
       "_C37: A_(0,_25) + A_(0,_26) + A_(0,_27) + A_(0,_28) + A_(0,_29) + A_(0,_30)\n",
       " + A_(0,_31) + A_(0,_32) + A_(0,_33) + A_(0,_34) + A_(0,_35) + A_(0,_36)\n",
       " + A_(1,_21) + A_(1,_22) + A_(1,_23) + A_(1,_24) + A_(1,_25) + A_(1,_26)\n",
       " + A_(1,_27) + A_(1,_28) + A_(1,_29) + A_(1,_30) + A_(1,_31) + A_(1,_32)\n",
       " + A_(1,_33) + A_(1,_34) + A_(1,_35) + A_(1,_36) + A_(2,_13) + A_(2,_14)\n",
       " + A_(2,_15) + A_(2,_16) + A_(2,_17) + A_(2,_18) + A_(2,_19) + A_(2,_20)\n",
       " + A_(2,_21) + A_(2,_22) + A_(2,_23) + A_(2,_24) + A_(2,_25) + A_(2,_26)\n",
       " + A_(2,_27) + A_(2,_28) + A_(2,_29) + A_(2,_30) + A_(2,_31) + A_(2,_32)\n",
       " + A_(2,_33) + A_(2,_34) + A_(2,_35) + A_(2,_36) >= 66\n",
       "\n",
       "_C38: A_(0,_26) + A_(0,_27) + A_(0,_28) + A_(0,_29) + A_(0,_30) + A_(0,_31)\n",
       " + A_(0,_32) + A_(0,_33) + A_(0,_34) + A_(0,_35) + A_(0,_36) + A_(0,_37)\n",
       " + A_(1,_22) + A_(1,_23) + A_(1,_24) + A_(1,_25) + A_(1,_26) + A_(1,_27)\n",
       " + A_(1,_28) + A_(1,_29) + A_(1,_30) + A_(1,_31) + A_(1,_32) + A_(1,_33)\n",
       " + A_(1,_34) + A_(1,_35) + A_(1,_36) + A_(1,_37) + A_(2,_14) + A_(2,_15)\n",
       " + A_(2,_16) + A_(2,_17) + A_(2,_18) + A_(2,_19) + A_(2,_20) + A_(2,_21)\n",
       " + A_(2,_22) + A_(2,_23) + A_(2,_24) + A_(2,_25) + A_(2,_26) + A_(2,_27)\n",
       " + A_(2,_28) + A_(2,_29) + A_(2,_30) + A_(2,_31) + A_(2,_32) + A_(2,_33)\n",
       " + A_(2,_34) + A_(2,_35) + A_(2,_36) + A_(2,_37) >= 59\n",
       "\n",
       "_C39: A_(0,_27) + A_(0,_28) + A_(0,_29) + A_(0,_30) + A_(0,_31) + A_(0,_32)\n",
       " + A_(0,_33) + A_(0,_34) + A_(0,_35) + A_(0,_36) + A_(0,_37) + A_(0,_38)\n",
       " + A_(1,_23) + A_(1,_24) + A_(1,_25) + A_(1,_26) + A_(1,_27) + A_(1,_28)\n",
       " + A_(1,_29) + A_(1,_30) + A_(1,_31) + A_(1,_32) + A_(1,_33) + A_(1,_34)\n",
       " + A_(1,_35) + A_(1,_36) + A_(1,_37) + A_(1,_38) + A_(2,_15) + A_(2,_16)\n",
       " + A_(2,_17) + A_(2,_18) + A_(2,_19) + A_(2,_20) + A_(2,_21) + A_(2,_22)\n",
       " + A_(2,_23) + A_(2,_24) + A_(2,_25) + A_(2,_26) + A_(2,_27) + A_(2,_28)\n",
       " + A_(2,_29) + A_(2,_30) + A_(2,_31) + A_(2,_32) + A_(2,_33) + A_(2,_34)\n",
       " + A_(2,_35) + A_(2,_36) + A_(2,_37) + A_(2,_38) >= 60\n",
       "\n",
       "_C40: A_(0,_28) + A_(0,_29) + A_(0,_30) + A_(0,_31) + A_(0,_32) + A_(0,_33)\n",
       " + A_(0,_34) + A_(0,_35) + A_(0,_36) + A_(0,_37) + A_(0,_38) + A_(0,_39)\n",
       " + A_(1,_24) + A_(1,_25) + A_(1,_26) + A_(1,_27) + A_(1,_28) + A_(1,_29)\n",
       " + A_(1,_30) + A_(1,_31) + A_(1,_32) + A_(1,_33) + A_(1,_34) + A_(1,_35)\n",
       " + A_(1,_36) + A_(1,_37) + A_(1,_38) + A_(1,_39) + A_(2,_16) + A_(2,_17)\n",
       " + A_(2,_18) + A_(2,_19) + A_(2,_20) + A_(2,_21) + A_(2,_22) + A_(2,_23)\n",
       " + A_(2,_24) + A_(2,_25) + A_(2,_26) + A_(2,_27) + A_(2,_28) + A_(2,_29)\n",
       " + A_(2,_30) + A_(2,_31) + A_(2,_32) + A_(2,_33) + A_(2,_34) + A_(2,_35)\n",
       " + A_(2,_36) + A_(2,_37) + A_(2,_38) + A_(2,_39) >= 67\n",
       "\n",
       "_C41: A_(0,_29) + A_(0,_30) + A_(0,_31) + A_(0,_32) + A_(0,_33) + A_(0,_34)\n",
       " + A_(0,_35) + A_(0,_36) + A_(0,_37) + A_(0,_38) + A_(0,_39) + A_(0,_40)\n",
       " + A_(1,_25) + A_(1,_26) + A_(1,_27) + A_(1,_28) + A_(1,_29) + A_(1,_30)\n",
       " + A_(1,_31) + A_(1,_32) + A_(1,_33) + A_(1,_34) + A_(1,_35) + A_(1,_36)\n",
       " + A_(1,_37) + A_(1,_38) + A_(1,_39) + A_(1,_40) + A_(2,_17) + A_(2,_18)\n",
       " + A_(2,_19) + A_(2,_20) + A_(2,_21) + A_(2,_22) + A_(2,_23) + A_(2,_24)\n",
       " + A_(2,_25) + A_(2,_26) + A_(2,_27) + A_(2,_28) + A_(2,_29) + A_(2,_30)\n",
       " + A_(2,_31) + A_(2,_32) + A_(2,_33) + A_(2,_34) + A_(2,_35) + A_(2,_36)\n",
       " + A_(2,_37) + A_(2,_38) + A_(2,_39) + A_(2,_40) >= 70\n",
       "\n",
       "_C42: A_(0,_30) + A_(0,_31) + A_(0,_32) + A_(0,_33) + A_(0,_34) + A_(0,_35)\n",
       " + A_(0,_36) + A_(0,_37) + A_(0,_38) + A_(0,_39) + A_(0,_40) + A_(0,_41)\n",
       " + A_(1,_26) + A_(1,_27) + A_(1,_28) + A_(1,_29) + A_(1,_30) + A_(1,_31)\n",
       " + A_(1,_32) + A_(1,_33) + A_(1,_34) + A_(1,_35) + A_(1,_36) + A_(1,_37)\n",
       " + A_(1,_38) + A_(1,_39) + A_(1,_40) + A_(1,_41) + A_(2,_18) + A_(2,_19)\n",
       " + A_(2,_20) + A_(2,_21) + A_(2,_22) + A_(2,_23) + A_(2,_24) + A_(2,_25)\n",
       " + A_(2,_26) + A_(2,_27) + A_(2,_28) + A_(2,_29) + A_(2,_30) + A_(2,_31)\n",
       " + A_(2,_32) + A_(2,_33) + A_(2,_34) + A_(2,_35) + A_(2,_36) + A_(2,_37)\n",
       " + A_(2,_38) + A_(2,_39) + A_(2,_40) + A_(2,_41) >= 75\n",
       "\n",
       "_C43: A_(0,_31) + A_(0,_32) + A_(0,_33) + A_(0,_34) + A_(0,_35) + A_(0,_36)\n",
       " + A_(0,_37) + A_(0,_38) + A_(0,_39) + A_(0,_40) + A_(0,_41) + A_(0,_42)\n",
       " + A_(1,_27) + A_(1,_28) + A_(1,_29) + A_(1,_30) + A_(1,_31) + A_(1,_32)\n",
       " + A_(1,_33) + A_(1,_34) + A_(1,_35) + A_(1,_36) + A_(1,_37) + A_(1,_38)\n",
       " + A_(1,_39) + A_(1,_40) + A_(1,_41) + A_(1,_42) + A_(2,_19) + A_(2,_20)\n",
       " + A_(2,_21) + A_(2,_22) + A_(2,_23) + A_(2,_24) + A_(2,_25) + A_(2,_26)\n",
       " + A_(2,_27) + A_(2,_28) + A_(2,_29) + A_(2,_30) + A_(2,_31) + A_(2,_32)\n",
       " + A_(2,_33) + A_(2,_34) + A_(2,_35) + A_(2,_36) + A_(2,_37) + A_(2,_38)\n",
       " + A_(2,_39) + A_(2,_40) + A_(2,_41) + A_(2,_42) >= 71\n",
       "\n",
       "_C44: A_(0,_32) + A_(0,_33) + A_(0,_34) + A_(0,_35) + A_(0,_36) + A_(0,_37)\n",
       " + A_(0,_38) + A_(0,_39) + A_(0,_40) + A_(0,_41) + A_(0,_42) + A_(0,_43)\n",
       " + A_(1,_28) + A_(1,_29) + A_(1,_30) + A_(1,_31) + A_(1,_32) + A_(1,_33)\n",
       " + A_(1,_34) + A_(1,_35) + A_(1,_36) + A_(1,_37) + A_(1,_38) + A_(1,_39)\n",
       " + A_(1,_40) + A_(1,_41) + A_(1,_42) + A_(1,_43) + A_(2,_20) + A_(2,_21)\n",
       " + A_(2,_22) + A_(2,_23) + A_(2,_24) + A_(2,_25) + A_(2,_26) + A_(2,_27)\n",
       " + A_(2,_28) + A_(2,_29) + A_(2,_30) + A_(2,_31) + A_(2,_32) + A_(2,_33)\n",
       " + A_(2,_34) + A_(2,_35) + A_(2,_36) + A_(2,_37) + A_(2,_38) + A_(2,_39)\n",
       " + A_(2,_40) + A_(2,_41) + A_(2,_42) + A_(2,_43) >= 75\n",
       "\n",
       "_C45: A_(0,_33) + A_(0,_34) + A_(0,_35) + A_(0,_36) + A_(0,_37) + A_(0,_38)\n",
       " + A_(0,_39) + A_(0,_40) + A_(0,_41) + A_(0,_42) + A_(0,_43) + A_(0,_44)\n",
       " + A_(1,_29) + A_(1,_30) + A_(1,_31) + A_(1,_32) + A_(1,_33) + A_(1,_34)\n",
       " + A_(1,_35) + A_(1,_36) + A_(1,_37) + A_(1,_38) + A_(1,_39) + A_(1,_40)\n",
       " + A_(1,_41) + A_(1,_42) + A_(1,_43) + A_(1,_44) + A_(2,_21) + A_(2,_22)\n",
       " + A_(2,_23) + A_(2,_24) + A_(2,_25) + A_(2,_26) + A_(2,_27) + A_(2,_28)\n",
       " + A_(2,_29) + A_(2,_30) + A_(2,_31) + A_(2,_32) + A_(2,_33) + A_(2,_34)\n",
       " + A_(2,_35) + A_(2,_36) + A_(2,_37) + A_(2,_38) + A_(2,_39) + A_(2,_40)\n",
       " + A_(2,_41) + A_(2,_42) + A_(2,_43) + A_(2,_44) >= 66\n",
       "\n",
       "_C46: A_(0,_34) + A_(0,_35) + A_(0,_36) + A_(0,_37) + A_(0,_38) + A_(0,_39)\n",
       " + A_(0,_40) + A_(0,_41) + A_(0,_42) + A_(0,_43) + A_(0,_44) + A_(0,_45)\n",
       " + A_(1,_30) + A_(1,_31) + A_(1,_32) + A_(1,_33) + A_(1,_34) + A_(1,_35)\n",
       " + A_(1,_36) + A_(1,_37) + A_(1,_38) + A_(1,_39) + A_(1,_40) + A_(1,_41)\n",
       " + A_(1,_42) + A_(1,_43) + A_(1,_44) + A_(1,_45) + A_(2,_22) + A_(2,_23)\n",
       " + A_(2,_24) + A_(2,_25) + A_(2,_26) + A_(2,_27) + A_(2,_28) + A_(2,_29)\n",
       " + A_(2,_30) + A_(2,_31) + A_(2,_32) + A_(2,_33) + A_(2,_34) + A_(2,_35)\n",
       " + A_(2,_36) + A_(2,_37) + A_(2,_38) + A_(2,_39) + A_(2,_40) + A_(2,_41)\n",
       " + A_(2,_42) + A_(2,_43) + A_(2,_44) + A_(2,_45) >= 64\n",
       "\n",
       "_C47: A_(0,_35) + A_(0,_36) + A_(0,_37) + A_(0,_38) + A_(0,_39) + A_(0,_40)\n",
       " + A_(0,_41) + A_(0,_42) + A_(0,_43) + A_(0,_44) + A_(0,_45) + A_(0,_46)\n",
       " + A_(1,_31) + A_(1,_32) + A_(1,_33) + A_(1,_34) + A_(1,_35) + A_(1,_36)\n",
       " + A_(1,_37) + A_(1,_38) + A_(1,_39) + A_(1,_40) + A_(1,_41) + A_(1,_42)\n",
       " + A_(1,_43) + A_(1,_44) + A_(1,_45) + A_(1,_46) + A_(2,_23) + A_(2,_24)\n",
       " + A_(2,_25) + A_(2,_26) + A_(2,_27) + A_(2,_28) + A_(2,_29) + A_(2,_30)\n",
       " + A_(2,_31) + A_(2,_32) + A_(2,_33) + A_(2,_34) + A_(2,_35) + A_(2,_36)\n",
       " + A_(2,_37) + A_(2,_38) + A_(2,_39) + A_(2,_40) + A_(2,_41) + A_(2,_42)\n",
       " + A_(2,_43) + A_(2,_44) + A_(2,_45) + A_(2,_46) >= 62\n",
       "\n",
       "_C48: A_(0,_36) + A_(0,_37) + A_(0,_38) + A_(0,_39) + A_(0,_40) + A_(0,_41)\n",
       " + A_(0,_42) + A_(0,_43) + A_(0,_44) + A_(0,_45) + A_(0,_46) + A_(0,_47)\n",
       " + A_(1,_32) + A_(1,_33) + A_(1,_34) + A_(1,_35) + A_(1,_36) + A_(1,_37)\n",
       " + A_(1,_38) + A_(1,_39) + A_(1,_40) + A_(1,_41) + A_(1,_42) + A_(1,_43)\n",
       " + A_(1,_44) + A_(1,_45) + A_(1,_46) + A_(1,_47) + A_(2,_24) + A_(2,_25)\n",
       " + A_(2,_26) + A_(2,_27) + A_(2,_28) + A_(2,_29) + A_(2,_30) + A_(2,_31)\n",
       " + A_(2,_32) + A_(2,_33) + A_(2,_34) + A_(2,_35) + A_(2,_36) + A_(2,_37)\n",
       " + A_(2,_38) + A_(2,_39) + A_(2,_40) + A_(2,_41) + A_(2,_42) + A_(2,_43)\n",
       " + A_(2,_44) + A_(2,_45) + A_(2,_46) + A_(2,_47) >= 68\n",
       "\n",
       "_C49: A_(0,_37) + A_(0,_38) + A_(0,_39) + A_(0,_40) + A_(0,_41) + A_(0,_42)\n",
       " + A_(0,_43) + A_(0,_44) + A_(0,_45) + A_(0,_46) + A_(0,_47) + A_(0,_48)\n",
       " + A_(1,_33) + A_(1,_34) + A_(1,_35) + A_(1,_36) + A_(1,_37) + A_(1,_38)\n",
       " + A_(1,_39) + A_(1,_40) + A_(1,_41) + A_(1,_42) + A_(1,_43) + A_(1,_44)\n",
       " + A_(1,_45) + A_(1,_46) + A_(1,_47) + A_(1,_48) + A_(2,_25) + A_(2,_26)\n",
       " + A_(2,_27) + A_(2,_28) + A_(2,_29) + A_(2,_30) + A_(2,_31) + A_(2,_32)\n",
       " + A_(2,_33) + A_(2,_34) + A_(2,_35) + A_(2,_36) + A_(2,_37) + A_(2,_38)\n",
       " + A_(2,_39) + A_(2,_40) + A_(2,_41) + A_(2,_42) + A_(2,_43) + A_(2,_44)\n",
       " + A_(2,_45) + A_(2,_46) + A_(2,_47) + A_(2,_48) >= 57\n",
       "\n",
       "_C50: A_(0,_38) + A_(0,_39) + A_(0,_40) + A_(0,_41) + A_(0,_42) + A_(0,_43)\n",
       " + A_(0,_44) + A_(0,_45) + A_(0,_46) + A_(0,_47) + A_(0,_48) + A_(0,_49)\n",
       " + A_(1,_34) + A_(1,_35) + A_(1,_36) + A_(1,_37) + A_(1,_38) + A_(1,_39)\n",
       " + A_(1,_40) + A_(1,_41) + A_(1,_42) + A_(1,_43) + A_(1,_44) + A_(1,_45)\n",
       " + A_(1,_46) + A_(1,_47) + A_(1,_48) + A_(1,_49) + A_(2,_26) + A_(2,_27)\n",
       " + A_(2,_28) + A_(2,_29) + A_(2,_30) + A_(2,_31) + A_(2,_32) + A_(2,_33)\n",
       " + A_(2,_34) + A_(2,_35) + A_(2,_36) + A_(2,_37) + A_(2,_38) + A_(2,_39)\n",
       " + A_(2,_40) + A_(2,_41) + A_(2,_42) + A_(2,_43) + A_(2,_44) + A_(2,_45)\n",
       " + A_(2,_46) + A_(2,_47) + A_(2,_48) + A_(2,_49) >= 57\n",
       "\n",
       "_C51: A_(0,_39) + A_(0,_40) + A_(0,_41) + A_(0,_42) + A_(0,_43) + A_(0,_44)\n",
       " + A_(0,_45) + A_(0,_46) + A_(0,_47) + A_(0,_48) + A_(0,_49) + A_(0,_50)\n",
       " + A_(1,_35) + A_(1,_36) + A_(1,_37) + A_(1,_38) + A_(1,_39) + A_(1,_40)\n",
       " + A_(1,_41) + A_(1,_42) + A_(1,_43) + A_(1,_44) + A_(1,_45) + A_(1,_46)\n",
       " + A_(1,_47) + A_(1,_48) + A_(1,_49) + A_(1,_50) + A_(2,_27) + A_(2,_28)\n",
       " + A_(2,_29) + A_(2,_30) + A_(2,_31) + A_(2,_32) + A_(2,_33) + A_(2,_34)\n",
       " + A_(2,_35) + A_(2,_36) + A_(2,_37) + A_(2,_38) + A_(2,_39) + A_(2,_40)\n",
       " + A_(2,_41) + A_(2,_42) + A_(2,_43) + A_(2,_44) + A_(2,_45) + A_(2,_46)\n",
       " + A_(2,_47) + A_(2,_48) + A_(2,_49) + A_(2,_50) >= 56\n",
       "\n",
       "_C52: A_(0,_40) + A_(0,_41) + A_(0,_42) + A_(0,_43) + A_(0,_44) + A_(0,_45)\n",
       " + A_(0,_46) + A_(0,_47) + A_(0,_48) + A_(0,_49) + A_(0,_50) + A_(0,_51)\n",
       " + A_(1,_36) + A_(1,_37) + A_(1,_38) + A_(1,_39) + A_(1,_40) + A_(1,_41)\n",
       " + A_(1,_42) + A_(1,_43) + A_(1,_44) + A_(1,_45) + A_(1,_46) + A_(1,_47)\n",
       " + A_(1,_48) + A_(1,_49) + A_(1,_50) + A_(1,_51) + A_(2,_28) + A_(2,_29)\n",
       " + A_(2,_30) + A_(2,_31) + A_(2,_32) + A_(2,_33) + A_(2,_34) + A_(2,_35)\n",
       " + A_(2,_36) + A_(2,_37) + A_(2,_38) + A_(2,_39) + A_(2,_40) + A_(2,_41)\n",
       " + A_(2,_42) + A_(2,_43) + A_(2,_44) + A_(2,_45) + A_(2,_46) + A_(2,_47)\n",
       " + A_(2,_48) + A_(2,_49) + A_(2,_50) + A_(2,_51) >= 60\n",
       "\n",
       "_C53: A_(0,_41) + A_(0,_42) + A_(0,_43) + A_(0,_44) + A_(0,_45) + A_(0,_46)\n",
       " + A_(0,_47) + A_(0,_48) + A_(0,_49) + A_(0,_50) + A_(0,_51) + A_(0,_52)\n",
       " + A_(1,_37) + A_(1,_38) + A_(1,_39) + A_(1,_40) + A_(1,_41) + A_(1,_42)\n",
       " + A_(1,_43) + A_(1,_44) + A_(1,_45) + A_(1,_46) + A_(1,_47) + A_(1,_48)\n",
       " + A_(1,_49) + A_(1,_50) + A_(1,_51) + A_(1,_52) + A_(2,_29) + A_(2,_30)\n",
       " + A_(2,_31) + A_(2,_32) + A_(2,_33) + A_(2,_34) + A_(2,_35) + A_(2,_36)\n",
       " + A_(2,_37) + A_(2,_38) + A_(2,_39) + A_(2,_40) + A_(2,_41) + A_(2,_42)\n",
       " + A_(2,_43) + A_(2,_44) + A_(2,_45) + A_(2,_46) + A_(2,_47) + A_(2,_48)\n",
       " + A_(2,_49) + A_(2,_50) + A_(2,_51) + A_(2,_52) >= 64\n",
       "\n",
       "_C54: A_(0,_42) + A_(0,_43) + A_(0,_44) + A_(0,_45) + A_(0,_46) + A_(0,_47)\n",
       " + A_(0,_48) + A_(0,_49) + A_(0,_50) + A_(0,_51) + A_(0,_52) + A_(0,_53)\n",
       " + A_(1,_38) + A_(1,_39) + A_(1,_40) + A_(1,_41) + A_(1,_42) + A_(1,_43)\n",
       " + A_(1,_44) + A_(1,_45) + A_(1,_46) + A_(1,_47) + A_(1,_48) + A_(1,_49)\n",
       " + A_(1,_50) + A_(1,_51) + A_(1,_52) + A_(1,_53) + A_(2,_30) + A_(2,_31)\n",
       " + A_(2,_32) + A_(2,_33) + A_(2,_34) + A_(2,_35) + A_(2,_36) + A_(2,_37)\n",
       " + A_(2,_38) + A_(2,_39) + A_(2,_40) + A_(2,_41) + A_(2,_42) + A_(2,_43)\n",
       " + A_(2,_44) + A_(2,_45) + A_(2,_46) + A_(2,_47) + A_(2,_48) + A_(2,_49)\n",
       " + A_(2,_50) + A_(2,_51) + A_(2,_52) + A_(2,_53) >= 67\n",
       "\n",
       "_C55: A_(0,_43) + A_(0,_44) + A_(0,_45) + A_(0,_46) + A_(0,_47) + A_(0,_48)\n",
       " + A_(0,_49) + A_(0,_50) + A_(0,_51) + A_(0,_52) + A_(0,_53) + A_(0,_54)\n",
       " + A_(1,_39) + A_(1,_40) + A_(1,_41) + A_(1,_42) + A_(1,_43) + A_(1,_44)\n",
       " + A_(1,_45) + A_(1,_46) + A_(1,_47) + A_(1,_48) + A_(1,_49) + A_(1,_50)\n",
       " + A_(1,_51) + A_(1,_52) + A_(1,_53) + A_(1,_54) + A_(2,_31) + A_(2,_32)\n",
       " + A_(2,_33) + A_(2,_34) + A_(2,_35) + A_(2,_36) + A_(2,_37) + A_(2,_38)\n",
       " + A_(2,_39) + A_(2,_40) + A_(2,_41) + A_(2,_42) + A_(2,_43) + A_(2,_44)\n",
       " + A_(2,_45) + A_(2,_46) + A_(2,_47) + A_(2,_48) + A_(2,_49) + A_(2,_50)\n",
       " + A_(2,_51) + A_(2,_52) + A_(2,_53) + A_(2,_54) >= 63\n",
       "\n",
       "_C56: A_(0,_44) + A_(0,_45) + A_(0,_46) + A_(0,_47) + A_(0,_48) + A_(0,_49)\n",
       " + A_(0,_50) + A_(0,_51) + A_(0,_52) + A_(0,_53) + A_(0,_54) + A_(0,_55)\n",
       " + A_(1,_40) + A_(1,_41) + A_(1,_42) + A_(1,_43) + A_(1,_44) + A_(1,_45)\n",
       " + A_(1,_46) + A_(1,_47) + A_(1,_48) + A_(1,_49) + A_(1,_50) + A_(1,_51)\n",
       " + A_(1,_52) + A_(1,_53) + A_(1,_54) + A_(1,_55) + A_(2,_32) + A_(2,_33)\n",
       " + A_(2,_34) + A_(2,_35) + A_(2,_36) + A_(2,_37) + A_(2,_38) + A_(2,_39)\n",
       " + A_(2,_40) + A_(2,_41) + A_(2,_42) + A_(2,_43) + A_(2,_44) + A_(2,_45)\n",
       " + A_(2,_46) + A_(2,_47) + A_(2,_48) + A_(2,_49) + A_(2,_50) + A_(2,_51)\n",
       " + A_(2,_52) + A_(2,_53) + A_(2,_54) + A_(2,_55) >= 70\n",
       "\n",
       "_C57: A_(0,_45) + A_(0,_46) + A_(0,_47) + A_(0,_48) + A_(0,_49) + A_(0,_50)\n",
       " + A_(0,_51) + A_(0,_52) + A_(0,_53) + A_(0,_54) + A_(0,_55) + A_(0,_56)\n",
       " + A_(1,_41) + A_(1,_42) + A_(1,_43) + A_(1,_44) + A_(1,_45) + A_(1,_46)\n",
       " + A_(1,_47) + A_(1,_48) + A_(1,_49) + A_(1,_50) + A_(1,_51) + A_(1,_52)\n",
       " + A_(1,_53) + A_(1,_54) + A_(1,_55) + A_(1,_56) + A_(2,_33) + A_(2,_34)\n",
       " + A_(2,_35) + A_(2,_36) + A_(2,_37) + A_(2,_38) + A_(2,_39) + A_(2,_40)\n",
       " + A_(2,_41) + A_(2,_42) + A_(2,_43) + A_(2,_44) + A_(2,_45) + A_(2,_46)\n",
       " + A_(2,_47) + A_(2,_48) + A_(2,_49) + A_(2,_50) + A_(2,_51) + A_(2,_52)\n",
       " + A_(2,_53) + A_(2,_54) + A_(2,_55) + A_(2,_56) >= 69\n",
       "\n",
       "_C58: A_(0,_46) + A_(0,_47) + A_(0,_48) + A_(0,_49) + A_(0,_50) + A_(0,_51)\n",
       " + A_(0,_52) + A_(0,_53) + A_(0,_54) + A_(0,_55) + A_(0,_56) + A_(0,_57)\n",
       " + A_(1,_42) + A_(1,_43) + A_(1,_44) + A_(1,_45) + A_(1,_46) + A_(1,_47)\n",
       " + A_(1,_48) + A_(1,_49) + A_(1,_50) + A_(1,_51) + A_(1,_52) + A_(1,_53)\n",
       " + A_(1,_54) + A_(1,_55) + A_(1,_56) + A_(1,_57) + A_(2,_34) + A_(2,_35)\n",
       " + A_(2,_36) + A_(2,_37) + A_(2,_38) + A_(2,_39) + A_(2,_40) + A_(2,_41)\n",
       " + A_(2,_42) + A_(2,_43) + A_(2,_44) + A_(2,_45) + A_(2,_46) + A_(2,_47)\n",
       " + A_(2,_48) + A_(2,_49) + A_(2,_50) + A_(2,_51) + A_(2,_52) + A_(2,_53)\n",
       " + A_(2,_54) + A_(2,_55) + A_(2,_56) + A_(2,_57) >= 67\n",
       "\n",
       "_C59: A_(0,_47) + A_(0,_48) + A_(0,_49) + A_(0,_50) + A_(0,_51) + A_(0,_52)\n",
       " + A_(0,_53) + A_(0,_54) + A_(0,_55) + A_(0,_56) + A_(0,_57) + A_(0,_58)\n",
       " + A_(1,_43) + A_(1,_44) + A_(1,_45) + A_(1,_46) + A_(1,_47) + A_(1,_48)\n",
       " + A_(1,_49) + A_(1,_50) + A_(1,_51) + A_(1,_52) + A_(1,_53) + A_(1,_54)\n",
       " + A_(1,_55) + A_(1,_56) + A_(1,_57) + A_(1,_58) + A_(2,_35) + A_(2,_36)\n",
       " + A_(2,_37) + A_(2,_38) + A_(2,_39) + A_(2,_40) + A_(2,_41) + A_(2,_42)\n",
       " + A_(2,_43) + A_(2,_44) + A_(2,_45) + A_(2,_46) + A_(2,_47) + A_(2,_48)\n",
       " + A_(2,_49) + A_(2,_50) + A_(2,_51) + A_(2,_52) + A_(2,_53) + A_(2,_54)\n",
       " + A_(2,_55) + A_(2,_56) + A_(2,_57) + A_(2,_58) >= 64\n",
       "\n",
       "_C60: A_(0,_48) + A_(0,_49) + A_(0,_50) + A_(0,_51) + A_(0,_52) + A_(0,_53)\n",
       " + A_(0,_54) + A_(0,_55) + A_(0,_56) + A_(0,_57) + A_(0,_58) + A_(0,_59)\n",
       " + A_(1,_44) + A_(1,_45) + A_(1,_46) + A_(1,_47) + A_(1,_48) + A_(1,_49)\n",
       " + A_(1,_50) + A_(1,_51) + A_(1,_52) + A_(1,_53) + A_(1,_54) + A_(1,_55)\n",
       " + A_(1,_56) + A_(1,_57) + A_(1,_58) + A_(1,_59) + A_(2,_36) + A_(2,_37)\n",
       " + A_(2,_38) + A_(2,_39) + A_(2,_40) + A_(2,_41) + A_(2,_42) + A_(2,_43)\n",
       " + A_(2,_44) + A_(2,_45) + A_(2,_46) + A_(2,_47) + A_(2,_48) + A_(2,_49)\n",
       " + A_(2,_50) + A_(2,_51) + A_(2,_52) + A_(2,_53) + A_(2,_54) + A_(2,_55)\n",
       " + A_(2,_56) + A_(2,_57) + A_(2,_58) + A_(2,_59) >= 66\n",
       "\n",
       "_C61: A_(0,_49) + A_(0,_50) + A_(0,_51) + A_(0,_52) + A_(0,_53) + A_(0,_54)\n",
       " + A_(0,_55) + A_(0,_56) + A_(0,_57) + A_(0,_58) + A_(0,_59) + A_(0,_60)\n",
       " + A_(1,_45) + A_(1,_46) + A_(1,_47) + A_(1,_48) + A_(1,_49) + A_(1,_50)\n",
       " + A_(1,_51) + A_(1,_52) + A_(1,_53) + A_(1,_54) + A_(1,_55) + A_(1,_56)\n",
       " + A_(1,_57) + A_(1,_58) + A_(1,_59) + A_(1,_60) + A_(2,_37) + A_(2,_38)\n",
       " + A_(2,_39) + A_(2,_40) + A_(2,_41) + A_(2,_42) + A_(2,_43) + A_(2,_44)\n",
       " + A_(2,_45) + A_(2,_46) + A_(2,_47) + A_(2,_48) + A_(2,_49) + A_(2,_50)\n",
       " + A_(2,_51) + A_(2,_52) + A_(2,_53) + A_(2,_54) + A_(2,_55) + A_(2,_56)\n",
       " + A_(2,_57) + A_(2,_58) + A_(2,_59) + A_(2,_60) >= 71\n",
       "\n",
       "_C62: A_(0,_50) + A_(0,_51) + A_(0,_52) + A_(0,_53) + A_(0,_54) + A_(0,_55)\n",
       " + A_(0,_56) + A_(0,_57) + A_(0,_58) + A_(0,_59) + A_(0,_60) + A_(0,_61)\n",
       " + A_(1,_46) + A_(1,_47) + A_(1,_48) + A_(1,_49) + A_(1,_50) + A_(1,_51)\n",
       " + A_(1,_52) + A_(1,_53) + A_(1,_54) + A_(1,_55) + A_(1,_56) + A_(1,_57)\n",
       " + A_(1,_58) + A_(1,_59) + A_(1,_60) + A_(1,_61) + A_(2,_38) + A_(2,_39)\n",
       " + A_(2,_40) + A_(2,_41) + A_(2,_42) + A_(2,_43) + A_(2,_44) + A_(2,_45)\n",
       " + A_(2,_46) + A_(2,_47) + A_(2,_48) + A_(2,_49) + A_(2,_50) + A_(2,_51)\n",
       " + A_(2,_52) + A_(2,_53) + A_(2,_54) + A_(2,_55) + A_(2,_56) + A_(2,_57)\n",
       " + A_(2,_58) + A_(2,_59) + A_(2,_60) + A_(2,_61) >= 66\n",
       "\n",
       "_C63: A_(0,_51) + A_(0,_52) + A_(0,_53) + A_(0,_54) + A_(0,_55) + A_(0,_56)\n",
       " + A_(0,_57) + A_(0,_58) + A_(0,_59) + A_(0,_60) + A_(0,_61) + A_(0,_62)\n",
       " + A_(1,_47) + A_(1,_48) + A_(1,_49) + A_(1,_50) + A_(1,_51) + A_(1,_52)\n",
       " + A_(1,_53) + A_(1,_54) + A_(1,_55) + A_(1,_56) + A_(1,_57) + A_(1,_58)\n",
       " + A_(1,_59) + A_(1,_60) + A_(1,_61) + A_(1,_62) + A_(2,_39) + A_(2,_40)\n",
       " + A_(2,_41) + A_(2,_42) + A_(2,_43) + A_(2,_44) + A_(2,_45) + A_(2,_46)\n",
       " + A_(2,_47) + A_(2,_48) + A_(2,_49) + A_(2,_50) + A_(2,_51) + A_(2,_52)\n",
       " + A_(2,_53) + A_(2,_54) + A_(2,_55) + A_(2,_56) + A_(2,_57) + A_(2,_58)\n",
       " + A_(2,_59) + A_(2,_60) + A_(2,_61) + A_(2,_62) >= 70\n",
       "\n",
       "_C64: A_(0,_52) + A_(0,_53) + A_(0,_54) + A_(0,_55) + A_(0,_56) + A_(0,_57)\n",
       " + A_(0,_58) + A_(0,_59) + A_(0,_60) + A_(0,_61) + A_(0,_62) + A_(0,_63)\n",
       " + A_(1,_48) + A_(1,_49) + A_(1,_50) + A_(1,_51) + A_(1,_52) + A_(1,_53)\n",
       " + A_(1,_54) + A_(1,_55) + A_(1,_56) + A_(1,_57) + A_(1,_58) + A_(1,_59)\n",
       " + A_(1,_60) + A_(1,_61) + A_(1,_62) + A_(1,_63) + A_(2,_40) + A_(2,_41)\n",
       " + A_(2,_42) + A_(2,_43) + A_(2,_44) + A_(2,_45) + A_(2,_46) + A_(2,_47)\n",
       " + A_(2,_48) + A_(2,_49) + A_(2,_50) + A_(2,_51) + A_(2,_52) + A_(2,_53)\n",
       " + A_(2,_54) + A_(2,_55) + A_(2,_56) + A_(2,_57) + A_(2,_58) + A_(2,_59)\n",
       " + A_(2,_60) + A_(2,_61) + A_(2,_62) + A_(2,_63) >= 67\n",
       "\n",
       "_C65: A_(0,_53) + A_(0,_54) + A_(0,_55) + A_(0,_56) + A_(0,_57) + A_(0,_58)\n",
       " + A_(0,_59) + A_(0,_60) + A_(0,_61) + A_(0,_62) + A_(0,_63) + A_(0,_64)\n",
       " + A_(1,_49) + A_(1,_50) + A_(1,_51) + A_(1,_52) + A_(1,_53) + A_(1,_54)\n",
       " + A_(1,_55) + A_(1,_56) + A_(1,_57) + A_(1,_58) + A_(1,_59) + A_(1,_60)\n",
       " + A_(1,_61) + A_(1,_62) + A_(1,_63) + A_(1,_64) + A_(2,_41) + A_(2,_42)\n",
       " + A_(2,_43) + A_(2,_44) + A_(2,_45) + A_(2,_46) + A_(2,_47) + A_(2,_48)\n",
       " + A_(2,_49) + A_(2,_50) + A_(2,_51) + A_(2,_52) + A_(2,_53) + A_(2,_54)\n",
       " + A_(2,_55) + A_(2,_56) + A_(2,_57) + A_(2,_58) + A_(2,_59) + A_(2,_60)\n",
       " + A_(2,_61) + A_(2,_62) + A_(2,_63) + A_(2,_64) >= 68\n",
       "\n",
       "_C66: A_(0,_54) + A_(0,_55) + A_(0,_56) + A_(0,_57) + A_(0,_58) + A_(0,_59)\n",
       " + A_(0,_60) + A_(0,_61) + A_(0,_62) + A_(0,_63) + A_(0,_64) + A_(0,_65)\n",
       " + A_(1,_50) + A_(1,_51) + A_(1,_52) + A_(1,_53) + A_(1,_54) + A_(1,_55)\n",
       " + A_(1,_56) + A_(1,_57) + A_(1,_58) + A_(1,_59) + A_(1,_60) + A_(1,_61)\n",
       " + A_(1,_62) + A_(1,_63) + A_(1,_64) + A_(1,_65) + A_(2,_42) + A_(2,_43)\n",
       " + A_(2,_44) + A_(2,_45) + A_(2,_46) + A_(2,_47) + A_(2,_48) + A_(2,_49)\n",
       " + A_(2,_50) + A_(2,_51) + A_(2,_52) + A_(2,_53) + A_(2,_54) + A_(2,_55)\n",
       " + A_(2,_56) + A_(2,_57) + A_(2,_58) + A_(2,_59) + A_(2,_60) + A_(2,_61)\n",
       " + A_(2,_62) + A_(2,_63) + A_(2,_64) + A_(2,_65) >= 66\n",
       "\n",
       "_C67: A_(0,_55) + A_(0,_56) + A_(0,_57) + A_(0,_58) + A_(0,_59) + A_(0,_60)\n",
       " + A_(0,_61) + A_(0,_62) + A_(0,_63) + A_(0,_64) + A_(0,_65) + A_(0,_66)\n",
       " + A_(1,_51) + A_(1,_52) + A_(1,_53) + A_(1,_54) + A_(1,_55) + A_(1,_56)\n",
       " + A_(1,_57) + A_(1,_58) + A_(1,_59) + A_(1,_60) + A_(1,_61) + A_(1,_62)\n",
       " + A_(1,_63) + A_(1,_64) + A_(1,_65) + A_(1,_66) + A_(2,_43) + A_(2,_44)\n",
       " + A_(2,_45) + A_(2,_46) + A_(2,_47) + A_(2,_48) + A_(2,_49) + A_(2,_50)\n",
       " + A_(2,_51) + A_(2,_52) + A_(2,_53) + A_(2,_54) + A_(2,_55) + A_(2,_56)\n",
       " + A_(2,_57) + A_(2,_58) + A_(2,_59) + A_(2,_60) + A_(2,_61) + A_(2,_62)\n",
       " + A_(2,_63) + A_(2,_64) + A_(2,_65) + A_(2,_66) >= 68\n",
       "\n",
       "_C68: A_(0,_56) + A_(0,_57) + A_(0,_58) + A_(0,_59) + A_(0,_60) + A_(0,_61)\n",
       " + A_(0,_62) + A_(0,_63) + A_(0,_64) + A_(0,_65) + A_(0,_66) + A_(0,_67)\n",
       " + A_(1,_52) + A_(1,_53) + A_(1,_54) + A_(1,_55) + A_(1,_56) + A_(1,_57)\n",
       " + A_(1,_58) + A_(1,_59) + A_(1,_60) + A_(1,_61) + A_(1,_62) + A_(1,_63)\n",
       " + A_(1,_64) + A_(1,_65) + A_(1,_66) + A_(1,_67) + A_(2,_44) + A_(2,_45)\n",
       " + A_(2,_46) + A_(2,_47) + A_(2,_48) + A_(2,_49) + A_(2,_50) + A_(2,_51)\n",
       " + A_(2,_52) + A_(2,_53) + A_(2,_54) + A_(2,_55) + A_(2,_56) + A_(2,_57)\n",
       " + A_(2,_58) + A_(2,_59) + A_(2,_60) + A_(2,_61) + A_(2,_62) + A_(2,_63)\n",
       " + A_(2,_64) + A_(2,_65) + A_(2,_66) + A_(2,_67) >= 71\n",
       "\n",
       "_C69: A_(0,_57) + A_(0,_58) + A_(0,_59) + A_(0,_60) + A_(0,_61) + A_(0,_62)\n",
       " + A_(0,_63) + A_(0,_64) + A_(0,_65) + A_(0,_66) + A_(0,_67) + A_(0,_68)\n",
       " + A_(1,_53) + A_(1,_54) + A_(1,_55) + A_(1,_56) + A_(1,_57) + A_(1,_58)\n",
       " + A_(1,_59) + A_(1,_60) + A_(1,_61) + A_(1,_62) + A_(1,_63) + A_(1,_64)\n",
       " + A_(1,_65) + A_(1,_66) + A_(1,_67) + A_(1,_68) + A_(2,_45) + A_(2,_46)\n",
       " + A_(2,_47) + A_(2,_48) + A_(2,_49) + A_(2,_50) + A_(2,_51) + A_(2,_52)\n",
       " + A_(2,_53) + A_(2,_54) + A_(2,_55) + A_(2,_56) + A_(2,_57) + A_(2,_58)\n",
       " + A_(2,_59) + A_(2,_60) + A_(2,_61) + A_(2,_62) + A_(2,_63) + A_(2,_64)\n",
       " + A_(2,_65) + A_(2,_66) + A_(2,_67) + A_(2,_68) >= 68\n",
       "\n",
       "_C70: A_(0,_58) + A_(0,_59) + A_(0,_60) + A_(0,_61) + A_(0,_62) + A_(0,_63)\n",
       " + A_(0,_64) + A_(0,_65) + A_(0,_66) + A_(0,_67) + A_(0,_68) + A_(0,_69)\n",
       " + A_(1,_54) + A_(1,_55) + A_(1,_56) + A_(1,_57) + A_(1,_58) + A_(1,_59)\n",
       " + A_(1,_60) + A_(1,_61) + A_(1,_62) + A_(1,_63) + A_(1,_64) + A_(1,_65)\n",
       " + A_(1,_66) + A_(1,_67) + A_(1,_68) + A_(1,_69) + A_(2,_46) + A_(2,_47)\n",
       " + A_(2,_48) + A_(2,_49) + A_(2,_50) + A_(2,_51) + A_(2,_52) + A_(2,_53)\n",
       " + A_(2,_54) + A_(2,_55) + A_(2,_56) + A_(2,_57) + A_(2,_58) + A_(2,_59)\n",
       " + A_(2,_60) + A_(2,_61) + A_(2,_62) + A_(2,_63) + A_(2,_64) + A_(2,_65)\n",
       " + A_(2,_66) + A_(2,_67) + A_(2,_68) + A_(2,_69) >= 69\n",
       "\n",
       "_C71: A_(0,_59) + A_(0,_60) + A_(0,_61) + A_(0,_62) + A_(0,_63) + A_(0,_64)\n",
       " + A_(0,_65) + A_(0,_66) + A_(0,_67) + A_(0,_68) + A_(0,_69) + A_(0,_70)\n",
       " + A_(1,_55) + A_(1,_56) + A_(1,_57) + A_(1,_58) + A_(1,_59) + A_(1,_60)\n",
       " + A_(1,_61) + A_(1,_62) + A_(1,_63) + A_(1,_64) + A_(1,_65) + A_(1,_66)\n",
       " + A_(1,_67) + A_(1,_68) + A_(1,_69) + A_(1,_70) + A_(2,_47) + A_(2,_48)\n",
       " + A_(2,_49) + A_(2,_50) + A_(2,_51) + A_(2,_52) + A_(2,_53) + A_(2,_54)\n",
       " + A_(2,_55) + A_(2,_56) + A_(2,_57) + A_(2,_58) + A_(2,_59) + A_(2,_60)\n",
       " + A_(2,_61) + A_(2,_62) + A_(2,_63) + A_(2,_64) + A_(2,_65) + A_(2,_66)\n",
       " + A_(2,_67) + A_(2,_68) + A_(2,_69) + A_(2,_70) >= 73\n",
       "\n",
       "_C72: A_(0,_60) + A_(0,_61) + A_(0,_62) + A_(0,_63) + A_(0,_64) + A_(0,_65)\n",
       " + A_(0,_66) + A_(0,_67) + A_(0,_68) + A_(0,_69) + A_(0,_70) + A_(0,_71)\n",
       " + A_(1,_56) + A_(1,_57) + A_(1,_58) + A_(1,_59) + A_(1,_60) + A_(1,_61)\n",
       " + A_(1,_62) + A_(1,_63) + A_(1,_64) + A_(1,_65) + A_(1,_66) + A_(1,_67)\n",
       " + A_(1,_68) + A_(1,_69) + A_(1,_70) + A_(1,_71) + A_(2,_48) + A_(2,_49)\n",
       " + A_(2,_50) + A_(2,_51) + A_(2,_52) + A_(2,_53) + A_(2,_54) + A_(2,_55)\n",
       " + A_(2,_56) + A_(2,_57) + A_(2,_58) + A_(2,_59) + A_(2,_60) + A_(2,_61)\n",
       " + A_(2,_62) + A_(2,_63) + A_(2,_64) + A_(2,_65) + A_(2,_66) + A_(2,_67)\n",
       " + A_(2,_68) + A_(2,_69) + A_(2,_70) + A_(2,_71) >= 62\n",
       "\n",
       "_C73: A_(0,_61) + A_(0,_62) + A_(0,_63) + A_(0,_64) + A_(0,_65) + A_(0,_66)\n",
       " + A_(0,_67) + A_(0,_68) + A_(0,_69) + A_(0,_70) + A_(0,_71) + A_(0,_72)\n",
       " + A_(1,_57) + A_(1,_58) + A_(1,_59) + A_(1,_60) + A_(1,_61) + A_(1,_62)\n",
       " + A_(1,_63) + A_(1,_64) + A_(1,_65) + A_(1,_66) + A_(1,_67) + A_(1,_68)\n",
       " + A_(1,_69) + A_(1,_70) + A_(1,_71) + A_(1,_72) + A_(2,_49) + A_(2,_50)\n",
       " + A_(2,_51) + A_(2,_52) + A_(2,_53) + A_(2,_54) + A_(2,_55) + A_(2,_56)\n",
       " + A_(2,_57) + A_(2,_58) + A_(2,_59) + A_(2,_60) + A_(2,_61) + A_(2,_62)\n",
       " + A_(2,_63) + A_(2,_64) + A_(2,_65) + A_(2,_66) + A_(2,_67) + A_(2,_68)\n",
       " + A_(2,_69) + A_(2,_70) + A_(2,_71) + A_(2,_72) >= 55\n",
       "\n",
       "_C74: A_(0,_62) + A_(0,_63) + A_(0,_64) + A_(0,_65) + A_(0,_66) + A_(0,_67)\n",
       " + A_(0,_68) + A_(0,_69) + A_(0,_70) + A_(0,_71) + A_(0,_72) + A_(0,_73)\n",
       " + A_(1,_58) + A_(1,_59) + A_(1,_60) + A_(1,_61) + A_(1,_62) + A_(1,_63)\n",
       " + A_(1,_64) + A_(1,_65) + A_(1,_66) + A_(1,_67) + A_(1,_68) + A_(1,_69)\n",
       " + A_(1,_70) + A_(1,_71) + A_(1,_72) + A_(1,_73) + A_(2,_50) + A_(2,_51)\n",
       " + A_(2,_52) + A_(2,_53) + A_(2,_54) + A_(2,_55) + A_(2,_56) + A_(2,_57)\n",
       " + A_(2,_58) + A_(2,_59) + A_(2,_60) + A_(2,_61) + A_(2,_62) + A_(2,_63)\n",
       " + A_(2,_64) + A_(2,_65) + A_(2,_66) + A_(2,_67) + A_(2,_68) + A_(2,_69)\n",
       " + A_(2,_70) + A_(2,_71) + A_(2,_72) + A_(2,_73) >= 51\n",
       "\n",
       "_C75: A_(0,_63) + A_(0,_64) + A_(0,_65) + A_(0,_66) + A_(0,_67) + A_(0,_68)\n",
       " + A_(0,_69) + A_(0,_70) + A_(0,_71) + A_(0,_72) + A_(0,_73) + A_(0,_74)\n",
       " + A_(1,_59) + A_(1,_60) + A_(1,_61) + A_(1,_62) + A_(1,_63) + A_(1,_64)\n",
       " + A_(1,_65) + A_(1,_66) + A_(1,_67) + A_(1,_68) + A_(1,_69) + A_(1,_70)\n",
       " + A_(1,_71) + A_(1,_72) + A_(1,_73) + A_(1,_74) + A_(2,_51) + A_(2,_52)\n",
       " + A_(2,_53) + A_(2,_54) + A_(2,_55) + A_(2,_56) + A_(2,_57) + A_(2,_58)\n",
       " + A_(2,_59) + A_(2,_60) + A_(2,_61) + A_(2,_62) + A_(2,_63) + A_(2,_64)\n",
       " + A_(2,_65) + A_(2,_66) + A_(2,_67) + A_(2,_68) + A_(2,_69) + A_(2,_70)\n",
       " + A_(2,_71) + A_(2,_72) + A_(2,_73) + A_(2,_74) >= 52\n",
       "\n",
       "_C76: A_(0,_64) + A_(0,_65) + A_(0,_66) + A_(0,_67) + A_(0,_68) + A_(0,_69)\n",
       " + A_(0,_70) + A_(0,_71) + A_(0,_72) + A_(0,_73) + A_(0,_74) + A_(0,_75)\n",
       " + A_(1,_60) + A_(1,_61) + A_(1,_62) + A_(1,_63) + A_(1,_64) + A_(1,_65)\n",
       " + A_(1,_66) + A_(1,_67) + A_(1,_68) + A_(1,_69) + A_(1,_70) + A_(1,_71)\n",
       " + A_(1,_72) + A_(1,_73) + A_(1,_74) + A_(1,_75) + A_(2,_52) + A_(2,_53)\n",
       " + A_(2,_54) + A_(2,_55) + A_(2,_56) + A_(2,_57) + A_(2,_58) + A_(2,_59)\n",
       " + A_(2,_60) + A_(2,_61) + A_(2,_62) + A_(2,_63) + A_(2,_64) + A_(2,_65)\n",
       " + A_(2,_66) + A_(2,_67) + A_(2,_68) + A_(2,_69) + A_(2,_70) + A_(2,_71)\n",
       " + A_(2,_72) + A_(2,_73) + A_(2,_74) + A_(2,_75) >= 48\n",
       "\n",
       "_C77: A_(0,_65) + A_(0,_66) + A_(0,_67) + A_(0,_68) + A_(0,_69) + A_(0,_70)\n",
       " + A_(0,_71) + A_(0,_72) + A_(0,_73) + A_(0,_74) + A_(0,_75) + A_(0,_76)\n",
       " + A_(1,_61) + A_(1,_62) + A_(1,_63) + A_(1,_64) + A_(1,_65) + A_(1,_66)\n",
       " + A_(1,_67) + A_(1,_68) + A_(1,_69) + A_(1,_70) + A_(1,_71) + A_(1,_72)\n",
       " + A_(1,_73) + A_(1,_74) + A_(1,_75) + A_(1,_76) + A_(2,_53) + A_(2,_54)\n",
       " + A_(2,_55) + A_(2,_56) + A_(2,_57) + A_(2,_58) + A_(2,_59) + A_(2,_60)\n",
       " + A_(2,_61) + A_(2,_62) + A_(2,_63) + A_(2,_64) + A_(2,_65) + A_(2,_66)\n",
       " + A_(2,_67) + A_(2,_68) + A_(2,_69) + A_(2,_70) + A_(2,_71) + A_(2,_72)\n",
       " + A_(2,_73) + A_(2,_74) + A_(2,_75) + A_(2,_76) >= 45\n",
       "\n",
       "_C78: A_(0,_66) + A_(0,_67) + A_(0,_68) + A_(0,_69) + A_(0,_70) + A_(0,_71)\n",
       " + A_(0,_72) + A_(0,_73) + A_(0,_74) + A_(0,_75) + A_(0,_76) + A_(0,_77)\n",
       " + A_(1,_62) + A_(1,_63) + A_(1,_64) + A_(1,_65) + A_(1,_66) + A_(1,_67)\n",
       " + A_(1,_68) + A_(1,_69) + A_(1,_70) + A_(1,_71) + A_(1,_72) + A_(1,_73)\n",
       " + A_(1,_74) + A_(1,_75) + A_(1,_76) + A_(1,_77) + A_(2,_54) + A_(2,_55)\n",
       " + A_(2,_56) + A_(2,_57) + A_(2,_58) + A_(2,_59) + A_(2,_60) + A_(2,_61)\n",
       " + A_(2,_62) + A_(2,_63) + A_(2,_64) + A_(2,_65) + A_(2,_66) + A_(2,_67)\n",
       " + A_(2,_68) + A_(2,_69) + A_(2,_70) + A_(2,_71) + A_(2,_72) + A_(2,_73)\n",
       " + A_(2,_74) + A_(2,_75) + A_(2,_76) + A_(2,_77) >= 44\n",
       "\n",
       "_C79: A_(0,_67) + A_(0,_68) + A_(0,_69) + A_(0,_70) + A_(0,_71) + A_(0,_72)\n",
       " + A_(0,_73) + A_(0,_74) + A_(0,_75) + A_(0,_76) + A_(0,_77) + A_(0,_78)\n",
       " + A_(1,_63) + A_(1,_64) + A_(1,_65) + A_(1,_66) + A_(1,_67) + A_(1,_68)\n",
       " + A_(1,_69) + A_(1,_70) + A_(1,_71) + A_(1,_72) + A_(1,_73) + A_(1,_74)\n",
       " + A_(1,_75) + A_(1,_76) + A_(1,_77) + A_(1,_78) + A_(2,_55) + A_(2,_56)\n",
       " + A_(2,_57) + A_(2,_58) + A_(2,_59) + A_(2,_60) + A_(2,_61) + A_(2,_62)\n",
       " + A_(2,_63) + A_(2,_64) + A_(2,_65) + A_(2,_66) + A_(2,_67) + A_(2,_68)\n",
       " + A_(2,_69) + A_(2,_70) + A_(2,_71) + A_(2,_72) + A_(2,_73) + A_(2,_74)\n",
       " + A_(2,_75) + A_(2,_76) + A_(2,_77) + A_(2,_78) >= 39\n",
       "\n",
       "_C80: A_(0,_68) + A_(0,_69) + A_(0,_70) + A_(0,_71) + A_(0,_72) + A_(0,_73)\n",
       " + A_(0,_74) + A_(0,_75) + A_(0,_76) + A_(0,_77) + A_(0,_78) + A_(0,_79)\n",
       " + A_(1,_64) + A_(1,_65) + A_(1,_66) + A_(1,_67) + A_(1,_68) + A_(1,_69)\n",
       " + A_(1,_70) + A_(1,_71) + A_(1,_72) + A_(1,_73) + A_(1,_74) + A_(1,_75)\n",
       " + A_(1,_76) + A_(1,_77) + A_(1,_78) + A_(1,_79) + A_(2,_56) + A_(2,_57)\n",
       " + A_(2,_58) + A_(2,_59) + A_(2,_60) + A_(2,_61) + A_(2,_62) + A_(2,_63)\n",
       " + A_(2,_64) + A_(2,_65) + A_(2,_66) + A_(2,_67) + A_(2,_68) + A_(2,_69)\n",
       " + A_(2,_70) + A_(2,_71) + A_(2,_72) + A_(2,_73) + A_(2,_74) + A_(2,_75)\n",
       " + A_(2,_76) + A_(2,_77) + A_(2,_78) + A_(2,_79) >= 38\n",
       "\n",
       "_C81: A_(0,_69) + A_(0,_70) + A_(0,_71) + A_(0,_72) + A_(0,_73) + A_(0,_74)\n",
       " + A_(0,_75) + A_(0,_76) + A_(0,_77) + A_(0,_78) + A_(0,_79) + A_(0,_80)\n",
       " + A_(1,_65) + A_(1,_66) + A_(1,_67) + A_(1,_68) + A_(1,_69) + A_(1,_70)\n",
       " + A_(1,_71) + A_(1,_72) + A_(1,_73) + A_(1,_74) + A_(1,_75) + A_(1,_76)\n",
       " + A_(1,_77) + A_(1,_78) + A_(1,_79) + A_(1,_80) + A_(2,_57) + A_(2,_58)\n",
       " + A_(2,_59) + A_(2,_60) + A_(2,_61) + A_(2,_62) + A_(2,_63) + A_(2,_64)\n",
       " + A_(2,_65) + A_(2,_66) + A_(2,_67) + A_(2,_68) + A_(2,_69) + A_(2,_70)\n",
       " + A_(2,_71) + A_(2,_72) + A_(2,_73) + A_(2,_74) + A_(2,_75) + A_(2,_76)\n",
       " + A_(2,_77) + A_(2,_78) + A_(2,_79) + A_(2,_80) >= 41\n",
       "\n",
       "_C82: A_(0,_70) + A_(0,_71) + A_(0,_72) + A_(0,_73) + A_(0,_74) + A_(0,_75)\n",
       " + A_(0,_76) + A_(0,_77) + A_(0,_78) + A_(0,_79) + A_(0,_80) + A_(0,_81)\n",
       " + A_(1,_66) + A_(1,_67) + A_(1,_68) + A_(1,_69) + A_(1,_70) + A_(1,_71)\n",
       " + A_(1,_72) + A_(1,_73) + A_(1,_74) + A_(1,_75) + A_(1,_76) + A_(1,_77)\n",
       " + A_(1,_78) + A_(1,_79) + A_(1,_80) + A_(1,_81) + A_(2,_58) + A_(2,_59)\n",
       " + A_(2,_60) + A_(2,_61) + A_(2,_62) + A_(2,_63) + A_(2,_64) + A_(2,_65)\n",
       " + A_(2,_66) + A_(2,_67) + A_(2,_68) + A_(2,_69) + A_(2,_70) + A_(2,_71)\n",
       " + A_(2,_72) + A_(2,_73) + A_(2,_74) + A_(2,_75) + A_(2,_76) + A_(2,_77)\n",
       " + A_(2,_78) + A_(2,_79) + A_(2,_80) + A_(2,_81) >= 36\n",
       "\n",
       "_C83: A_(0,_71) + A_(0,_72) + A_(0,_73) + A_(0,_74) + A_(0,_75) + A_(0,_76)\n",
       " + A_(0,_77) + A_(0,_78) + A_(0,_79) + A_(0,_80) + A_(0,_81) + A_(0,_82)\n",
       " + A_(1,_67) + A_(1,_68) + A_(1,_69) + A_(1,_70) + A_(1,_71) + A_(1,_72)\n",
       " + A_(1,_73) + A_(1,_74) + A_(1,_75) + A_(1,_76) + A_(1,_77) + A_(1,_78)\n",
       " + A_(1,_79) + A_(1,_80) + A_(1,_81) + A_(1,_82) + A_(2,_59) + A_(2,_60)\n",
       " + A_(2,_61) + A_(2,_62) + A_(2,_63) + A_(2,_64) + A_(2,_65) + A_(2,_66)\n",
       " + A_(2,_67) + A_(2,_68) + A_(2,_69) + A_(2,_70) + A_(2,_71) + A_(2,_72)\n",
       " + A_(2,_73) + A_(2,_74) + A_(2,_75) + A_(2,_76) + A_(2,_77) + A_(2,_78)\n",
       " + A_(2,_79) + A_(2,_80) + A_(2,_81) + A_(2,_82) >= 36\n",
       "\n",
       "_C84: A_(0,_72) + A_(0,_73) + A_(0,_74) + A_(0,_75) + A_(0,_76) + A_(0,_77)\n",
       " + A_(0,_78) + A_(0,_79) + A_(0,_80) + A_(0,_81) + A_(0,_82) + A_(0,_83)\n",
       " + A_(1,_68) + A_(1,_69) + A_(1,_70) + A_(1,_71) + A_(1,_72) + A_(1,_73)\n",
       " + A_(1,_74) + A_(1,_75) + A_(1,_76) + A_(1,_77) + A_(1,_78) + A_(1,_79)\n",
       " + A_(1,_80) + A_(1,_81) + A_(1,_82) + A_(1,_83) + A_(2,_60) + A_(2,_61)\n",
       " + A_(2,_62) + A_(2,_63) + A_(2,_64) + A_(2,_65) + A_(2,_66) + A_(2,_67)\n",
       " + A_(2,_68) + A_(2,_69) + A_(2,_70) + A_(2,_71) + A_(2,_72) + A_(2,_73)\n",
       " + A_(2,_74) + A_(2,_75) + A_(2,_76) + A_(2,_77) + A_(2,_78) + A_(2,_79)\n",
       " + A_(2,_80) + A_(2,_81) + A_(2,_82) + A_(2,_83) >= 40\n",
       "\n",
       "_C85: A_(0,_73) + A_(0,_74) + A_(0,_75) + A_(0,_76) + A_(0,_77) + A_(0,_78)\n",
       " + A_(0,_79) + A_(0,_80) + A_(0,_81) + A_(0,_82) + A_(0,_83) + A_(0,_84)\n",
       " + A_(1,_69) + A_(1,_70) + A_(1,_71) + A_(1,_72) + A_(1,_73) + A_(1,_74)\n",
       " + A_(1,_75) + A_(1,_76) + A_(1,_77) + A_(1,_78) + A_(1,_79) + A_(1,_80)\n",
       " + A_(1,_81) + A_(1,_82) + A_(1,_83) + A_(1,_84) + A_(2,_61) + A_(2,_62)\n",
       " + A_(2,_63) + A_(2,_64) + A_(2,_65) + A_(2,_66) + A_(2,_67) + A_(2,_68)\n",
       " + A_(2,_69) + A_(2,_70) + A_(2,_71) + A_(2,_72) + A_(2,_73) + A_(2,_74)\n",
       " + A_(2,_75) + A_(2,_76) + A_(2,_77) + A_(2,_78) + A_(2,_79) + A_(2,_80)\n",
       " + A_(2,_81) + A_(2,_82) + A_(2,_83) + A_(2,_84) >= 36\n",
       "\n",
       "_C86: A_(0,_74) + A_(0,_75) + A_(0,_76) + A_(0,_77) + A_(0,_78) + A_(0,_79)\n",
       " + A_(0,_80) + A_(0,_81) + A_(0,_82) + A_(0,_83) + A_(0,_84) + A_(0,_85)\n",
       " + A_(1,_70) + A_(1,_71) + A_(1,_72) + A_(1,_73) + A_(1,_74) + A_(1,_75)\n",
       " + A_(1,_76) + A_(1,_77) + A_(1,_78) + A_(1,_79) + A_(1,_80) + A_(1,_81)\n",
       " + A_(1,_82) + A_(1,_83) + A_(1,_84) + A_(1,_85) + A_(2,_62) + A_(2,_63)\n",
       " + A_(2,_64) + A_(2,_65) + A_(2,_66) + A_(2,_67) + A_(2,_68) + A_(2,_69)\n",
       " + A_(2,_70) + A_(2,_71) + A_(2,_72) + A_(2,_73) + A_(2,_74) + A_(2,_75)\n",
       " + A_(2,_76) + A_(2,_77) + A_(2,_78) + A_(2,_79) + A_(2,_80) + A_(2,_81)\n",
       " + A_(2,_82) + A_(2,_83) + A_(2,_84) + A_(2,_85) >= 34\n",
       "\n",
       "_C87: A_(0,_75) + A_(0,_76) + A_(0,_77) + A_(0,_78) + A_(0,_79) + A_(0,_80)\n",
       " + A_(0,_81) + A_(0,_82) + A_(0,_83) + A_(0,_84) + A_(0,_85) + A_(0,_86)\n",
       " + A_(1,_71) + A_(1,_72) + A_(1,_73) + A_(1,_74) + A_(1,_75) + A_(1,_76)\n",
       " + A_(1,_77) + A_(1,_78) + A_(1,_79) + A_(1,_80) + A_(1,_81) + A_(1,_82)\n",
       " + A_(1,_83) + A_(1,_84) + A_(1,_85) + A_(1,_86) + A_(2,_63) + A_(2,_64)\n",
       " + A_(2,_65) + A_(2,_66) + A_(2,_67) + A_(2,_68) + A_(2,_69) + A_(2,_70)\n",
       " + A_(2,_71) + A_(2,_72) + A_(2,_73) + A_(2,_74) + A_(2,_75) + A_(2,_76)\n",
       " + A_(2,_77) + A_(2,_78) + A_(2,_79) + A_(2,_80) + A_(2,_81) + A_(2,_82)\n",
       " + A_(2,_83) + A_(2,_84) + A_(2,_85) + A_(2,_86) >= 30\n",
       "\n",
       "_C88: A_(0,_76) + A_(0,_77) + A_(0,_78) + A_(0,_79) + A_(0,_80) + A_(0,_81)\n",
       " + A_(0,_82) + A_(0,_83) + A_(0,_84) + A_(0,_85) + A_(0,_86) + A_(0,_87)\n",
       " + A_(1,_72) + A_(1,_73) + A_(1,_74) + A_(1,_75) + A_(1,_76) + A_(1,_77)\n",
       " + A_(1,_78) + A_(1,_79) + A_(1,_80) + A_(1,_81) + A_(1,_82) + A_(1,_83)\n",
       " + A_(1,_84) + A_(1,_85) + A_(1,_86) + A_(1,_87) + A_(2,_64) + A_(2,_65)\n",
       " + A_(2,_66) + A_(2,_67) + A_(2,_68) + A_(2,_69) + A_(2,_70) + A_(2,_71)\n",
       " + A_(2,_72) + A_(2,_73) + A_(2,_74) + A_(2,_75) + A_(2,_76) + A_(2,_77)\n",
       " + A_(2,_78) + A_(2,_79) + A_(2,_80) + A_(2,_81) + A_(2,_82) + A_(2,_83)\n",
       " + A_(2,_84) + A_(2,_85) + A_(2,_86) + A_(2,_87) >= 31\n",
       "\n",
       "_C89: A_(0,_77) + A_(0,_78) + A_(0,_79) + A_(0,_80) + A_(0,_81) + A_(0,_82)\n",
       " + A_(0,_83) + A_(0,_84) + A_(0,_85) + A_(0,_86) + A_(0,_87) + A_(0,_88)\n",
       " + A_(1,_73) + A_(1,_74) + A_(1,_75) + A_(1,_76) + A_(1,_77) + A_(1,_78)\n",
       " + A_(1,_79) + A_(1,_80) + A_(1,_81) + A_(1,_82) + A_(1,_83) + A_(1,_84)\n",
       " + A_(1,_85) + A_(1,_86) + A_(1,_87) + A_(1,_88) + A_(2,_65) + A_(2,_66)\n",
       " + A_(2,_67) + A_(2,_68) + A_(2,_69) + A_(2,_70) + A_(2,_71) + A_(2,_72)\n",
       " + A_(2,_73) + A_(2,_74) + A_(2,_75) + A_(2,_76) + A_(2,_77) + A_(2,_78)\n",
       " + A_(2,_79) + A_(2,_80) + A_(2,_81) + A_(2,_82) + A_(2,_83) + A_(2,_84)\n",
       " + A_(2,_85) + A_(2,_86) + A_(2,_87) + A_(2,_88) >= 31\n",
       "\n",
       "_C90: A_(0,_78) + A_(0,_79) + A_(0,_80) + A_(0,_81) + A_(0,_82) + A_(0,_83)\n",
       " + A_(0,_84) + A_(0,_85) + A_(0,_86) + A_(0,_87) + A_(0,_88) + A_(0,_89)\n",
       " + A_(1,_74) + A_(1,_75) + A_(1,_76) + A_(1,_77) + A_(1,_78) + A_(1,_79)\n",
       " + A_(1,_80) + A_(1,_81) + A_(1,_82) + A_(1,_83) + A_(1,_84) + A_(1,_85)\n",
       " + A_(1,_86) + A_(1,_87) + A_(1,_88) + A_(1,_89) + A_(2,_66) + A_(2,_67)\n",
       " + A_(2,_68) + A_(2,_69) + A_(2,_70) + A_(2,_71) + A_(2,_72) + A_(2,_73)\n",
       " + A_(2,_74) + A_(2,_75) + A_(2,_76) + A_(2,_77) + A_(2,_78) + A_(2,_79)\n",
       " + A_(2,_80) + A_(2,_81) + A_(2,_82) + A_(2,_83) + A_(2,_84) + A_(2,_85)\n",
       " + A_(2,_86) + A_(2,_87) + A_(2,_88) + A_(2,_89) >= 26\n",
       "\n",
       "_C91: A_(0,_79) + A_(0,_80) + A_(0,_81) + A_(0,_82) + A_(0,_83) + A_(0,_84)\n",
       " + A_(0,_85) + A_(0,_86) + A_(0,_87) + A_(0,_88) + A_(0,_89) + A_(0,_90)\n",
       " + A_(1,_75) + A_(1,_76) + A_(1,_77) + A_(1,_78) + A_(1,_79) + A_(1,_80)\n",
       " + A_(1,_81) + A_(1,_82) + A_(1,_83) + A_(1,_84) + A_(1,_85) + A_(1,_86)\n",
       " + A_(1,_87) + A_(1,_88) + A_(1,_89) + A_(1,_90) + A_(2,_67) + A_(2,_68)\n",
       " + A_(2,_69) + A_(2,_70) + A_(2,_71) + A_(2,_72) + A_(2,_73) + A_(2,_74)\n",
       " + A_(2,_75) + A_(2,_76) + A_(2,_77) + A_(2,_78) + A_(2,_79) + A_(2,_80)\n",
       " + A_(2,_81) + A_(2,_82) + A_(2,_83) + A_(2,_84) + A_(2,_85) + A_(2,_86)\n",
       " + A_(2,_87) + A_(2,_88) + A_(2,_89) + A_(2,_90) >= 26\n",
       "\n",
       "_C92: A_(0,_80) + A_(0,_81) + A_(0,_82) + A_(0,_83) + A_(0,_84) + A_(0,_85)\n",
       " + A_(0,_86) + A_(0,_87) + A_(0,_88) + A_(0,_89) + A_(0,_90) + A_(0,_91)\n",
       " + A_(1,_76) + A_(1,_77) + A_(1,_78) + A_(1,_79) + A_(1,_80) + A_(1,_81)\n",
       " + A_(1,_82) + A_(1,_83) + A_(1,_84) + A_(1,_85) + A_(1,_86) + A_(1,_87)\n",
       " + A_(1,_88) + A_(1,_89) + A_(1,_90) + A_(1,_91) + A_(2,_68) + A_(2,_69)\n",
       " + A_(2,_70) + A_(2,_71) + A_(2,_72) + A_(2,_73) + A_(2,_74) + A_(2,_75)\n",
       " + A_(2,_76) + A_(2,_77) + A_(2,_78) + A_(2,_79) + A_(2,_80) + A_(2,_81)\n",
       " + A_(2,_82) + A_(2,_83) + A_(2,_84) + A_(2,_85) + A_(2,_86) + A_(2,_87)\n",
       " + A_(2,_88) + A_(2,_89) + A_(2,_90) + A_(2,_91) >= 26\n",
       "\n",
       "_C93: A_(0,_81) + A_(0,_82) + A_(0,_83) + A_(0,_84) + A_(0,_85) + A_(0,_86)\n",
       " + A_(0,_87) + A_(0,_88) + A_(0,_89) + A_(0,_90) + A_(0,_91) + A_(0,_92)\n",
       " + A_(1,_77) + A_(1,_78) + A_(1,_79) + A_(1,_80) + A_(1,_81) + A_(1,_82)\n",
       " + A_(1,_83) + A_(1,_84) + A_(1,_85) + A_(1,_86) + A_(1,_87) + A_(1,_88)\n",
       " + A_(1,_89) + A_(1,_90) + A_(1,_91) + A_(1,_92) + A_(2,_69) + A_(2,_70)\n",
       " + A_(2,_71) + A_(2,_72) + A_(2,_73) + A_(2,_74) + A_(2,_75) + A_(2,_76)\n",
       " + A_(2,_77) + A_(2,_78) + A_(2,_79) + A_(2,_80) + A_(2,_81) + A_(2,_82)\n",
       " + A_(2,_83) + A_(2,_84) + A_(2,_85) + A_(2,_86) + A_(2,_87) + A_(2,_88)\n",
       " + A_(2,_89) + A_(2,_90) + A_(2,_91) + A_(2,_92) >= 23\n",
       "\n",
       "_C94: A_(0,_82) + A_(0,_83) + A_(0,_84) + A_(0,_85) + A_(0,_86) + A_(0,_87)\n",
       " + A_(0,_88) + A_(0,_89) + A_(0,_90) + A_(0,_91) + A_(0,_92) + A_(0,_93)\n",
       " + A_(1,_78) + A_(1,_79) + A_(1,_80) + A_(1,_81) + A_(1,_82) + A_(1,_83)\n",
       " + A_(1,_84) + A_(1,_85) + A_(1,_86) + A_(1,_87) + A_(1,_88) + A_(1,_89)\n",
       " + A_(1,_90) + A_(1,_91) + A_(1,_92) + A_(1,_93) + A_(2,_70) + A_(2,_71)\n",
       " + A_(2,_72) + A_(2,_73) + A_(2,_74) + A_(2,_75) + A_(2,_76) + A_(2,_77)\n",
       " + A_(2,_78) + A_(2,_79) + A_(2,_80) + A_(2,_81) + A_(2,_82) + A_(2,_83)\n",
       " + A_(2,_84) + A_(2,_85) + A_(2,_86) + A_(2,_87) + A_(2,_88) + A_(2,_89)\n",
       " + A_(2,_90) + A_(2,_91) + A_(2,_92) + A_(2,_93) >= 18\n",
       "\n",
       "_C95: A_(0,_83) + A_(0,_84) + A_(0,_85) + A_(0,_86) + A_(0,_87) + A_(0,_88)\n",
       " + A_(0,_89) + A_(0,_90) + A_(0,_91) + A_(0,_92) + A_(0,_93) + A_(0,_94)\n",
       " + A_(1,_79) + A_(1,_80) + A_(1,_81) + A_(1,_82) + A_(1,_83) + A_(1,_84)\n",
       " + A_(1,_85) + A_(1,_86) + A_(1,_87) + A_(1,_88) + A_(1,_89) + A_(1,_90)\n",
       " + A_(1,_91) + A_(1,_92) + A_(1,_93) + A_(1,_94) + A_(2,_71) + A_(2,_72)\n",
       " + A_(2,_73) + A_(2,_74) + A_(2,_75) + A_(2,_76) + A_(2,_77) + A_(2,_78)\n",
       " + A_(2,_79) + A_(2,_80) + A_(2,_81) + A_(2,_82) + A_(2,_83) + A_(2,_84)\n",
       " + A_(2,_85) + A_(2,_86) + A_(2,_87) + A_(2,_88) + A_(2,_89) + A_(2,_90)\n",
       " + A_(2,_91) + A_(2,_92) + A_(2,_93) + A_(2,_94) >= 18\n",
       "\n",
       "_C96: A_(0,_84) + A_(0,_85) + A_(0,_86) + A_(0,_87) + A_(0,_88) + A_(0,_89)\n",
       " + A_(0,_90) + A_(0,_91) + A_(0,_92) + A_(0,_93) + A_(0,_94) + A_(0,_95)\n",
       " + A_(1,_80) + A_(1,_81) + A_(1,_82) + A_(1,_83) + A_(1,_84) + A_(1,_85)\n",
       " + A_(1,_86) + A_(1,_87) + A_(1,_88) + A_(1,_89) + A_(1,_90) + A_(1,_91)\n",
       " + A_(1,_92) + A_(1,_93) + A_(1,_94) + A_(1,_95) + A_(2,_72) + A_(2,_73)\n",
       " + A_(2,_74) + A_(2,_75) + A_(2,_76) + A_(2,_77) + A_(2,_78) + A_(2,_79)\n",
       " + A_(2,_80) + A_(2,_81) + A_(2,_82) + A_(2,_83) + A_(2,_84) + A_(2,_85)\n",
       " + A_(2,_86) + A_(2,_87) + A_(2,_88) + A_(2,_89) + A_(2,_90) + A_(2,_91)\n",
       " + A_(2,_92) + A_(2,_93) + A_(2,_94) + A_(2,_95) >= 18\n",
       "\n",
       "VARIABLES\n",
       "0 <= A_(0,_0) Integer\n",
       "0 <= A_(0,_1) Integer\n",
       "0 <= A_(0,_10) Integer\n",
       "0 <= A_(0,_11) Integer\n",
       "0 <= A_(0,_12) Integer\n",
       "0 <= A_(0,_13) Integer\n",
       "0 <= A_(0,_14) Integer\n",
       "0 <= A_(0,_15) Integer\n",
       "0 <= A_(0,_16) Integer\n",
       "0 <= A_(0,_17) Integer\n",
       "0 <= A_(0,_18) Integer\n",
       "0 <= A_(0,_19) Integer\n",
       "0 <= A_(0,_2) Integer\n",
       "0 <= A_(0,_20) Integer\n",
       "0 <= A_(0,_21) Integer\n",
       "0 <= A_(0,_22) Integer\n",
       "0 <= A_(0,_23) Integer\n",
       "0 <= A_(0,_24) Integer\n",
       "0 <= A_(0,_25) Integer\n",
       "0 <= A_(0,_26) Integer\n",
       "0 <= A_(0,_27) Integer\n",
       "0 <= A_(0,_28) Integer\n",
       "0 <= A_(0,_29) Integer\n",
       "0 <= A_(0,_3) Integer\n",
       "0 <= A_(0,_30) Integer\n",
       "0 <= A_(0,_31) Integer\n",
       "0 <= A_(0,_32) Integer\n",
       "0 <= A_(0,_33) Integer\n",
       "0 <= A_(0,_34) Integer\n",
       "0 <= A_(0,_35) Integer\n",
       "0 <= A_(0,_36) Integer\n",
       "0 <= A_(0,_37) Integer\n",
       "0 <= A_(0,_38) Integer\n",
       "0 <= A_(0,_39) Integer\n",
       "0 <= A_(0,_4) Integer\n",
       "0 <= A_(0,_40) Integer\n",
       "0 <= A_(0,_41) Integer\n",
       "0 <= A_(0,_42) Integer\n",
       "0 <= A_(0,_43) Integer\n",
       "0 <= A_(0,_44) Integer\n",
       "0 <= A_(0,_45) Integer\n",
       "0 <= A_(0,_46) Integer\n",
       "0 <= A_(0,_47) Integer\n",
       "0 <= A_(0,_48) Integer\n",
       "0 <= A_(0,_49) Integer\n",
       "0 <= A_(0,_5) Integer\n",
       "0 <= A_(0,_50) Integer\n",
       "0 <= A_(0,_51) Integer\n",
       "0 <= A_(0,_52) Integer\n",
       "0 <= A_(0,_53) Integer\n",
       "0 <= A_(0,_54) Integer\n",
       "0 <= A_(0,_55) Integer\n",
       "0 <= A_(0,_56) Integer\n",
       "0 <= A_(0,_57) Integer\n",
       "0 <= A_(0,_58) Integer\n",
       "0 <= A_(0,_59) Integer\n",
       "0 <= A_(0,_6) Integer\n",
       "0 <= A_(0,_60) Integer\n",
       "0 <= A_(0,_61) Integer\n",
       "0 <= A_(0,_62) Integer\n",
       "0 <= A_(0,_63) Integer\n",
       "0 <= A_(0,_64) Integer\n",
       "0 <= A_(0,_65) Integer\n",
       "0 <= A_(0,_66) Integer\n",
       "0 <= A_(0,_67) Integer\n",
       "0 <= A_(0,_68) Integer\n",
       "0 <= A_(0,_69) Integer\n",
       "0 <= A_(0,_7) Integer\n",
       "0 <= A_(0,_70) Integer\n",
       "0 <= A_(0,_71) Integer\n",
       "0 <= A_(0,_72) Integer\n",
       "0 <= A_(0,_73) Integer\n",
       "0 <= A_(0,_74) Integer\n",
       "0 <= A_(0,_75) Integer\n",
       "0 <= A_(0,_76) Integer\n",
       "0 <= A_(0,_77) Integer\n",
       "0 <= A_(0,_78) Integer\n",
       "0 <= A_(0,_79) Integer\n",
       "0 <= A_(0,_8) Integer\n",
       "0 <= A_(0,_80) Integer\n",
       "0 <= A_(0,_81) Integer\n",
       "0 <= A_(0,_82) Integer\n",
       "0 <= A_(0,_83) Integer\n",
       "0 <= A_(0,_84) Integer\n",
       "0 <= A_(0,_85) Integer\n",
       "0 <= A_(0,_86) Integer\n",
       "0 <= A_(0,_87) Integer\n",
       "0 <= A_(0,_88) Integer\n",
       "0 <= A_(0,_89) Integer\n",
       "0 <= A_(0,_9) Integer\n",
       "0 <= A_(0,_90) Integer\n",
       "0 <= A_(0,_91) Integer\n",
       "0 <= A_(0,_92) Integer\n",
       "0 <= A_(0,_93) Integer\n",
       "0 <= A_(0,_94) Integer\n",
       "0 <= A_(0,_95) Integer\n",
       "0 <= A_(1,_0) Integer\n",
       "0 <= A_(1,_1) Integer\n",
       "0 <= A_(1,_10) Integer\n",
       "0 <= A_(1,_11) Integer\n",
       "0 <= A_(1,_12) Integer\n",
       "0 <= A_(1,_13) Integer\n",
       "0 <= A_(1,_14) Integer\n",
       "0 <= A_(1,_15) Integer\n",
       "0 <= A_(1,_16) Integer\n",
       "0 <= A_(1,_17) Integer\n",
       "0 <= A_(1,_18) Integer\n",
       "0 <= A_(1,_19) Integer\n",
       "0 <= A_(1,_2) Integer\n",
       "0 <= A_(1,_20) Integer\n",
       "0 <= A_(1,_21) Integer\n",
       "0 <= A_(1,_22) Integer\n",
       "0 <= A_(1,_23) Integer\n",
       "0 <= A_(1,_24) Integer\n",
       "0 <= A_(1,_25) Integer\n",
       "0 <= A_(1,_26) Integer\n",
       "0 <= A_(1,_27) Integer\n",
       "0 <= A_(1,_28) Integer\n",
       "0 <= A_(1,_29) Integer\n",
       "0 <= A_(1,_3) Integer\n",
       "0 <= A_(1,_30) Integer\n",
       "0 <= A_(1,_31) Integer\n",
       "0 <= A_(1,_32) Integer\n",
       "0 <= A_(1,_33) Integer\n",
       "0 <= A_(1,_34) Integer\n",
       "0 <= A_(1,_35) Integer\n",
       "0 <= A_(1,_36) Integer\n",
       "0 <= A_(1,_37) Integer\n",
       "0 <= A_(1,_38) Integer\n",
       "0 <= A_(1,_39) Integer\n",
       "0 <= A_(1,_4) Integer\n",
       "0 <= A_(1,_40) Integer\n",
       "0 <= A_(1,_41) Integer\n",
       "0 <= A_(1,_42) Integer\n",
       "0 <= A_(1,_43) Integer\n",
       "0 <= A_(1,_44) Integer\n",
       "0 <= A_(1,_45) Integer\n",
       "0 <= A_(1,_46) Integer\n",
       "0 <= A_(1,_47) Integer\n",
       "0 <= A_(1,_48) Integer\n",
       "0 <= A_(1,_49) Integer\n",
       "0 <= A_(1,_5) Integer\n",
       "0 <= A_(1,_50) Integer\n",
       "0 <= A_(1,_51) Integer\n",
       "0 <= A_(1,_52) Integer\n",
       "0 <= A_(1,_53) Integer\n",
       "0 <= A_(1,_54) Integer\n",
       "0 <= A_(1,_55) Integer\n",
       "0 <= A_(1,_56) Integer\n",
       "0 <= A_(1,_57) Integer\n",
       "0 <= A_(1,_58) Integer\n",
       "0 <= A_(1,_59) Integer\n",
       "0 <= A_(1,_6) Integer\n",
       "0 <= A_(1,_60) Integer\n",
       "0 <= A_(1,_61) Integer\n",
       "0 <= A_(1,_62) Integer\n",
       "0 <= A_(1,_63) Integer\n",
       "0 <= A_(1,_64) Integer\n",
       "0 <= A_(1,_65) Integer\n",
       "0 <= A_(1,_66) Integer\n",
       "0 <= A_(1,_67) Integer\n",
       "0 <= A_(1,_68) Integer\n",
       "0 <= A_(1,_69) Integer\n",
       "0 <= A_(1,_7) Integer\n",
       "0 <= A_(1,_70) Integer\n",
       "0 <= A_(1,_71) Integer\n",
       "0 <= A_(1,_72) Integer\n",
       "0 <= A_(1,_73) Integer\n",
       "0 <= A_(1,_74) Integer\n",
       "0 <= A_(1,_75) Integer\n",
       "0 <= A_(1,_76) Integer\n",
       "0 <= A_(1,_77) Integer\n",
       "0 <= A_(1,_78) Integer\n",
       "0 <= A_(1,_79) Integer\n",
       "0 <= A_(1,_8) Integer\n",
       "0 <= A_(1,_80) Integer\n",
       "0 <= A_(1,_81) Integer\n",
       "0 <= A_(1,_82) Integer\n",
       "0 <= A_(1,_83) Integer\n",
       "0 <= A_(1,_84) Integer\n",
       "0 <= A_(1,_85) Integer\n",
       "0 <= A_(1,_86) Integer\n",
       "0 <= A_(1,_87) Integer\n",
       "0 <= A_(1,_88) Integer\n",
       "0 <= A_(1,_89) Integer\n",
       "0 <= A_(1,_9) Integer\n",
       "0 <= A_(1,_90) Integer\n",
       "0 <= A_(1,_91) Integer\n",
       "0 <= A_(1,_92) Integer\n",
       "0 <= A_(1,_93) Integer\n",
       "0 <= A_(1,_94) Integer\n",
       "0 <= A_(1,_95) Integer\n",
       "0 <= A_(2,_0) Integer\n",
       "0 <= A_(2,_1) Integer\n",
       "0 <= A_(2,_10) Integer\n",
       "0 <= A_(2,_11) Integer\n",
       "0 <= A_(2,_12) Integer\n",
       "0 <= A_(2,_13) Integer\n",
       "0 <= A_(2,_14) Integer\n",
       "0 <= A_(2,_15) Integer\n",
       "0 <= A_(2,_16) Integer\n",
       "0 <= A_(2,_17) Integer\n",
       "0 <= A_(2,_18) Integer\n",
       "0 <= A_(2,_19) Integer\n",
       "0 <= A_(2,_2) Integer\n",
       "0 <= A_(2,_20) Integer\n",
       "0 <= A_(2,_21) Integer\n",
       "0 <= A_(2,_22) Integer\n",
       "0 <= A_(2,_23) Integer\n",
       "0 <= A_(2,_24) Integer\n",
       "0 <= A_(2,_25) Integer\n",
       "0 <= A_(2,_26) Integer\n",
       "0 <= A_(2,_27) Integer\n",
       "0 <= A_(2,_28) Integer\n",
       "0 <= A_(2,_29) Integer\n",
       "0 <= A_(2,_3) Integer\n",
       "0 <= A_(2,_30) Integer\n",
       "0 <= A_(2,_31) Integer\n",
       "0 <= A_(2,_32) Integer\n",
       "0 <= A_(2,_33) Integer\n",
       "0 <= A_(2,_34) Integer\n",
       "0 <= A_(2,_35) Integer\n",
       "0 <= A_(2,_36) Integer\n",
       "0 <= A_(2,_37) Integer\n",
       "0 <= A_(2,_38) Integer\n",
       "0 <= A_(2,_39) Integer\n",
       "0 <= A_(2,_4) Integer\n",
       "0 <= A_(2,_40) Integer\n",
       "0 <= A_(2,_41) Integer\n",
       "0 <= A_(2,_42) Integer\n",
       "0 <= A_(2,_43) Integer\n",
       "0 <= A_(2,_44) Integer\n",
       "0 <= A_(2,_45) Integer\n",
       "0 <= A_(2,_46) Integer\n",
       "0 <= A_(2,_47) Integer\n",
       "0 <= A_(2,_48) Integer\n",
       "0 <= A_(2,_49) Integer\n",
       "0 <= A_(2,_5) Integer\n",
       "0 <= A_(2,_50) Integer\n",
       "0 <= A_(2,_51) Integer\n",
       "0 <= A_(2,_52) Integer\n",
       "0 <= A_(2,_53) Integer\n",
       "0 <= A_(2,_54) Integer\n",
       "0 <= A_(2,_55) Integer\n",
       "0 <= A_(2,_56) Integer\n",
       "0 <= A_(2,_57) Integer\n",
       "0 <= A_(2,_58) Integer\n",
       "0 <= A_(2,_59) Integer\n",
       "0 <= A_(2,_6) Integer\n",
       "0 <= A_(2,_60) Integer\n",
       "0 <= A_(2,_61) Integer\n",
       "0 <= A_(2,_62) Integer\n",
       "0 <= A_(2,_63) Integer\n",
       "0 <= A_(2,_64) Integer\n",
       "0 <= A_(2,_65) Integer\n",
       "0 <= A_(2,_66) Integer\n",
       "0 <= A_(2,_67) Integer\n",
       "0 <= A_(2,_68) Integer\n",
       "0 <= A_(2,_69) Integer\n",
       "0 <= A_(2,_7) Integer\n",
       "0 <= A_(2,_70) Integer\n",
       "0 <= A_(2,_71) Integer\n",
       "0 <= A_(2,_72) Integer\n",
       "0 <= A_(2,_73) Integer\n",
       "0 <= A_(2,_74) Integer\n",
       "0 <= A_(2,_75) Integer\n",
       "0 <= A_(2,_76) Integer\n",
       "0 <= A_(2,_77) Integer\n",
       "0 <= A_(2,_78) Integer\n",
       "0 <= A_(2,_79) Integer\n",
       "0 <= A_(2,_8) Integer\n",
       "0 <= A_(2,_80) Integer\n",
       "0 <= A_(2,_81) Integer\n",
       "0 <= A_(2,_82) Integer\n",
       "0 <= A_(2,_83) Integer\n",
       "0 <= A_(2,_84) Integer\n",
       "0 <= A_(2,_85) Integer\n",
       "0 <= A_(2,_86) Integer\n",
       "0 <= A_(2,_87) Integer\n",
       "0 <= A_(2,_88) Integer\n",
       "0 <= A_(2,_89) Integer\n",
       "0 <= A_(2,_9) Integer\n",
       "0 <= A_(2,_90) Integer\n",
       "0 <= A_(2,_91) Integer\n",
       "0 <= A_(2,_92) Integer\n",
       "0 <= A_(2,_93) Integer\n",
       "0 <= A_(2,_94) Integer\n",
       "0 <= A_(2,_95) Integer"
      ]
     },
     "execution_count": 230,
     "metadata": {},
     "output_type": "execute_result"
    }
   ],
   "source": [
    "for j, linha in df_nan.iterrows():\n",
    "    #print(j, linha)\n",
    "    #print(\"-\" * 50)\n",
    "\n",
    "    nan = linha[\"nan\"]\n",
    "    linha_restricao = []\n",
    "    #print(j, nan)\n",
    "    \n",
    "    for regime in regimes:\n",
    "        #print(regime)\n",
    "        #print(regimes[regime])\n",
    "        tamanho = regimes[regime] * 4\n",
    "        lista = retorna_lista(j=j,\n",
    "                              tamanho=tamanho,\n",
    "                              lista= list(inicios)\n",
    "                              )\n",
    "        #print(regime, lista)\n",
    "        lista_combinada = [(regime,i) for i in lista]\n",
    "        lista_traduzida = [pulp_variaveis[tupla]\n",
    "                           for tupla in lista_combinada]\n",
    "\n",
    "        linha_restricao += lista_traduzida\n",
    "\n",
    "    prob += plp.lpSum(linha_restricao) >= nan\n",
    "\n",
    "prob\n"
   ]
  },
  {
   "cell_type": "code",
   "execution_count": 232,
   "id": "b0efde44",
   "metadata": {},
   "outputs": [
    {
     "data": {
      "text/plain": [
       "96"
      ]
     },
     "execution_count": 232,
     "metadata": {},
     "output_type": "execute_result"
    }
   ],
   "source": [
    "prob.numConstraints()"
   ]
  },
  {
   "cell_type": "code",
   "execution_count": 238,
   "id": "ec99cb63",
   "metadata": {},
   "outputs": [
    {
     "data": {
      "text/plain": [
       "0"
      ]
     },
     "execution_count": 238,
     "metadata": {},
     "output_type": "execute_result"
    }
   ],
   "source": [
    "prob.status"
   ]
  },
  {
   "cell_type": "code",
   "execution_count": 239,
   "id": "4d13d3c8",
   "metadata": {},
   "outputs": [
    {
     "data": {
      "text/plain": [
       "'Not Solved'"
      ]
     },
     "execution_count": 239,
     "metadata": {},
     "output_type": "execute_result"
    }
   ],
   "source": [
    "plp.LpStatus[prob.status]"
   ]
  },
  {
   "cell_type": "code",
   "execution_count": 244,
   "id": "4c970d0a",
   "metadata": {},
   "outputs": [
    {
     "data": {
      "text/plain": [
       "['PULP_CBC_CMD']"
      ]
     },
     "execution_count": 244,
     "metadata": {},
     "output_type": "execute_result"
    }
   ],
   "source": [
    "plp.listSolvers(onlyAvailable=True)"
   ]
  },
  {
   "cell_type": "code",
   "execution_count": 245,
   "id": "a4215a59",
   "metadata": {},
   "outputs": [],
   "source": [
    "solver = plp.getSolver('PULP_CBC_CMD')"
   ]
  },
  {
   "cell_type": "code",
   "execution_count": 246,
   "id": "d8262e87",
   "metadata": {},
   "outputs": [
    {
     "name": "stdout",
     "output_type": "stream",
     "text": [
      "Welcome to the CBC MILP Solver \n",
      "Version: 2.10.3 \n",
      "Build Date: Dec 15 2019 \n",
      "\n",
      "command line - /home/daniel/Documents/GitHub/cpp/mmap_um/attentus/.venv_attentus/lib/python3.10/site-packages/pulp/apis/../solverdir/cbc/linux/i64/cbc /tmp/aa02d3f0838b4d2a8ca0b626245b26d8-pulp.mps -timeMode elapsed -branch -printingOptions all -solution /tmp/aa02d3f0838b4d2a8ca0b626245b26d8-pulp.sol (default strategy 1)\n",
      "At line 2 NAME          MODEL\n",
      "At line 3 ROWS\n",
      "At line 101 COLUMNS\n",
      "At line 5958 RHS\n",
      "At line 6055 BOUNDS\n",
      "At line 6344 ENDATA\n",
      "Problem MODEL has 96 rows, 288 columns and 4992 elements\n",
      "Coin0008I MODEL read with 0 errors\n",
      "Option for timeMode changed from cpu to elapsed\n",
      "Continuous objective value is 153480 - 0.00 seconds\n",
      "Cgl0003I 0 fixed, 288 tightened bounds, 0 strengthened rows, 0 substitutions\n",
      "Cgl0004I processed model has 96 rows, 288 columns (288 integer (0 of which binary)) and 4992 elements\n",
      "Cutoff increment increased from 1e-05 to 19.9999\n",
      "Cbc0012I Integer solution of 153480 found by greedy cover after 0 iterations and 0 nodes (0.01 seconds)\n",
      "Cbc0001I Search completed - best objective 153480, took 0 iterations and 0 nodes (0.01 seconds)\n",
      "Cbc0035I Maximum depth 0, 0 variables fixed on reduced cost\n",
      "Cuts at root node changed objective from 153480 to 153480\n",
      "Probing was tried 0 times and created 0 cuts of which 0 were active after adding rounds of cuts (0.000 seconds)\n",
      "Gomory was tried 0 times and created 0 cuts of which 0 were active after adding rounds of cuts (0.000 seconds)\n",
      "Knapsack was tried 0 times and created 0 cuts of which 0 were active after adding rounds of cuts (0.000 seconds)\n",
      "Clique was tried 0 times and created 0 cuts of which 0 were active after adding rounds of cuts (0.000 seconds)\n",
      "MixedIntegerRounding2 was tried 0 times and created 0 cuts of which 0 were active after adding rounds of cuts (0.000 seconds)\n",
      "FlowCover was tried 0 times and created 0 cuts of which 0 were active after adding rounds of cuts (0.000 seconds)\n",
      "TwoMirCuts was tried 0 times and created 0 cuts of which 0 were active after adding rounds of cuts (0.000 seconds)\n",
      "ZeroHalf was tried 0 times and created 0 cuts of which 0 were active after adding rounds of cuts (0.000 seconds)\n",
      "\n",
      "Result - Optimal solution found\n",
      "\n",
      "Objective value:                153480.00000000\n",
      "Enumerated nodes:               0\n",
      "Total iterations:               0\n",
      "Time (CPU seconds):             0.01\n",
      "Time (Wallclock seconds):       0.01\n",
      "\n",
      "Option for printingOptions changed from normal to all\n",
      "Total time (CPU seconds):       0.02   (Wallclock seconds):       0.02\n",
      "\n"
     ]
    },
    {
     "data": {
      "text/plain": [
       "1"
      ]
     },
     "execution_count": 246,
     "metadata": {},
     "output_type": "execute_result"
    }
   ],
   "source": [
    "prob.solve(solver)"
   ]
  },
  {
   "cell_type": "code",
   "execution_count": 248,
   "id": "d2fe77b6",
   "metadata": {},
   "outputs": [
    {
     "data": {
      "text/plain": [
       "'Optimal'"
      ]
     },
     "execution_count": 248,
     "metadata": {},
     "output_type": "execute_result"
    }
   ],
   "source": [
    "plp.LpStatus[prob.status]"
   ]
  },
  {
   "cell_type": "code",
   "execution_count": 250,
   "id": "1fee687e",
   "metadata": {},
   "outputs": [
    {
     "data": {
      "text/plain": [
       "153480.0"
      ]
     },
     "execution_count": 250,
     "metadata": {},
     "output_type": "execute_result"
    }
   ],
   "source": [
    "prob.objective.value()"
   ]
  },
  {
   "cell_type": "code",
   "execution_count": 255,
   "id": "eecd2f0d",
   "metadata": {},
   "outputs": [
    {
     "data": {
      "text/plain": [
       "[{'regime': 3, 'inicio': datetime.time(0, 0), 'valor': 0.0},\n",
       " {'regime': 3, 'inicio': datetime.time(0, 15), 'valor': 0.0},\n",
       " {'regime': 3, 'inicio': datetime.time(0, 30), 'valor': 0.0},\n",
       " {'regime': 3, 'inicio': datetime.time(0, 45), 'valor': 0.0},\n",
       " {'regime': 3, 'inicio': datetime.time(1, 0), 'valor': 0.0},\n",
       " {'regime': 3, 'inicio': datetime.time(1, 15), 'valor': 0.0},\n",
       " {'regime': 3, 'inicio': datetime.time(1, 30), 'valor': 0.0},\n",
       " {'regime': 3, 'inicio': datetime.time(1, 45), 'valor': 0.0},\n",
       " {'regime': 3, 'inicio': datetime.time(2, 0), 'valor': 0.0},\n",
       " {'regime': 3, 'inicio': datetime.time(2, 15), 'valor': 0.0},\n",
       " {'regime': 3, 'inicio': datetime.time(2, 30), 'valor': 0.0},\n",
       " {'regime': 3, 'inicio': datetime.time(2, 45), 'valor': 0.0},\n",
       " {'regime': 3, 'inicio': datetime.time(3, 0), 'valor': 0.0},\n",
       " {'regime': 3, 'inicio': datetime.time(3, 15), 'valor': 0.0},\n",
       " {'regime': 3, 'inicio': datetime.time(3, 30), 'valor': 0.0},\n",
       " {'regime': 3, 'inicio': datetime.time(3, 45), 'valor': 0.0},\n",
       " {'regime': 3, 'inicio': datetime.time(4, 0), 'valor': 0.0},\n",
       " {'regime': 3, 'inicio': datetime.time(4, 15), 'valor': 0.0},\n",
       " {'regime': 3, 'inicio': datetime.time(4, 30), 'valor': 0.0},\n",
       " {'regime': 3, 'inicio': datetime.time(4, 45), 'valor': 0.0},\n",
       " {'regime': 3, 'inicio': datetime.time(5, 0), 'valor': 0.0},\n",
       " {'regime': 3, 'inicio': datetime.time(5, 15), 'valor': 0.0},\n",
       " {'regime': 3, 'inicio': datetime.time(5, 30), 'valor': 0.0},\n",
       " {'regime': 3, 'inicio': datetime.time(5, 45), 'valor': 0.0},\n",
       " {'regime': 3, 'inicio': datetime.time(6, 0), 'valor': 0.0},\n",
       " {'regime': 3, 'inicio': datetime.time(6, 15), 'valor': 0.0},\n",
       " {'regime': 3, 'inicio': datetime.time(6, 30), 'valor': 0.0},\n",
       " {'regime': 3, 'inicio': datetime.time(6, 45), 'valor': 0.0},\n",
       " {'regime': 3, 'inicio': datetime.time(7, 0), 'valor': 0.0},\n",
       " {'regime': 3, 'inicio': datetime.time(7, 15), 'valor': 0.0},\n",
       " {'regime': 3, 'inicio': datetime.time(7, 30), 'valor': 0.0},\n",
       " {'regime': 3, 'inicio': datetime.time(7, 45), 'valor': 0.0},\n",
       " {'regime': 3, 'inicio': datetime.time(8, 0), 'valor': 0.0},\n",
       " {'regime': 3, 'inicio': datetime.time(8, 15), 'valor': 0.0},\n",
       " {'regime': 3, 'inicio': datetime.time(8, 30), 'valor': 0.0},\n",
       " {'regime': 3, 'inicio': datetime.time(8, 45), 'valor': 0.0},\n",
       " {'regime': 3, 'inicio': datetime.time(9, 0), 'valor': 5.0},\n",
       " {'regime': 3, 'inicio': datetime.time(9, 15), 'valor': 0.0},\n",
       " {'regime': 3, 'inicio': datetime.time(9, 30), 'valor': 0.0},\n",
       " {'regime': 3, 'inicio': datetime.time(9, 45), 'valor': 0.0},\n",
       " {'regime': 3, 'inicio': datetime.time(10, 0), 'valor': 0.0},\n",
       " {'regime': 3, 'inicio': datetime.time(10, 15), 'valor': 0.0},\n",
       " {'regime': 3, 'inicio': datetime.time(10, 30), 'valor': 0.0},\n",
       " {'regime': 3, 'inicio': datetime.time(10, 45), 'valor': 0.0},\n",
       " {'regime': 3, 'inicio': datetime.time(11, 0), 'valor': 0.0},\n",
       " {'regime': 3, 'inicio': datetime.time(11, 15), 'valor': 0.0},\n",
       " {'regime': 3, 'inicio': datetime.time(11, 30), 'valor': 0.0},\n",
       " {'regime': 3, 'inicio': datetime.time(11, 45), 'valor': 0.0},\n",
       " {'regime': 3, 'inicio': datetime.time(12, 0), 'valor': 0.0},\n",
       " {'regime': 3, 'inicio': datetime.time(12, 15), 'valor': 0.0},\n",
       " {'regime': 3, 'inicio': datetime.time(12, 30), 'valor': 0.0},\n",
       " {'regime': 3, 'inicio': datetime.time(12, 45), 'valor': 0.0},\n",
       " {'regime': 3, 'inicio': datetime.time(13, 0), 'valor': 0.0},\n",
       " {'regime': 3, 'inicio': datetime.time(13, 15), 'valor': 0.0},\n",
       " {'regime': 3, 'inicio': datetime.time(13, 30), 'valor': 0.0},\n",
       " {'regime': 3, 'inicio': datetime.time(13, 45), 'valor': 0.0},\n",
       " {'regime': 3, 'inicio': datetime.time(14, 0), 'valor': 0.0},\n",
       " {'regime': 3, 'inicio': datetime.time(14, 15), 'valor': 0.0},\n",
       " {'regime': 3, 'inicio': datetime.time(14, 30), 'valor': 3.0},\n",
       " {'regime': 3, 'inicio': datetime.time(14, 45), 'valor': 0.0},\n",
       " {'regime': 3, 'inicio': datetime.time(15, 0), 'valor': 0.0},\n",
       " {'regime': 3, 'inicio': datetime.time(15, 15), 'valor': 0.0},\n",
       " {'regime': 3, 'inicio': datetime.time(15, 30), 'valor': 0.0},\n",
       " {'regime': 3, 'inicio': datetime.time(15, 45), 'valor': 0.0},\n",
       " {'regime': 3, 'inicio': datetime.time(16, 0), 'valor': 0.0},\n",
       " {'regime': 3, 'inicio': datetime.time(16, 15), 'valor': 0.0},\n",
       " {'regime': 3, 'inicio': datetime.time(16, 30), 'valor': 0.0},\n",
       " {'regime': 3, 'inicio': datetime.time(16, 45), 'valor': 0.0},\n",
       " {'regime': 3, 'inicio': datetime.time(17, 0), 'valor': 0.0},\n",
       " {'regime': 3, 'inicio': datetime.time(17, 15), 'valor': 0.0},\n",
       " {'regime': 3, 'inicio': datetime.time(17, 30), 'valor': 0.0},\n",
       " {'regime': 3, 'inicio': datetime.time(17, 45), 'valor': 0.0},\n",
       " {'regime': 3, 'inicio': datetime.time(18, 0), 'valor': 0.0},\n",
       " {'regime': 3, 'inicio': datetime.time(18, 15), 'valor': 0.0},\n",
       " {'regime': 3, 'inicio': datetime.time(18, 30), 'valor': 0.0},\n",
       " {'regime': 3, 'inicio': datetime.time(18, 45), 'valor': 0.0},\n",
       " {'regime': 3, 'inicio': datetime.time(19, 0), 'valor': 0.0},\n",
       " {'regime': 3, 'inicio': datetime.time(19, 15), 'valor': 0.0},\n",
       " {'regime': 3, 'inicio': datetime.time(19, 30), 'valor': 0.0},\n",
       " {'regime': 3, 'inicio': datetime.time(19, 45), 'valor': 0.0},\n",
       " {'regime': 3, 'inicio': datetime.time(20, 0), 'valor': 0.0},\n",
       " {'regime': 3, 'inicio': datetime.time(20, 15), 'valor': 0.0},\n",
       " {'regime': 3, 'inicio': datetime.time(20, 30), 'valor': 0.0},\n",
       " {'regime': 3, 'inicio': datetime.time(20, 45), 'valor': 0.0},\n",
       " {'regime': 3, 'inicio': datetime.time(21, 0), 'valor': 0.0},\n",
       " {'regime': 3, 'inicio': datetime.time(21, 15), 'valor': 0.0},\n",
       " {'regime': 3, 'inicio': datetime.time(21, 30), 'valor': 0.0},\n",
       " {'regime': 3, 'inicio': datetime.time(21, 45), 'valor': 0.0},\n",
       " {'regime': 3, 'inicio': datetime.time(22, 0), 'valor': 0.0},\n",
       " {'regime': 3, 'inicio': datetime.time(22, 15), 'valor': 0.0},\n",
       " {'regime': 3, 'inicio': datetime.time(22, 30), 'valor': 0.0},\n",
       " {'regime': 3, 'inicio': datetime.time(22, 45), 'valor': 0.0},\n",
       " {'regime': 3, 'inicio': datetime.time(23, 0), 'valor': 0.0},\n",
       " {'regime': 3, 'inicio': datetime.time(23, 15), 'valor': 0.0},\n",
       " {'regime': 3, 'inicio': datetime.time(23, 30), 'valor': 0.0},\n",
       " {'regime': 3, 'inicio': datetime.time(23, 45), 'valor': 0.0},\n",
       " {'regime': 4, 'inicio': datetime.time(0, 0), 'valor': 0.0},\n",
       " {'regime': 4, 'inicio': datetime.time(0, 15), 'valor': 0.0},\n",
       " {'regime': 4, 'inicio': datetime.time(0, 30), 'valor': 0.0},\n",
       " {'regime': 4, 'inicio': datetime.time(0, 45), 'valor': 0.0},\n",
       " {'regime': 4, 'inicio': datetime.time(1, 0), 'valor': 0.0},\n",
       " {'regime': 4, 'inicio': datetime.time(1, 15), 'valor': 0.0},\n",
       " {'regime': 4, 'inicio': datetime.time(1, 30), 'valor': 0.0},\n",
       " {'regime': 4, 'inicio': datetime.time(1, 45), 'valor': 0.0},\n",
       " {'regime': 4, 'inicio': datetime.time(2, 0), 'valor': 0.0},\n",
       " {'regime': 4, 'inicio': datetime.time(2, 15), 'valor': 0.0},\n",
       " {'regime': 4, 'inicio': datetime.time(2, 30), 'valor': 0.0},\n",
       " {'regime': 4, 'inicio': datetime.time(2, 45), 'valor': 0.0},\n",
       " {'regime': 4, 'inicio': datetime.time(3, 0), 'valor': 0.0},\n",
       " {'regime': 4, 'inicio': datetime.time(3, 15), 'valor': 0.0},\n",
       " {'regime': 4, 'inicio': datetime.time(3, 30), 'valor': 0.0},\n",
       " {'regime': 4, 'inicio': datetime.time(3, 45), 'valor': 0.0},\n",
       " {'regime': 4, 'inicio': datetime.time(4, 0), 'valor': 0.0},\n",
       " {'regime': 4, 'inicio': datetime.time(4, 15), 'valor': 1.0},\n",
       " {'regime': 4, 'inicio': datetime.time(4, 30), 'valor': 0.0},\n",
       " {'regime': 4, 'inicio': datetime.time(4, 45), 'valor': 0.0},\n",
       " {'regime': 4, 'inicio': datetime.time(5, 0), 'valor': 0.0},\n",
       " {'regime': 4, 'inicio': datetime.time(5, 15), 'valor': 0.0},\n",
       " {'regime': 4, 'inicio': datetime.time(5, 30), 'valor': 0.0},\n",
       " {'regime': 4, 'inicio': datetime.time(5, 45), 'valor': 0.0},\n",
       " {'regime': 4, 'inicio': datetime.time(6, 0), 'valor': 0.0},\n",
       " {'regime': 4, 'inicio': datetime.time(6, 15), 'valor': 0.0},\n",
       " {'regime': 4, 'inicio': datetime.time(6, 30), 'valor': 0.0},\n",
       " {'regime': 4, 'inicio': datetime.time(6, 45), 'valor': 0.0},\n",
       " {'regime': 4, 'inicio': datetime.time(7, 0), 'valor': 9.0},\n",
       " {'regime': 4, 'inicio': datetime.time(7, 15), 'valor': 1.0},\n",
       " {'regime': 4, 'inicio': datetime.time(7, 30), 'valor': 2.0},\n",
       " {'regime': 4, 'inicio': datetime.time(7, 45), 'valor': 2.0},\n",
       " {'regime': 4, 'inicio': datetime.time(8, 0), 'valor': 6.0},\n",
       " {'regime': 4, 'inicio': datetime.time(8, 15), 'valor': 1.0},\n",
       " {'regime': 4, 'inicio': datetime.time(8, 30), 'valor': 0.0},\n",
       " {'regime': 4, 'inicio': datetime.time(8, 45), 'valor': 0.0},\n",
       " {'regime': 4, 'inicio': datetime.time(9, 0), 'valor': 2.0},\n",
       " {'regime': 4, 'inicio': datetime.time(9, 15), 'valor': 0.0},\n",
       " {'regime': 4, 'inicio': datetime.time(9, 30), 'valor': 0.0},\n",
       " {'regime': 4, 'inicio': datetime.time(9, 45), 'valor': 0.0},\n",
       " {'regime': 4, 'inicio': datetime.time(10, 0), 'valor': 0.0},\n",
       " {'regime': 4, 'inicio': datetime.time(10, 15), 'valor': 2.0},\n",
       " {'regime': 4, 'inicio': datetime.time(10, 30), 'valor': 0.0},\n",
       " {'regime': 4, 'inicio': datetime.time(10, 45), 'valor': 0.0},\n",
       " {'regime': 4, 'inicio': datetime.time(11, 0), 'valor': 0.0},\n",
       " {'regime': 4, 'inicio': datetime.time(11, 15), 'valor': 0.0},\n",
       " {'regime': 4, 'inicio': datetime.time(11, 30), 'valor': 0.0},\n",
       " {'regime': 4, 'inicio': datetime.time(11, 45), 'valor': 0.0},\n",
       " {'regime': 4, 'inicio': datetime.time(12, 0), 'valor': 0.0},\n",
       " {'regime': 4, 'inicio': datetime.time(12, 15), 'valor': 0.0},\n",
       " {'regime': 4, 'inicio': datetime.time(12, 30), 'valor': 0.0},\n",
       " {'regime': 4, 'inicio': datetime.time(12, 45), 'valor': 0.0},\n",
       " {'regime': 4, 'inicio': datetime.time(13, 0), 'valor': 6.0},\n",
       " {'regime': 4, 'inicio': datetime.time(13, 15), 'valor': 1.0},\n",
       " {'regime': 4, 'inicio': datetime.time(13, 30), 'valor': 0.0},\n",
       " {'regime': 4, 'inicio': datetime.time(13, 45), 'valor': 0.0},\n",
       " {'regime': 4, 'inicio': datetime.time(14, 0), 'valor': 7.0},\n",
       " {'regime': 4, 'inicio': datetime.time(14, 15), 'valor': 0.0},\n",
       " {'regime': 4, 'inicio': datetime.time(14, 30), 'valor': 0.0},\n",
       " {'regime': 4, 'inicio': datetime.time(14, 45), 'valor': 13.0},\n",
       " {'regime': 4, 'inicio': datetime.time(15, 0), 'valor': 0.0},\n",
       " {'regime': 4, 'inicio': datetime.time(15, 15), 'valor': 0.0},\n",
       " {'regime': 4, 'inicio': datetime.time(15, 30), 'valor': 0.0},\n",
       " {'regime': 4, 'inicio': datetime.time(15, 45), 'valor': 0.0},\n",
       " {'regime': 4, 'inicio': datetime.time(16, 0), 'valor': 0.0},\n",
       " {'regime': 4, 'inicio': datetime.time(16, 15), 'valor': 0.0},\n",
       " {'regime': 4, 'inicio': datetime.time(16, 30), 'valor': 0.0},\n",
       " {'regime': 4, 'inicio': datetime.time(16, 45), 'valor': 0.0},\n",
       " {'regime': 4, 'inicio': datetime.time(17, 0), 'valor': 0.0},\n",
       " {'regime': 4, 'inicio': datetime.time(17, 15), 'valor': 2.0},\n",
       " {'regime': 4, 'inicio': datetime.time(17, 30), 'valor': 2.0},\n",
       " {'regime': 4, 'inicio': datetime.time(17, 45), 'valor': 0.0},\n",
       " {'regime': 4, 'inicio': datetime.time(18, 0), 'valor': 0.0},\n",
       " {'regime': 4, 'inicio': datetime.time(18, 15), 'valor': 0.0},\n",
       " {'regime': 4, 'inicio': datetime.time(18, 30), 'valor': 0.0},\n",
       " {'regime': 4, 'inicio': datetime.time(18, 45), 'valor': 0.0},\n",
       " {'regime': 4, 'inicio': datetime.time(19, 0), 'valor': 0.0},\n",
       " {'regime': 4, 'inicio': datetime.time(19, 15), 'valor': 0.0},\n",
       " {'regime': 4, 'inicio': datetime.time(19, 30), 'valor': 0.0},\n",
       " {'regime': 4, 'inicio': datetime.time(19, 45), 'valor': 0.0},\n",
       " {'regime': 4, 'inicio': datetime.time(20, 0), 'valor': 0.0},\n",
       " {'regime': 4, 'inicio': datetime.time(20, 15), 'valor': 0.0},\n",
       " {'regime': 4, 'inicio': datetime.time(20, 30), 'valor': 0.0},\n",
       " {'regime': 4, 'inicio': datetime.time(20, 45), 'valor': 0.0},\n",
       " {'regime': 4, 'inicio': datetime.time(21, 0), 'valor': 0.0},\n",
       " {'regime': 4, 'inicio': datetime.time(21, 15), 'valor': 0.0},\n",
       " {'regime': 4, 'inicio': datetime.time(21, 30), 'valor': 0.0},\n",
       " {'regime': 4, 'inicio': datetime.time(21, 45), 'valor': 0.0},\n",
       " {'regime': 4, 'inicio': datetime.time(22, 0), 'valor': 0.0},\n",
       " {'regime': 4, 'inicio': datetime.time(22, 15), 'valor': 0.0},\n",
       " {'regime': 4, 'inicio': datetime.time(22, 30), 'valor': 0.0},\n",
       " {'regime': 4, 'inicio': datetime.time(22, 45), 'valor': 0.0},\n",
       " {'regime': 4, 'inicio': datetime.time(23, 0), 'valor': 0.0},\n",
       " {'regime': 4, 'inicio': datetime.time(23, 15), 'valor': 0.0},\n",
       " {'regime': 4, 'inicio': datetime.time(23, 30), 'valor': 0.0},\n",
       " {'regime': 4, 'inicio': datetime.time(23, 45), 'valor': 0.0},\n",
       " {'regime': 6, 'inicio': datetime.time(0, 0), 'valor': 0.0},\n",
       " {'regime': 6, 'inicio': datetime.time(0, 15), 'valor': 0.0},\n",
       " {'regime': 6, 'inicio': datetime.time(0, 30), 'valor': 0.0},\n",
       " {'regime': 6, 'inicio': datetime.time(0, 45), 'valor': 1.0},\n",
       " {'regime': 6, 'inicio': datetime.time(1, 0), 'valor': 0.0},\n",
       " {'regime': 6, 'inicio': datetime.time(1, 15), 'valor': 0.0},\n",
       " {'regime': 6, 'inicio': datetime.time(1, 30), 'valor': 0.0},\n",
       " {'regime': 6, 'inicio': datetime.time(1, 45), 'valor': 0.0},\n",
       " {'regime': 6, 'inicio': datetime.time(2, 0), 'valor': 0.0},\n",
       " {'regime': 6, 'inicio': datetime.time(2, 15), 'valor': 0.0},\n",
       " {'regime': 6, 'inicio': datetime.time(2, 30), 'valor': 0.0},\n",
       " {'regime': 6, 'inicio': datetime.time(2, 45), 'valor': 0.0},\n",
       " {'regime': 6, 'inicio': datetime.time(3, 0), 'valor': 0.0},\n",
       " {'regime': 6, 'inicio': datetime.time(3, 15), 'valor': 0.0},\n",
       " {'regime': 6, 'inicio': datetime.time(3, 30), 'valor': 0.0},\n",
       " {'regime': 6, 'inicio': datetime.time(3, 45), 'valor': 0.0},\n",
       " {'regime': 6, 'inicio': datetime.time(4, 0), 'valor': 0.0},\n",
       " {'regime': 6, 'inicio': datetime.time(4, 15), 'valor': 0.0},\n",
       " {'regime': 6, 'inicio': datetime.time(4, 30), 'valor': 0.0},\n",
       " {'regime': 6, 'inicio': datetime.time(4, 45), 'valor': 0.0},\n",
       " {'regime': 6, 'inicio': datetime.time(5, 0), 'valor': 0.0},\n",
       " {'regime': 6, 'inicio': datetime.time(5, 15), 'valor': 1.0},\n",
       " {'regime': 6, 'inicio': datetime.time(5, 30), 'valor': 0.0},\n",
       " {'regime': 6, 'inicio': datetime.time(5, 45), 'valor': 3.0},\n",
       " {'regime': 6, 'inicio': datetime.time(6, 0), 'valor': 0.0},\n",
       " {'regime': 6, 'inicio': datetime.time(6, 15), 'valor': 0.0},\n",
       " {'regime': 6, 'inicio': datetime.time(6, 30), 'valor': 2.0},\n",
       " {'regime': 6, 'inicio': datetime.time(6, 45), 'valor': 0.0},\n",
       " {'regime': 6, 'inicio': datetime.time(7, 0), 'valor': 4.0},\n",
       " {'regime': 6, 'inicio': datetime.time(7, 15), 'valor': 0.0},\n",
       " {'regime': 6, 'inicio': datetime.time(7, 30), 'valor': 0.0},\n",
       " {'regime': 6, 'inicio': datetime.time(7, 45), 'valor': 2.0},\n",
       " {'regime': 6, 'inicio': datetime.time(8, 0), 'valor': 8.0},\n",
       " {'regime': 6, 'inicio': datetime.time(8, 15), 'valor': 0.0},\n",
       " {'regime': 6, 'inicio': datetime.time(8, 30), 'valor': 0.0},\n",
       " {'regime': 6, 'inicio': datetime.time(8, 45), 'valor': 18.0},\n",
       " {'regime': 6, 'inicio': datetime.time(9, 0), 'valor': 0.0},\n",
       " {'regime': 6, 'inicio': datetime.time(9, 15), 'valor': 0.0},\n",
       " {'regime': 6, 'inicio': datetime.time(9, 30), 'valor': 0.0},\n",
       " {'regime': 6, 'inicio': datetime.time(9, 45), 'valor': 4.0},\n",
       " {'regime': 6, 'inicio': datetime.time(10, 0), 'valor': 0.0},\n",
       " {'regime': 6, 'inicio': datetime.time(10, 15), 'valor': 3.0},\n",
       " {'regime': 6, 'inicio': datetime.time(10, 30), 'valor': 0.0},\n",
       " {'regime': 6, 'inicio': datetime.time(10, 45), 'valor': 0.0},\n",
       " {'regime': 6, 'inicio': datetime.time(11, 0), 'valor': 0.0},\n",
       " {'regime': 6, 'inicio': datetime.time(11, 15), 'valor': 0.0},\n",
       " {'regime': 6, 'inicio': datetime.time(11, 30), 'valor': 0.0},\n",
       " {'regime': 6, 'inicio': datetime.time(11, 45), 'valor': 11.0},\n",
       " {'regime': 6, 'inicio': datetime.time(12, 0), 'valor': 0.0},\n",
       " {'regime': 6, 'inicio': datetime.time(12, 15), 'valor': 2.0},\n",
       " {'regime': 6, 'inicio': datetime.time(12, 30), 'valor': 0.0},\n",
       " {'regime': 6, 'inicio': datetime.time(12, 45), 'valor': 4.0},\n",
       " {'regime': 6, 'inicio': datetime.time(13, 0), 'valor': 4.0},\n",
       " {'regime': 6, 'inicio': datetime.time(13, 15), 'valor': 2.0},\n",
       " {'regime': 6, 'inicio': datetime.time(13, 30), 'valor': 5.0},\n",
       " {'regime': 6, 'inicio': datetime.time(13, 45), 'valor': 0.0},\n",
       " {'regime': 6, 'inicio': datetime.time(14, 0), 'valor': 0.0},\n",
       " {'regime': 6, 'inicio': datetime.time(14, 15), 'valor': 0.0},\n",
       " {'regime': 6, 'inicio': datetime.time(14, 30), 'valor': 1.0},\n",
       " {'regime': 6, 'inicio': datetime.time(14, 45), 'valor': 0.0},\n",
       " {'regime': 6, 'inicio': datetime.time(15, 0), 'valor': 5.0},\n",
       " {'regime': 6, 'inicio': datetime.time(15, 15), 'valor': 0.0},\n",
       " {'regime': 6, 'inicio': datetime.time(15, 30), 'valor': 0.0},\n",
       " {'regime': 6, 'inicio': datetime.time(15, 45), 'valor': 0.0},\n",
       " {'regime': 6, 'inicio': datetime.time(16, 0), 'valor': 1.0},\n",
       " {'regime': 6, 'inicio': datetime.time(16, 15), 'valor': 1.0},\n",
       " {'regime': 6, 'inicio': datetime.time(16, 30), 'valor': 2.0},\n",
       " {'regime': 6, 'inicio': datetime.time(16, 45), 'valor': 3.0},\n",
       " {'regime': 6, 'inicio': datetime.time(17, 0), 'valor': 3.0},\n",
       " {'regime': 6, 'inicio': datetime.time(17, 15), 'valor': 0.0},\n",
       " {'regime': 6, 'inicio': datetime.time(17, 30), 'valor': 5.0},\n",
       " {'regime': 6, 'inicio': datetime.time(17, 45), 'valor': 0.0},\n",
       " {'regime': 6, 'inicio': datetime.time(18, 0), 'valor': 0.0},\n",
       " {'regime': 6, 'inicio': datetime.time(18, 15), 'valor': 0.0},\n",
       " {'regime': 6, 'inicio': datetime.time(18, 30), 'valor': 0.0},\n",
       " {'regime': 6, 'inicio': datetime.time(18, 45), 'valor': 12.0},\n",
       " {'regime': 6, 'inicio': datetime.time(19, 0), 'valor': 1.0},\n",
       " {'regime': 6, 'inicio': datetime.time(19, 15), 'valor': 1.0},\n",
       " {'regime': 6, 'inicio': datetime.time(19, 30), 'valor': 0.0},\n",
       " {'regime': 6, 'inicio': datetime.time(19, 45), 'valor': 0.0},\n",
       " {'regime': 6, 'inicio': datetime.time(20, 0), 'valor': 2.0},\n",
       " {'regime': 6, 'inicio': datetime.time(20, 15), 'valor': 0.0},\n",
       " {'regime': 6, 'inicio': datetime.time(20, 30), 'valor': 0.0},\n",
       " {'regime': 6, 'inicio': datetime.time(20, 45), 'valor': 0.0},\n",
       " {'regime': 6, 'inicio': datetime.time(21, 0), 'valor': 1.0},\n",
       " {'regime': 6, 'inicio': datetime.time(21, 15), 'valor': 0.0},\n",
       " {'regime': 6, 'inicio': datetime.time(21, 30), 'valor': 0.0},\n",
       " {'regime': 6, 'inicio': datetime.time(21, 45), 'valor': 0.0},\n",
       " {'regime': 6, 'inicio': datetime.time(22, 0), 'valor': 0.0},\n",
       " {'regime': 6, 'inicio': datetime.time(22, 15), 'valor': 0.0},\n",
       " {'regime': 6, 'inicio': datetime.time(22, 30), 'valor': 0.0},\n",
       " {'regime': 6, 'inicio': datetime.time(22, 45), 'valor': 1.0},\n",
       " {'regime': 6, 'inicio': datetime.time(23, 0), 'valor': 0.0},\n",
       " {'regime': 6, 'inicio': datetime.time(23, 15), 'valor': 0.0},\n",
       " {'regime': 6, 'inicio': datetime.time(23, 30), 'valor': 2.0},\n",
       " {'regime': 6, 'inicio': datetime.time(23, 45), 'valor': 0.0}]"
      ]
     },
     "execution_count": 255,
     "metadata": {},
     "output_type": "execute_result"
    }
   ],
   "source": [
    "resultados = []\n",
    "for v_tupla, v_pulp in pulp_variaveis.items():\n",
    "    #print(v.name, \"=\", v.varValue)\n",
    "    #valor_var = v.varValue\n",
    "    #indice_regime, indice_periodo = v_tupla\n",
    "    indice_regime, indice_inicio = v_tupla\n",
    "    nome_regime = regimes[indice_regime]\n",
    "    nome_inicio = inicios[indice_inicio]\n",
    "\n",
    "    #print(nome_regime, nome_inicio)\n",
    "    resultados.append({\n",
    "        \"regime\": nome_regime,\n",
    "        \"inicio\": nome_inicio,\n",
    "        \"valor\": v_pulp.varValue\n",
    "    })\n",
    "\n",
    "resultados\n"
   ]
  },
  {
   "cell_type": "code",
   "execution_count": 256,
   "id": "b00a9a9d",
   "metadata": {},
   "outputs": [
    {
     "data": {
      "application/vnd.microsoft.datawrangler.viewer.v0+json": {
       "columns": [
        {
         "name": "index",
         "rawType": "int64",
         "type": "integer"
        },
        {
         "name": "regime",
         "rawType": "int64",
         "type": "integer"
        },
        {
         "name": "inicio",
         "rawType": "object",
         "type": "unknown"
        },
        {
         "name": "valor",
         "rawType": "float64",
         "type": "float"
        }
       ],
       "ref": "8f252d01-9cb9-4c39-a23b-192d898911b5",
       "rows": [
        [
         "0",
         "3",
         "00:00:00",
         "0.0"
        ],
        [
         "1",
         "3",
         "00:15:00",
         "0.0"
        ],
        [
         "2",
         "3",
         "00:30:00",
         "0.0"
        ],
        [
         "3",
         "3",
         "00:45:00",
         "0.0"
        ],
        [
         "4",
         "3",
         "01:00:00",
         "0.0"
        ],
        [
         "5",
         "3",
         "01:15:00",
         "0.0"
        ],
        [
         "6",
         "3",
         "01:30:00",
         "0.0"
        ],
        [
         "7",
         "3",
         "01:45:00",
         "0.0"
        ],
        [
         "8",
         "3",
         "02:00:00",
         "0.0"
        ],
        [
         "9",
         "3",
         "02:15:00",
         "0.0"
        ],
        [
         "10",
         "3",
         "02:30:00",
         "0.0"
        ],
        [
         "11",
         "3",
         "02:45:00",
         "0.0"
        ],
        [
         "12",
         "3",
         "03:00:00",
         "0.0"
        ],
        [
         "13",
         "3",
         "03:15:00",
         "0.0"
        ],
        [
         "14",
         "3",
         "03:30:00",
         "0.0"
        ],
        [
         "15",
         "3",
         "03:45:00",
         "0.0"
        ],
        [
         "16",
         "3",
         "04:00:00",
         "0.0"
        ],
        [
         "17",
         "3",
         "04:15:00",
         "0.0"
        ],
        [
         "18",
         "3",
         "04:30:00",
         "0.0"
        ],
        [
         "19",
         "3",
         "04:45:00",
         "0.0"
        ],
        [
         "20",
         "3",
         "05:00:00",
         "0.0"
        ],
        [
         "21",
         "3",
         "05:15:00",
         "0.0"
        ],
        [
         "22",
         "3",
         "05:30:00",
         "0.0"
        ],
        [
         "23",
         "3",
         "05:45:00",
         "0.0"
        ],
        [
         "24",
         "3",
         "06:00:00",
         "0.0"
        ],
        [
         "25",
         "3",
         "06:15:00",
         "0.0"
        ],
        [
         "26",
         "3",
         "06:30:00",
         "0.0"
        ],
        [
         "27",
         "3",
         "06:45:00",
         "0.0"
        ],
        [
         "28",
         "3",
         "07:00:00",
         "0.0"
        ],
        [
         "29",
         "3",
         "07:15:00",
         "0.0"
        ],
        [
         "30",
         "3",
         "07:30:00",
         "0.0"
        ],
        [
         "31",
         "3",
         "07:45:00",
         "0.0"
        ],
        [
         "32",
         "3",
         "08:00:00",
         "0.0"
        ],
        [
         "33",
         "3",
         "08:15:00",
         "0.0"
        ],
        [
         "34",
         "3",
         "08:30:00",
         "0.0"
        ],
        [
         "35",
         "3",
         "08:45:00",
         "0.0"
        ],
        [
         "36",
         "3",
         "09:00:00",
         "5.0"
        ],
        [
         "37",
         "3",
         "09:15:00",
         "0.0"
        ],
        [
         "38",
         "3",
         "09:30:00",
         "0.0"
        ],
        [
         "39",
         "3",
         "09:45:00",
         "0.0"
        ],
        [
         "40",
         "3",
         "10:00:00",
         "0.0"
        ],
        [
         "41",
         "3",
         "10:15:00",
         "0.0"
        ],
        [
         "42",
         "3",
         "10:30:00",
         "0.0"
        ],
        [
         "43",
         "3",
         "10:45:00",
         "0.0"
        ],
        [
         "44",
         "3",
         "11:00:00",
         "0.0"
        ],
        [
         "45",
         "3",
         "11:15:00",
         "0.0"
        ],
        [
         "46",
         "3",
         "11:30:00",
         "0.0"
        ],
        [
         "47",
         "3",
         "11:45:00",
         "0.0"
        ],
        [
         "48",
         "3",
         "12:00:00",
         "0.0"
        ],
        [
         "49",
         "3",
         "12:15:00",
         "0.0"
        ]
       ],
       "shape": {
        "columns": 3,
        "rows": 288
       }
      },
      "text/html": [
       "<div>\n",
       "<style scoped>\n",
       "    .dataframe tbody tr th:only-of-type {\n",
       "        vertical-align: middle;\n",
       "    }\n",
       "\n",
       "    .dataframe tbody tr th {\n",
       "        vertical-align: top;\n",
       "    }\n",
       "\n",
       "    .dataframe thead th {\n",
       "        text-align: right;\n",
       "    }\n",
       "</style>\n",
       "<table border=\"1\" class=\"dataframe\">\n",
       "  <thead>\n",
       "    <tr style=\"text-align: right;\">\n",
       "      <th></th>\n",
       "      <th>regime</th>\n",
       "      <th>inicio</th>\n",
       "      <th>valor</th>\n",
       "    </tr>\n",
       "  </thead>\n",
       "  <tbody>\n",
       "    <tr>\n",
       "      <th>0</th>\n",
       "      <td>3</td>\n",
       "      <td>00:00:00</td>\n",
       "      <td>0.0</td>\n",
       "    </tr>\n",
       "    <tr>\n",
       "      <th>1</th>\n",
       "      <td>3</td>\n",
       "      <td>00:15:00</td>\n",
       "      <td>0.0</td>\n",
       "    </tr>\n",
       "    <tr>\n",
       "      <th>2</th>\n",
       "      <td>3</td>\n",
       "      <td>00:30:00</td>\n",
       "      <td>0.0</td>\n",
       "    </tr>\n",
       "    <tr>\n",
       "      <th>3</th>\n",
       "      <td>3</td>\n",
       "      <td>00:45:00</td>\n",
       "      <td>0.0</td>\n",
       "    </tr>\n",
       "    <tr>\n",
       "      <th>4</th>\n",
       "      <td>3</td>\n",
       "      <td>01:00:00</td>\n",
       "      <td>0.0</td>\n",
       "    </tr>\n",
       "    <tr>\n",
       "      <th>...</th>\n",
       "      <td>...</td>\n",
       "      <td>...</td>\n",
       "      <td>...</td>\n",
       "    </tr>\n",
       "    <tr>\n",
       "      <th>283</th>\n",
       "      <td>6</td>\n",
       "      <td>22:45:00</td>\n",
       "      <td>1.0</td>\n",
       "    </tr>\n",
       "    <tr>\n",
       "      <th>284</th>\n",
       "      <td>6</td>\n",
       "      <td>23:00:00</td>\n",
       "      <td>0.0</td>\n",
       "    </tr>\n",
       "    <tr>\n",
       "      <th>285</th>\n",
       "      <td>6</td>\n",
       "      <td>23:15:00</td>\n",
       "      <td>0.0</td>\n",
       "    </tr>\n",
       "    <tr>\n",
       "      <th>286</th>\n",
       "      <td>6</td>\n",
       "      <td>23:30:00</td>\n",
       "      <td>2.0</td>\n",
       "    </tr>\n",
       "    <tr>\n",
       "      <th>287</th>\n",
       "      <td>6</td>\n",
       "      <td>23:45:00</td>\n",
       "      <td>0.0</td>\n",
       "    </tr>\n",
       "  </tbody>\n",
       "</table>\n",
       "<p>288 rows × 3 columns</p>\n",
       "</div>"
      ],
      "text/plain": [
       "     regime    inicio  valor\n",
       "0         3  00:00:00    0.0\n",
       "1         3  00:15:00    0.0\n",
       "2         3  00:30:00    0.0\n",
       "3         3  00:45:00    0.0\n",
       "4         3  01:00:00    0.0\n",
       "..      ...       ...    ...\n",
       "283       6  22:45:00    1.0\n",
       "284       6  23:00:00    0.0\n",
       "285       6  23:15:00    0.0\n",
       "286       6  23:30:00    2.0\n",
       "287       6  23:45:00    0.0\n",
       "\n",
       "[288 rows x 3 columns]"
      ]
     },
     "execution_count": 256,
     "metadata": {},
     "output_type": "execute_result"
    }
   ],
   "source": [
    "df_resultados = pd.DataFrame(resultados)\n",
    "df_resultados"
   ]
  },
  {
   "cell_type": "code",
   "execution_count": 257,
   "id": "d2d668ee",
   "metadata": {},
   "outputs": [
    {
     "data": {
      "application/vnd.microsoft.datawrangler.viewer.v0+json": {
       "columns": [
        {
         "name": "index",
         "rawType": "int64",
         "type": "integer"
        },
        {
         "name": "regime",
         "rawType": "int64",
         "type": "integer"
        },
        {
         "name": "inicio",
         "rawType": "object",
         "type": "unknown"
        },
        {
         "name": "valor",
         "rawType": "float64",
         "type": "float"
        }
       ],
       "ref": "faa767dc-7014-4a9d-80c1-b96fbd7c0bea",
       "rows": [
        [
         "36",
         "3",
         "09:00:00",
         "5.0"
        ],
        [
         "58",
         "3",
         "14:30:00",
         "3.0"
        ],
        [
         "113",
         "4",
         "04:15:00",
         "1.0"
        ],
        [
         "124",
         "4",
         "07:00:00",
         "9.0"
        ],
        [
         "125",
         "4",
         "07:15:00",
         "1.0"
        ],
        [
         "126",
         "4",
         "07:30:00",
         "2.0"
        ],
        [
         "127",
         "4",
         "07:45:00",
         "2.0"
        ],
        [
         "128",
         "4",
         "08:00:00",
         "6.0"
        ],
        [
         "129",
         "4",
         "08:15:00",
         "1.0"
        ],
        [
         "132",
         "4",
         "09:00:00",
         "2.0"
        ],
        [
         "137",
         "4",
         "10:15:00",
         "2.0"
        ],
        [
         "148",
         "4",
         "13:00:00",
         "6.0"
        ],
        [
         "149",
         "4",
         "13:15:00",
         "1.0"
        ],
        [
         "152",
         "4",
         "14:00:00",
         "7.0"
        ],
        [
         "155",
         "4",
         "14:45:00",
         "13.0"
        ],
        [
         "165",
         "4",
         "17:15:00",
         "2.0"
        ],
        [
         "166",
         "4",
         "17:30:00",
         "2.0"
        ],
        [
         "195",
         "6",
         "00:45:00",
         "1.0"
        ],
        [
         "213",
         "6",
         "05:15:00",
         "1.0"
        ],
        [
         "215",
         "6",
         "05:45:00",
         "3.0"
        ],
        [
         "218",
         "6",
         "06:30:00",
         "2.0"
        ],
        [
         "220",
         "6",
         "07:00:00",
         "4.0"
        ],
        [
         "223",
         "6",
         "07:45:00",
         "2.0"
        ],
        [
         "224",
         "6",
         "08:00:00",
         "8.0"
        ],
        [
         "227",
         "6",
         "08:45:00",
         "18.0"
        ],
        [
         "231",
         "6",
         "09:45:00",
         "4.0"
        ],
        [
         "233",
         "6",
         "10:15:00",
         "3.0"
        ],
        [
         "239",
         "6",
         "11:45:00",
         "11.0"
        ],
        [
         "241",
         "6",
         "12:15:00",
         "2.0"
        ],
        [
         "243",
         "6",
         "12:45:00",
         "4.0"
        ],
        [
         "244",
         "6",
         "13:00:00",
         "4.0"
        ],
        [
         "245",
         "6",
         "13:15:00",
         "2.0"
        ],
        [
         "246",
         "6",
         "13:30:00",
         "5.0"
        ],
        [
         "250",
         "6",
         "14:30:00",
         "1.0"
        ],
        [
         "252",
         "6",
         "15:00:00",
         "5.0"
        ],
        [
         "256",
         "6",
         "16:00:00",
         "1.0"
        ],
        [
         "257",
         "6",
         "16:15:00",
         "1.0"
        ],
        [
         "258",
         "6",
         "16:30:00",
         "2.0"
        ],
        [
         "259",
         "6",
         "16:45:00",
         "3.0"
        ],
        [
         "260",
         "6",
         "17:00:00",
         "3.0"
        ],
        [
         "262",
         "6",
         "17:30:00",
         "5.0"
        ],
        [
         "267",
         "6",
         "18:45:00",
         "12.0"
        ],
        [
         "268",
         "6",
         "19:00:00",
         "1.0"
        ],
        [
         "269",
         "6",
         "19:15:00",
         "1.0"
        ],
        [
         "272",
         "6",
         "20:00:00",
         "2.0"
        ],
        [
         "276",
         "6",
         "21:00:00",
         "1.0"
        ],
        [
         "283",
         "6",
         "22:45:00",
         "1.0"
        ],
        [
         "286",
         "6",
         "23:30:00",
         "2.0"
        ]
       ],
       "shape": {
        "columns": 3,
        "rows": 48
       }
      },
      "text/html": [
       "<div>\n",
       "<style scoped>\n",
       "    .dataframe tbody tr th:only-of-type {\n",
       "        vertical-align: middle;\n",
       "    }\n",
       "\n",
       "    .dataframe tbody tr th {\n",
       "        vertical-align: top;\n",
       "    }\n",
       "\n",
       "    .dataframe thead th {\n",
       "        text-align: right;\n",
       "    }\n",
       "</style>\n",
       "<table border=\"1\" class=\"dataframe\">\n",
       "  <thead>\n",
       "    <tr style=\"text-align: right;\">\n",
       "      <th></th>\n",
       "      <th>regime</th>\n",
       "      <th>inicio</th>\n",
       "      <th>valor</th>\n",
       "    </tr>\n",
       "  </thead>\n",
       "  <tbody>\n",
       "    <tr>\n",
       "      <th>36</th>\n",
       "      <td>3</td>\n",
       "      <td>09:00:00</td>\n",
       "      <td>5.0</td>\n",
       "    </tr>\n",
       "    <tr>\n",
       "      <th>58</th>\n",
       "      <td>3</td>\n",
       "      <td>14:30:00</td>\n",
       "      <td>3.0</td>\n",
       "    </tr>\n",
       "    <tr>\n",
       "      <th>113</th>\n",
       "      <td>4</td>\n",
       "      <td>04:15:00</td>\n",
       "      <td>1.0</td>\n",
       "    </tr>\n",
       "    <tr>\n",
       "      <th>124</th>\n",
       "      <td>4</td>\n",
       "      <td>07:00:00</td>\n",
       "      <td>9.0</td>\n",
       "    </tr>\n",
       "    <tr>\n",
       "      <th>125</th>\n",
       "      <td>4</td>\n",
       "      <td>07:15:00</td>\n",
       "      <td>1.0</td>\n",
       "    </tr>\n",
       "    <tr>\n",
       "      <th>126</th>\n",
       "      <td>4</td>\n",
       "      <td>07:30:00</td>\n",
       "      <td>2.0</td>\n",
       "    </tr>\n",
       "    <tr>\n",
       "      <th>127</th>\n",
       "      <td>4</td>\n",
       "      <td>07:45:00</td>\n",
       "      <td>2.0</td>\n",
       "    </tr>\n",
       "    <tr>\n",
       "      <th>128</th>\n",
       "      <td>4</td>\n",
       "      <td>08:00:00</td>\n",
       "      <td>6.0</td>\n",
       "    </tr>\n",
       "    <tr>\n",
       "      <th>129</th>\n",
       "      <td>4</td>\n",
       "      <td>08:15:00</td>\n",
       "      <td>1.0</td>\n",
       "    </tr>\n",
       "    <tr>\n",
       "      <th>132</th>\n",
       "      <td>4</td>\n",
       "      <td>09:00:00</td>\n",
       "      <td>2.0</td>\n",
       "    </tr>\n",
       "    <tr>\n",
       "      <th>137</th>\n",
       "      <td>4</td>\n",
       "      <td>10:15:00</td>\n",
       "      <td>2.0</td>\n",
       "    </tr>\n",
       "    <tr>\n",
       "      <th>148</th>\n",
       "      <td>4</td>\n",
       "      <td>13:00:00</td>\n",
       "      <td>6.0</td>\n",
       "    </tr>\n",
       "    <tr>\n",
       "      <th>149</th>\n",
       "      <td>4</td>\n",
       "      <td>13:15:00</td>\n",
       "      <td>1.0</td>\n",
       "    </tr>\n",
       "    <tr>\n",
       "      <th>152</th>\n",
       "      <td>4</td>\n",
       "      <td>14:00:00</td>\n",
       "      <td>7.0</td>\n",
       "    </tr>\n",
       "    <tr>\n",
       "      <th>155</th>\n",
       "      <td>4</td>\n",
       "      <td>14:45:00</td>\n",
       "      <td>13.0</td>\n",
       "    </tr>\n",
       "    <tr>\n",
       "      <th>165</th>\n",
       "      <td>4</td>\n",
       "      <td>17:15:00</td>\n",
       "      <td>2.0</td>\n",
       "    </tr>\n",
       "    <tr>\n",
       "      <th>166</th>\n",
       "      <td>4</td>\n",
       "      <td>17:30:00</td>\n",
       "      <td>2.0</td>\n",
       "    </tr>\n",
       "    <tr>\n",
       "      <th>195</th>\n",
       "      <td>6</td>\n",
       "      <td>00:45:00</td>\n",
       "      <td>1.0</td>\n",
       "    </tr>\n",
       "    <tr>\n",
       "      <th>213</th>\n",
       "      <td>6</td>\n",
       "      <td>05:15:00</td>\n",
       "      <td>1.0</td>\n",
       "    </tr>\n",
       "    <tr>\n",
       "      <th>215</th>\n",
       "      <td>6</td>\n",
       "      <td>05:45:00</td>\n",
       "      <td>3.0</td>\n",
       "    </tr>\n",
       "    <tr>\n",
       "      <th>218</th>\n",
       "      <td>6</td>\n",
       "      <td>06:30:00</td>\n",
       "      <td>2.0</td>\n",
       "    </tr>\n",
       "    <tr>\n",
       "      <th>220</th>\n",
       "      <td>6</td>\n",
       "      <td>07:00:00</td>\n",
       "      <td>4.0</td>\n",
       "    </tr>\n",
       "    <tr>\n",
       "      <th>223</th>\n",
       "      <td>6</td>\n",
       "      <td>07:45:00</td>\n",
       "      <td>2.0</td>\n",
       "    </tr>\n",
       "    <tr>\n",
       "      <th>224</th>\n",
       "      <td>6</td>\n",
       "      <td>08:00:00</td>\n",
       "      <td>8.0</td>\n",
       "    </tr>\n",
       "    <tr>\n",
       "      <th>227</th>\n",
       "      <td>6</td>\n",
       "      <td>08:45:00</td>\n",
       "      <td>18.0</td>\n",
       "    </tr>\n",
       "    <tr>\n",
       "      <th>231</th>\n",
       "      <td>6</td>\n",
       "      <td>09:45:00</td>\n",
       "      <td>4.0</td>\n",
       "    </tr>\n",
       "    <tr>\n",
       "      <th>233</th>\n",
       "      <td>6</td>\n",
       "      <td>10:15:00</td>\n",
       "      <td>3.0</td>\n",
       "    </tr>\n",
       "    <tr>\n",
       "      <th>239</th>\n",
       "      <td>6</td>\n",
       "      <td>11:45:00</td>\n",
       "      <td>11.0</td>\n",
       "    </tr>\n",
       "    <tr>\n",
       "      <th>241</th>\n",
       "      <td>6</td>\n",
       "      <td>12:15:00</td>\n",
       "      <td>2.0</td>\n",
       "    </tr>\n",
       "    <tr>\n",
       "      <th>243</th>\n",
       "      <td>6</td>\n",
       "      <td>12:45:00</td>\n",
       "      <td>4.0</td>\n",
       "    </tr>\n",
       "    <tr>\n",
       "      <th>244</th>\n",
       "      <td>6</td>\n",
       "      <td>13:00:00</td>\n",
       "      <td>4.0</td>\n",
       "    </tr>\n",
       "    <tr>\n",
       "      <th>245</th>\n",
       "      <td>6</td>\n",
       "      <td>13:15:00</td>\n",
       "      <td>2.0</td>\n",
       "    </tr>\n",
       "    <tr>\n",
       "      <th>246</th>\n",
       "      <td>6</td>\n",
       "      <td>13:30:00</td>\n",
       "      <td>5.0</td>\n",
       "    </tr>\n",
       "    <tr>\n",
       "      <th>250</th>\n",
       "      <td>6</td>\n",
       "      <td>14:30:00</td>\n",
       "      <td>1.0</td>\n",
       "    </tr>\n",
       "    <tr>\n",
       "      <th>252</th>\n",
       "      <td>6</td>\n",
       "      <td>15:00:00</td>\n",
       "      <td>5.0</td>\n",
       "    </tr>\n",
       "    <tr>\n",
       "      <th>256</th>\n",
       "      <td>6</td>\n",
       "      <td>16:00:00</td>\n",
       "      <td>1.0</td>\n",
       "    </tr>\n",
       "    <tr>\n",
       "      <th>257</th>\n",
       "      <td>6</td>\n",
       "      <td>16:15:00</td>\n",
       "      <td>1.0</td>\n",
       "    </tr>\n",
       "    <tr>\n",
       "      <th>258</th>\n",
       "      <td>6</td>\n",
       "      <td>16:30:00</td>\n",
       "      <td>2.0</td>\n",
       "    </tr>\n",
       "    <tr>\n",
       "      <th>259</th>\n",
       "      <td>6</td>\n",
       "      <td>16:45:00</td>\n",
       "      <td>3.0</td>\n",
       "    </tr>\n",
       "    <tr>\n",
       "      <th>260</th>\n",
       "      <td>6</td>\n",
       "      <td>17:00:00</td>\n",
       "      <td>3.0</td>\n",
       "    </tr>\n",
       "    <tr>\n",
       "      <th>262</th>\n",
       "      <td>6</td>\n",
       "      <td>17:30:00</td>\n",
       "      <td>5.0</td>\n",
       "    </tr>\n",
       "    <tr>\n",
       "      <th>267</th>\n",
       "      <td>6</td>\n",
       "      <td>18:45:00</td>\n",
       "      <td>12.0</td>\n",
       "    </tr>\n",
       "    <tr>\n",
       "      <th>268</th>\n",
       "      <td>6</td>\n",
       "      <td>19:00:00</td>\n",
       "      <td>1.0</td>\n",
       "    </tr>\n",
       "    <tr>\n",
       "      <th>269</th>\n",
       "      <td>6</td>\n",
       "      <td>19:15:00</td>\n",
       "      <td>1.0</td>\n",
       "    </tr>\n",
       "    <tr>\n",
       "      <th>272</th>\n",
       "      <td>6</td>\n",
       "      <td>20:00:00</td>\n",
       "      <td>2.0</td>\n",
       "    </tr>\n",
       "    <tr>\n",
       "      <th>276</th>\n",
       "      <td>6</td>\n",
       "      <td>21:00:00</td>\n",
       "      <td>1.0</td>\n",
       "    </tr>\n",
       "    <tr>\n",
       "      <th>283</th>\n",
       "      <td>6</td>\n",
       "      <td>22:45:00</td>\n",
       "      <td>1.0</td>\n",
       "    </tr>\n",
       "    <tr>\n",
       "      <th>286</th>\n",
       "      <td>6</td>\n",
       "      <td>23:30:00</td>\n",
       "      <td>2.0</td>\n",
       "    </tr>\n",
       "  </tbody>\n",
       "</table>\n",
       "</div>"
      ],
      "text/plain": [
       "     regime    inicio  valor\n",
       "36        3  09:00:00    5.0\n",
       "58        3  14:30:00    3.0\n",
       "113       4  04:15:00    1.0\n",
       "124       4  07:00:00    9.0\n",
       "125       4  07:15:00    1.0\n",
       "126       4  07:30:00    2.0\n",
       "127       4  07:45:00    2.0\n",
       "128       4  08:00:00    6.0\n",
       "129       4  08:15:00    1.0\n",
       "132       4  09:00:00    2.0\n",
       "137       4  10:15:00    2.0\n",
       "148       4  13:00:00    6.0\n",
       "149       4  13:15:00    1.0\n",
       "152       4  14:00:00    7.0\n",
       "155       4  14:45:00   13.0\n",
       "165       4  17:15:00    2.0\n",
       "166       4  17:30:00    2.0\n",
       "195       6  00:45:00    1.0\n",
       "213       6  05:15:00    1.0\n",
       "215       6  05:45:00    3.0\n",
       "218       6  06:30:00    2.0\n",
       "220       6  07:00:00    4.0\n",
       "223       6  07:45:00    2.0\n",
       "224       6  08:00:00    8.0\n",
       "227       6  08:45:00   18.0\n",
       "231       6  09:45:00    4.0\n",
       "233       6  10:15:00    3.0\n",
       "239       6  11:45:00   11.0\n",
       "241       6  12:15:00    2.0\n",
       "243       6  12:45:00    4.0\n",
       "244       6  13:00:00    4.0\n",
       "245       6  13:15:00    2.0\n",
       "246       6  13:30:00    5.0\n",
       "250       6  14:30:00    1.0\n",
       "252       6  15:00:00    5.0\n",
       "256       6  16:00:00    1.0\n",
       "257       6  16:15:00    1.0\n",
       "258       6  16:30:00    2.0\n",
       "259       6  16:45:00    3.0\n",
       "260       6  17:00:00    3.0\n",
       "262       6  17:30:00    5.0\n",
       "267       6  18:45:00   12.0\n",
       "268       6  19:00:00    1.0\n",
       "269       6  19:15:00    1.0\n",
       "272       6  20:00:00    2.0\n",
       "276       6  21:00:00    1.0\n",
       "283       6  22:45:00    1.0\n",
       "286       6  23:30:00    2.0"
      ]
     },
     "execution_count": 257,
     "metadata": {},
     "output_type": "execute_result"
    }
   ],
   "source": [
    "df_resultados.loc[df_resultados[\"valor\"] > 0]"
   ]
  },
  {
   "cell_type": "code",
   "execution_count": 259,
   "id": "ebee6955",
   "metadata": {},
   "outputs": [
    {
     "data": {
      "application/vnd.microsoft.datawrangler.viewer.v0+json": {
       "columns": [
        {
         "name": "inicio",
         "rawType": "object",
         "type": "unknown"
        },
        {
         "name": "3",
         "rawType": "float64",
         "type": "float"
        },
        {
         "name": "4",
         "rawType": "float64",
         "type": "float"
        },
        {
         "name": "6",
         "rawType": "float64",
         "type": "float"
        }
       ],
       "ref": "609e1624-03a5-4f69-baec-b674cbf03f17",
       "rows": [
        [
         "00:00:00",
         "0.0",
         "0.0",
         "0.0"
        ],
        [
         "00:15:00",
         "0.0",
         "0.0",
         "0.0"
        ],
        [
         "00:30:00",
         "0.0",
         "0.0",
         "0.0"
        ],
        [
         "00:45:00",
         "0.0",
         "0.0",
         "1.0"
        ],
        [
         "01:00:00",
         "0.0",
         "0.0",
         "0.0"
        ],
        [
         "01:15:00",
         "0.0",
         "0.0",
         "0.0"
        ],
        [
         "01:30:00",
         "0.0",
         "0.0",
         "0.0"
        ],
        [
         "01:45:00",
         "0.0",
         "0.0",
         "0.0"
        ],
        [
         "02:00:00",
         "0.0",
         "0.0",
         "0.0"
        ],
        [
         "02:15:00",
         "0.0",
         "0.0",
         "0.0"
        ],
        [
         "02:30:00",
         "0.0",
         "0.0",
         "0.0"
        ],
        [
         "02:45:00",
         "0.0",
         "0.0",
         "0.0"
        ],
        [
         "03:00:00",
         "0.0",
         "0.0",
         "0.0"
        ],
        [
         "03:15:00",
         "0.0",
         "0.0",
         "0.0"
        ],
        [
         "03:30:00",
         "0.0",
         "0.0",
         "0.0"
        ],
        [
         "03:45:00",
         "0.0",
         "0.0",
         "0.0"
        ],
        [
         "04:00:00",
         "0.0",
         "0.0",
         "0.0"
        ],
        [
         "04:15:00",
         "0.0",
         "1.0",
         "0.0"
        ],
        [
         "04:30:00",
         "0.0",
         "0.0",
         "0.0"
        ],
        [
         "04:45:00",
         "0.0",
         "0.0",
         "0.0"
        ],
        [
         "05:00:00",
         "0.0",
         "0.0",
         "0.0"
        ],
        [
         "05:15:00",
         "0.0",
         "0.0",
         "1.0"
        ],
        [
         "05:30:00",
         "0.0",
         "0.0",
         "0.0"
        ],
        [
         "05:45:00",
         "0.0",
         "0.0",
         "3.0"
        ],
        [
         "06:00:00",
         "0.0",
         "0.0",
         "0.0"
        ],
        [
         "06:15:00",
         "0.0",
         "0.0",
         "0.0"
        ],
        [
         "06:30:00",
         "0.0",
         "0.0",
         "2.0"
        ],
        [
         "06:45:00",
         "0.0",
         "0.0",
         "0.0"
        ],
        [
         "07:00:00",
         "0.0",
         "9.0",
         "4.0"
        ],
        [
         "07:15:00",
         "0.0",
         "1.0",
         "0.0"
        ],
        [
         "07:30:00",
         "0.0",
         "2.0",
         "0.0"
        ],
        [
         "07:45:00",
         "0.0",
         "2.0",
         "2.0"
        ],
        [
         "08:00:00",
         "0.0",
         "6.0",
         "8.0"
        ],
        [
         "08:15:00",
         "0.0",
         "1.0",
         "0.0"
        ],
        [
         "08:30:00",
         "0.0",
         "0.0",
         "0.0"
        ],
        [
         "08:45:00",
         "0.0",
         "0.0",
         "18.0"
        ],
        [
         "09:00:00",
         "5.0",
         "2.0",
         "0.0"
        ],
        [
         "09:15:00",
         "0.0",
         "0.0",
         "0.0"
        ],
        [
         "09:30:00",
         "0.0",
         "0.0",
         "0.0"
        ],
        [
         "09:45:00",
         "0.0",
         "0.0",
         "4.0"
        ],
        [
         "10:00:00",
         "0.0",
         "0.0",
         "0.0"
        ],
        [
         "10:15:00",
         "0.0",
         "2.0",
         "3.0"
        ],
        [
         "10:30:00",
         "0.0",
         "0.0",
         "0.0"
        ],
        [
         "10:45:00",
         "0.0",
         "0.0",
         "0.0"
        ],
        [
         "11:00:00",
         "0.0",
         "0.0",
         "0.0"
        ],
        [
         "11:15:00",
         "0.0",
         "0.0",
         "0.0"
        ],
        [
         "11:30:00",
         "0.0",
         "0.0",
         "0.0"
        ],
        [
         "11:45:00",
         "0.0",
         "0.0",
         "11.0"
        ],
        [
         "12:00:00",
         "0.0",
         "0.0",
         "0.0"
        ],
        [
         "12:15:00",
         "0.0",
         "0.0",
         "2.0"
        ]
       ],
       "shape": {
        "columns": 3,
        "rows": 96
       }
      },
      "text/html": [
       "<div>\n",
       "<style scoped>\n",
       "    .dataframe tbody tr th:only-of-type {\n",
       "        vertical-align: middle;\n",
       "    }\n",
       "\n",
       "    .dataframe tbody tr th {\n",
       "        vertical-align: top;\n",
       "    }\n",
       "\n",
       "    .dataframe thead th {\n",
       "        text-align: right;\n",
       "    }\n",
       "</style>\n",
       "<table border=\"1\" class=\"dataframe\">\n",
       "  <thead>\n",
       "    <tr style=\"text-align: right;\">\n",
       "      <th>regime</th>\n",
       "      <th>3</th>\n",
       "      <th>4</th>\n",
       "      <th>6</th>\n",
       "    </tr>\n",
       "    <tr>\n",
       "      <th>inicio</th>\n",
       "      <th></th>\n",
       "      <th></th>\n",
       "      <th></th>\n",
       "    </tr>\n",
       "  </thead>\n",
       "  <tbody>\n",
       "    <tr>\n",
       "      <th>00:00:00</th>\n",
       "      <td>0.0</td>\n",
       "      <td>0.0</td>\n",
       "      <td>0.0</td>\n",
       "    </tr>\n",
       "    <tr>\n",
       "      <th>00:15:00</th>\n",
       "      <td>0.0</td>\n",
       "      <td>0.0</td>\n",
       "      <td>0.0</td>\n",
       "    </tr>\n",
       "    <tr>\n",
       "      <th>00:30:00</th>\n",
       "      <td>0.0</td>\n",
       "      <td>0.0</td>\n",
       "      <td>0.0</td>\n",
       "    </tr>\n",
       "    <tr>\n",
       "      <th>00:45:00</th>\n",
       "      <td>0.0</td>\n",
       "      <td>0.0</td>\n",
       "      <td>1.0</td>\n",
       "    </tr>\n",
       "    <tr>\n",
       "      <th>01:00:00</th>\n",
       "      <td>0.0</td>\n",
       "      <td>0.0</td>\n",
       "      <td>0.0</td>\n",
       "    </tr>\n",
       "    <tr>\n",
       "      <th>...</th>\n",
       "      <td>...</td>\n",
       "      <td>...</td>\n",
       "      <td>...</td>\n",
       "    </tr>\n",
       "    <tr>\n",
       "      <th>22:45:00</th>\n",
       "      <td>0.0</td>\n",
       "      <td>0.0</td>\n",
       "      <td>1.0</td>\n",
       "    </tr>\n",
       "    <tr>\n",
       "      <th>23:00:00</th>\n",
       "      <td>0.0</td>\n",
       "      <td>0.0</td>\n",
       "      <td>0.0</td>\n",
       "    </tr>\n",
       "    <tr>\n",
       "      <th>23:15:00</th>\n",
       "      <td>0.0</td>\n",
       "      <td>0.0</td>\n",
       "      <td>0.0</td>\n",
       "    </tr>\n",
       "    <tr>\n",
       "      <th>23:30:00</th>\n",
       "      <td>0.0</td>\n",
       "      <td>0.0</td>\n",
       "      <td>2.0</td>\n",
       "    </tr>\n",
       "    <tr>\n",
       "      <th>23:45:00</th>\n",
       "      <td>0.0</td>\n",
       "      <td>0.0</td>\n",
       "      <td>0.0</td>\n",
       "    </tr>\n",
       "  </tbody>\n",
       "</table>\n",
       "<p>96 rows × 3 columns</p>\n",
       "</div>"
      ],
      "text/plain": [
       "regime      3    4    6\n",
       "inicio                 \n",
       "00:00:00  0.0  0.0  0.0\n",
       "00:15:00  0.0  0.0  0.0\n",
       "00:30:00  0.0  0.0  0.0\n",
       "00:45:00  0.0  0.0  1.0\n",
       "01:00:00  0.0  0.0  0.0\n",
       "...       ...  ...  ...\n",
       "22:45:00  0.0  0.0  1.0\n",
       "23:00:00  0.0  0.0  0.0\n",
       "23:15:00  0.0  0.0  0.0\n",
       "23:30:00  0.0  0.0  2.0\n",
       "23:45:00  0.0  0.0  0.0\n",
       "\n",
       "[96 rows x 3 columns]"
      ]
     },
     "execution_count": 259,
     "metadata": {},
     "output_type": "execute_result"
    }
   ],
   "source": [
    "df_resultado_pivotado = (\n",
    "    df_resultados.pivot_table(columns=\"regime\",\n",
    "                              index=\"inicio\",\n",
    "                              values=\"valor\"\n",
    "                              )\n",
    "\n",
    ")\n",
    "df_resultado_pivotado"
   ]
  },
  {
   "cell_type": "code",
   "execution_count": 260,
   "id": "a16a36ec",
   "metadata": {},
   "outputs": [
    {
     "data": {
      "application/vnd.microsoft.datawrangler.viewer.v0+json": {
       "columns": [
        {
         "name": "regime",
         "rawType": "int64",
         "type": "integer"
        },
        {
         "name": "0",
         "rawType": "float64",
         "type": "float"
        }
       ],
       "ref": "c1e5062f-e18a-4e1c-9068-d170fd380b25",
       "rows": [
        [
         "3",
         "8.0"
        ],
        [
         "4",
         "57.0"
        ],
        [
         "6",
         "115.0"
        ]
       ],
       "shape": {
        "columns": 1,
        "rows": 3
       }
      },
      "text/plain": [
       "regime\n",
       "3      8.0\n",
       "4     57.0\n",
       "6    115.0\n",
       "dtype: float64"
      ]
     },
     "execution_count": 260,
     "metadata": {},
     "output_type": "execute_result"
    }
   ],
   "source": [
    "df_resultado_pivotado.sum(axis=0)"
   ]
  },
  {
   "cell_type": "code",
   "execution_count": 261,
   "id": "60dfb826",
   "metadata": {},
   "outputs": [
    {
     "data": {
      "text/plain": [
       "[1, 2, 3, 4, 5, 6, 10, 12, 15, 20, 30]"
      ]
     },
     "execution_count": 261,
     "metadata": {},
     "output_type": "execute_result"
    }
   ],
   "source": [
    "def encontra_divisores(n):\n",
    "    divisores = []\n",
    "    for i in range(1, n // 2 + 1):\n",
    "        if n % i == 0:\n",
    "            divisores.append(i)\n",
    "    return divisores\n",
    "encontra_divisores(60)"
   ]
  },
  {
   "cell_type": "code",
   "execution_count": 262,
   "id": "10bfa3aa",
   "metadata": {},
   "outputs": [],
   "source": [
    "qtd_horas_total = 24\n",
    "hora_inicial = 0\n",
    "minuto_inicial = 0"
   ]
  },
  {
   "cell_type": "code",
   "execution_count": 263,
   "id": "4bd09232",
   "metadata": {},
   "outputs": [
    {
     "name": "stdout",
     "output_type": "stream",
     "text": [
      "1.0 1440\n"
     ]
    }
   ],
   "source": [
    "qtd_dias_total = qtd_horas_total / 24\n",
    "qtd_minutos_total = qtd_horas_total * 60\n",
    "print(qtd_dias_total, qtd_minutos_total)"
   ]
  },
  {
   "cell_type": "code",
   "execution_count": 264,
   "id": "ac7af321",
   "metadata": {},
   "outputs": [
    {
     "name": "stdout",
     "output_type": "stream",
     "text": [
      "[1, 2, 3, 4, 5, 6, 8, 9, 10, 12, 15, 16, 18, 20, 24, 30, 32, 36, 40, 45, 48, 60, 72, 80, 90, 96, 120, 144, 160, 180, 240, 288, 360, 480, 720]\n"
     ]
    }
   ],
   "source": [
    "divisores = encontra_divisores(qtd_minutos_total)\n",
    "print(divisores)"
   ]
  },
  {
   "cell_type": "code",
   "execution_count": 265,
   "id": "7a79de6b",
   "metadata": {},
   "outputs": [
    {
     "data": {
      "text/plain": [
       "15"
      ]
     },
     "execution_count": 265,
     "metadata": {},
     "output_type": "execute_result"
    }
   ],
   "source": [
    "minutos_dividir = divisores[10]\n",
    "minutos_dividir"
   ]
  },
  {
   "cell_type": "code",
   "execution_count": null,
   "id": "0734353e",
   "metadata": {},
   "outputs": [
    {
     "name": "stdout",
     "output_type": "stream",
     "text": [
      "12.0\n",
      "16.0\n",
      "24.0\n",
      "24.44\n"
     ]
    }
   ],
   "source": [
    "print(3 * 60 / minutos_dividir)\n",
    "print(4 * 60 / minutos_dividir)\n",
    "print(6 * 60 / minutos_dividir)\n",
    "print(6.11 * 60 / minutos_dividir)\n"
   ]
  },
  {
   "cell_type": "code",
   "execution_count": 271,
   "id": "20f2ee0d",
   "metadata": {},
   "outputs": [
    {
     "name": "stdout",
     "output_type": "stream",
     "text": [
      "(12, 1)\n",
      "(16, 1)\n",
      "(24, 1)\n",
      "(6879248430808433, 281474976710656)\n"
     ]
    }
   ],
   "source": [
    "print((3.00 * 60 / minutos_dividir).as_integer_ratio())\n",
    "print((4.00 * 60 / minutos_dividir).as_integer_ratio())\n",
    "print((6.00 * 60 / minutos_dividir).as_integer_ratio())\n",
    "print((6.11 * 60 / minutos_dividir).as_integer_ratio())"
   ]
  },
  {
   "cell_type": "code",
   "execution_count": null,
   "id": "520ab08f",
   "metadata": {},
   "outputs": [
    {
     "data": {
      "text/plain": [
       "array([  1.        ,   1.01666667,   1.03333333,   1.05      ,\n",
       "         1.06666667,   1.08333333,   1.1       ,   1.11666667,\n",
       "         1.13333333,   1.15      ,   1.16666667,   1.18333333,\n",
       "         1.2       ,   1.21666667,   1.23333333,   1.25      ,\n",
       "         1.26666667,   1.28333333,   1.3       ,   1.31666667,\n",
       "         1.33333333,   1.35      ,   1.36666667,   1.38333333,\n",
       "         1.4       ,   1.41666667,   1.43333333,   1.45      ,\n",
       "         1.46666667,   1.48333333,   1.5       ,   1.51666667,\n",
       "         1.53333333,   1.55      ,   1.56666667,   1.58333333,\n",
       "         1.6       ,   1.61666667,   1.63333333,   1.65      ,\n",
       "         1.66666667,   1.68333333,   1.7       ,   1.71666667,\n",
       "         1.73333333,   1.75      ,   1.76666667,   1.78333333,\n",
       "         1.8       ,   1.81666667,   1.83333333,   1.85      ,\n",
       "         1.86666667,   1.88333333,   1.9       ,   1.91666667,\n",
       "         1.93333333,   1.95      ,   1.96666667,   1.98333333,\n",
       "         2.        ,   2.01666667,   2.03333333,   2.05      ,\n",
       "         2.06666667,   2.08333333,   2.1       ,   2.11666667,\n",
       "         2.13333333,   2.15      ,   2.16666667,   2.18333333,\n",
       "         2.2       ,   2.21666667,   2.23333333,   2.25      ,\n",
       "         2.26666667,   2.28333333,   2.3       ,   2.31666667,\n",
       "         2.33333333,   2.35      ,   2.36666667,   2.38333333,\n",
       "         2.4       ,   2.41666667,   2.43333333,   2.45      ,\n",
       "         2.46666667,   2.48333333,   2.5       ,   2.51666667,\n",
       "         2.53333333,   2.55      ,   2.56666667,   2.58333333,\n",
       "         2.6       ,   2.61666667,   2.63333333,   2.65      ,\n",
       "         2.66666667,   2.68333333,   2.7       ,   2.71666667,\n",
       "         2.73333333,   2.75      ,   2.76666667,   2.78333333,\n",
       "         2.8       ,   2.81666667,   2.83333333,   2.85      ,\n",
       "         2.86666667,   2.88333333,   2.9       ,   2.91666667,\n",
       "         2.93333333,   2.95      ,   2.96666667,   2.98333333,\n",
       "         3.        ,   3.01666667,   3.03333333,   3.05      ,\n",
       "         3.06666667,   3.08333333,   3.1       ,   3.11666667,\n",
       "         3.13333333,   3.15      ,   3.16666667,   3.18333333,\n",
       "         3.2       ,   3.21666667,   3.23333333,   3.25      ,\n",
       "         3.26666667,   3.28333333,   3.3       ,   3.31666667,\n",
       "         3.33333333,   3.35      ,   3.36666667,   3.38333333,\n",
       "         3.4       ,   3.41666667,   3.43333333,   3.45      ,\n",
       "         3.46666667,   3.48333333,   3.5       ,   3.51666667,\n",
       "         3.53333333,   3.55      ,   3.56666667,   3.58333333,\n",
       "         3.6       ,   3.61666667,   3.63333333,   3.65      ,\n",
       "         3.66666667,   3.68333333,   3.7       ,   3.71666667,\n",
       "         3.73333333,   3.75      ,   3.76666667,   3.78333333,\n",
       "         3.8       ,   3.81666667,   3.83333333,   3.85      ,\n",
       "         3.86666667,   3.88333333,   3.9       ,   3.91666667,\n",
       "         3.93333333,   3.95      ,   3.96666667,   3.98333333,\n",
       "         4.        ,   4.01666667,   4.03333333,   4.05      ,\n",
       "         4.06666667,   4.08333333,   4.1       ,   4.11666667,\n",
       "         4.13333333,   4.15      ,   4.16666667,   4.18333333,\n",
       "         4.2       ,   4.21666667,   4.23333333,   4.25      ,\n",
       "         4.26666667,   4.28333333,   4.3       ,   4.31666667,\n",
       "         4.33333333,   4.35      ,   4.36666667,   4.38333333,\n",
       "         4.4       ,   4.41666667,   4.43333333,   4.45      ,\n",
       "         4.46666667,   4.48333333,   4.5       ,   4.51666667,\n",
       "         4.53333333,   4.55      ,   4.56666667,   4.58333333,\n",
       "         4.6       ,   4.61666667,   4.63333333,   4.65      ,\n",
       "         4.66666667,   4.68333333,   4.7       ,   4.71666667,\n",
       "         4.73333333,   4.75      ,   4.76666667,   4.78333333,\n",
       "         4.8       ,   4.81666667,   4.83333333,   4.85      ,\n",
       "         4.86666667,   4.88333333,   4.9       ,   4.91666667,\n",
       "         4.93333333,   4.95      ,   4.96666667,   4.98333333,\n",
       "         5.        ,   5.01666667,   5.03333333,   5.05      ,\n",
       "         5.06666667,   5.08333333,   5.1       ,   5.11666667,\n",
       "         5.13333333,   5.15      ,   5.16666667,   5.18333333,\n",
       "         5.2       ,   5.21666667,   5.23333333,   5.25      ,\n",
       "         5.26666667,   5.28333333,   5.3       ,   5.31666667,\n",
       "         5.33333333,   5.35      ,   5.36666667,   5.38333333,\n",
       "         5.4       ,   5.41666667,   5.43333333,   5.45      ,\n",
       "         5.46666667,   5.48333333,   5.5       ,   5.51666667,\n",
       "         5.53333333,   5.55      ,   5.56666667,   5.58333333,\n",
       "         5.6       ,   5.61666667,   5.63333333,   5.65      ,\n",
       "         5.66666667,   5.68333333,   5.7       ,   5.71666667,\n",
       "         5.73333333,   5.75      ,   5.76666667,   5.78333333,\n",
       "         5.8       ,   5.81666667,   5.83333333,   5.85      ,\n",
       "         5.86666667,   5.88333333,   5.9       ,   5.91666667,\n",
       "         5.93333333,   5.95      ,   5.96666667,   5.98333333,\n",
       "         6.        ,   6.01666667,   6.03333333,   6.05      ,\n",
       "         6.06666667,   6.08333333,   6.1       ,   6.11666667,\n",
       "         6.13333333,   6.15      ,   6.16666667,   6.18333333,\n",
       "         6.2       ,   6.21666667,   6.23333333,   6.25      ,\n",
       "         6.26666667,   6.28333333,   6.3       ,   6.31666667,\n",
       "         6.33333333,   6.35      ,   6.36666667,   6.38333333,\n",
       "         6.4       ,   6.41666667,   6.43333333,   6.45      ,\n",
       "         6.46666667,   6.48333333,   6.5       ,   6.51666667,\n",
       "         6.53333333,   6.55      ,   6.56666667,   6.58333333,\n",
       "         6.6       ,   6.61666667,   6.63333333,   6.65      ,\n",
       "         6.66666667,   6.68333333,   6.7       ,   6.71666667,\n",
       "         6.73333333,   6.75      ,   6.76666667,   6.78333333,\n",
       "         6.8       ,   6.81666667,   6.83333333,   6.85      ,\n",
       "         6.86666667,   6.88333333,   6.9       ,   6.91666667,\n",
       "         6.93333333,   6.95      ,   6.96666667,   6.98333333,\n",
       "         7.        ,   7.01666667,   7.03333333,   7.05      ,\n",
       "         7.06666667,   7.08333333,   7.1       ,   7.11666667,\n",
       "         7.13333333,   7.15      ,   7.16666667,   7.18333333,\n",
       "         7.2       ,   7.21666667,   7.23333333,   7.25      ,\n",
       "         7.26666667,   7.28333333,   7.3       ,   7.31666667,\n",
       "         7.33333333,   7.35      ,   7.36666667,   7.38333333,\n",
       "         7.4       ,   7.41666667,   7.43333333,   7.45      ,\n",
       "         7.46666667,   7.48333333,   7.5       ,   7.51666667,\n",
       "         7.53333333,   7.55      ,   7.56666667,   7.58333333,\n",
       "         7.6       ,   7.61666667,   7.63333333,   7.65      ,\n",
       "         7.66666667,   7.68333333,   7.7       ,   7.71666667,\n",
       "         7.73333333,   7.75      ,   7.76666667,   7.78333333,\n",
       "         7.8       ,   7.81666667,   7.83333333,   7.85      ,\n",
       "         7.86666667,   7.88333333,   7.9       ,   7.91666667,\n",
       "         7.93333333,   7.95      ,   7.96666667,   7.98333333,\n",
       "         8.        ,   8.01666667,   8.03333333,   8.05      ,\n",
       "         8.06666667,   8.08333333,   8.1       ,   8.11666667,\n",
       "         8.13333333,   8.15      ,   8.16666667,   8.18333333,\n",
       "         8.2       ,   8.21666667,   8.23333333,   8.25      ,\n",
       "         8.26666667,   8.28333333,   8.3       ,   8.31666667,\n",
       "         8.33333333,   8.35      ,   8.36666667,   8.38333333,\n",
       "         8.4       ,   8.41666667,   8.43333333,   8.45      ,\n",
       "         8.46666667,   8.48333333,   8.5       ,   8.51666667,\n",
       "         8.53333333,   8.55      ,   8.56666667,   8.58333333,\n",
       "         8.6       ,   8.61666667,   8.63333333,   8.65      ,\n",
       "         8.66666667,   8.68333333,   8.7       ,   8.71666667,\n",
       "         8.73333333,   8.75      ,   8.76666667,   8.78333333,\n",
       "         8.8       ,   8.81666667,   8.83333333,   8.85      ,\n",
       "         8.86666667,   8.88333333,   8.9       ,   8.91666667,\n",
       "         8.93333333,   8.95      ,   8.96666667,   8.98333333,\n",
       "         9.        ,   9.01666667,   9.03333333,   9.05      ,\n",
       "         9.06666667,   9.08333333,   9.1       ,   9.11666667,\n",
       "         9.13333333,   9.15      ,   9.16666667,   9.18333333,\n",
       "         9.2       ,   9.21666667,   9.23333333,   9.25      ,\n",
       "         9.26666667,   9.28333333,   9.3       ,   9.31666667,\n",
       "         9.33333333,   9.35      ,   9.36666667,   9.38333333,\n",
       "         9.4       ,   9.41666667,   9.43333333,   9.45      ,\n",
       "         9.46666667,   9.48333333,   9.5       ,   9.51666667,\n",
       "         9.53333333,   9.55      ,   9.56666667,   9.58333333,\n",
       "         9.6       ,   9.61666667,   9.63333333,   9.65      ,\n",
       "         9.66666667,   9.68333333,   9.7       ,   9.71666667,\n",
       "         9.73333333,   9.75      ,   9.76666667,   9.78333333,\n",
       "         9.8       ,   9.81666667,   9.83333333,   9.85      ,\n",
       "         9.86666667,   9.88333333,   9.9       ,   9.91666667,\n",
       "         9.93333333,   9.95      ,   9.96666667,   9.98333333,\n",
       "        10.        ,  10.01666667,  10.03333333,  10.05      ,\n",
       "        10.06666667,  10.08333333,  10.1       ,  10.11666667,\n",
       "        10.13333333,  10.15      ,  10.16666667,  10.18333333,\n",
       "        10.2       ,  10.21666667,  10.23333333,  10.25      ,\n",
       "        10.26666667,  10.28333333,  10.3       ,  10.31666667,\n",
       "        10.33333333,  10.35      ,  10.36666667,  10.38333333,\n",
       "        10.4       ,  10.41666667,  10.43333333,  10.45      ,\n",
       "        10.46666667,  10.48333333,  10.5       ,  10.51666667,\n",
       "        10.53333333,  10.55      ,  10.56666667,  10.58333333,\n",
       "        10.6       ,  10.61666667,  10.63333333,  10.65      ,\n",
       "        10.66666667,  10.68333333,  10.7       ,  10.71666667,\n",
       "        10.73333333,  10.75      ,  10.76666667,  10.78333333,\n",
       "        10.8       ,  10.81666667,  10.83333333,  10.85      ,\n",
       "        10.86666667,  10.88333333,  10.9       ,  10.91666667,\n",
       "        10.93333333,  10.95      ,  10.96666667,  10.98333333,\n",
       "        11.        ,  11.01666667,  11.03333333,  11.05      ,\n",
       "        11.06666667,  11.08333333,  11.1       ,  11.11666667,\n",
       "        11.13333333,  11.15      ,  11.16666667,  11.18333333,\n",
       "        11.2       ,  11.21666667,  11.23333333,  11.25      ,\n",
       "        11.26666667,  11.28333333,  11.3       ,  11.31666667,\n",
       "        11.33333333,  11.35      ,  11.36666667,  11.38333333,\n",
       "        11.4       ,  11.41666667,  11.43333333,  11.45      ,\n",
       "        11.46666667,  11.48333333,  11.5       ,  11.51666667,\n",
       "        11.53333333,  11.55      ,  11.56666667,  11.58333333,\n",
       "        11.6       ,  11.61666667,  11.63333333,  11.65      ,\n",
       "        11.66666667,  11.68333333,  11.7       ,  11.71666667,\n",
       "        11.73333333,  11.75      ,  11.76666667,  11.78333333,\n",
       "        11.8       ,  11.81666667,  11.83333333,  11.85      ,\n",
       "        11.86666667,  11.88333333,  11.9       ,  11.91666667,\n",
       "        11.93333333,  11.95      ,  11.96666667,  11.98333333,\n",
       "        12.        ,  12.01666667])"
      ]
     },
     "execution_count": 268,
     "metadata": {},
     "output_type": "execute_result"
    }
   ],
   "source": [
    "np.arange(1, \n",
    "          12 + 1 /60, \n",
    "          1/60)"
   ]
  },
  {
   "cell_type": "code",
   "execution_count": 278,
   "id": "6793782d",
   "metadata": {},
   "outputs": [],
   "source": [
    "def listas_turnos_possiveis(minutos_dividir,\n",
    "                            horas_minimas=1,\n",
    "                            horas_maximas=12):\n",
    "    passo = 1/60\n",
    "    turnos_testar = np.arange(horas_minimas,\n",
    "                              horas_maximas + passo,\n",
    "                              passo\n",
    "                              ).round(5)\n",
    "    turnos_horas = []\n",
    "    for turno in turnos_testar:\n",
    "        num, den = (\n",
    "            (turno * 60 / minutos_dividir).as_integer_ratio()\n",
    "            )\n",
    "        if den == 1:\n",
    "            turnos_horas.append(turno)\n",
    "    return turnos_horas"
   ]
  },
  {
   "cell_type": "code",
   "execution_count": 279,
   "id": "5c1c42d3",
   "metadata": {},
   "outputs": [
    {
     "data": {
      "text/plain": [
       "[3.0, 3.25, 3.5, 3.75, 4.0, 4.25, 4.5, 4.75, 5.0, 5.25, 5.5, 5.75, 6.0]"
      ]
     },
     "execution_count": 279,
     "metadata": {},
     "output_type": "execute_result"
    }
   ],
   "source": [
    "listas_turnos_possiveis(15,3,6)"
   ]
  },
  {
   "cell_type": "code",
   "execution_count": 282,
   "id": "197aa41e",
   "metadata": {},
   "outputs": [],
   "source": [
    "def float_para_horas_minutos(float_num):\n",
    "    horas = int(float_num)\n",
    "    minutos = int((float_num - horas) * 60)\n",
    "    return horas, minutos"
   ]
  },
  {
   "cell_type": "code",
   "execution_count": 284,
   "id": "a4720798",
   "metadata": {},
   "outputs": [
    {
     "name": "stdout",
     "output_type": "stream",
     "text": [
      "{'03h00': 3.0, '03h15': 3.25, '03h30': 3.5, '03h45': 3.75, '04h00': 4.0, '04h15': 4.25, '04h30': 4.5, '04h45': 4.75, '05h00': 5.0, '05h15': 5.25, '05h30': 5.5, '05h45': 5.75, '06h00': 6.0}\n"
     ]
    }
   ],
   "source": [
    "dict_turnos_possiveis = {}\n",
    "for turno in listas_turnos_possiveis(minutos_dividir, 3, 6):\n",
    "    horas, minutos = float_para_horas_minutos(turno)\n",
    "    dict_turnos_possiveis[f\"{horas:02}h{minutos:02}\"] = turno\n",
    "print(dict_turnos_possiveis)"
   ]
  },
  {
   "cell_type": "code",
   "execution_count": null,
   "id": "fe788c9e",
   "metadata": {},
   "outputs": [],
   "source": []
  },
  {
   "cell_type": "code",
   "execution_count": null,
   "id": "39b6dad7",
   "metadata": {},
   "outputs": [],
   "source": []
  },
  {
   "cell_type": "code",
   "execution_count": null,
   "id": "e59bc374",
   "metadata": {},
   "outputs": [],
   "source": []
  },
  {
   "cell_type": "code",
   "execution_count": null,
   "id": "e443c996",
   "metadata": {},
   "outputs": [],
   "source": []
  },
  {
   "cell_type": "code",
   "execution_count": null,
   "id": "19dbe087",
   "metadata": {},
   "outputs": [],
   "source": []
  },
  {
   "cell_type": "code",
   "execution_count": null,
   "id": "f91ba7bd",
   "metadata": {},
   "outputs": [],
   "source": []
  },
  {
   "cell_type": "code",
   "execution_count": null,
   "id": "a2036019",
   "metadata": {},
   "outputs": [],
   "source": []
  },
  {
   "cell_type": "code",
   "execution_count": null,
   "id": "f8da4c59",
   "metadata": {},
   "outputs": [],
   "source": []
  },
  {
   "cell_type": "code",
   "execution_count": null,
   "id": "ff75c375",
   "metadata": {},
   "outputs": [],
   "source": []
  },
  {
   "cell_type": "code",
   "execution_count": null,
   "id": "41845723",
   "metadata": {},
   "outputs": [],
   "source": []
  }
 ],
 "metadata": {
  "kernelspec": {
   "display_name": ".venv_attentus",
   "language": "python",
   "name": "python3"
  },
  "language_info": {
   "codemirror_mode": {
    "name": "ipython",
    "version": 3
   },
   "file_extension": ".py",
   "mimetype": "text/x-python",
   "name": "python",
   "nbconvert_exporter": "python",
   "pygments_lexer": "ipython3",
   "version": "3.10.12"
  }
 },
 "nbformat": 4,
 "nbformat_minor": 5
}
